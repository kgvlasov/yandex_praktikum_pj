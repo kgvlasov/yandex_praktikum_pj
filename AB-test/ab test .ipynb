{
 "cells": [
  {
   "cell_type": "markdown",
   "metadata": {},
   "source": [
    "# Проект \"Принятие решений в бизнесе на основе данных\""
   ]
  },
  {
   "cell_type": "markdown",
   "metadata": {},
   "source": [
    "## Описание задачи от заказчика"
   ]
  },
  {
   "cell_type": "markdown",
   "metadata": {},
   "source": [
    "Необходимо сформировать рекомендации отделу маркетинга для увеличения выручки интернет-магазина. \n",
    "\n",
    "Цели расследования:\n",
    "- провести приоретизацию гипотез\n",
    "- проанализировать результаты проведенного теста"
   ]
  },
  {
   "cell_type": "markdown",
   "metadata": {},
   "source": [
    "## Подготовка данных"
   ]
  },
  {
   "cell_type": "markdown",
   "metadata": {},
   "source": [
    "### Импорт библиотек"
   ]
  },
  {
   "cell_type": "code",
   "execution_count": 1,
   "metadata": {},
   "outputs": [],
   "source": [
    "import pandas as pd \n",
    "from IPython.display import display\n",
    "import matplotlib.pyplot as plt\n",
    "import math\n",
    "import __main__\n",
    "from scipy import stats as st\n",
    "import numpy as np\n",
    "import seaborn as sns\n",
    "import datetime as dt\n",
    "\n"
   ]
  },
  {
   "cell_type": "markdown",
   "metadata": {},
   "source": [
    "### Импорт данных"
   ]
  },
  {
   "cell_type": "code",
   "execution_count": 2,
   "metadata": {},
   "outputs": [
    {
     "name": "stdout",
     "output_type": "stream",
     "text": [
      "<class 'pandas.core.frame.DataFrame'>\n",
      "RangeIndex: 9 entries, 0 to 8\n",
      "Data columns (total 5 columns):\n",
      "Hypothesis    9 non-null object\n",
      "Reach         9 non-null int64\n",
      "Impact        9 non-null int64\n",
      "Confidence    9 non-null int64\n",
      "Efforts       9 non-null int64\n",
      "dtypes: int64(4), object(1)\n",
      "memory usage: 488.0+ bytes\n",
      "None\n",
      "Index(['Hypothesis', 'Reach', 'Impact', 'Confidence', 'Efforts'], dtype='object')\n",
      "<class 'pandas.core.frame.DataFrame'>\n",
      "RangeIndex: 1197 entries, 0 to 1196\n",
      "Data columns (total 5 columns):\n",
      "transactionId    1197 non-null int64\n",
      "visitorId        1197 non-null int64\n",
      "date             1197 non-null object\n",
      "revenue          1197 non-null int64\n",
      "group            1197 non-null object\n",
      "dtypes: int64(3), object(2)\n",
      "memory usage: 46.9+ KB\n",
      "None\n",
      "Index(['transactionId', 'visitorId', 'date', 'revenue', 'group'], dtype='object')\n",
      "<class 'pandas.core.frame.DataFrame'>\n",
      "RangeIndex: 62 entries, 0 to 61\n",
      "Data columns (total 3 columns):\n",
      "date        62 non-null object\n",
      "group       62 non-null object\n",
      "visitors    62 non-null int64\n",
      "dtypes: int64(1), object(2)\n",
      "memory usage: 1.6+ KB\n",
      "None\n",
      "Index(['date', 'group', 'visitors'], dtype='object')\n"
     ]
    }
   ],
   "source": [
    "hypothesis = pd.read_csv('/datasets/hypothesis.csv') \n",
    "orders = pd.read_csv('/datasets/orders.csv')\n",
    "visitors = pd.read_csv('/datasets/visitors.csv')\n",
    "\n",
    "print(hypothesis.info())\n",
    "print(hypothesis.columns)\n",
    "\n",
    "print(orders.info())\n",
    "print(orders.columns)\n",
    "\n",
    "print(visitors.info())\n",
    "print(visitors.columns)"
   ]
  },
  {
   "cell_type": "markdown",
   "metadata": {},
   "source": [
    "Необходимо привести названия таблицы  \"hypothesis\" к нижнему регистру. Также в таблицах \"orders\" и \"visitors\" необходимо привести столбец \"date\" к типу datetime для дальнейших вычислений.\n"
   ]
  },
  {
   "cell_type": "code",
   "execution_count": 3,
   "metadata": {},
   "outputs": [],
   "source": [
    "hypothesis.columns = ['hypothesis', 'reach', 'impact', 'confidence', 'efforts']\n",
    "orders['date'] = pd.to_datetime(orders['date'])\n",
    "visitors['date'] = pd.to_datetime(visitors['date'])\n"
   ]
  },
  {
   "cell_type": "markdown",
   "metadata": {},
   "source": [
    "## Приоретизация гипотез"
   ]
  },
  {
   "cell_type": "markdown",
   "metadata": {},
   "source": [
    "Посчитаем коэффициент ICE для гипотез и отсортируем в порядке убывания."
   ]
  },
  {
   "cell_type": "code",
   "execution_count": 4,
   "metadata": {},
   "outputs": [
    {
     "data": {
      "text/html": [
       "<div>\n",
       "<style scoped>\n",
       "    .dataframe tbody tr th:only-of-type {\n",
       "        vertical-align: middle;\n",
       "    }\n",
       "\n",
       "    .dataframe tbody tr th {\n",
       "        vertical-align: top;\n",
       "    }\n",
       "\n",
       "    .dataframe thead th {\n",
       "        text-align: right;\n",
       "    }\n",
       "</style>\n",
       "<table border=\"1\" class=\"dataframe\">\n",
       "  <thead>\n",
       "    <tr style=\"text-align: right;\">\n",
       "      <th></th>\n",
       "      <th>hypothesis</th>\n",
       "      <th>ICE</th>\n",
       "    </tr>\n",
       "  </thead>\n",
       "  <tbody>\n",
       "    <tr>\n",
       "      <td>8</td>\n",
       "      <td>Запустить акцию, дающую скидку на товар в день рождения</td>\n",
       "      <td>16.200000</td>\n",
       "    </tr>\n",
       "    <tr>\n",
       "      <td>0</td>\n",
       "      <td>Добавить два новых канала привлечения трафика, что позволит привлекать на 30% больше пользователей</td>\n",
       "      <td>13.333333</td>\n",
       "    </tr>\n",
       "    <tr>\n",
       "      <td>7</td>\n",
       "      <td>Добавить форму подписки на все основные страницы, чтобы собрать базу клиентов для email-рассылок</td>\n",
       "      <td>11.200000</td>\n",
       "    </tr>\n",
       "    <tr>\n",
       "      <td>6</td>\n",
       "      <td>Показать на главной странице баннеры с актуальными акциями и распродажами, чтобы увеличить конверсию</td>\n",
       "      <td>8.000000</td>\n",
       "    </tr>\n",
       "    <tr>\n",
       "      <td>2</td>\n",
       "      <td>Добавить блоки рекомендаций товаров на сайт интернет магазина, чтобы повысить конверсию и средний чек заказа</td>\n",
       "      <td>7.000000</td>\n",
       "    </tr>\n",
       "    <tr>\n",
       "      <td>1</td>\n",
       "      <td>Запустить собственную службу доставки, что сократит срок доставки заказов</td>\n",
       "      <td>2.000000</td>\n",
       "    </tr>\n",
       "    <tr>\n",
       "      <td>5</td>\n",
       "      <td>Добавить страницу отзывов клиентов о магазине, что позволит увеличить количество заказов</td>\n",
       "      <td>1.333333</td>\n",
       "    </tr>\n",
       "    <tr>\n",
       "      <td>3</td>\n",
       "      <td>Изменить структура категорий, что увеличит конверсию, т.к. пользователи быстрее найдут нужный товар</td>\n",
       "      <td>1.125000</td>\n",
       "    </tr>\n",
       "    <tr>\n",
       "      <td>4</td>\n",
       "      <td>Изменить цвет фона главной страницы, чтобы увеличить вовлеченность пользователей</td>\n",
       "      <td>1.000000</td>\n",
       "    </tr>\n",
       "  </tbody>\n",
       "</table>\n",
       "</div>"
      ],
      "text/plain": [
       "                                                                                                     hypothesis  \\\n",
       "8  Запустить акцию, дающую скидку на товар в день рождения                                                        \n",
       "0  Добавить два новых канала привлечения трафика, что позволит привлекать на 30% больше пользователей             \n",
       "7  Добавить форму подписки на все основные страницы, чтобы собрать базу клиентов для email-рассылок               \n",
       "6  Показать на главной странице баннеры с актуальными акциями и распродажами, чтобы увеличить конверсию           \n",
       "2  Добавить блоки рекомендаций товаров на сайт интернет магазина, чтобы повысить конверсию и средний чек заказа   \n",
       "1  Запустить собственную службу доставки, что сократит срок доставки заказов                                      \n",
       "5  Добавить страницу отзывов клиентов о магазине, что позволит увеличить количество заказов                       \n",
       "3  Изменить структура категорий, что увеличит конверсию, т.к. пользователи быстрее найдут нужный товар            \n",
       "4  Изменить цвет фона главной страницы, чтобы увеличить вовлеченность пользователей                               \n",
       "\n",
       "         ICE  \n",
       "8  16.200000  \n",
       "0  13.333333  \n",
       "7  11.200000  \n",
       "6  8.000000   \n",
       "2  7.000000   \n",
       "1  2.000000   \n",
       "5  1.333333   \n",
       "3  1.125000   \n",
       "4  1.000000   "
      ]
     },
     "metadata": {},
     "output_type": "display_data"
    }
   ],
   "source": [
    "pd.set_option('display.max_colwidth', -1)\n",
    "hypothesis['ICE'] = hypothesis['impact'] * hypothesis['confidence']/ hypothesis['efforts']\n",
    "display(hypothesis[['hypothesis','ICE']].sort_values('ICE',ascending = False))"
   ]
  },
  {
   "cell_type": "markdown",
   "metadata": {},
   "source": [
    "ТОП-3 самых перспективных гипотез по коэффициенту ICE это гипотезы под номерами: 8,7,0"
   ]
  },
  {
   "cell_type": "code",
   "execution_count": 5,
   "metadata": {},
   "outputs": [
    {
     "data": {
      "text/html": [
       "<div>\n",
       "<style scoped>\n",
       "    .dataframe tbody tr th:only-of-type {\n",
       "        vertical-align: middle;\n",
       "    }\n",
       "\n",
       "    .dataframe tbody tr th {\n",
       "        vertical-align: top;\n",
       "    }\n",
       "\n",
       "    .dataframe thead th {\n",
       "        text-align: right;\n",
       "    }\n",
       "</style>\n",
       "<table border=\"1\" class=\"dataframe\">\n",
       "  <thead>\n",
       "    <tr style=\"text-align: right;\">\n",
       "      <th></th>\n",
       "      <th>hypothesis</th>\n",
       "      <th>RICE</th>\n",
       "    </tr>\n",
       "  </thead>\n",
       "  <tbody>\n",
       "    <tr>\n",
       "      <td>7</td>\n",
       "      <td>Добавить форму подписки на все основные страницы, чтобы собрать базу клиентов для email-рассылок</td>\n",
       "      <td>112.0</td>\n",
       "    </tr>\n",
       "    <tr>\n",
       "      <td>2</td>\n",
       "      <td>Добавить блоки рекомендаций товаров на сайт интернет магазина, чтобы повысить конверсию и средний чек заказа</td>\n",
       "      <td>56.0</td>\n",
       "    </tr>\n",
       "    <tr>\n",
       "      <td>0</td>\n",
       "      <td>Добавить два новых канала привлечения трафика, что позволит привлекать на 30% больше пользователей</td>\n",
       "      <td>40.0</td>\n",
       "    </tr>\n",
       "    <tr>\n",
       "      <td>6</td>\n",
       "      <td>Показать на главной странице баннеры с актуальными акциями и распродажами, чтобы увеличить конверсию</td>\n",
       "      <td>40.0</td>\n",
       "    </tr>\n",
       "    <tr>\n",
       "      <td>8</td>\n",
       "      <td>Запустить акцию, дающую скидку на товар в день рождения</td>\n",
       "      <td>16.2</td>\n",
       "    </tr>\n",
       "    <tr>\n",
       "      <td>3</td>\n",
       "      <td>Изменить структура категорий, что увеличит конверсию, т.к. пользователи быстрее найдут нужный товар</td>\n",
       "      <td>9.0</td>\n",
       "    </tr>\n",
       "    <tr>\n",
       "      <td>1</td>\n",
       "      <td>Запустить собственную службу доставки, что сократит срок доставки заказов</td>\n",
       "      <td>4.0</td>\n",
       "    </tr>\n",
       "    <tr>\n",
       "      <td>5</td>\n",
       "      <td>Добавить страницу отзывов клиентов о магазине, что позволит увеличить количество заказов</td>\n",
       "      <td>4.0</td>\n",
       "    </tr>\n",
       "    <tr>\n",
       "      <td>4</td>\n",
       "      <td>Изменить цвет фона главной страницы, чтобы увеличить вовлеченность пользователей</td>\n",
       "      <td>3.0</td>\n",
       "    </tr>\n",
       "  </tbody>\n",
       "</table>\n",
       "</div>"
      ],
      "text/plain": [
       "                                                                                                     hypothesis  \\\n",
       "7  Добавить форму подписки на все основные страницы, чтобы собрать базу клиентов для email-рассылок               \n",
       "2  Добавить блоки рекомендаций товаров на сайт интернет магазина, чтобы повысить конверсию и средний чек заказа   \n",
       "0  Добавить два новых канала привлечения трафика, что позволит привлекать на 30% больше пользователей             \n",
       "6  Показать на главной странице баннеры с актуальными акциями и распродажами, чтобы увеличить конверсию           \n",
       "8  Запустить акцию, дающую скидку на товар в день рождения                                                        \n",
       "3  Изменить структура категорий, что увеличит конверсию, т.к. пользователи быстрее найдут нужный товар            \n",
       "1  Запустить собственную службу доставки, что сократит срок доставки заказов                                      \n",
       "5  Добавить страницу отзывов клиентов о магазине, что позволит увеличить количество заказов                       \n",
       "4  Изменить цвет фона главной страницы, чтобы увеличить вовлеченность пользователей                               \n",
       "\n",
       "    RICE  \n",
       "7  112.0  \n",
       "2  56.0   \n",
       "0  40.0   \n",
       "6  40.0   \n",
       "8  16.2   \n",
       "3  9.0    \n",
       "1  4.0    \n",
       "5  4.0    \n",
       "4  3.0    "
      ]
     },
     "metadata": {},
     "output_type": "display_data"
    }
   ],
   "source": [
    "pd.set_option('display.max_colwidth', -1)\n",
    "hypothesis['RICE'] = hypothesis['reach'] * hypothesis['impact'] * hypothesis['confidence']/ hypothesis['efforts']\n",
    "display(hypothesis[['hypothesis','RICE']].sort_values('RICE',ascending = False))"
   ]
  },
  {
   "cell_type": "markdown",
   "metadata": {},
   "source": [
    "ТОП-3 самых перспективных гипотез по коэффициенту ICE это гипотезы под номерами: 2,7,0"
   ]
  },
  {
   "cell_type": "markdown",
   "metadata": {},
   "source": [
    "### Вывод\n",
    "\n",
    "Результаты полученные методом RICE отличаются от результатов полученных методом ICE, т.к. в случае метода RICE мы учитываем также охват изменений. Очевидно, что акция со скидкой в день рождения затрагивает сильно меньше пользователей (гипотеза №8), чем количество пользователей основных страниц, которые увидят форму подписки на email-рассылку (гипотеза №7), поэтому для метода RICE гипотеза №8 опустилась на 5-е место. Гипотезы под номерами \"0\", \"7\" для метода RICE также остались в ТОП-3, а гипотеза №7 стала самой перспективной.\n",
    "\n",
    "Гипотеза №4 независимо от метода оказалось самой неперспективной, вероятно это связано с тем, что цвет фона, на первый вгляд, мало повлияет на вовлеченность пользователей, а также уверенность в конкретном влиянии цвета фона на вовлеченность небольшая.\n",
    "\n",
    "Гипотеза №2 после использования метода RICE оказалась на 2 месте. На это также напрямую повлиял охват. \n",
    "\n",
    "При принятии решения о приоритетах гипотез рекомендуется использовать метод RICE, т.к. в нем учитывается при подсчете приоритета очень важный показатель - охват."
   ]
  },
  {
   "cell_type": "markdown",
   "metadata": {},
   "source": [
    "## Анализ A/B теста "
   ]
  },
  {
   "cell_type": "markdown",
   "metadata": {},
   "source": [
    "Для начала посмотрим сколько длился тест."
   ]
  },
  {
   "cell_type": "code",
   "execution_count": 6,
   "metadata": {},
   "outputs": [
    {
     "data": {
      "text/plain": [
       "0    2019-08-01\n",
       "1    2019-08-02\n",
       "2    2019-08-03\n",
       "3    2019-08-04\n",
       "4    2019-08-05\n",
       "5    2019-08-06\n",
       "6    2019-08-07\n",
       "7    2019-08-08\n",
       "8    2019-08-09\n",
       "9    2019-08-10\n",
       "10   2019-08-11\n",
       "11   2019-08-12\n",
       "12   2019-08-13\n",
       "13   2019-08-14\n",
       "14   2019-08-15\n",
       "15   2019-08-16\n",
       "16   2019-08-17\n",
       "17   2019-08-18\n",
       "18   2019-08-19\n",
       "19   2019-08-20\n",
       "20   2019-08-21\n",
       "21   2019-08-22\n",
       "22   2019-08-23\n",
       "23   2019-08-24\n",
       "24   2019-08-25\n",
       "25   2019-08-26\n",
       "26   2019-08-27\n",
       "27   2019-08-28\n",
       "28   2019-08-29\n",
       "29   2019-08-30\n",
       "30   2019-08-31\n",
       "Name: date, dtype: datetime64[ns]"
      ]
     },
     "metadata": {},
     "output_type": "display_data"
    }
   ],
   "source": [
    "display(visitors['date'].head(31))"
   ]
  },
  {
   "cell_type": "markdown",
   "metadata": {},
   "source": [
    "Тест проводился в течение 1 месяца - с 01.08.2019 до 31.08.2019."
   ]
  },
  {
   "cell_type": "markdown",
   "metadata": {},
   "source": [
    "Найдем кумулятивную выручуку для групп и построим график. Для этого сначала агрегируем необходимые данные."
   ]
  },
  {
   "cell_type": "code",
   "execution_count": 7,
   "metadata": {},
   "outputs": [
    {
     "name": "stderr",
     "output_type": "stream",
     "text": [
      "/opt/conda/lib/python3.7/site-packages/pandas/plotting/_matplotlib/converter.py:103: FutureWarning: Using an implicitly registered datetime converter for a matplotlib plotting method. The converter was registered by pandas on import. Future versions of pandas will require you to explicitly register matplotlib converters.\n",
      "\n",
      "To register the converters:\n",
      "\t>>> from pandas.plotting import register_matplotlib_converters\n",
      "\t>>> register_matplotlib_converters()\n",
      "  warnings.warn(msg, FutureWarning)\n"
     ]
    },
    {
     "data": {
      "image/png": "[encoded data removed]",
      "text/plain": [
       "<Figure size 936x432 with 1 Axes>"
      ]
     },
     "metadata": {
      "needs_background": "light"
     },
     "output_type": "display_data"
    }
   ],
   "source": [
    "# создаем массив уникальных пар значений дат и групп теста\n",
    "datesGroups = orders[['date','group']].drop_duplicates()\n",
    "\n",
    "# кумулятивная выручка по заказам\n",
    "ordersAggregated = datesGroups.apply(\n",
    "    lambda x: orders[np.logical_and(orders['date'] <= x['date'], orders['group'] == x['group'])]\\\n",
    "    .agg({\n",
    "        'date' : 'max',\n",
    "        'group' : 'max',\n",
    "        'transactionId' : pd.Series.nunique,\n",
    "        'visitorId' : pd.Series.nunique,\n",
    "        'revenue' : 'sum'\n",
    "    }), axis=1)\\\n",
    "    .sort_values(by=['date','group']\n",
    ")\n",
    "\n",
    "# кумулятивное число посетителей\n",
    "visitorsAggregated = datesGroups.apply(\n",
    "    lambda x: visitors[np.logical_and(visitors['date'] <= x['date'], visitors['group'] == x['group'])]\\\n",
    "    .agg({\n",
    "        'date' : 'max',\n",
    "        'group' : 'max',\n",
    "        'visitors' : 'sum'\n",
    "    }), axis=1)\\\n",
    "    .sort_values(by=['date','group']\n",
    ")\n",
    "\n",
    "# объединим таблицы методом с параметром outer для того, что бы все значения попали в итоговый датафрейм\n",
    "cumulativeData = ordersAggregated.merge(visitorsAggregated, on=['date', 'group'],how = 'outer')\n",
    "cumulativeData.columns = ['date', 'group', 'orders', 'buyers', 'revenue', 'visitors']\n",
    "\n",
    "#разделим данные по группам в отдельные датафреймы \n",
    "cumulativeRevenueA = cumulativeData[cumulativeData['group']=='A'][['date','revenue', 'orders']]\n",
    "cumulativeRevenueB = cumulativeData[cumulativeData['group']=='B'][['date','revenue', 'orders']]\n",
    "\n",
    "# Строим график выручки для групп\n",
    "plt.figure(figsize=(13, 6))\n",
    "plt.plot(cumulativeRevenueA['date'], cumulativeRevenueA['revenue'], label='A')\n",
    "plt.plot(cumulativeRevenueB['date'], cumulativeRevenueB['revenue'], label='B')\n",
    "plt.legend(title='Группы')\n",
    "plt.xlabel('Период запущенного теста, дни')\n",
    "plt.grid(True)\n",
    "plt.ylabel('Кумулятивная выручка, у.е.')\n",
    "plt.show()"
   ]
  },
  {
   "cell_type": "markdown",
   "metadata": {},
   "source": [
    "Из графика видно, что группа B стабильно имеет большую выручку на протяжении всего эксперимента. Особенно это становится заметно 19.08.2019: Либо в этот день случилась какая-то крупная покупка пользователем из группы B либо с этого момента стало значительно больше заказов от пользователей группы B. Для проверки посмотрим на график изменения кумулятивного среднего чека. Также далее необходимо будет изучить данные на предмет выбросов.\n",
    "\n",
    "Важно отметить - выручка для обеих групп растет на протяжении всего теста. "
   ]
  },
  {
   "cell_type": "code",
   "execution_count": 8,
   "metadata": {},
   "outputs": [
    {
     "data": {
      "image/png": "[encoded data removed]",
      "text/plain": [
       "<Figure size 936x432 with 1 Axes>"
      ]
     },
     "metadata": {
      "needs_background": "light"
     },
     "output_type": "display_data"
    },
    {
     "data": {
      "text/html": [
       "<div>\n",
       "<style scoped>\n",
       "    .dataframe tbody tr th:only-of-type {\n",
       "        vertical-align: middle;\n",
       "    }\n",
       "\n",
       "    .dataframe tbody tr th {\n",
       "        vertical-align: top;\n",
       "    }\n",
       "\n",
       "    .dataframe thead th {\n",
       "        text-align: right;\n",
       "    }\n",
       "</style>\n",
       "<table border=\"1\" class=\"dataframe\">\n",
       "  <thead>\n",
       "    <tr style=\"text-align: right;\">\n",
       "      <th></th>\n",
       "      <th>transactionId</th>\n",
       "      <th>visitorId</th>\n",
       "      <th>date</th>\n",
       "      <th>revenue</th>\n",
       "      <th>group</th>\n",
       "    </tr>\n",
       "  </thead>\n",
       "  <tbody>\n",
       "    <tr>\n",
       "      <td>425</td>\n",
       "      <td>590470918</td>\n",
       "      <td>1920142716</td>\n",
       "      <td>2019-08-19</td>\n",
       "      <td>1294500</td>\n",
       "      <td>B</td>\n",
       "    </tr>\n",
       "    <tr>\n",
       "      <td>1196</td>\n",
       "      <td>3936777065</td>\n",
       "      <td>2108080724</td>\n",
       "      <td>2019-08-15</td>\n",
       "      <td>202740</td>\n",
       "      <td>B</td>\n",
       "    </tr>\n",
       "    <tr>\n",
       "      <td>744</td>\n",
       "      <td>3668308183</td>\n",
       "      <td>888512513</td>\n",
       "      <td>2019-08-27</td>\n",
       "      <td>86620</td>\n",
       "      <td>B</td>\n",
       "    </tr>\n",
       "    <tr>\n",
       "      <td>682</td>\n",
       "      <td>1216533772</td>\n",
       "      <td>4266935830</td>\n",
       "      <td>2019-08-29</td>\n",
       "      <td>78990</td>\n",
       "      <td>B</td>\n",
       "    </tr>\n",
       "    <tr>\n",
       "      <td>940</td>\n",
       "      <td>2420050534</td>\n",
       "      <td>4003628586</td>\n",
       "      <td>2019-08-08</td>\n",
       "      <td>58550</td>\n",
       "      <td>B</td>\n",
       "    </tr>\n",
       "  </tbody>\n",
       "</table>\n",
       "</div>"
      ],
      "text/plain": [
       "      transactionId   visitorId       date  revenue group\n",
       "425   590470918      1920142716 2019-08-19  1294500  B   \n",
       "1196  3936777065     2108080724 2019-08-15  202740   B   \n",
       "744   3668308183     888512513  2019-08-27  86620    B   \n",
       "682   1216533772     4266935830 2019-08-29  78990    B   \n",
       "940   2420050534     4003628586 2019-08-08  58550    B   "
      ]
     },
     "metadata": {},
     "output_type": "display_data"
    }
   ],
   "source": [
    "plt.figure(figsize=(13, 6))\n",
    "plt.plot(cumulativeRevenueA['date'], cumulativeRevenueA['revenue']/cumulativeRevenueA['orders'], label='A')\n",
    "plt.plot(cumulativeRevenueB['date'], cumulativeRevenueB['revenue']/cumulativeRevenueB['orders'], label='B')\n",
    "plt.legend(title='Группы')\n",
    "plt.xlabel('Период запущенного теста, дни')\n",
    "plt.grid(True)\n",
    "plt.ylabel('Кумулятивный средний чек, у.е.')\n",
    "plt.show()\n",
    "\n",
    "display(orders[orders['group'] == 'B'].sort_values('revenue',ascending = False).head(5))"
   ]
  },
  {
   "cell_type": "markdown",
   "metadata": {},
   "source": [
    "Из графика видно, что действительно 19.08.2019 была совершена одна очень крупная покупка пользователем группы B. Далее  средний чек группы B плавно снижается.  \n",
    "\n",
    "До 19.08.2019 прослеживается тренд на повышение среднего чека для обеих групп, однако данных слишком мало, что бы охарактеризовать поведение среднего чека на более длительный период. \n",
    "\n",
    "Из-за большого разброса из этого графика сложно выделить поведение среднего чека в разрезе групп, поэтому посмотрим на график относительного изменения кумулятивного среднего чека. "
   ]
  },
  {
   "cell_type": "code",
   "execution_count": 9,
   "metadata": {},
   "outputs": [
    {
     "data": {
      "image/png": "[encoded data removed]",
      "text/plain": [
       "<Figure size 936x432 with 1 Axes>"
      ]
     },
     "metadata": {
      "needs_background": "light"
     },
     "output_type": "display_data"
    },
    {
     "data": {
      "text/html": [
       "<div>\n",
       "<style scoped>\n",
       "    .dataframe tbody tr th:only-of-type {\n",
       "        vertical-align: middle;\n",
       "    }\n",
       "\n",
       "    .dataframe tbody tr th {\n",
       "        vertical-align: top;\n",
       "    }\n",
       "\n",
       "    .dataframe thead th {\n",
       "        text-align: right;\n",
       "    }\n",
       "</style>\n",
       "<table border=\"1\" class=\"dataframe\">\n",
       "  <thead>\n",
       "    <tr style=\"text-align: right;\">\n",
       "      <th></th>\n",
       "      <th>transactionId</th>\n",
       "      <th>visitorId</th>\n",
       "      <th>date</th>\n",
       "      <th>revenue</th>\n",
       "      <th>group</th>\n",
       "    </tr>\n",
       "  </thead>\n",
       "  <tbody>\n",
       "    <tr>\n",
       "      <td>858</td>\n",
       "      <td>192721366</td>\n",
       "      <td>1316129916</td>\n",
       "      <td>2019-08-27</td>\n",
       "      <td>93940</td>\n",
       "      <td>A</td>\n",
       "    </tr>\n",
       "    <tr>\n",
       "      <td>1136</td>\n",
       "      <td>666610489</td>\n",
       "      <td>1307669133</td>\n",
       "      <td>2019-08-13</td>\n",
       "      <td>92550</td>\n",
       "      <td>A</td>\n",
       "    </tr>\n",
       "    <tr>\n",
       "      <td>662</td>\n",
       "      <td>1811671147</td>\n",
       "      <td>4266935830</td>\n",
       "      <td>2019-08-29</td>\n",
       "      <td>78990</td>\n",
       "      <td>A</td>\n",
       "    </tr>\n",
       "    <tr>\n",
       "      <td>743</td>\n",
       "      <td>3603576309</td>\n",
       "      <td>4133034833</td>\n",
       "      <td>2019-08-09</td>\n",
       "      <td>67990</td>\n",
       "      <td>A</td>\n",
       "    </tr>\n",
       "    <tr>\n",
       "      <td>1103</td>\n",
       "      <td>1348774318</td>\n",
       "      <td>1164614297</td>\n",
       "      <td>2019-08-12</td>\n",
       "      <td>66350</td>\n",
       "      <td>A</td>\n",
       "    </tr>\n",
       "  </tbody>\n",
       "</table>\n",
       "</div>"
      ],
      "text/plain": [
       "      transactionId   visitorId       date  revenue group\n",
       "858   192721366      1316129916 2019-08-27  93940    A   \n",
       "1136  666610489      1307669133 2019-08-13  92550    A   \n",
       "662   1811671147     4266935830 2019-08-29  78990    A   \n",
       "743   3603576309     4133034833 2019-08-09  67990    A   \n",
       "1103  1348774318     1164614297 2019-08-12  66350    A   "
      ]
     },
     "metadata": {},
     "output_type": "display_data"
    }
   ],
   "source": [
    "mergedCumulativeRevenue = cumulativeRevenueA.merge(cumulativeRevenueB, left_on='date', right_on='date', how='left', suffixes=['A', 'B'])\n",
    "plt.figure(figsize=(13, 6))\n",
    "plt.plot(mergedCumulativeRevenue['date'], (mergedCumulativeRevenue['revenueB']/mergedCumulativeRevenue['ordersB'])/(mergedCumulativeRevenue['revenueA']/mergedCumulativeRevenue['ordersA'])-1)\n",
    "plt.axhline(y=0, color='black', linestyle='--')\n",
    "plt.xlabel('Период запущенного теста, дни')\n",
    "plt.grid(True)\n",
    "plt.ylabel('Относительное изменение среднего чека B/A')\n",
    "plt.show()\n",
    "\n",
    "display(orders[orders['group'] == 'A'].sort_values('revenue',ascending = False).head(5))"
   ]
  },
  {
   "cell_type": "markdown",
   "metadata": {},
   "source": [
    "Из графика видно, что средний чек практически всегда выше у группы B. Однако видно, что в период с 08.08.2019 до 13.08.2019 средний чек группы А рос и даже был выше среднего чека группы B четыре дня (10.08 - 14.08). \n",
    "Также из графика видно, что в данных много выбросов и необходимо оценить метрики на очищенных от выбросов данных."
   ]
  },
  {
   "cell_type": "markdown",
   "metadata": {},
   "source": [
    "Посмотрим на кумулятивную конверсию групп. "
   ]
  },
  {
   "cell_type": "code",
   "execution_count": 10,
   "metadata": {},
   "outputs": [
    {
     "data": {
      "image/png": "[encoded data removed]",
      "text/plain": [
       "<Figure size 936x432 with 1 Axes>"
      ]
     },
     "metadata": {
      "needs_background": "light"
     },
     "output_type": "display_data"
    }
   ],
   "source": [
    "cumulativeData['conversion'] = cumulativeData['orders']/cumulativeData['visitors']\n",
    "\n",
    "cumulativeDataA = cumulativeData[cumulativeData['group']=='A']\n",
    "cumulativeDataB = cumulativeData[cumulativeData['group']=='B']\n",
    "\n",
    "\n",
    "plt.figure(figsize=(13, 6))\n",
    "plt.plot(cumulativeDataA['date'], cumulativeDataA['conversion'], label='A')\n",
    "plt.plot(cumulativeDataB['date'], cumulativeDataB['conversion'], label='B')\n",
    "plt.legend(title='Группы')\n",
    "plt.xlabel('Период запущенного теста, дни')\n",
    "plt.grid(True)\n",
    "plt.ylabel('Кумулятивная конверсия для групп')\n",
    "plt.axis([\"2019-08-01\", '2019-09-01', 0, 0.07]) \n",
    "plt.show()"
   ]
  },
  {
   "cell_type": "markdown",
   "metadata": {},
   "source": [
    "Из графика видно, что конверсия группы B с 10.08.2019 стабильно выше до самого конца теста. \n",
    "Посмотрим относительное изменение конверсии для групп.  "
   ]
  },
  {
   "cell_type": "code",
   "execution_count": 11,
   "metadata": {},
   "outputs": [
    {
     "data": {
      "image/png": "[encoded data removed]",
      "text/plain": [
       "<Figure size 936x432 with 1 Axes>"
      ]
     },
     "metadata": {
      "needs_background": "light"
     },
     "output_type": "display_data"
    }
   ],
   "source": [
    "mergedCumulativeConversions = cumulativeDataA[['date','conversion']].merge(cumulativeDataB[['date','conversion']], left_on='date', right_on='date', how='left', suffixes=['A', 'B'])\n",
    "\n",
    "plt.figure(figsize=(13, 6))\n",
    "plt.plot(mergedCumulativeConversions['date'], mergedCumulativeConversions['conversionB']/mergedCumulativeConversions['conversionA']-1, label=\"Относительный прирост конверсии группы B относительно группы A\")\n",
    "plt.legend()\n",
    "plt.axhline(y=0, color='black', linestyle='--')\n",
    "plt.axis([\"2019-08-01\", '2019-09-01', -0.6, 0.6])\n",
    "plt.xlabel('Период запущенного теста ')\n",
    "plt.grid(True)\n",
    "plt.ylabel('Относительное изменение кумулятивной конверсии B/A')\n",
    "plt.show()"
   ]
  },
  {
   "cell_type": "markdown",
   "metadata": {},
   "source": [
    "График подтверждает, что конверсия группы B стабилизируется после 10.08.2019 и стабильно выше конверсии группы A."
   ]
  },
  {
   "cell_type": "markdown",
   "metadata": {},
   "source": [
    "Ранее из графиков было видно, что есть выбросы в выручке и среднем чеке. Для оценки количества выбросов сначала изучим точечный график количества заказов по пользователям и посчитаем 95-й и 99-й перцентили количества заказов на пользователя. "
   ]
  },
  {
   "cell_type": "code",
   "execution_count": 12,
   "metadata": {},
   "outputs": [
    {
     "data": {
      "image/png": "[encoded data removed]",
      "text/plain": [
       "<Figure size 936x432 with 1 Axes>"
      ]
     },
     "metadata": {
      "needs_background": "light"
     },
     "output_type": "display_data"
    },
    {
     "name": "stdout",
     "output_type": "stream",
     "text": [
      "95 и 99 перцентиль соответсвенно: [2. 4.]\n"
     ]
    }
   ],
   "source": [
    "ordersByUsers = (\n",
    "    orders.drop(['group', 'revenue', 'date'], axis=1)\n",
    "    .groupby('visitorId', as_index=False)\n",
    "    .agg({'transactionId': pd.Series.nunique})\n",
    ")\n",
    "\n",
    "ordersByUsers.columns = ['visitorId', 'orders']\n",
    "x_values = pd.Series(range(0,len(ordersByUsers)))\n",
    "plt.figure(figsize=(13, 6))\n",
    "plt.scatter(x_values, ordersByUsers['orders'])\n",
    "plt.xlabel('Количество пользователей')\n",
    "plt.grid(True)\n",
    "plt.ylabel('Количество заказов, шт')\n",
    "plt.show()\n",
    "\n",
    "print('95 и 99 перцентиль соответсвенно:',np.percentile(ordersByUsers['orders'], [95, 99]))"
   ]
  },
  {
   "cell_type": "markdown",
   "metadata": {},
   "source": [
    "Из графика и значений 95-й и 99-й перцентилей видно, что наибольшее количество пользователей совершило не более 2-х заказов за период теста, поэтому аномальными будем считать тех пользователей, которые сделали более **2 заказов**"
   ]
  },
  {
   "cell_type": "markdown",
   "metadata": {},
   "source": [
    "Теперь изучим точечный график стоимости заказов и также вычислим 95 и 99 перцентили. Для наглядности выведем два графика с разными диапазонами на оси y."
   ]
  },
  {
   "cell_type": "code",
   "execution_count": 13,
   "metadata": {},
   "outputs": [
    {
     "data": {
      "image/png": "[encoded data removed]",
      "text/plain": [
       "<Figure size 936x432 with 1 Axes>"
      ]
     },
     "metadata": {
      "needs_background": "light"
     },
     "output_type": "display_data"
    },
    {
     "data": {
      "image/png": "[encoded data removed]",
      "text/plain": [
       "<Figure size 936x432 with 1 Axes>"
      ]
     },
     "metadata": {
      "needs_background": "light"
     },
     "output_type": "display_data"
    },
    {
     "name": "stdout",
     "output_type": "stream",
     "text": [
      "95 и 99 перцентиль соответсвенно: [28000.  58233.2]\n"
     ]
    }
   ],
   "source": [
    "x_values = pd.Series(range(0,len(orders['revenue'])))\n",
    "plt.figure(figsize=(13, 6))\n",
    "plt.scatter(x_values, orders['revenue'])\n",
    "plt.xlabel('Количество пользователей')\n",
    "plt.grid(True)\n",
    "plt.ylabel('Стоимость заказа')\n",
    "plt.show()\n",
    "plt.figure(figsize=(13, 6))\n",
    "plt.scatter(x_values, orders['revenue'])\n",
    "plt.xlabel('Количество пользователей')\n",
    "plt.grid(True)\n",
    "plt.ylabel('Стоимость заказа')\n",
    "plt.axis([0,1200, 0, 100000])\n",
    "plt.show()\n",
    "print('95 и 99 перцентиль соответсвенно:',np.percentile(orders['revenue'], [95, 99])) "
   ]
  },
  {
   "cell_type": "markdown",
   "metadata": {},
   "source": [
    "Из графиков, а также из значений 95 и 99 перцентилей видно, что большинство пользователей делают заказ на сумму не более 35 000 у.е., поэтому аномальными будем считать тех пользователей, которые сделали заказы на сумму более **35 000 у.е.**"
   ]
  },
  {
   "cell_type": "markdown",
   "metadata": {},
   "source": [
    "Далее проверим на значимость выявленные ранее различия в среднем чеке и конверсии между группами сначала на сырых, а потом на  очищенных данных. \n",
    "Т.к.,судя по выбросам и значениям, данные не распределены нормально (во всех метриках есть тяжелый хвост), поэтому проверять значимость будем с помощью теста Манна-Уитни.\n",
    "\n",
    "Подготовим данные для использования выбранного теста - разделим пользователей на группы и создадим массив, который содержит индекс (ранг) значения и само значение (кол-во заказов пользователя под соответствующим индексом). Также создадим датафреймы, очищенные от выбросов. "
   ]
  },
  {
   "cell_type": "code",
   "execution_count": 14,
   "metadata": {},
   "outputs": [
    {
     "data": {
      "text/html": [
       "<div>\n",
       "<style scoped>\n",
       "    .dataframe tbody tr th:only-of-type {\n",
       "        vertical-align: middle;\n",
       "    }\n",
       "\n",
       "    .dataframe tbody tr th {\n",
       "        vertical-align: top;\n",
       "    }\n",
       "\n",
       "    .dataframe thead th {\n",
       "        text-align: right;\n",
       "    }\n",
       "</style>\n",
       "<table border=\"1\" class=\"dataframe\">\n",
       "  <thead>\n",
       "    <tr style=\"text-align: right;\">\n",
       "      <th></th>\n",
       "      <th>date</th>\n",
       "      <th>group</th>\n",
       "      <th>orders</th>\n",
       "      <th>buyers</th>\n",
       "      <th>revenue</th>\n",
       "      <th>visitors</th>\n",
       "      <th>conversion</th>\n",
       "    </tr>\n",
       "  </thead>\n",
       "  <tbody>\n",
       "    <tr>\n",
       "      <td>0</td>\n",
       "      <td>2019-08-01</td>\n",
       "      <td>A</td>\n",
       "      <td>24</td>\n",
       "      <td>20</td>\n",
       "      <td>148579</td>\n",
       "      <td>719</td>\n",
       "      <td>0.033380</td>\n",
       "    </tr>\n",
       "    <tr>\n",
       "      <td>1</td>\n",
       "      <td>2019-08-01</td>\n",
       "      <td>B</td>\n",
       "      <td>21</td>\n",
       "      <td>20</td>\n",
       "      <td>101217</td>\n",
       "      <td>713</td>\n",
       "      <td>0.029453</td>\n",
       "    </tr>\n",
       "    <tr>\n",
       "      <td>2</td>\n",
       "      <td>2019-08-02</td>\n",
       "      <td>A</td>\n",
       "      <td>44</td>\n",
       "      <td>38</td>\n",
       "      <td>242401</td>\n",
       "      <td>1338</td>\n",
       "      <td>0.032885</td>\n",
       "    </tr>\n",
       "    <tr>\n",
       "      <td>3</td>\n",
       "      <td>2019-08-02</td>\n",
       "      <td>B</td>\n",
       "      <td>45</td>\n",
       "      <td>43</td>\n",
       "      <td>266748</td>\n",
       "      <td>1294</td>\n",
       "      <td>0.034776</td>\n",
       "    </tr>\n",
       "    <tr>\n",
       "      <td>4</td>\n",
       "      <td>2019-08-03</td>\n",
       "      <td>A</td>\n",
       "      <td>68</td>\n",
       "      <td>62</td>\n",
       "      <td>354874</td>\n",
       "      <td>1845</td>\n",
       "      <td>0.036856</td>\n",
       "    </tr>\n",
       "    <tr>\n",
       "      <td>...</td>\n",
       "      <td>...</td>\n",
       "      <td>...</td>\n",
       "      <td>...</td>\n",
       "      <td>...</td>\n",
       "      <td>...</td>\n",
       "      <td>...</td>\n",
       "      <td>...</td>\n",
       "    </tr>\n",
       "    <tr>\n",
       "      <td>57</td>\n",
       "      <td>2019-08-29</td>\n",
       "      <td>B</td>\n",
       "      <td>596</td>\n",
       "      <td>544</td>\n",
       "      <td>5559398</td>\n",
       "      <td>17708</td>\n",
       "      <td>0.033657</td>\n",
       "    </tr>\n",
       "    <tr>\n",
       "      <td>58</td>\n",
       "      <td>2019-08-30</td>\n",
       "      <td>A</td>\n",
       "      <td>545</td>\n",
       "      <td>493</td>\n",
       "      <td>4022970</td>\n",
       "      <td>18037</td>\n",
       "      <td>0.030216</td>\n",
       "    </tr>\n",
       "    <tr>\n",
       "      <td>59</td>\n",
       "      <td>2019-08-30</td>\n",
       "      <td>B</td>\n",
       "      <td>620</td>\n",
       "      <td>567</td>\n",
       "      <td>5774631</td>\n",
       "      <td>18198</td>\n",
       "      <td>0.034070</td>\n",
       "    </tr>\n",
       "    <tr>\n",
       "      <td>60</td>\n",
       "      <td>2019-08-31</td>\n",
       "      <td>A</td>\n",
       "      <td>557</td>\n",
       "      <td>503</td>\n",
       "      <td>4084803</td>\n",
       "      <td>18736</td>\n",
       "      <td>0.029729</td>\n",
       "    </tr>\n",
       "    <tr>\n",
       "      <td>61</td>\n",
       "      <td>2019-08-31</td>\n",
       "      <td>B</td>\n",
       "      <td>640</td>\n",
       "      <td>586</td>\n",
       "      <td>5907760</td>\n",
       "      <td>18916</td>\n",
       "      <td>0.033834</td>\n",
       "    </tr>\n",
       "  </tbody>\n",
       "</table>\n",
       "<p>62 rows × 7 columns</p>\n",
       "</div>"
      ],
      "text/plain": [
       "         date group  orders  buyers  revenue  visitors  conversion\n",
       "0  2019-08-01  A     24      20      148579   719       0.033380  \n",
       "1  2019-08-01  B     21      20      101217   713       0.029453  \n",
       "2  2019-08-02  A     44      38      242401   1338      0.032885  \n",
       "3  2019-08-02  B     45      43      266748   1294      0.034776  \n",
       "4  2019-08-03  A     68      62      354874   1845      0.036856  \n",
       "..        ... ..     ..      ..         ...    ...           ...  \n",
       "57 2019-08-29  B     596     544     5559398  17708     0.033657  \n",
       "58 2019-08-30  A     545     493     4022970  18037     0.030216  \n",
       "59 2019-08-30  B     620     567     5774631  18198     0.034070  \n",
       "60 2019-08-31  A     557     503     4084803  18736     0.029729  \n",
       "61 2019-08-31  B     640     586     5907760  18916     0.033834  \n",
       "\n",
       "[62 rows x 7 columns]"
      ]
     },
     "metadata": {},
     "output_type": "display_data"
    },
    {
     "data": {
      "text/html": [
       "<div>\n",
       "<style scoped>\n",
       "    .dataframe tbody tr th:only-of-type {\n",
       "        vertical-align: middle;\n",
       "    }\n",
       "\n",
       "    .dataframe tbody tr th {\n",
       "        vertical-align: top;\n",
       "    }\n",
       "\n",
       "    .dataframe thead th {\n",
       "        text-align: right;\n",
       "    }\n",
       "</style>\n",
       "<table border=\"1\" class=\"dataframe\">\n",
       "  <thead>\n",
       "    <tr style=\"text-align: right;\">\n",
       "      <th></th>\n",
       "      <th>transactionId</th>\n",
       "      <th>visitorId</th>\n",
       "      <th>date</th>\n",
       "      <th>revenue</th>\n",
       "      <th>group</th>\n",
       "    </tr>\n",
       "  </thead>\n",
       "  <tbody>\n",
       "    <tr>\n",
       "      <td>0</td>\n",
       "      <td>3667963787</td>\n",
       "      <td>3312258926</td>\n",
       "      <td>2019-08-15</td>\n",
       "      <td>1650</td>\n",
       "      <td>B</td>\n",
       "    </tr>\n",
       "    <tr>\n",
       "      <td>1</td>\n",
       "      <td>2804400009</td>\n",
       "      <td>3642806036</td>\n",
       "      <td>2019-08-15</td>\n",
       "      <td>730</td>\n",
       "      <td>B</td>\n",
       "    </tr>\n",
       "    <tr>\n",
       "      <td>2</td>\n",
       "      <td>2961555356</td>\n",
       "      <td>4069496402</td>\n",
       "      <td>2019-08-15</td>\n",
       "      <td>400</td>\n",
       "      <td>A</td>\n",
       "    </tr>\n",
       "    <tr>\n",
       "      <td>3</td>\n",
       "      <td>3797467345</td>\n",
       "      <td>1196621759</td>\n",
       "      <td>2019-08-15</td>\n",
       "      <td>9759</td>\n",
       "      <td>B</td>\n",
       "    </tr>\n",
       "    <tr>\n",
       "      <td>4</td>\n",
       "      <td>2282983706</td>\n",
       "      <td>2322279887</td>\n",
       "      <td>2019-08-15</td>\n",
       "      <td>2308</td>\n",
       "      <td>B</td>\n",
       "    </tr>\n",
       "    <tr>\n",
       "      <td>...</td>\n",
       "      <td>...</td>\n",
       "      <td>...</td>\n",
       "      <td>...</td>\n",
       "      <td>...</td>\n",
       "      <td>...</td>\n",
       "    </tr>\n",
       "    <tr>\n",
       "      <td>1192</td>\n",
       "      <td>2662137336</td>\n",
       "      <td>3733762160</td>\n",
       "      <td>2019-08-14</td>\n",
       "      <td>6490</td>\n",
       "      <td>B</td>\n",
       "    </tr>\n",
       "    <tr>\n",
       "      <td>1193</td>\n",
       "      <td>2203539145</td>\n",
       "      <td>370388673</td>\n",
       "      <td>2019-08-14</td>\n",
       "      <td>3190</td>\n",
       "      <td>A</td>\n",
       "    </tr>\n",
       "    <tr>\n",
       "      <td>1194</td>\n",
       "      <td>1807773912</td>\n",
       "      <td>573423106</td>\n",
       "      <td>2019-08-14</td>\n",
       "      <td>10550</td>\n",
       "      <td>A</td>\n",
       "    </tr>\n",
       "    <tr>\n",
       "      <td>1195</td>\n",
       "      <td>1947021204</td>\n",
       "      <td>1614305549</td>\n",
       "      <td>2019-08-14</td>\n",
       "      <td>100</td>\n",
       "      <td>A</td>\n",
       "    </tr>\n",
       "    <tr>\n",
       "      <td>1196</td>\n",
       "      <td>3936777065</td>\n",
       "      <td>2108080724</td>\n",
       "      <td>2019-08-15</td>\n",
       "      <td>202740</td>\n",
       "      <td>B</td>\n",
       "    </tr>\n",
       "  </tbody>\n",
       "</table>\n",
       "<p>1197 rows × 5 columns</p>\n",
       "</div>"
      ],
      "text/plain": [
       "      transactionId   visitorId       date  revenue group\n",
       "0     3667963787     3312258926 2019-08-15  1650     B   \n",
       "1     2804400009     3642806036 2019-08-15  730      B   \n",
       "2     2961555356     4069496402 2019-08-15  400      A   \n",
       "3     3797467345     1196621759 2019-08-15  9759     B   \n",
       "4     2282983706     2322279887 2019-08-15  2308     B   \n",
       "...          ...            ...        ...   ...    ..   \n",
       "1192  2662137336     3733762160 2019-08-14  6490     B   \n",
       "1193  2203539145     370388673  2019-08-14  3190     A   \n",
       "1194  1807773912     573423106  2019-08-14  10550    A   \n",
       "1195  1947021204     1614305549 2019-08-14  100      A   \n",
       "1196  3936777065     2108080724 2019-08-15  202740   B   \n",
       "\n",
       "[1197 rows x 5 columns]"
      ]
     },
     "metadata": {},
     "output_type": "display_data"
    },
    {
     "data": {
      "text/html": [
       "<div>\n",
       "<style scoped>\n",
       "    .dataframe tbody tr th:only-of-type {\n",
       "        vertical-align: middle;\n",
       "    }\n",
       "\n",
       "    .dataframe tbody tr th {\n",
       "        vertical-align: top;\n",
       "    }\n",
       "\n",
       "    .dataframe thead th {\n",
       "        text-align: right;\n",
       "    }\n",
       "</style>\n",
       "<table border=\"1\" class=\"dataframe\">\n",
       "  <thead>\n",
       "    <tr style=\"text-align: right;\">\n",
       "      <th></th>\n",
       "      <th>date</th>\n",
       "      <th>group</th>\n",
       "      <th>visitors</th>\n",
       "    </tr>\n",
       "  </thead>\n",
       "  <tbody>\n",
       "    <tr>\n",
       "      <td>0</td>\n",
       "      <td>2019-08-01</td>\n",
       "      <td>A</td>\n",
       "      <td>719</td>\n",
       "    </tr>\n",
       "    <tr>\n",
       "      <td>1</td>\n",
       "      <td>2019-08-02</td>\n",
       "      <td>A</td>\n",
       "      <td>619</td>\n",
       "    </tr>\n",
       "    <tr>\n",
       "      <td>2</td>\n",
       "      <td>2019-08-03</td>\n",
       "      <td>A</td>\n",
       "      <td>507</td>\n",
       "    </tr>\n",
       "    <tr>\n",
       "      <td>3</td>\n",
       "      <td>2019-08-04</td>\n",
       "      <td>A</td>\n",
       "      <td>717</td>\n",
       "    </tr>\n",
       "    <tr>\n",
       "      <td>4</td>\n",
       "      <td>2019-08-05</td>\n",
       "      <td>A</td>\n",
       "      <td>756</td>\n",
       "    </tr>\n",
       "    <tr>\n",
       "      <td>...</td>\n",
       "      <td>...</td>\n",
       "      <td>...</td>\n",
       "      <td>...</td>\n",
       "    </tr>\n",
       "    <tr>\n",
       "      <td>57</td>\n",
       "      <td>2019-08-27</td>\n",
       "      <td>B</td>\n",
       "      <td>720</td>\n",
       "    </tr>\n",
       "    <tr>\n",
       "      <td>58</td>\n",
       "      <td>2019-08-28</td>\n",
       "      <td>B</td>\n",
       "      <td>654</td>\n",
       "    </tr>\n",
       "    <tr>\n",
       "      <td>59</td>\n",
       "      <td>2019-08-29</td>\n",
       "      <td>B</td>\n",
       "      <td>531</td>\n",
       "    </tr>\n",
       "    <tr>\n",
       "      <td>60</td>\n",
       "      <td>2019-08-30</td>\n",
       "      <td>B</td>\n",
       "      <td>490</td>\n",
       "    </tr>\n",
       "    <tr>\n",
       "      <td>61</td>\n",
       "      <td>2019-08-31</td>\n",
       "      <td>B</td>\n",
       "      <td>718</td>\n",
       "    </tr>\n",
       "  </tbody>\n",
       "</table>\n",
       "<p>62 rows × 3 columns</p>\n",
       "</div>"
      ],
      "text/plain": [
       "         date group  visitors\n",
       "0  2019-08-01  A     719     \n",
       "1  2019-08-02  A     619     \n",
       "2  2019-08-03  A     507     \n",
       "3  2019-08-04  A     717     \n",
       "4  2019-08-05  A     756     \n",
       "..        ... ..     ...     \n",
       "57 2019-08-27  B     720     \n",
       "58 2019-08-28  B     654     \n",
       "59 2019-08-29  B     531     \n",
       "60 2019-08-30  B     490     \n",
       "61 2019-08-31  B     718     \n",
       "\n",
       "[62 rows x 3 columns]"
      ]
     },
     "metadata": {},
     "output_type": "display_data"
    }
   ],
   "source": [
    "display(cumulativeData)\n",
    "\n",
    "display(orders)\n",
    "display(visitors)"
   ]
  },
  {
   "cell_type": "code",
   "execution_count": 15,
   "metadata": {},
   "outputs": [],
   "source": [
    "ordersByUsersA = (\n",
    "    orders[orders['group'] == 'A']\n",
    "    .groupby('visitorId', as_index=False)\n",
    "    .agg({'transactionId': pd.Series.nunique})\n",
    ")\n",
    "ordersByUsersA.columns = ['visitorId', 'orders']\n",
    "\n",
    "ordersByUsersB = (\n",
    "    orders[orders['group'] == 'B']\n",
    "    .groupby('visitorId', as_index=False)\n",
    "    .agg({'transactionId': pd.Series.nunique})\n",
    ")\n",
    "ordersByUsersB.columns = ['visitorId', 'orders']\n",
    "\n",
    "\n",
    "sampleA = pd.concat(\n",
    "    [\n",
    "        ordersByUsersA['orders'],\n",
    "        pd.Series(\n",
    "            0,\n",
    "            index=np.arange(\n",
    "                visitors[visitors['group']=='A']['visitors'].sum() - len(ordersByUsersA['orders'])\n",
    "            ),\n",
    "            name='orders',\n",
    "        ),\n",
    "    ],\n",
    "    axis=0,\n",
    ")\n",
    "\n",
    "sampleB = pd.concat(\n",
    "    [\n",
    "        ordersByUsersB['orders'],\n",
    "        pd.Series(\n",
    "            0,\n",
    "            index=np.arange(\n",
    "                visitors[visitors['group']=='B']['visitors'].sum() - len(ordersByUsersB['orders'])\n",
    "            ),\n",
    "            name='orders',\n",
    "        ),\n",
    "    ],\n",
    "    axis=0,\n",
    ")\n",
    "\n",
    "normal_orders_num = 2\n",
    "normal_order_values = 35000\n",
    "\n",
    "\n",
    "usersWithManyOrders = pd.concat(\n",
    "    [\n",
    "        ordersByUsersA[ordersByUsersA['orders'] > normal_orders_num]['visitorId'],\n",
    "        ordersByUsersB[ordersByUsersB['orders'] > normal_orders_num]['visitorId'],\n",
    "    ],\n",
    "    axis=0,\n",
    ")\n",
    "usersWithExpensiveOrders = orders[orders['revenue'] > normal_order_values]['visitorId']\n",
    "\n",
    "abnormalUsers = (\n",
    "    pd.concat([usersWithManyOrders, usersWithExpensiveOrders], axis=0)\n",
    "    .drop_duplicates()\n",
    "    .sort_values()\n",
    ")\n",
    "\n",
    "\n",
    "sampleAFiltered = pd.concat(\n",
    "    [\n",
    "        ordersByUsersA[\n",
    "            np.logical_not(ordersByUsersA['visitorId'].isin(abnormalUsers))\n",
    "        ]['orders'],\n",
    "        pd.Series(\n",
    "            0,\n",
    "            index=np.arange(\n",
    "                visitors[visitors['group']=='A']['visitors'].sum() - len(ordersByUsersA['orders'])\n",
    "            ),\n",
    "            name='orders',\n",
    "        ),\n",
    "    ],\n",
    "    axis=0,\n",
    ")\n",
    "\n",
    "sampleBFiltered = pd.concat(\n",
    "    [\n",
    "        ordersByUsersB[\n",
    "            np.logical_not(ordersByUsersB['visitorId'].isin(abnormalUsers))\n",
    "        ]['orders'],\n",
    "        pd.Series(\n",
    "            0,\n",
    "            index=np.arange(\n",
    "                visitors[visitors['group']=='B']['visitors'].sum() - len(ordersByUsersB['orders'])\n",
    "            ),\n",
    "            name='orders',\n",
    "        ),\n",
    "    ],\n",
    "    axis=0,\n",
    ") \n"
   ]
  },
  {
   "cell_type": "markdown",
   "metadata": {},
   "source": [
    "Данные готовы, можно переходить к проверке значимости. Критический уровень статистической значимости возьмем за 0,05. Т.к. в данном проекте не стоит конкретной задачи проверить что конверсия или чек одной конкретной группы больше другой, то тест будем проводить двусторонний."
   ]
  },
  {
   "cell_type": "markdown",
   "metadata": {},
   "source": [
    "Для проверки разницы конверсий между группами сформируем гипотезы:\n",
    "\n",
    "H0: Средние значения конверсии группы B равны средним значениям конверсии группы A (разница в средних значениях конверсии статистически не значима)\n",
    "\n",
    "H1: Средние значения конверсии группы B не равны средним значениям конверсии группы А (разница в средних значениях конверсии статистически значима)"
   ]
  },
  {
   "cell_type": "code",
   "execution_count": 16,
   "metadata": {},
   "outputs": [
    {
     "name": "stdout",
     "output_type": "stream",
     "text": [
      "p-значение: 0.00840\n",
      "Отвергаем нулевую гипотезу: разница статистически значима\n",
      "Относительная разница конверсии группы B к группе A: 0.138\n"
     ]
    }
   ],
   "source": [
    "alpha = 0.05\n",
    "\n",
    "\n",
    "\n",
    "results = st.mannwhitneyu(sampleA, sampleB)\n",
    "\n",
    "print('p-значение: {0:.5f}'.format(results.pvalue))\n",
    "\n",
    "if results.pvalue < alpha:\n",
    "    print('Отвергаем нулевую гипотезу: разница статистически значима')\n",
    "else:\n",
    "    print(\n",
    "        'Не получилось отвергнуть нулевую гипотезу, вывод о различии сделать нельзя'\n",
    "    ) \n",
    "\n",
    "    \n",
    "print(\"Относительная разница конверсии группы B к группе A: {0:.3f}\".format(sampleB.mean() / sampleA.mean() - 1))"
   ]
  },
  {
   "cell_type": "markdown",
   "metadata": {},
   "source": [
    "Результаты теста говорят о том, что  разница в конверсии между группами статистически значима (Вероятность случайно получить точно такое же различие или больше в конверсиях групп не более 5%).\n",
    "\n",
    "**Для исходных данных конверсия группы B статистически значимо больше конверсии группы А на 13,8%** "
   ]
  },
  {
   "cell_type": "markdown",
   "metadata": {},
   "source": [
    "Далее проверим на значимость разницу в средних чеках групп. Формируем гипотезы:\n",
    "\n",
    "H0: Средние значения среднего чека группы B равен средним значениям среднего чека группы A (разница статистически не значима)\n",
    "\n",
    "H1: Средние значения среднего чека группы B не равен средним значениям среднего чека группы А (разница статистически значима)"
   ]
  },
  {
   "cell_type": "code",
   "execution_count": 17,
   "metadata": {},
   "outputs": [
    {
     "name": "stdout",
     "output_type": "stream",
     "text": [
      "p-значение: 0.36465\n",
      "Не получилось отвергнуть нулевую гипотезу, вывод о различии сделать нельзя\n",
      "Относительная разница среднего чека группы B к группе A: 0.259\n"
     ]
    }
   ],
   "source": [
    "results = st.mannwhitneyu(orders[orders['group']=='A']['revenue'], orders[orders['group']=='B']['revenue'])\n",
    "\n",
    "print('p-значение: {0:.5f}'.format(results.pvalue))\n",
    "\n",
    "if results.pvalue < alpha:\n",
    "    print('Отвергаем нулевую гипотезу: разница статистически значима')\n",
    "else:\n",
    "    print(\n",
    "        'Не получилось отвергнуть нулевую гипотезу, вывод о различии сделать нельзя'\n",
    "    ) \n",
    "\n",
    "\n",
    "print('Относительная разница среднего чека группы B к группе A: {0:.3f}'.format(orders[orders['group']=='B']['revenue'].mean()/orders[orders['group']=='A']['revenue'].mean()-1)) "
   ]
  },
  {
   "cell_type": "markdown",
   "metadata": {},
   "source": [
    "Несмотря на большую относительную разницу средних чеков групп (средний чек группы B больше на 25,9% среднего чека группы А) утверждать о значимой разнице нельзя: огромная вероятность случайно получить точно такое же различие или больше (~36,5%).\n",
    "\n",
    "**Для исходных данных нельзя утверждать о значимой разности среднего чека между группами.**"
   ]
  },
  {
   "cell_type": "markdown",
   "metadata": {},
   "source": [
    "Проверим статистическую значимость разницы конверсий между группами на очищенных данных. Используем те же гипотезы, что и для исходных данных:\n",
    "\n",
    "H0: Средние значения конверсии группы B равны средним значениям конверсии группы A (разница в средних значениях конверсии статистически не значима)\n",
    "\n",
    "H1: Средние значения конверсии группы B не равны средним значениям конверсии группы А (разница в средних значениях конверсии статистически значима)"
   ]
  },
  {
   "cell_type": "code",
   "execution_count": 18,
   "metadata": {},
   "outputs": [
    {
     "name": "stdout",
     "output_type": "stream",
     "text": [
      "p-значение: 0.00502\n",
      "Отвергаем нулевую гипотезу: разница статистически значима\n",
      "Относительная разница конверсии группы B к группе A: 0.179\n"
     ]
    }
   ],
   "source": [
    "results = st.mannwhitneyu(sampleAFiltered, sampleBFiltered)\n",
    "\n",
    "print('p-значение: {0:.5f}'.format(results.pvalue))\n",
    "\n",
    "if results.pvalue < alpha:\n",
    "    print('Отвергаем нулевую гипотезу: разница статистически значима')\n",
    "else:\n",
    "    print(\n",
    "        'Не получилось отвергнуть нулевую гипотезу, вывод о различии сделать нельзя'\n",
    "    ) \n",
    "\n",
    "    \n",
    "print(\"Относительная разница конверсии группы B к группе A: {0:.3f}\".format(sampleBFiltered.mean() / sampleAFiltered.mean() - 1))\n"
   ]
  },
  {
   "cell_type": "markdown",
   "metadata": {},
   "source": [
    "После очистки данных от выбросов, результат теста не изменился: разница в конверсии между группами статистически значима. \n",
    "Относительная разница конверсии группы B к группе А увеличилась с 13,8% до 17,9% после очистки данных от выбросов.\n",
    "\n",
    "**Для очищенных данных конверсия группы B статистически значимо больше конверсии группы А на 17,9%** "
   ]
  },
  {
   "cell_type": "markdown",
   "metadata": {},
   "source": [
    "Осталось проверить статистическую значимость разницы среднего чека между группами на очищенных данных. Используем те же гипотезы, что и для исходных данных:\n",
    "\n",
    "H0: Средние значения среднего чека группы B равен средним значениям среднего чека группы A (разница статистически не значима)\n",
    "\n",
    "H1: Средние значения среднего чека группы B не равен средним значениям среднего чека группы А (разница статистически значима)"
   ]
  },
  {
   "cell_type": "code",
   "execution_count": 19,
   "metadata": {},
   "outputs": [
    {
     "name": "stdout",
     "output_type": "stream",
     "text": [
      "p-значение: 0.44238\n",
      "Не получилось отвергнуть нулевую гипотезу, вывод о различии сделать нельзя\n",
      "Относительная разница среднего чека группы B к группе A: 0.022\n"
     ]
    }
   ],
   "source": [
    "results = st.mannwhitneyu(\\\n",
    "            orders[\n",
    "                np.logical_and(\n",
    "                    orders['group'] == 'A',\n",
    "                    np.logical_not(orders['visitorId'].isin(abnormalUsers)),\n",
    "                )\n",
    "            ]['revenue'],\n",
    "            orders[\n",
    "                np.logical_and(\n",
    "                    orders['group'] == 'B',\n",
    "                    np.logical_not(orders['visitorId'].isin(abnormalUsers)),\n",
    "                )\n",
    "            ]['revenue'],\n",
    "        )\n",
    "\n",
    "print('p-значение: {0:.5f}'.format(results.pvalue))\n",
    "\n",
    "if results.pvalue < alpha:\n",
    "    print('Отвергаем нулевую гипотезу: разница статистически значима')\n",
    "else:\n",
    "    print(\n",
    "        'Не получилось отвергнуть нулевую гипотезу, вывод о различии сделать нельзя'\n",
    "    ) \n",
    "\n",
    "\n",
    "print('Относительная разница среднего чека группы B к группе A: {0:.3f}'.format(\n",
    "    orders[\n",
    "            np.logical_and(\n",
    "                orders['group'] == 'B',\n",
    "                np.logical_not(orders['visitorId'].isin(abnormalUsers)),\n",
    "            )\n",
    "        ]['revenue'].mean()\n",
    "        / orders[\n",
    "            np.logical_and(\n",
    "                orders['group'] == 'A',\n",
    "                np.logical_not(orders['visitorId'].isin(abnormalUsers)),\n",
    "            )\n",
    "        ]['revenue'].mean()\n",
    "        - 1\n",
    "    )\n",
    ")\n",
    "\n",
    "\n"
   ]
  },
  {
   "cell_type": "markdown",
   "metadata": {},
   "source": [
    "После очистки данных вероятность случайно получить точно такое же различие или больше в среднем чеке между группами увеличилось с ~36,5% до ~44,3%. \n",
    "Относительная разница среднего чека между группой B и группой A сильно уменьшилась  с 25,9%  до 2,2% (средний чек группы B все также больше).\n",
    "\n",
    "**Для очищенных данных нельзя утверждать о значимой разности среднего чека между группами.**"
   ]
  },
  {
   "cell_type": "markdown",
   "metadata": {},
   "source": [
    "### Вывод\n",
    "\n",
    "В результате анализа результатов A/B теста получили следующие выводы:\n",
    "\n",
    "- Есть статистически значимое различие по конверсии между группами по исходным и очищенным от выбросов данным: конверсия группы B больше конверсии группы А на 13,8% или 17,9% для исходных или очищенных от выбросов данных соответсвенно.\n",
    "\n",
    "- По исходным и очищенным от выбросов данным нет статистически значимого различия по среднему чеку между группами.\n",
    "\n",
    "- График различия конверсии между группами показывает, что результаты группы B лучше группы A: значение зафиксировалось около среднего значения ~0,034 против ~0,03.\n",
    "\n",
    "- График различия среднего чека и расчеты показывают, что средний чек группы B больше, чем средний чек группы А. Однако в данных много выбросов, а эта разница в среднем чеке между группами статистически незначима, поэтому сделать каких-либо конкретных выводов относительно среднего чека нельзя.  \n",
    "\n",
    "\n",
    "**На основе перечисленных выводов принимаем решение о прекращении теста и фиксации победы группы B.**  "
   ]
  },
  {
   "cell_type": "code",
   "execution_count": 20,
   "metadata": {
    "scrolled": false
   },
   "outputs": [
    {
     "data": {
      "image/png": "[encoded data removed]",
      "text/plain": [
       "<Figure size 936x432 with 1 Axes>"
      ]
     },
     "metadata": {
      "needs_background": "light"
     },
     "output_type": "display_data"
    },
    {
     "data": {
      "image/png": "[encoded data removed]",
      "text/plain": [
       "<Figure size 936x432 with 1 Axes>"
      ]
     },
     "metadata": {
      "needs_background": "light"
     },
     "output_type": "display_data"
    }
   ],
   "source": [
    "plt.figure(figsize=(13, 6))\n",
    "plt.plot(mergedCumulativeConversions['date'], mergedCumulativeConversions['conversionB']/mergedCumulativeConversions['conversionA']-1, label=\"Относительный прирост конверсии группы B относительно группы A\")\n",
    "plt.title('Относительное изменение кумулятивной конверсии B/A')\n",
    "plt.axhline(y=0, color='black', linestyle='--')\n",
    "plt.axis([\"2019-08-01\", '2019-09-01', -0.6, 0.6])\n",
    "plt.xlabel('Период запущенного теста ')\n",
    "plt.grid(True)\n",
    "plt.ylabel('Относительное изменение кумулятивной конверсии B/A')\n",
    "plt.show()\n",
    "\n",
    "mergedCumulativeRevenue = cumulativeRevenueA.merge(cumulativeRevenueB, left_on='date', right_on='date', how='left', suffixes=['A', 'B'])\n",
    "plt.figure(figsize=(13, 6))\n",
    "plt.plot(mergedCumulativeRevenue['date'], (mergedCumulativeRevenue['revenueB']/mergedCumulativeRevenue['ordersB'])/(mergedCumulativeRevenue['revenueA']/mergedCumulativeRevenue['ordersA'])-1)\n",
    "plt.title('Относительное изменение среднего чека B/A')\n",
    "plt.axhline(y=0, color='black', linestyle='--')\n",
    "plt.xlabel('Период запущенного теста, дни')\n",
    "plt.grid(True)\n",
    "plt.ylabel('Относительное изменение среднего чека B/A')\n",
    "plt.show()\n"
   ]
  },
  {
   "cell_type": "markdown",
   "metadata": {},
   "source": [
    "## Итоговый вывод\n",
    "\n",
    "Для метода приоритезации гипотез ICE ТОП3:\n",
    "\n",
    "- Запустить акцию, дающую скидку на товар в день рождения (номер 8)\n",
    "- Добавить два новых канала привлечения трафика, что позволит привлекать на 30% больше пользователей (номер 0)\n",
    "- Добавить форму подписки на все основные страницы, чтобы собрать базу клиентов для email-рассылок (номер 7)\n",
    "\t\n",
    "\n",
    "Для метода RICE ТОП3:\n",
    "\n",
    "- Добавить форму подписки на все основные страницы, чтобы собрать базу клиентов для email-рассылок (номер 7)\n",
    "- Добавить блоки рекомендаций товаров на сайт интернет магазина, чтобы повысить конверсию и средний чек заказа (номер 2)\n",
    "- Добавить два новых канала привлечения трафика, что позволит привлекать на 30% больше пользователей (номер 0)\n",
    "\n",
    "Гипотеза \"изменить цвет фона главной страницы, чтобы увеличить вовлеченность пользователей\"(номер 4) независимо от метода оказалось самой неперспективной.\n",
    "\n",
    "При принятии решения о приоритетах гипотез рекомендуется использовать метод RICE, т.к. в нем учитывается при подсчете приоритета очень важный показатель - охват.\n",
    "\n",
    "\n",
    "В результате анализа результатов A/B теста получили следующие выводы:\n",
    "\n",
    "- Есть статистически значимое различие по конверсии между группами по исходным и очищенным от выбросов данным: конверсия группы B больше конверсии группы А на 13,8% или 17,9% для исходных или очищенных от выбросов данных соответсвенно.\n",
    "\n",
    "- По исходным и очищенным от выбросов данным нет статистически значимого различия по среднему чеку между группами.\n",
    "\n",
    "- График различия конверсии между группами показывает, что результаты группы B лучше группы A: значение зафиксировалось около среднего значения ~0,034 против ~0,03.\n",
    "\n",
    "- График различия среднего чека и расчеты показывают, что средний чек группы B больше, чем средний чек группы А. Однако в данных много выбросов, а эта разница в среднем чеке между группами статистически незначима, поэтому сделать каких-либо конкретных выводов относительно среднего чека нельзя.  \n",
    "\n",
    "\n",
    "**На основе проведенного A/B теста принимаем решение о прекращении теста и фиксации победы группы B.**  "
   ]
  }
 ],
 "metadata": {
  "ExecuteTimeLog": [
   {
    "duration": 1505,
    "start_time": "2021-07-12T16:54:42.177Z"
   },
   {
    "duration": 87,
    "start_time": "2021-07-12T16:57:56.732Z"
   },
   {
    "duration": 87,
    "start_time": "2021-07-12T17:05:46.280Z"
   },
   {
    "duration": 88,
    "start_time": "2021-07-12T17:08:17.099Z"
   },
   {
    "duration": 83,
    "start_time": "2021-07-12T17:10:51.221Z"
   },
   {
    "duration": 12,
    "start_time": "2021-07-12T18:10:28.694Z"
   },
   {
    "duration": 9,
    "start_time": "2021-07-12T18:10:31.426Z"
   },
   {
    "duration": 20,
    "start_time": "2021-07-12T18:16:46.933Z"
   },
   {
    "duration": 16,
    "start_time": "2021-07-12T18:20:36.384Z"
   },
   {
    "duration": 6756,
    "start_time": "2021-07-12T18:34:29.617Z"
   },
   {
    "duration": 15,
    "start_time": "2021-07-12T18:35:02.387Z"
   },
   {
    "duration": 12,
    "start_time": "2021-07-12T18:46:09.239Z"
   },
   {
    "duration": 14,
    "start_time": "2021-07-12T18:46:14.282Z"
   },
   {
    "duration": 14,
    "start_time": "2021-07-12T19:03:15.031Z"
   },
   {
    "duration": 15,
    "start_time": "2021-07-12T19:03:18.285Z"
   },
   {
    "duration": 383,
    "start_time": "2021-07-14T14:54:55.009Z"
   },
   {
    "duration": 1540,
    "start_time": "2021-07-14T14:55:18.422Z"
   },
   {
    "duration": 85,
    "start_time": "2021-07-14T14:55:20.615Z"
   },
   {
    "duration": 11,
    "start_time": "2021-07-14T14:55:22.573Z"
   },
   {
    "duration": 48,
    "start_time": "2021-07-14T14:55:24.169Z"
   },
   {
    "duration": 36,
    "start_time": "2021-07-14T14:55:26.573Z"
   },
   {
    "duration": 15,
    "start_time": "2021-07-14T15:00:06.622Z"
   },
   {
    "duration": 30,
    "start_time": "2021-07-14T15:18:10.957Z"
   },
   {
    "duration": 4,
    "start_time": "2021-07-14T15:34:20.370Z"
   },
   {
    "duration": 628,
    "start_time": "2021-07-14T16:10:02.906Z"
   },
   {
    "duration": 624,
    "start_time": "2021-07-14T16:10:12.529Z"
   },
   {
    "duration": 655,
    "start_time": "2021-07-14T16:10:26.759Z"
   },
   {
    "duration": 958,
    "start_time": "2021-07-14T16:16:36.388Z"
   },
   {
    "duration": 161,
    "start_time": "2021-07-14T16:21:37.923Z"
   },
   {
    "duration": 963,
    "start_time": "2021-07-14T16:21:47.307Z"
   },
   {
    "duration": 953,
    "start_time": "2021-07-14T16:22:15.454Z"
   },
   {
    "duration": 967,
    "start_time": "2021-07-14T16:22:35.567Z"
   },
   {
    "duration": 950,
    "start_time": "2021-07-14T16:22:57.793Z"
   },
   {
    "duration": 115,
    "start_time": "2021-07-14T16:23:19.666Z"
   },
   {
    "duration": 968,
    "start_time": "2021-07-14T16:23:32.411Z"
   },
   {
    "duration": 1022,
    "start_time": "2021-07-14T16:23:38.345Z"
   },
   {
    "duration": 950,
    "start_time": "2021-07-14T16:25:27.394Z"
   },
   {
    "duration": 959,
    "start_time": "2021-07-14T16:25:45.268Z"
   },
   {
    "duration": 1331,
    "start_time": "2021-07-14T16:26:49.146Z"
   },
   {
    "duration": 1237,
    "start_time": "2021-07-14T16:26:57.817Z"
   },
   {
    "duration": 1345,
    "start_time": "2021-07-14T16:28:24.700Z"
   },
   {
    "duration": 1246,
    "start_time": "2021-07-14T16:28:32.768Z"
   },
   {
    "duration": 1050,
    "start_time": "2021-07-14T16:28:43.276Z"
   },
   {
    "duration": 1089,
    "start_time": "2021-07-14T16:30:42.256Z"
   },
   {
    "duration": 380,
    "start_time": "2021-07-16T19:00:58.482Z"
   },
   {
    "duration": 1455,
    "start_time": "2021-07-16T19:01:08.193Z"
   },
   {
    "duration": 113,
    "start_time": "2021-07-16T19:01:09.651Z"
   },
   {
    "duration": 9,
    "start_time": "2021-07-16T19:01:09.767Z"
   },
   {
    "duration": 31,
    "start_time": "2021-07-16T19:01:09.779Z"
   },
   {
    "duration": 51,
    "start_time": "2021-07-16T19:01:09.813Z"
   },
   {
    "duration": 1107,
    "start_time": "2021-07-16T19:01:09.866Z"
   },
   {
    "duration": 345,
    "start_time": "2021-07-16T19:01:10.975Z"
   },
   {
    "duration": 440,
    "start_time": "2021-07-17T05:15:07.293Z"
   },
   {
    "duration": 544,
    "start_time": "2021-07-17T05:51:27.956Z"
   },
   {
    "duration": 567,
    "start_time": "2021-07-17T05:52:36.620Z"
   },
   {
    "duration": 430,
    "start_time": "2021-07-17T07:57:01.076Z"
   },
   {
    "duration": 564,
    "start_time": "2021-07-17T07:57:59.837Z"
   },
   {
    "duration": 425,
    "start_time": "2021-07-17T07:58:11.045Z"
   },
   {
    "duration": 623,
    "start_time": "2021-07-17T07:58:44.746Z"
   },
   {
    "duration": 590,
    "start_time": "2021-07-17T07:58:49.639Z"
   },
   {
    "duration": 635,
    "start_time": "2021-07-17T07:58:58.299Z"
   },
   {
    "duration": 488,
    "start_time": "2021-07-17T07:59:07.274Z"
   },
   {
    "duration": 429,
    "start_time": "2021-07-17T09:15:02.164Z"
   },
   {
    "duration": 596,
    "start_time": "2021-07-17T09:25:52.237Z"
   },
   {
    "duration": 1034,
    "start_time": "2021-07-17T09:26:15.947Z"
   },
   {
    "duration": 751,
    "start_time": "2021-07-17T09:26:34.344Z"
   },
   {
    "duration": 740,
    "start_time": "2021-07-17T09:27:41.642Z"
   },
   {
    "duration": 669,
    "start_time": "2021-07-17T09:27:57.530Z"
   },
   {
    "duration": 554,
    "start_time": "2021-07-17T10:44:02.540Z"
   },
   {
    "duration": 9339,
    "start_time": "2021-07-17T10:45:11.484Z"
   },
   {
    "duration": 8655,
    "start_time": "2021-07-17T10:45:39.021Z"
   },
   {
    "duration": 581,
    "start_time": "2021-07-17T10:45:57.138Z"
   },
   {
    "duration": 477,
    "start_time": "2021-07-17T10:46:04.867Z"
   },
   {
    "duration": 462,
    "start_time": "2021-07-17T10:49:17.126Z"
   },
   {
    "duration": 459,
    "start_time": "2021-07-17T10:53:39.590Z"
   },
   {
    "duration": 553,
    "start_time": "2021-07-17T11:35:19.160Z"
   },
   {
    "duration": 562,
    "start_time": "2021-07-17T12:03:26.473Z"
   },
   {
    "duration": 368,
    "start_time": "2021-07-17T12:43:49.673Z"
   },
   {
    "duration": 352,
    "start_time": "2021-07-17T12:44:49.901Z"
   },
   {
    "duration": 364,
    "start_time": "2021-07-17T12:45:23.977Z"
   },
   {
    "duration": 316,
    "start_time": "2021-07-17T12:46:02.664Z"
   },
   {
    "duration": 608,
    "start_time": "2021-07-17T12:46:32.157Z"
   },
   {
    "duration": 779,
    "start_time": "2021-07-17T12:46:55.686Z"
   },
   {
    "duration": 651,
    "start_time": "2021-07-17T20:25:35.289Z"
   },
   {
    "duration": 641,
    "start_time": "2021-07-17T20:31:25.504Z"
   },
   {
    "duration": 951,
    "start_time": "2021-07-17T20:32:23.211Z"
   },
   {
    "duration": 944,
    "start_time": "2021-07-17T20:32:41.354Z"
   },
   {
    "duration": 743,
    "start_time": "2021-07-17T20:34:31.014Z"
   },
   {
    "duration": 939,
    "start_time": "2021-07-17T20:42:26.966Z"
   },
   {
    "duration": 488,
    "start_time": "2021-07-17T20:46:52.987Z"
   },
   {
    "duration": 423,
    "start_time": "2021-07-17T20:47:46.920Z"
   },
   {
    "duration": 557,
    "start_time": "2021-07-17T20:48:07.831Z"
   },
   {
    "duration": 526,
    "start_time": "2021-07-17T20:48:26.124Z"
   },
   {
    "duration": 96,
    "start_time": "2021-07-17T20:48:43.317Z"
   },
   {
    "duration": 741,
    "start_time": "2021-07-17T20:48:47.849Z"
   },
   {
    "duration": 107,
    "start_time": "2021-07-17T20:49:13.372Z"
   },
   {
    "duration": 491,
    "start_time": "2021-07-17T20:49:46.074Z"
   },
   {
    "duration": 637,
    "start_time": "2021-07-17T20:49:57.348Z"
   },
   {
    "duration": 516,
    "start_time": "2021-07-17T20:50:48.165Z"
   },
   {
    "duration": 1001,
    "start_time": "2021-07-17T20:51:53.466Z"
   },
   {
    "duration": 1011,
    "start_time": "2021-07-17T20:52:54.364Z"
   },
   {
    "duration": 979,
    "start_time": "2021-07-17T21:06:12.988Z"
   },
   {
    "duration": 1011,
    "start_time": "2021-07-17T21:06:56.772Z"
   },
   {
    "duration": 956,
    "start_time": "2021-07-17T21:48:25.784Z"
   },
   {
    "duration": 19,
    "start_time": "2021-07-17T21:51:42.718Z"
   },
   {
    "duration": 668,
    "start_time": "2021-07-17T22:02:18.678Z"
   },
   {
    "duration": 26,
    "start_time": "2021-07-17T22:04:38.145Z"
   },
   {
    "duration": 708,
    "start_time": "2021-07-17T22:07:29.394Z"
   },
   {
    "duration": 42,
    "start_time": "2021-07-17T22:09:16.816Z"
   },
   {
    "duration": 42,
    "start_time": "2021-07-17T22:09:22.764Z"
   },
   {
    "duration": 603,
    "start_time": "2021-07-17T22:16:57.846Z"
   },
   {
    "duration": 5,
    "start_time": "2021-07-17T22:17:17.966Z"
   },
   {
    "duration": 610,
    "start_time": "2021-07-17T22:17:23.704Z"
   },
   {
    "duration": 589,
    "start_time": "2021-07-17T22:17:30.441Z"
   },
   {
    "duration": 252,
    "start_time": "2021-07-17T22:17:55.010Z"
   },
   {
    "duration": 252,
    "start_time": "2021-07-17T22:20:20.954Z"
   },
   {
    "duration": 301,
    "start_time": "2021-07-17T22:20:36.124Z"
   },
   {
    "duration": 249,
    "start_time": "2021-07-17T22:28:55.462Z"
   },
   {
    "duration": 236,
    "start_time": "2021-07-17T22:29:21.412Z"
   },
   {
    "duration": 227,
    "start_time": "2021-07-17T22:48:00.917Z"
   },
   {
    "duration": 333,
    "start_time": "2021-07-17T22:51:58.330Z"
   },
   {
    "duration": 321,
    "start_time": "2021-07-17T22:52:18.838Z"
   },
   {
    "duration": 313,
    "start_time": "2021-07-17T22:52:34.409Z"
   },
   {
    "duration": 1047,
    "start_time": "2021-07-17T22:53:07.636Z"
   },
   {
    "duration": 382,
    "start_time": "2021-07-17T22:53:27.481Z"
   },
   {
    "duration": 8249,
    "start_time": "2021-07-17T22:54:03.885Z"
   },
   {
    "duration": 19,
    "start_time": "2021-07-17T22:55:07.607Z"
   },
   {
    "duration": 10,
    "start_time": "2021-07-17T22:58:44.390Z"
   },
   {
    "duration": 11,
    "start_time": "2021-07-17T22:59:51.288Z"
   },
   {
    "duration": 11,
    "start_time": "2021-07-17T23:07:33.365Z"
   },
   {
    "duration": 16,
    "start_time": "2021-07-17T23:12:56.700Z"
   },
   {
    "duration": 11,
    "start_time": "2021-07-17T23:22:07.263Z"
   },
   {
    "duration": 145,
    "start_time": "2021-07-17T23:30:11.963Z"
   },
   {
    "duration": 119,
    "start_time": "2021-07-17T23:30:26.481Z"
   },
   {
    "duration": 21,
    "start_time": "2021-07-17T23:30:53.530Z"
   },
   {
    "duration": 585,
    "start_time": "2021-07-17T23:40:34.425Z"
   },
   {
    "duration": 682,
    "start_time": "2021-07-17T23:40:37.523Z"
   },
   {
    "duration": 551,
    "start_time": "2021-07-17T23:40:51.493Z"
   },
   {
    "duration": 716,
    "start_time": "2021-07-17T23:41:12.777Z"
   },
   {
    "duration": 503,
    "start_time": "2021-07-17T23:41:21.770Z"
   },
   {
    "duration": 536,
    "start_time": "2021-07-17T23:41:25.012Z"
   },
   {
    "duration": 486,
    "start_time": "2021-07-17T23:46:42.465Z"
   },
   {
    "duration": 673,
    "start_time": "2021-07-17T23:48:49.592Z"
   },
   {
    "duration": 533,
    "start_time": "2021-07-17T23:49:55.410Z"
   },
   {
    "duration": 510,
    "start_time": "2021-07-17T23:49:58.490Z"
   },
   {
    "duration": 1037,
    "start_time": "2021-07-17T23:50:21.192Z"
   },
   {
    "duration": 1571,
    "start_time": "2021-07-18T00:05:39.621Z"
   },
   {
    "duration": 80,
    "start_time": "2021-07-18T00:05:41.195Z"
   },
   {
    "duration": 10,
    "start_time": "2021-07-18T00:05:41.278Z"
   },
   {
    "duration": 26,
    "start_time": "2021-07-18T00:05:41.291Z"
   },
   {
    "duration": 45,
    "start_time": "2021-07-18T00:05:41.319Z"
   },
   {
    "duration": 1084,
    "start_time": "2021-07-18T00:05:41.367Z"
   },
   {
    "duration": 514,
    "start_time": "2021-07-18T00:05:42.453Z"
   },
   {
    "duration": 659,
    "start_time": "2021-07-18T00:05:42.971Z"
   },
   {
    "duration": 595,
    "start_time": "2021-07-18T00:05:43.633Z"
   },
   {
    "duration": 576,
    "start_time": "2021-07-18T00:05:44.231Z"
   },
   {
    "duration": 693,
    "start_time": "2021-07-18T00:05:44.809Z"
   },
   {
    "duration": 1073,
    "start_time": "2021-07-18T00:05:45.504Z"
   },
   {
    "duration": 44,
    "start_time": "2021-07-18T00:05:46.580Z"
   },
   {
    "duration": 423,
    "start_time": "2021-07-18T00:05:46.627Z"
   },
   {
    "duration": 17,
    "start_time": "2021-07-18T00:05:47.053Z"
   },
   {
    "duration": 21,
    "start_time": "2021-07-18T00:05:47.074Z"
   },
   {
    "duration": 13,
    "start_time": "2021-07-18T00:05:47.099Z"
   },
   {
    "duration": 75,
    "start_time": "2021-07-18T00:05:47.116Z"
   },
   {
    "duration": 1100,
    "start_time": "2021-07-18T00:05:47.194Z"
   },
   {
    "duration": 1746,
    "start_time": "2021-07-18T12:17:34.173Z"
   },
   {
    "duration": 85,
    "start_time": "2021-07-18T12:17:35.922Z"
   },
   {
    "duration": 9,
    "start_time": "2021-07-18T12:17:36.010Z"
   },
   {
    "duration": 21,
    "start_time": "2021-07-18T12:17:36.022Z"
   },
   {
    "duration": 15,
    "start_time": "2021-07-18T12:17:36.045Z"
   },
   {
    "duration": 1094,
    "start_time": "2021-07-18T12:17:36.062Z"
   },
   {
    "duration": 452,
    "start_time": "2021-07-18T12:17:37.159Z"
   },
   {
    "duration": 560,
    "start_time": "2021-07-18T12:17:37.614Z"
   },
   {
    "duration": 456,
    "start_time": "2021-07-18T12:17:38.177Z"
   },
   {
    "duration": 546,
    "start_time": "2021-07-18T12:17:38.635Z"
   },
   {
    "duration": 668,
    "start_time": "2021-07-18T12:17:39.184Z"
   },
   {
    "duration": 1114,
    "start_time": "2021-07-18T12:17:39.855Z"
   },
   {
    "duration": 42,
    "start_time": "2021-07-18T12:17:40.972Z"
   },
   {
    "duration": 302,
    "start_time": "2021-07-18T12:17:41.017Z"
   },
   {
    "duration": 10,
    "start_time": "2021-07-18T12:17:41.322Z"
   },
   {
    "duration": 32,
    "start_time": "2021-07-18T12:17:41.334Z"
   },
   {
    "duration": 10,
    "start_time": "2021-07-18T12:17:41.368Z"
   },
   {
    "duration": 27,
    "start_time": "2021-07-18T12:17:41.380Z"
   },
   {
    "duration": 1104,
    "start_time": "2021-07-18T12:17:41.409Z"
   },
   {
    "duration": 252,
    "start_time": "2021-07-18T13:04:29.886Z"
   },
   {
    "duration": 1016,
    "start_time": "2021-07-18T13:11:30.504Z"
   },
   {
    "duration": 66,
    "start_time": "2021-07-18T13:11:32.710Z"
   },
   {
    "duration": 7,
    "start_time": "2021-07-18T13:11:35.314Z"
   },
   {
    "duration": 7,
    "start_time": "2021-07-18T13:11:39.803Z"
   },
   {
    "duration": 5,
    "start_time": "2021-07-18T13:12:15.876Z"
   },
   {
    "duration": 5,
    "start_time": "2021-07-18T13:12:35.345Z"
   },
   {
    "duration": 987,
    "start_time": "2021-07-18T13:41:11.749Z"
   },
   {
    "duration": 74,
    "start_time": "2021-07-18T13:41:12.738Z"
   },
   {
    "duration": 6,
    "start_time": "2021-07-18T13:41:12.814Z"
   },
   {
    "duration": 14,
    "start_time": "2021-07-18T13:41:12.822Z"
   },
   {
    "duration": 9,
    "start_time": "2021-07-18T13:41:12.838Z"
   },
   {
    "duration": 10,
    "start_time": "2021-07-18T13:41:12.848Z"
   },
   {
    "duration": 575,
    "start_time": "2021-07-18T13:41:12.859Z"
   },
   {
    "duration": 331,
    "start_time": "2021-07-18T13:41:13.436Z"
   },
   {
    "duration": 394,
    "start_time": "2021-07-18T13:41:13.770Z"
   },
   {
    "duration": 244,
    "start_time": "2021-07-18T13:41:14.166Z"
   },
   {
    "duration": 360,
    "start_time": "2021-07-18T13:41:14.412Z"
   },
   {
    "duration": 411,
    "start_time": "2021-07-18T13:41:14.773Z"
   },
   {
    "duration": 766,
    "start_time": "2021-07-18T13:41:15.186Z"
   },
   {
    "duration": 39,
    "start_time": "2021-07-18T13:41:15.953Z"
   },
   {
    "duration": 125,
    "start_time": "2021-07-18T13:41:15.993Z"
   },
   {
    "duration": 7,
    "start_time": "2021-07-18T13:41:16.120Z"
   },
   {
    "duration": 9,
    "start_time": "2021-07-18T13:41:16.129Z"
   },
   {
    "duration": 6,
    "start_time": "2021-07-18T13:41:16.140Z"
   },
   {
    "duration": 14,
    "start_time": "2021-07-18T13:41:16.147Z"
   },
   {
    "duration": 722,
    "start_time": "2021-07-18T13:41:16.192Z"
   }
  ],
  "kernelspec": {
   "display_name": "Python 3",
   "language": "python",
   "name": "python3"
  },
  "language_info": {
   "codemirror_mode": {
    "name": "ipython",
    "version": 3
   },
   "file_extension": ".py",
   "mimetype": "text/x-python",
   "name": "python",
   "nbconvert_exporter": "python",
   "pygments_lexer": "ipython3",
   "version": "3.7.8"
  },
  "toc": {
   "base_numbering": 1,
   "nav_menu": {},
   "number_sections": true,
   "sideBar": true,
   "skip_h1_title": true,
   "title_cell": "Table of Contents",
   "title_sidebar": "Contents",
   "toc_cell": false,
   "toc_position": {},
   "toc_section_display": true,
   "toc_window_display": true
  }
 },
 "nbformat": 4,
 "nbformat_minor": 2
}
