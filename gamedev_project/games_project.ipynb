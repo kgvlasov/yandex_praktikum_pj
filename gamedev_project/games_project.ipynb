{
 "cells": [
  {
   "cell_type": "markdown",
   "metadata": {
    "toc": true
   },
   "source": [
    "<h1>Содержание<span class=\"tocSkip\"></span></h1>\n",
    "<div class=\"toc\"><ul class=\"toc-item\"><li><span><a href=\"#Описание-задачи-от-заказчика\" data-toc-modified-id=\"Описание-задачи-от-заказчика-1\"><span class=\"toc-item-num\">1&nbsp;&nbsp;</span>Описание задачи от заказчика</a></span></li><li><span><a href=\"#Определение-целей-исследования\" data-toc-modified-id=\"Определение-целей-исследования-2\"><span class=\"toc-item-num\">2&nbsp;&nbsp;</span>Определение целей исследования</a></span></li><li><span><a href=\"#Подготовка-данных\" data-toc-modified-id=\"Подготовка-данных-3\"><span class=\"toc-item-num\">3&nbsp;&nbsp;</span>Подготовка данных</a></span><ul class=\"toc-item\"><li><span><a href=\"#Импорт-библиотек\" data-toc-modified-id=\"Импорт-библиотек-3.1\"><span class=\"toc-item-num\">3.1&nbsp;&nbsp;</span>Импорт библиотек</a></span></li><li><span><a href=\"#Импорт-функций\" data-toc-modified-id=\"Импорт-функций-3.2\"><span class=\"toc-item-num\">3.2&nbsp;&nbsp;</span>Импорт функций</a></span></li><li><span><a href=\"#Открытие-файлов\" data-toc-modified-id=\"Открытие-файлов-3.3\"><span class=\"toc-item-num\">3.3&nbsp;&nbsp;</span>Открытие файлов</a></span></li><li><span><a href=\"#Обработка-пропусков\" data-toc-modified-id=\"Обработка-пропусков-3.4\"><span class=\"toc-item-num\">3.4&nbsp;&nbsp;</span>Обработка пропусков</a></span></li><li><span><a href=\"#Поиск-и-обработка-дублей-и-ошибок-в-данных\" data-toc-modified-id=\"Поиск-и-обработка-дублей-и-ошибок-в-данных-3.5\"><span class=\"toc-item-num\">3.5&nbsp;&nbsp;</span>Поиск и обработка дублей и ошибок в данных</a></span></li><li><span><a href=\"#Преобразование-типов-данных\" data-toc-modified-id=\"Преобразование-типов-данных-3.6\"><span class=\"toc-item-num\">3.6&nbsp;&nbsp;</span>Преобразование типов данных</a></span></li><li><span><a href=\"#Произведение-расчетов\" data-toc-modified-id=\"Произведение-расчетов-3.7\"><span class=\"toc-item-num\">3.7&nbsp;&nbsp;</span>Произведение расчетов</a></span></li><li><span><a href=\"#Вывод\" data-toc-modified-id=\"Вывод-3.8\"><span class=\"toc-item-num\">3.8&nbsp;&nbsp;</span>Вывод</a></span></li></ul></li><li><span><a href=\"#Исследовальский-анализ-данных\" data-toc-modified-id=\"Исследовальский-анализ-данных-4\"><span class=\"toc-item-num\">4&nbsp;&nbsp;</span>Исследовальский анализ данных</a></span><ul class=\"toc-item\"><li><span><a href=\"#Выбор-периода-для-анализа-и-прогноза\" data-toc-modified-id=\"Выбор-периода-для-анализа-и-прогноза-4.1\"><span class=\"toc-item-num\">4.1&nbsp;&nbsp;</span>Выбор периода для анализа и прогноза</a></span><ul class=\"toc-item\"><li><span><a href=\"#Вывод\" data-toc-modified-id=\"Вывод-4.1.1\"><span class=\"toc-item-num\">4.1.1&nbsp;&nbsp;</span>Вывод</a></span></li></ul></li><li><span><a href=\"#Анализ-продаж-по-платформам\" data-toc-modified-id=\"Анализ-продаж-по-платформам-4.2\"><span class=\"toc-item-num\">4.2&nbsp;&nbsp;</span>Анализ продаж по платформам</a></span><ul class=\"toc-item\"><li><span><a href=\"#Вывод\" data-toc-modified-id=\"Вывод-4.2.1\"><span class=\"toc-item-num\">4.2.1&nbsp;&nbsp;</span>Вывод</a></span></li></ul></li><li><span><a href=\"#Анализ-продаж-по-жанрам\" data-toc-modified-id=\"Анализ-продаж-по-жанрам-4.3\"><span class=\"toc-item-num\">4.3&nbsp;&nbsp;</span>Анализ продаж по жанрам</a></span></li><li><span><a href=\"#Вывод\" data-toc-modified-id=\"Вывод-4.4\"><span class=\"toc-item-num\">4.4&nbsp;&nbsp;</span>Вывод</a></span></li></ul></li><li><span><a href=\"#Описание-портрета-клиента-по-регионам\" data-toc-modified-id=\"Описание-портрета-клиента-по-регионам-5\"><span class=\"toc-item-num\">5&nbsp;&nbsp;</span>Описание портрета клиента по регионам</a></span><ul class=\"toc-item\"><li><span><a href=\"#Вывод\" data-toc-modified-id=\"Вывод-5.1\"><span class=\"toc-item-num\">5.1&nbsp;&nbsp;</span>Вывод</a></span></li></ul></li><li><span><a href=\"#Проверка-гипотез\" data-toc-modified-id=\"Проверка-гипотез-6\"><span class=\"toc-item-num\">6&nbsp;&nbsp;</span>Проверка гипотез</a></span><ul class=\"toc-item\"><li><ul class=\"toc-item\"><li><span><a href=\"#Гипотеза:-Средние-пользовательские-рейтинги-платформ-Xbox-One-и-PC-одинаковые\" data-toc-modified-id=\"Гипотеза:-Средние-пользовательские-рейтинги-платформ-Xbox-One-и-PC-одинаковые-6.0.1\"><span class=\"toc-item-num\">6.0.1&nbsp;&nbsp;</span>Гипотеза: Средние пользовательские рейтинги платформ Xbox One и PC одинаковые</a></span></li><li><span><a href=\"#Вывод\" data-toc-modified-id=\"Вывод-6.0.2\"><span class=\"toc-item-num\">6.0.2&nbsp;&nbsp;</span>Вывод</a></span></li><li><span><a href=\"#Гипотеза:-Средние-пользовательские-рейтинги-жанров-Action--и-Sports-разные.\" data-toc-modified-id=\"Гипотеза:-Средние-пользовательские-рейтинги-жанров-Action--и-Sports-разные.-6.0.3\"><span class=\"toc-item-num\">6.0.3&nbsp;&nbsp;</span>Гипотеза: Средние пользовательские рейтинги жанров Action  и Sports разные.</a></span></li><li><span><a href=\"#Вывод\" data-toc-modified-id=\"Вывод-6.0.4\"><span class=\"toc-item-num\">6.0.4&nbsp;&nbsp;</span>Вывод</a></span></li></ul></li></ul></li><li><span><a href=\"#Общий-вывод\" data-toc-modified-id=\"Общий-вывод-7\"><span class=\"toc-item-num\">7&nbsp;&nbsp;</span>Общий вывод</a></span></li></ul></div>"
   ]
  },
  {
   "cell_type": "markdown",
   "metadata": {},
   "source": [
    "## Описание задачи от заказчика"
   ]
  },
  {
   "cell_type": "markdown",
   "metadata": {},
   "source": [
    "Вы работаете в интернет-магазине «Стримчик», который продаёт по всему миру компьютерные игры. Из открытых источников доступны исторические данные о продажах игр, оценки пользователей и экспертов, жанры и платформы (например, Xbox или PlayStation). Вам нужно выявить определяющие успешность игры закономерности. Это позволит сделать ставку на потенциально популярный продукт и спланировать рекламные кампании.\n",
    "Перед вами данные до 2016 года. Представим, что сейчас декабрь 2016 г., и вы планируете кампанию на 2017-й. Нужно отработать принцип работы с данными. Неважно, прогнозируете ли вы продажи на 2017 год по данным 2016-го или же 2027-й — по данным 2026 года."
   ]
  },
  {
   "cell_type": "markdown",
   "metadata": {},
   "source": [
    "## Определение целей исследования"
   ]
  },
  {
   "cell_type": "markdown",
   "metadata": {},
   "source": [
    "Целью исследования является: \n",
    "\n",
    "\n",
    "\n",
    "**1) Выявить определяющие успешность игры закономерности для выбора потенциально популярного продукта и планировки рекламной кампании.** \n",
    "\n",
    "Для этого необходимо определить достоверный период данных для анализа, проанализировать продажи в разрезе платформ, жанров и описать портрет пользователя для каждого региона. \n",
    "\n",
    "**2) Проверить гипотезы**\n",
    "    - Средние пользовательские рейтинги платформ Xbox One и PC одинаковые;\n",
    "    - Средние пользовательские рейтинги жанров Action и Sports разные;"
   ]
  },
  {
   "cell_type": "markdown",
   "metadata": {},
   "source": [
    "## Подготовка данных"
   ]
  },
  {
   "cell_type": "markdown",
   "metadata": {},
   "source": [
    "### Импорт библиотек"
   ]
  },
  {
   "cell_type": "code",
   "execution_count": 1,
   "metadata": {},
   "outputs": [],
   "source": [
    "import pandas as pd \n",
    "from IPython.display import display\n",
    "import matplotlib.pyplot as plt\n",
    "import math\n",
    "import __main__\n",
    "from scipy import stats as st\n",
    "import numpy as np\n"
   ]
  },
  {
   "cell_type": "markdown",
   "metadata": {},
   "source": [
    "### Импорт функций "
   ]
  },
  {
   "cell_type": "markdown",
   "metadata": {},
   "source": [
    "Импортируем функции, разработанные в предыдущих проектах. Новые функции, для удобства, также будем добавлять в данную ячейку."
   ]
  },
  {
   "cell_type": "code",
   "execution_count": 2,
   "metadata": {
    "nbgrader": {
     "grade": false,
     "grade_id": "cell-38c271cbebcdd084",
     "locked": true,
     "schema_version": 3,
     "solution": false,
     "task": false
    },
    "slideshow": {
     "slide_type": "-"
    }
   },
   "outputs": [],
   "source": [
    "# Функция для подсчета количества корзин для гистограммы по правилу Герберта Стерджеса\n",
    "def bins_num_sturges(column):  \n",
    "    bins_num = abs(1 + int(math.log2(len(column))))\n",
    "    if(bins_num) < 200:\n",
    "        return bins_num\n",
    "    else:\n",
    "        return 200\n",
    "    \n",
    "# Функция для подсчета количества корзин для гистограммы по правилу Фридмана-Дьякониса     \n",
    "def bins_num_fr_dk(column): \n",
    "    Q1 = column.quantile(0.25) #находим первый квартиль\n",
    "    Q3 = column.quantile(0.75) #находим третий квартиль\n",
    "    IQR = Q3 - Q1 #находим межквартильный размах\n",
    "    bins_num = int(abs(2 * IQR * len(column)**(-1/3)))\n",
    "    print(bins_num)\n",
    "    if bins_num < 1:\n",
    "        return 1\n",
    "    elif bins_num < 200:\n",
    "        return bins_num\n",
    "    else:\n",
    "        return 200\n",
    "    \n",
    "# Функция для отрисовки гистограммы с возможностью выбора размера фигуры и способа подсчета корзин \n",
    "def draw_hist(dataframe,column,way_bins,xsize=6,ysize = 4): \n",
    "    if (way_bins == 'S'):\n",
    "        dataframe.hist(\n",
    "                column,\n",
    "                bins =  bins_num_sturges(dataframe[column]),\n",
    "                figsize=(xsize,ysize)\n",
    "                )          \n",
    "    elif (way_bins == 'FD'):\n",
    "        dataframe.hist(\n",
    "                column,\n",
    "                bins =  bins_num_fr_dk(dataframe[column]),\n",
    "                figsize=(xsize,ysize)\n",
    "              )    \n",
    "    else:\n",
    "        way_bins = pd.to_numeric(way_bins) #гистограмма с произвольным числом корзин\n",
    "        dataframe.hist(\n",
    "                column,\n",
    "                bins =  way_bins,\n",
    "                figsize=(xsize,ysize)\n",
    "              )\n",
    "    plt.show() \n",
    "\n",
    "# Функция для отрисовки boxplot\n",
    "def draw_boxplot(dataframe,column):\n",
    "    dataframe.boxplot(column)\n",
    "    return plt.show()\n",
    "\n",
    "# Находим границы \"усов\"\n",
    "def find_moustache(column): \n",
    "    Q1,Q3 = column.quantile([.25,.75]) #находим первый и третий квартили\n",
    "    IQR = Q3 - Q1 #находим межквартильный размах\n",
    "    min_val = Q1 - (IQR * 1.5) \n",
    "    max_val = Q3 + (IQR * 1.5)\n",
    "    \n",
    "    if(min_val < column.min()):\n",
    "        if(max_val > column.max()):\n",
    "            return column.min(),column.max()\n",
    "        else:\n",
    "            return column.min(),max_val         \n",
    "    elif(max_val > column.max()):\n",
    "            return min_val,column.max()\n",
    "    else:\n",
    "        return min_val,max_val\n",
    "           \n",
    "# Функция для подсчет количества данных находящимися за пределами \"усов\" и нахождение процента от общих данных\n",
    "def num_normalized_data_info(dataframe,column): \n",
    "    try:\n",
    "        min_val,max_val = find_moustache(dataframe[column])\n",
    "    except:\n",
    "        return print('Не удалось найти усы в ',column,', проблема с типом данных')\n",
    "    print('Количество данных из столбца ',column, ', которые считаем выбросами:'\n",
    "      ,dataframe[((dataframe[column] > max_val) | (dataframe[column] < min_val)) & ~dataframe[column].isna()][column].count()\n",
    "      ,', процент от общего числа: {:.1%}'\n",
    "      .format(\n",
    "          dataframe[(dataframe[column] > max_val) | (dataframe[column] < min_val)][column].count()/dataframe[column].count()\n",
    "          )\n",
    "    ) \n",
    "\n",
    "# Отбор данных без выбросов \n",
    "def num_normalized_data(dataframe,column,with_nan = True): \n",
    "    try:\n",
    "        min_val,max_val = find_moustache(dataframe[column])\n",
    "    except:\n",
    "        return print('Не удалось найти усы в ',column,', проблема с типом данных')\n",
    "    if (with_nan):\n",
    "        return dataframe[((dataframe[column] <= max_val) & (dataframe[column] >= min_val)) | dataframe[column].isna()] \n",
    "    else:\n",
    "        return dataframe[(dataframe[column] <= max_val) & (dataframe[column] >= min_val)]\n",
    "\n",
    "# Проверяем, что в финальной выборке нет выбросов\n",
    "def num_normalized_data_check(dataframe,column,dataframe2): \n",
    "    try:\n",
    "        min_val,max_val = find_moustache(dataframe2[column])# квантили и \"усы\" берем из изначальных данных\n",
    "    except:\n",
    "        return print('Не удалось найти усы в ',column,', проблема с типом данных')\n",
    "    \n",
    "    return print('Количество выбросов в столбце ',column, ' в итоговой выборке:',dataframe[((dataframe[column] > max_val) | (dataframe[column] < min_val)) & (~dataframe[column].isna())][column].count());\n",
    "    \n",
    "    \n",
    "# функция для отрисовки диаграммы рассеивания\n",
    "def draw_scatter(dataframe,xcolumn,ycolumn,xsize = 8, ysize = 6,gridsize = 12):\n",
    "    dataframe.plot(\n",
    "    x=xcolumn, \n",
    "    y=ycolumn, \n",
    "    kind='scatter', \n",
    "    figsize=(xsize, ysize), \n",
    "    alpha = 0.1, \n",
    "    )\n",
    "    \n",
    "    return plt.show()\n",
    "\n",
    "# Поиск дублей с учетом регистра\n",
    "def reg_duplicates_alert(dataframe,column):\n",
    "    if(len(dataframe[column].unique()) == len(dataframe[column])):\n",
    "        return print('Дублей в столбце',column, 'нет.')\n",
    "    else:\n",
    "        return print('Дубли,в столбце',column, 'есть.')"
   ]
  },
  {
   "cell_type": "markdown",
   "metadata": {},
   "source": [
    "### Открытие файлов"
   ]
  },
  {
   "cell_type": "markdown",
   "metadata": {},
   "source": [
    "Откроем файлы, посмотрим общую информацию о данных и проверим, какие имена у столбцов. "
   ]
  },
  {
   "cell_type": "code",
   "execution_count": 3,
   "metadata": {
    "scrolled": false
   },
   "outputs": [
    {
     "data": {
      "text/html": [
       "<div>\n",
       "<style scoped>\n",
       "    .dataframe tbody tr th:only-of-type {\n",
       "        vertical-align: middle;\n",
       "    }\n",
       "\n",
       "    .dataframe tbody tr th {\n",
       "        vertical-align: top;\n",
       "    }\n",
       "\n",
       "    .dataframe thead th {\n",
       "        text-align: right;\n",
       "    }\n",
       "</style>\n",
       "<table border=\"1\" class=\"dataframe\">\n",
       "  <thead>\n",
       "    <tr style=\"text-align: right;\">\n",
       "      <th></th>\n",
       "      <th>Name</th>\n",
       "      <th>Platform</th>\n",
       "      <th>Year_of_Release</th>\n",
       "      <th>Genre</th>\n",
       "      <th>NA_sales</th>\n",
       "      <th>EU_sales</th>\n",
       "      <th>JP_sales</th>\n",
       "      <th>Other_sales</th>\n",
       "      <th>Critic_Score</th>\n",
       "      <th>User_Score</th>\n",
       "      <th>Rating</th>\n",
       "    </tr>\n",
       "  </thead>\n",
       "  <tbody>\n",
       "    <tr>\n",
       "      <td>0</td>\n",
       "      <td>Wii Sports</td>\n",
       "      <td>Wii</td>\n",
       "      <td>2006.0</td>\n",
       "      <td>Sports</td>\n",
       "      <td>41.36</td>\n",
       "      <td>28.96</td>\n",
       "      <td>3.77</td>\n",
       "      <td>8.45</td>\n",
       "      <td>76.0</td>\n",
       "      <td>8</td>\n",
       "      <td>E</td>\n",
       "    </tr>\n",
       "    <tr>\n",
       "      <td>1</td>\n",
       "      <td>Super Mario Bros.</td>\n",
       "      <td>NES</td>\n",
       "      <td>1985.0</td>\n",
       "      <td>Platform</td>\n",
       "      <td>29.08</td>\n",
       "      <td>3.58</td>\n",
       "      <td>6.81</td>\n",
       "      <td>0.77</td>\n",
       "      <td>NaN</td>\n",
       "      <td>NaN</td>\n",
       "      <td>NaN</td>\n",
       "    </tr>\n",
       "    <tr>\n",
       "      <td>2</td>\n",
       "      <td>Mario Kart Wii</td>\n",
       "      <td>Wii</td>\n",
       "      <td>2008.0</td>\n",
       "      <td>Racing</td>\n",
       "      <td>15.68</td>\n",
       "      <td>12.76</td>\n",
       "      <td>3.79</td>\n",
       "      <td>3.29</td>\n",
       "      <td>82.0</td>\n",
       "      <td>8.3</td>\n",
       "      <td>E</td>\n",
       "    </tr>\n",
       "    <tr>\n",
       "      <td>3</td>\n",
       "      <td>Wii Sports Resort</td>\n",
       "      <td>Wii</td>\n",
       "      <td>2009.0</td>\n",
       "      <td>Sports</td>\n",
       "      <td>15.61</td>\n",
       "      <td>10.93</td>\n",
       "      <td>3.28</td>\n",
       "      <td>2.95</td>\n",
       "      <td>80.0</td>\n",
       "      <td>8</td>\n",
       "      <td>E</td>\n",
       "    </tr>\n",
       "    <tr>\n",
       "      <td>4</td>\n",
       "      <td>Pokemon Red/Pokemon Blue</td>\n",
       "      <td>GB</td>\n",
       "      <td>1996.0</td>\n",
       "      <td>Role-Playing</td>\n",
       "      <td>11.27</td>\n",
       "      <td>8.89</td>\n",
       "      <td>10.22</td>\n",
       "      <td>1.00</td>\n",
       "      <td>NaN</td>\n",
       "      <td>NaN</td>\n",
       "      <td>NaN</td>\n",
       "    </tr>\n",
       "    <tr>\n",
       "      <td>...</td>\n",
       "      <td>...</td>\n",
       "      <td>...</td>\n",
       "      <td>...</td>\n",
       "      <td>...</td>\n",
       "      <td>...</td>\n",
       "      <td>...</td>\n",
       "      <td>...</td>\n",
       "      <td>...</td>\n",
       "      <td>...</td>\n",
       "      <td>...</td>\n",
       "      <td>...</td>\n",
       "    </tr>\n",
       "    <tr>\n",
       "      <td>16710</td>\n",
       "      <td>Samurai Warriors: Sanada Maru</td>\n",
       "      <td>PS3</td>\n",
       "      <td>2016.0</td>\n",
       "      <td>Action</td>\n",
       "      <td>0.00</td>\n",
       "      <td>0.00</td>\n",
       "      <td>0.01</td>\n",
       "      <td>0.00</td>\n",
       "      <td>NaN</td>\n",
       "      <td>NaN</td>\n",
       "      <td>NaN</td>\n",
       "    </tr>\n",
       "    <tr>\n",
       "      <td>16711</td>\n",
       "      <td>LMA Manager 2007</td>\n",
       "      <td>X360</td>\n",
       "      <td>2006.0</td>\n",
       "      <td>Sports</td>\n",
       "      <td>0.00</td>\n",
       "      <td>0.01</td>\n",
       "      <td>0.00</td>\n",
       "      <td>0.00</td>\n",
       "      <td>NaN</td>\n",
       "      <td>NaN</td>\n",
       "      <td>NaN</td>\n",
       "    </tr>\n",
       "    <tr>\n",
       "      <td>16712</td>\n",
       "      <td>Haitaka no Psychedelica</td>\n",
       "      <td>PSV</td>\n",
       "      <td>2016.0</td>\n",
       "      <td>Adventure</td>\n",
       "      <td>0.00</td>\n",
       "      <td>0.00</td>\n",
       "      <td>0.01</td>\n",
       "      <td>0.00</td>\n",
       "      <td>NaN</td>\n",
       "      <td>NaN</td>\n",
       "      <td>NaN</td>\n",
       "    </tr>\n",
       "    <tr>\n",
       "      <td>16713</td>\n",
       "      <td>Spirits &amp; Spells</td>\n",
       "      <td>GBA</td>\n",
       "      <td>2003.0</td>\n",
       "      <td>Platform</td>\n",
       "      <td>0.01</td>\n",
       "      <td>0.00</td>\n",
       "      <td>0.00</td>\n",
       "      <td>0.00</td>\n",
       "      <td>NaN</td>\n",
       "      <td>NaN</td>\n",
       "      <td>NaN</td>\n",
       "    </tr>\n",
       "    <tr>\n",
       "      <td>16714</td>\n",
       "      <td>Winning Post 8 2016</td>\n",
       "      <td>PSV</td>\n",
       "      <td>2016.0</td>\n",
       "      <td>Simulation</td>\n",
       "      <td>0.00</td>\n",
       "      <td>0.00</td>\n",
       "      <td>0.01</td>\n",
       "      <td>0.00</td>\n",
       "      <td>NaN</td>\n",
       "      <td>NaN</td>\n",
       "      <td>NaN</td>\n",
       "    </tr>\n",
       "  </tbody>\n",
       "</table>\n",
       "<p>16715 rows × 11 columns</p>\n",
       "</div>"
      ],
      "text/plain": [
       "                                Name Platform  Year_of_Release         Genre  \\\n",
       "0                         Wii Sports      Wii           2006.0        Sports   \n",
       "1                  Super Mario Bros.      NES           1985.0      Platform   \n",
       "2                     Mario Kart Wii      Wii           2008.0        Racing   \n",
       "3                  Wii Sports Resort      Wii           2009.0        Sports   \n",
       "4           Pokemon Red/Pokemon Blue       GB           1996.0  Role-Playing   \n",
       "...                              ...      ...              ...           ...   \n",
       "16710  Samurai Warriors: Sanada Maru      PS3           2016.0        Action   \n",
       "16711               LMA Manager 2007     X360           2006.0        Sports   \n",
       "16712        Haitaka no Psychedelica      PSV           2016.0     Adventure   \n",
       "16713               Spirits & Spells      GBA           2003.0      Platform   \n",
       "16714            Winning Post 8 2016      PSV           2016.0    Simulation   \n",
       "\n",
       "       NA_sales  EU_sales  JP_sales  Other_sales  Critic_Score User_Score  \\\n",
       "0         41.36     28.96      3.77         8.45          76.0          8   \n",
       "1         29.08      3.58      6.81         0.77           NaN        NaN   \n",
       "2         15.68     12.76      3.79         3.29          82.0        8.3   \n",
       "3         15.61     10.93      3.28         2.95          80.0          8   \n",
       "4         11.27      8.89     10.22         1.00           NaN        NaN   \n",
       "...         ...       ...       ...          ...           ...        ...   \n",
       "16710      0.00      0.00      0.01         0.00           NaN        NaN   \n",
       "16711      0.00      0.01      0.00         0.00           NaN        NaN   \n",
       "16712      0.00      0.00      0.01         0.00           NaN        NaN   \n",
       "16713      0.01      0.00      0.00         0.00           NaN        NaN   \n",
       "16714      0.00      0.00      0.01         0.00           NaN        NaN   \n",
       "\n",
       "      Rating  \n",
       "0          E  \n",
       "1        NaN  \n",
       "2          E  \n",
       "3          E  \n",
       "4        NaN  \n",
       "...      ...  \n",
       "16710    NaN  \n",
       "16711    NaN  \n",
       "16712    NaN  \n",
       "16713    NaN  \n",
       "16714    NaN  \n",
       "\n",
       "[16715 rows x 11 columns]"
      ]
     },
     "metadata": {},
     "output_type": "display_data"
    },
    {
     "name": "stdout",
     "output_type": "stream",
     "text": [
      "Index(['Name', 'Platform', 'Year_of_Release', 'Genre', 'NA_sales', 'EU_sales',\n",
      "       'JP_sales', 'Other_sales', 'Critic_Score', 'User_Score', 'Rating'],\n",
      "      dtype='object')\n"
     ]
    }
   ],
   "source": [
    "dataset = pd.read_csv('/datasets/games.csv')\n",
    "\n",
    "display(dataset)\n",
    "print(dataset.columns)"
   ]
  },
  {
   "cell_type": "markdown",
   "metadata": {},
   "source": [
    "Все столбцы с большой буквы - нужно это исправить. В остальном, с названиями столбцов все в порядке."
   ]
  },
  {
   "cell_type": "code",
   "execution_count": 4,
   "metadata": {},
   "outputs": [
    {
     "name": "stdout",
     "output_type": "stream",
     "text": [
      "Index(['name', 'platform', 'year_of_release', 'genre', 'na_sales', 'eu_sales',\n",
      "       'jp_sales', 'other_sales', 'critic_score', 'user_score', 'rating'],\n",
      "      dtype='object')\n"
     ]
    }
   ],
   "source": [
    "dataset.columns = dataset.columns.str.lower()\n",
    "print(dataset.columns)"
   ]
  },
  {
   "cell_type": "markdown",
   "metadata": {},
   "source": [
    "### Обработка пропусков"
   ]
  },
  {
   "cell_type": "markdown",
   "metadata": {},
   "source": [
    "Посмотрим на данные - есть ли пропуски и сколько их в каждом столбце. "
   ]
  },
  {
   "cell_type": "code",
   "execution_count": 5,
   "metadata": {
    "scrolled": true
   },
   "outputs": [
    {
     "name": "stdout",
     "output_type": "stream",
     "text": [
      "Количество NaN в столбце name :  2\n",
      "Количество NaN в столбце platform :  0\n",
      "Количество NaN в столбце year_of_release :  269\n",
      "Количество NaN в столбце genre :  2\n",
      "Количество NaN в столбце na_sales :  0\n",
      "Количество NaN в столбце eu_sales :  0\n",
      "Количество NaN в столбце jp_sales :  0\n",
      "Количество NaN в столбце other_sales :  0\n",
      "Количество NaN в столбце critic_score :  8578\n",
      "Количество NaN в столбце user_score :  6701\n",
      "Количество NaN в столбце rating :  6766\n"
     ]
    }
   ],
   "source": [
    "for each in dataset.columns.tolist():\n",
    "    print('Количество NaN в столбце',each,': ', dataset[each].isna().sum())\n"
   ]
  },
  {
   "cell_type": "code",
   "execution_count": 6,
   "metadata": {},
   "outputs": [
    {
     "data": {
      "text/html": [
       "<div>\n",
       "<style scoped>\n",
       "    .dataframe tbody tr th:only-of-type {\n",
       "        vertical-align: middle;\n",
       "    }\n",
       "\n",
       "    .dataframe tbody tr th {\n",
       "        vertical-align: top;\n",
       "    }\n",
       "\n",
       "    .dataframe thead th {\n",
       "        text-align: right;\n",
       "    }\n",
       "</style>\n",
       "<table border=\"1\" class=\"dataframe\">\n",
       "  <thead>\n",
       "    <tr style=\"text-align: right;\">\n",
       "      <th></th>\n",
       "      <th>name</th>\n",
       "      <th>platform</th>\n",
       "      <th>year_of_release</th>\n",
       "      <th>genre</th>\n",
       "      <th>na_sales</th>\n",
       "      <th>eu_sales</th>\n",
       "      <th>jp_sales</th>\n",
       "      <th>other_sales</th>\n",
       "      <th>critic_score</th>\n",
       "      <th>user_score</th>\n",
       "      <th>rating</th>\n",
       "    </tr>\n",
       "  </thead>\n",
       "  <tbody>\n",
       "    <tr>\n",
       "      <td>659</td>\n",
       "      <td>NaN</td>\n",
       "      <td>GEN</td>\n",
       "      <td>1993.0</td>\n",
       "      <td>NaN</td>\n",
       "      <td>1.78</td>\n",
       "      <td>0.53</td>\n",
       "      <td>0.00</td>\n",
       "      <td>0.08</td>\n",
       "      <td>NaN</td>\n",
       "      <td>NaN</td>\n",
       "      <td>NaN</td>\n",
       "    </tr>\n",
       "    <tr>\n",
       "      <td>14244</td>\n",
       "      <td>NaN</td>\n",
       "      <td>GEN</td>\n",
       "      <td>1993.0</td>\n",
       "      <td>NaN</td>\n",
       "      <td>0.00</td>\n",
       "      <td>0.00</td>\n",
       "      <td>0.03</td>\n",
       "      <td>0.00</td>\n",
       "      <td>NaN</td>\n",
       "      <td>NaN</td>\n",
       "      <td>NaN</td>\n",
       "    </tr>\n",
       "  </tbody>\n",
       "</table>\n",
       "</div>"
      ],
      "text/plain": [
       "      name platform  year_of_release genre  na_sales  eu_sales  jp_sales  \\\n",
       "659    NaN      GEN           1993.0   NaN      1.78      0.53      0.00   \n",
       "14244  NaN      GEN           1993.0   NaN      0.00      0.00      0.03   \n",
       "\n",
       "       other_sales  critic_score user_score rating  \n",
       "659           0.08           NaN        NaN    NaN  \n",
       "14244         0.00           NaN        NaN    NaN  "
      ]
     },
     "metadata": {},
     "output_type": "display_data"
    },
    {
     "data": {
      "text/html": [
       "<div>\n",
       "<style scoped>\n",
       "    .dataframe tbody tr th:only-of-type {\n",
       "        vertical-align: middle;\n",
       "    }\n",
       "\n",
       "    .dataframe tbody tr th {\n",
       "        vertical-align: top;\n",
       "    }\n",
       "\n",
       "    .dataframe thead th {\n",
       "        text-align: right;\n",
       "    }\n",
       "</style>\n",
       "<table border=\"1\" class=\"dataframe\">\n",
       "  <thead>\n",
       "    <tr style=\"text-align: right;\">\n",
       "      <th></th>\n",
       "      <th>name</th>\n",
       "      <th>platform</th>\n",
       "      <th>year_of_release</th>\n",
       "      <th>genre</th>\n",
       "      <th>na_sales</th>\n",
       "      <th>eu_sales</th>\n",
       "      <th>jp_sales</th>\n",
       "      <th>other_sales</th>\n",
       "      <th>critic_score</th>\n",
       "      <th>user_score</th>\n",
       "      <th>rating</th>\n",
       "    </tr>\n",
       "  </thead>\n",
       "  <tbody>\n",
       "    <tr>\n",
       "      <td>659</td>\n",
       "      <td>NaN</td>\n",
       "      <td>GEN</td>\n",
       "      <td>1993.0</td>\n",
       "      <td>NaN</td>\n",
       "      <td>1.78</td>\n",
       "      <td>0.53</td>\n",
       "      <td>0.00</td>\n",
       "      <td>0.08</td>\n",
       "      <td>NaN</td>\n",
       "      <td>NaN</td>\n",
       "      <td>NaN</td>\n",
       "    </tr>\n",
       "    <tr>\n",
       "      <td>14244</td>\n",
       "      <td>NaN</td>\n",
       "      <td>GEN</td>\n",
       "      <td>1993.0</td>\n",
       "      <td>NaN</td>\n",
       "      <td>0.00</td>\n",
       "      <td>0.00</td>\n",
       "      <td>0.03</td>\n",
       "      <td>0.00</td>\n",
       "      <td>NaN</td>\n",
       "      <td>NaN</td>\n",
       "      <td>NaN</td>\n",
       "    </tr>\n",
       "  </tbody>\n",
       "</table>\n",
       "</div>"
      ],
      "text/plain": [
       "      name platform  year_of_release genre  na_sales  eu_sales  jp_sales  \\\n",
       "659    NaN      GEN           1993.0   NaN      1.78      0.53      0.00   \n",
       "14244  NaN      GEN           1993.0   NaN      0.00      0.00      0.03   \n",
       "\n",
       "       other_sales  critic_score user_score rating  \n",
       "659           0.08           NaN        NaN    NaN  \n",
       "14244         0.00           NaN        NaN    NaN  "
      ]
     },
     "metadata": {},
     "output_type": "display_data"
    },
    {
     "data": {
      "text/html": [
       "<div>\n",
       "<style scoped>\n",
       "    .dataframe tbody tr th:only-of-type {\n",
       "        vertical-align: middle;\n",
       "    }\n",
       "\n",
       "    .dataframe tbody tr th {\n",
       "        vertical-align: top;\n",
       "    }\n",
       "\n",
       "    .dataframe thead th {\n",
       "        text-align: right;\n",
       "    }\n",
       "</style>\n",
       "<table border=\"1\" class=\"dataframe\">\n",
       "  <thead>\n",
       "    <tr style=\"text-align: right;\">\n",
       "      <th></th>\n",
       "      <th>name</th>\n",
       "      <th>platform</th>\n",
       "      <th>year_of_release</th>\n",
       "      <th>genre</th>\n",
       "      <th>na_sales</th>\n",
       "      <th>eu_sales</th>\n",
       "      <th>jp_sales</th>\n",
       "      <th>other_sales</th>\n",
       "      <th>critic_score</th>\n",
       "      <th>user_score</th>\n",
       "      <th>rating</th>\n",
       "    </tr>\n",
       "  </thead>\n",
       "  <tbody>\n",
       "    <tr>\n",
       "      <td>1</td>\n",
       "      <td>Super Mario Bros.</td>\n",
       "      <td>NES</td>\n",
       "      <td>1985.0</td>\n",
       "      <td>Platform</td>\n",
       "      <td>29.08</td>\n",
       "      <td>3.58</td>\n",
       "      <td>6.81</td>\n",
       "      <td>0.77</td>\n",
       "      <td>NaN</td>\n",
       "      <td>NaN</td>\n",
       "      <td>NaN</td>\n",
       "    </tr>\n",
       "    <tr>\n",
       "      <td>4</td>\n",
       "      <td>Pokemon Red/Pokemon Blue</td>\n",
       "      <td>GB</td>\n",
       "      <td>1996.0</td>\n",
       "      <td>Role-Playing</td>\n",
       "      <td>11.27</td>\n",
       "      <td>8.89</td>\n",
       "      <td>10.22</td>\n",
       "      <td>1.00</td>\n",
       "      <td>NaN</td>\n",
       "      <td>NaN</td>\n",
       "      <td>NaN</td>\n",
       "    </tr>\n",
       "    <tr>\n",
       "      <td>5</td>\n",
       "      <td>Tetris</td>\n",
       "      <td>GB</td>\n",
       "      <td>1989.0</td>\n",
       "      <td>Puzzle</td>\n",
       "      <td>23.20</td>\n",
       "      <td>2.26</td>\n",
       "      <td>4.22</td>\n",
       "      <td>0.58</td>\n",
       "      <td>NaN</td>\n",
       "      <td>NaN</td>\n",
       "      <td>NaN</td>\n",
       "    </tr>\n",
       "    <tr>\n",
       "      <td>9</td>\n",
       "      <td>Duck Hunt</td>\n",
       "      <td>NES</td>\n",
       "      <td>1984.0</td>\n",
       "      <td>Shooter</td>\n",
       "      <td>26.93</td>\n",
       "      <td>0.63</td>\n",
       "      <td>0.28</td>\n",
       "      <td>0.47</td>\n",
       "      <td>NaN</td>\n",
       "      <td>NaN</td>\n",
       "      <td>NaN</td>\n",
       "    </tr>\n",
       "    <tr>\n",
       "      <td>10</td>\n",
       "      <td>Nintendogs</td>\n",
       "      <td>DS</td>\n",
       "      <td>2005.0</td>\n",
       "      <td>Simulation</td>\n",
       "      <td>9.05</td>\n",
       "      <td>10.95</td>\n",
       "      <td>1.93</td>\n",
       "      <td>2.74</td>\n",
       "      <td>NaN</td>\n",
       "      <td>NaN</td>\n",
       "      <td>NaN</td>\n",
       "    </tr>\n",
       "    <tr>\n",
       "      <td>12</td>\n",
       "      <td>Pokemon Gold/Pokemon Silver</td>\n",
       "      <td>GB</td>\n",
       "      <td>1999.0</td>\n",
       "      <td>Role-Playing</td>\n",
       "      <td>9.00</td>\n",
       "      <td>6.18</td>\n",
       "      <td>7.20</td>\n",
       "      <td>0.71</td>\n",
       "      <td>NaN</td>\n",
       "      <td>NaN</td>\n",
       "      <td>NaN</td>\n",
       "    </tr>\n",
       "    <tr>\n",
       "      <td>18</td>\n",
       "      <td>Super Mario World</td>\n",
       "      <td>SNES</td>\n",
       "      <td>1990.0</td>\n",
       "      <td>Platform</td>\n",
       "      <td>12.78</td>\n",
       "      <td>3.75</td>\n",
       "      <td>3.54</td>\n",
       "      <td>0.55</td>\n",
       "      <td>NaN</td>\n",
       "      <td>NaN</td>\n",
       "      <td>NaN</td>\n",
       "    </tr>\n",
       "    <tr>\n",
       "      <td>20</td>\n",
       "      <td>Pokemon Diamond/Pokemon Pearl</td>\n",
       "      <td>DS</td>\n",
       "      <td>2006.0</td>\n",
       "      <td>Role-Playing</td>\n",
       "      <td>6.38</td>\n",
       "      <td>4.46</td>\n",
       "      <td>6.04</td>\n",
       "      <td>1.36</td>\n",
       "      <td>NaN</td>\n",
       "      <td>NaN</td>\n",
       "      <td>NaN</td>\n",
       "    </tr>\n",
       "    <tr>\n",
       "      <td>21</td>\n",
       "      <td>Super Mario Land</td>\n",
       "      <td>GB</td>\n",
       "      <td>1989.0</td>\n",
       "      <td>Platform</td>\n",
       "      <td>10.83</td>\n",
       "      <td>2.71</td>\n",
       "      <td>4.18</td>\n",
       "      <td>0.42</td>\n",
       "      <td>NaN</td>\n",
       "      <td>NaN</td>\n",
       "      <td>NaN</td>\n",
       "    </tr>\n",
       "    <tr>\n",
       "      <td>22</td>\n",
       "      <td>Super Mario Bros. 3</td>\n",
       "      <td>NES</td>\n",
       "      <td>1988.0</td>\n",
       "      <td>Platform</td>\n",
       "      <td>9.54</td>\n",
       "      <td>3.44</td>\n",
       "      <td>3.84</td>\n",
       "      <td>0.46</td>\n",
       "      <td>NaN</td>\n",
       "      <td>NaN</td>\n",
       "      <td>NaN</td>\n",
       "    </tr>\n",
       "    <tr>\n",
       "      <td>25</td>\n",
       "      <td>Pokemon Ruby/Pokemon Sapphire</td>\n",
       "      <td>GBA</td>\n",
       "      <td>2002.0</td>\n",
       "      <td>Role-Playing</td>\n",
       "      <td>6.06</td>\n",
       "      <td>3.90</td>\n",
       "      <td>5.38</td>\n",
       "      <td>0.50</td>\n",
       "      <td>NaN</td>\n",
       "      <td>NaN</td>\n",
       "      <td>NaN</td>\n",
       "    </tr>\n",
       "    <tr>\n",
       "      <td>27</td>\n",
       "      <td>Pokemon Black/Pokemon White</td>\n",
       "      <td>DS</td>\n",
       "      <td>2010.0</td>\n",
       "      <td>Role-Playing</td>\n",
       "      <td>5.51</td>\n",
       "      <td>3.17</td>\n",
       "      <td>5.65</td>\n",
       "      <td>0.80</td>\n",
       "      <td>NaN</td>\n",
       "      <td>NaN</td>\n",
       "      <td>NaN</td>\n",
       "    </tr>\n",
       "    <tr>\n",
       "      <td>30</td>\n",
       "      <td>Pokémon Yellow: Special Pikachu Edition</td>\n",
       "      <td>GB</td>\n",
       "      <td>1998.0</td>\n",
       "      <td>Role-Playing</td>\n",
       "      <td>5.89</td>\n",
       "      <td>5.04</td>\n",
       "      <td>3.12</td>\n",
       "      <td>0.59</td>\n",
       "      <td>NaN</td>\n",
       "      <td>NaN</td>\n",
       "      <td>NaN</td>\n",
       "    </tr>\n",
       "    <tr>\n",
       "      <td>31</td>\n",
       "      <td>Call of Duty: Black Ops 3</td>\n",
       "      <td>PS4</td>\n",
       "      <td>2015.0</td>\n",
       "      <td>Shooter</td>\n",
       "      <td>6.03</td>\n",
       "      <td>5.86</td>\n",
       "      <td>0.36</td>\n",
       "      <td>2.38</td>\n",
       "      <td>NaN</td>\n",
       "      <td>NaN</td>\n",
       "      <td>NaN</td>\n",
       "    </tr>\n",
       "    <tr>\n",
       "      <td>33</td>\n",
       "      <td>Pokemon X/Pokemon Y</td>\n",
       "      <td>3DS</td>\n",
       "      <td>2013.0</td>\n",
       "      <td>Role-Playing</td>\n",
       "      <td>5.28</td>\n",
       "      <td>4.19</td>\n",
       "      <td>4.35</td>\n",
       "      <td>0.78</td>\n",
       "      <td>NaN</td>\n",
       "      <td>NaN</td>\n",
       "      <td>NaN</td>\n",
       "    </tr>\n",
       "  </tbody>\n",
       "</table>\n",
       "</div>"
      ],
      "text/plain": [
       "                                       name platform  year_of_release  \\\n",
       "1                         Super Mario Bros.      NES           1985.0   \n",
       "4                  Pokemon Red/Pokemon Blue       GB           1996.0   \n",
       "5                                    Tetris       GB           1989.0   \n",
       "9                                 Duck Hunt      NES           1984.0   \n",
       "10                               Nintendogs       DS           2005.0   \n",
       "12              Pokemon Gold/Pokemon Silver       GB           1999.0   \n",
       "18                        Super Mario World     SNES           1990.0   \n",
       "20            Pokemon Diamond/Pokemon Pearl       DS           2006.0   \n",
       "21                         Super Mario Land       GB           1989.0   \n",
       "22                      Super Mario Bros. 3      NES           1988.0   \n",
       "25            Pokemon Ruby/Pokemon Sapphire      GBA           2002.0   \n",
       "27              Pokemon Black/Pokemon White       DS           2010.0   \n",
       "30  Pokémon Yellow: Special Pikachu Edition       GB           1998.0   \n",
       "31                Call of Duty: Black Ops 3      PS4           2015.0   \n",
       "33                      Pokemon X/Pokemon Y      3DS           2013.0   \n",
       "\n",
       "           genre  na_sales  eu_sales  jp_sales  other_sales  critic_score  \\\n",
       "1       Platform     29.08      3.58      6.81         0.77           NaN   \n",
       "4   Role-Playing     11.27      8.89     10.22         1.00           NaN   \n",
       "5         Puzzle     23.20      2.26      4.22         0.58           NaN   \n",
       "9        Shooter     26.93      0.63      0.28         0.47           NaN   \n",
       "10    Simulation      9.05     10.95      1.93         2.74           NaN   \n",
       "12  Role-Playing      9.00      6.18      7.20         0.71           NaN   \n",
       "18      Platform     12.78      3.75      3.54         0.55           NaN   \n",
       "20  Role-Playing      6.38      4.46      6.04         1.36           NaN   \n",
       "21      Platform     10.83      2.71      4.18         0.42           NaN   \n",
       "22      Platform      9.54      3.44      3.84         0.46           NaN   \n",
       "25  Role-Playing      6.06      3.90      5.38         0.50           NaN   \n",
       "27  Role-Playing      5.51      3.17      5.65         0.80           NaN   \n",
       "30  Role-Playing      5.89      5.04      3.12         0.59           NaN   \n",
       "31       Shooter      6.03      5.86      0.36         2.38           NaN   \n",
       "33  Role-Playing      5.28      4.19      4.35         0.78           NaN   \n",
       "\n",
       "   user_score rating  \n",
       "1         NaN    NaN  \n",
       "4         NaN    NaN  \n",
       "5         NaN    NaN  \n",
       "9         NaN    NaN  \n",
       "10        NaN    NaN  \n",
       "12        NaN    NaN  \n",
       "18        NaN    NaN  \n",
       "20        NaN    NaN  \n",
       "21        NaN    NaN  \n",
       "22        NaN    NaN  \n",
       "25        NaN    NaN  \n",
       "27        NaN    NaN  \n",
       "30        NaN    NaN  \n",
       "31        NaN    NaN  \n",
       "33        NaN    NaN  "
      ]
     },
     "metadata": {},
     "output_type": "display_data"
    },
    {
     "data": {
      "text/html": [
       "<div>\n",
       "<style scoped>\n",
       "    .dataframe tbody tr th:only-of-type {\n",
       "        vertical-align: middle;\n",
       "    }\n",
       "\n",
       "    .dataframe tbody tr th {\n",
       "        vertical-align: top;\n",
       "    }\n",
       "\n",
       "    .dataframe thead th {\n",
       "        text-align: right;\n",
       "    }\n",
       "</style>\n",
       "<table border=\"1\" class=\"dataframe\">\n",
       "  <thead>\n",
       "    <tr style=\"text-align: right;\">\n",
       "      <th></th>\n",
       "      <th>name</th>\n",
       "      <th>platform</th>\n",
       "      <th>year_of_release</th>\n",
       "      <th>genre</th>\n",
       "      <th>na_sales</th>\n",
       "      <th>eu_sales</th>\n",
       "      <th>jp_sales</th>\n",
       "      <th>other_sales</th>\n",
       "      <th>critic_score</th>\n",
       "      <th>user_score</th>\n",
       "      <th>rating</th>\n",
       "    </tr>\n",
       "  </thead>\n",
       "  <tbody>\n",
       "    <tr>\n",
       "      <td>183</td>\n",
       "      <td>Madden NFL 2004</td>\n",
       "      <td>PS2</td>\n",
       "      <td>NaN</td>\n",
       "      <td>Sports</td>\n",
       "      <td>4.26</td>\n",
       "      <td>0.26</td>\n",
       "      <td>0.01</td>\n",
       "      <td>0.71</td>\n",
       "      <td>94.0</td>\n",
       "      <td>8.5</td>\n",
       "      <td>E</td>\n",
       "    </tr>\n",
       "    <tr>\n",
       "      <td>377</td>\n",
       "      <td>FIFA Soccer 2004</td>\n",
       "      <td>PS2</td>\n",
       "      <td>NaN</td>\n",
       "      <td>Sports</td>\n",
       "      <td>0.59</td>\n",
       "      <td>2.36</td>\n",
       "      <td>0.04</td>\n",
       "      <td>0.51</td>\n",
       "      <td>84.0</td>\n",
       "      <td>6.4</td>\n",
       "      <td>E</td>\n",
       "    </tr>\n",
       "    <tr>\n",
       "      <td>456</td>\n",
       "      <td>LEGO Batman: The Videogame</td>\n",
       "      <td>Wii</td>\n",
       "      <td>NaN</td>\n",
       "      <td>Action</td>\n",
       "      <td>1.80</td>\n",
       "      <td>0.97</td>\n",
       "      <td>0.00</td>\n",
       "      <td>0.29</td>\n",
       "      <td>74.0</td>\n",
       "      <td>7.9</td>\n",
       "      <td>E10+</td>\n",
       "    </tr>\n",
       "    <tr>\n",
       "      <td>475</td>\n",
       "      <td>wwe Smackdown vs. Raw 2006</td>\n",
       "      <td>PS2</td>\n",
       "      <td>NaN</td>\n",
       "      <td>Fighting</td>\n",
       "      <td>1.57</td>\n",
       "      <td>1.02</td>\n",
       "      <td>0.00</td>\n",
       "      <td>0.41</td>\n",
       "      <td>NaN</td>\n",
       "      <td>NaN</td>\n",
       "      <td>NaN</td>\n",
       "    </tr>\n",
       "    <tr>\n",
       "      <td>609</td>\n",
       "      <td>Space Invaders</td>\n",
       "      <td>2600</td>\n",
       "      <td>NaN</td>\n",
       "      <td>Shooter</td>\n",
       "      <td>2.36</td>\n",
       "      <td>0.14</td>\n",
       "      <td>0.00</td>\n",
       "      <td>0.03</td>\n",
       "      <td>NaN</td>\n",
       "      <td>NaN</td>\n",
       "      <td>NaN</td>\n",
       "    </tr>\n",
       "    <tr>\n",
       "      <td>627</td>\n",
       "      <td>Rock Band</td>\n",
       "      <td>X360</td>\n",
       "      <td>NaN</td>\n",
       "      <td>Misc</td>\n",
       "      <td>1.93</td>\n",
       "      <td>0.33</td>\n",
       "      <td>0.00</td>\n",
       "      <td>0.21</td>\n",
       "      <td>92.0</td>\n",
       "      <td>8.2</td>\n",
       "      <td>T</td>\n",
       "    </tr>\n",
       "    <tr>\n",
       "      <td>657</td>\n",
       "      <td>Frogger's Adventures: Temple of the Frog</td>\n",
       "      <td>GBA</td>\n",
       "      <td>NaN</td>\n",
       "      <td>Adventure</td>\n",
       "      <td>2.15</td>\n",
       "      <td>0.18</td>\n",
       "      <td>0.00</td>\n",
       "      <td>0.07</td>\n",
       "      <td>73.0</td>\n",
       "      <td>tbd</td>\n",
       "      <td>E</td>\n",
       "    </tr>\n",
       "    <tr>\n",
       "      <td>678</td>\n",
       "      <td>LEGO Indiana Jones: The Original Adventures</td>\n",
       "      <td>Wii</td>\n",
       "      <td>NaN</td>\n",
       "      <td>Action</td>\n",
       "      <td>1.51</td>\n",
       "      <td>0.61</td>\n",
       "      <td>0.00</td>\n",
       "      <td>0.21</td>\n",
       "      <td>78.0</td>\n",
       "      <td>6.6</td>\n",
       "      <td>E10+</td>\n",
       "    </tr>\n",
       "    <tr>\n",
       "      <td>719</td>\n",
       "      <td>Call of Duty 3</td>\n",
       "      <td>Wii</td>\n",
       "      <td>NaN</td>\n",
       "      <td>Shooter</td>\n",
       "      <td>1.17</td>\n",
       "      <td>0.84</td>\n",
       "      <td>0.00</td>\n",
       "      <td>0.23</td>\n",
       "      <td>69.0</td>\n",
       "      <td>6.7</td>\n",
       "      <td>T</td>\n",
       "    </tr>\n",
       "    <tr>\n",
       "      <td>805</td>\n",
       "      <td>Rock Band</td>\n",
       "      <td>Wii</td>\n",
       "      <td>NaN</td>\n",
       "      <td>Misc</td>\n",
       "      <td>1.33</td>\n",
       "      <td>0.56</td>\n",
       "      <td>0.00</td>\n",
       "      <td>0.20</td>\n",
       "      <td>80.0</td>\n",
       "      <td>6.3</td>\n",
       "      <td>T</td>\n",
       "    </tr>\n",
       "    <tr>\n",
       "      <td>1131</td>\n",
       "      <td>Call of Duty: Black Ops</td>\n",
       "      <td>PC</td>\n",
       "      <td>NaN</td>\n",
       "      <td>Shooter</td>\n",
       "      <td>0.58</td>\n",
       "      <td>0.81</td>\n",
       "      <td>0.00</td>\n",
       "      <td>0.23</td>\n",
       "      <td>81.0</td>\n",
       "      <td>5.2</td>\n",
       "      <td>M</td>\n",
       "    </tr>\n",
       "    <tr>\n",
       "      <td>1142</td>\n",
       "      <td>Rock Band</td>\n",
       "      <td>PS3</td>\n",
       "      <td>NaN</td>\n",
       "      <td>Misc</td>\n",
       "      <td>0.99</td>\n",
       "      <td>0.41</td>\n",
       "      <td>0.00</td>\n",
       "      <td>0.22</td>\n",
       "      <td>92.0</td>\n",
       "      <td>8.4</td>\n",
       "      <td>T</td>\n",
       "    </tr>\n",
       "    <tr>\n",
       "      <td>1301</td>\n",
       "      <td>Triple Play 99</td>\n",
       "      <td>PS</td>\n",
       "      <td>NaN</td>\n",
       "      <td>Sports</td>\n",
       "      <td>0.81</td>\n",
       "      <td>0.55</td>\n",
       "      <td>0.00</td>\n",
       "      <td>0.10</td>\n",
       "      <td>NaN</td>\n",
       "      <td>NaN</td>\n",
       "      <td>NaN</td>\n",
       "    </tr>\n",
       "    <tr>\n",
       "      <td>1506</td>\n",
       "      <td>Adventure</td>\n",
       "      <td>2600</td>\n",
       "      <td>NaN</td>\n",
       "      <td>Adventure</td>\n",
       "      <td>1.21</td>\n",
       "      <td>0.08</td>\n",
       "      <td>0.00</td>\n",
       "      <td>0.01</td>\n",
       "      <td>NaN</td>\n",
       "      <td>NaN</td>\n",
       "      <td>NaN</td>\n",
       "    </tr>\n",
       "    <tr>\n",
       "      <td>1538</td>\n",
       "      <td>LEGO Batman: The Videogame</td>\n",
       "      <td>PSP</td>\n",
       "      <td>NaN</td>\n",
       "      <td>Action</td>\n",
       "      <td>0.57</td>\n",
       "      <td>0.44</td>\n",
       "      <td>0.00</td>\n",
       "      <td>0.27</td>\n",
       "      <td>73.0</td>\n",
       "      <td>7.4</td>\n",
       "      <td>E10+</td>\n",
       "    </tr>\n",
       "  </tbody>\n",
       "</table>\n",
       "</div>"
      ],
      "text/plain": [
       "                                             name platform  year_of_release  \\\n",
       "183                               Madden NFL 2004      PS2              NaN   \n",
       "377                              FIFA Soccer 2004      PS2              NaN   \n",
       "456                    LEGO Batman: The Videogame      Wii              NaN   \n",
       "475                    wwe Smackdown vs. Raw 2006      PS2              NaN   \n",
       "609                                Space Invaders     2600              NaN   \n",
       "627                                     Rock Band     X360              NaN   \n",
       "657      Frogger's Adventures: Temple of the Frog      GBA              NaN   \n",
       "678   LEGO Indiana Jones: The Original Adventures      Wii              NaN   \n",
       "719                                Call of Duty 3      Wii              NaN   \n",
       "805                                     Rock Band      Wii              NaN   \n",
       "1131                      Call of Duty: Black Ops       PC              NaN   \n",
       "1142                                    Rock Band      PS3              NaN   \n",
       "1301                               Triple Play 99       PS              NaN   \n",
       "1506                                    Adventure     2600              NaN   \n",
       "1538                   LEGO Batman: The Videogame      PSP              NaN   \n",
       "\n",
       "          genre  na_sales  eu_sales  jp_sales  other_sales  critic_score  \\\n",
       "183      Sports      4.26      0.26      0.01         0.71          94.0   \n",
       "377      Sports      0.59      2.36      0.04         0.51          84.0   \n",
       "456      Action      1.80      0.97      0.00         0.29          74.0   \n",
       "475    Fighting      1.57      1.02      0.00         0.41           NaN   \n",
       "609     Shooter      2.36      0.14      0.00         0.03           NaN   \n",
       "627        Misc      1.93      0.33      0.00         0.21          92.0   \n",
       "657   Adventure      2.15      0.18      0.00         0.07          73.0   \n",
       "678      Action      1.51      0.61      0.00         0.21          78.0   \n",
       "719     Shooter      1.17      0.84      0.00         0.23          69.0   \n",
       "805        Misc      1.33      0.56      0.00         0.20          80.0   \n",
       "1131    Shooter      0.58      0.81      0.00         0.23          81.0   \n",
       "1142       Misc      0.99      0.41      0.00         0.22          92.0   \n",
       "1301     Sports      0.81      0.55      0.00         0.10           NaN   \n",
       "1506  Adventure      1.21      0.08      0.00         0.01           NaN   \n",
       "1538     Action      0.57      0.44      0.00         0.27          73.0   \n",
       "\n",
       "     user_score rating  \n",
       "183         8.5      E  \n",
       "377         6.4      E  \n",
       "456         7.9   E10+  \n",
       "475         NaN    NaN  \n",
       "609         NaN    NaN  \n",
       "627         8.2      T  \n",
       "657         tbd      E  \n",
       "678         6.6   E10+  \n",
       "719         6.7      T  \n",
       "805         6.3      T  \n",
       "1131        5.2      M  \n",
       "1142        8.4      T  \n",
       "1301        NaN    NaN  \n",
       "1506        NaN    NaN  \n",
       "1538        7.4   E10+  "
      ]
     },
     "metadata": {},
     "output_type": "display_data"
    }
   ],
   "source": [
    "display(dataset[pd.isnull(dataset['name'])])\n",
    "display(dataset[pd.isnull(dataset['genre'])])\n",
    "display(dataset[pd.isnull(dataset['rating'])].head(15))\n",
    "display(dataset[pd.isnull(dataset['year_of_release'])].head(15))"
   ]
  },
  {
   "cell_type": "markdown",
   "metadata": {},
   "source": [
    "Опишем найденные пропуски и решим, что с ними делать.\n",
    "\n",
    "В столбце **\"name\"** в категорийной переменной обнаружилось 2 пропуска. Заполнить такие пропуски не получится, а у нас всего 2 строки с пропусками, поэтому удалим строки. Все пропущенные значения для платформы GEN. Первая \"игра\" продалась огромным тиражом в северной Америке и Европе, вторая небольшим тиражом только в Японии. Обе \"игры\" вышли в 1993 году. Вероятно, пропущенные значения - это сборники игр на Sega Mega Drive, которые невозможно идентифицировать как одну игру либо игры, которые продавались вместе с приставкой.  \n",
    "\n",
    "В столбце **\"genre\"** в категорийной переменной обнаружилось 2 пропуска. Заполнить такие пропуски не получится, а у нас всего 2 строки с пропусками, поэтому удалим строки. Пропуски в этих же \"играх\", что доказывает то, что это сборники игр либо игры, которые шли вместе с приставкой, поэтому не удалось их идентифицировать одним жанром.\n",
    "\n",
    "В столбце **\"rating\"** также много пропусков. Т.к. переменная категорийная, то данные пропуски можно заполнить категорией \"unknown_rating\". Пропуски в данном столбце, вероятнее всего, могут быть по четырем причинам: \n",
    "\n",
    "     1) непопулярные игры, проданные малым тиражом, по которым вообще не велся подсчет рейтинга \n",
    "     2) старые популярные игры, вышедшие в те времена, когда не было практики подсчета рейтинга игр (например, Марио)\n",
    "     3) потеря/недостаток данных. Например: Call of Duty: Black Ops 3 - популярная игра, с очевидным рейтингом \"М\" или \"AO\". Необходимо обратиться к разработчикам и уточнить, почему есть пропуски в данных по этому и другим признакам.\n",
    "     4) не успели провести оценку/ожидается оценка \n",
    "\n",
    "В столбцах **\"critic_score\"**, **\"user_score\"** найдены пропуски, однако заполнить такие пропуски не получится, т.к. это количественные переменные нет параметров, по которым мы сможем достоверно определить значения для заполнения, а заполнения средним может существенно изменить результаты исследования. Несмотря на большое количество пропусков, оставим их как есть.\n",
    "Пропуски в данных столбцах также могут быть по трем причинам: \n",
    "\n",
    "     1) игра по которой еще не готовы оценки (возможно, новая) \n",
    "     2) непопулярная платформа, по которой не проводится оценка критиков и пользователей, либо она недоступна в открытых источниках\n",
    "     3) потеря/недостаток данных. Например: Call of Duty: Black Ops 3 - популярная игра, данные об оценке критиков по этой игре есть в открытых источниках. При обращении к разработчикам, будет необходимо обсудить пропуски и в данном столбце.\n",
    "\n",
    "В столбце **\"year_of_release\"** найдено 269 пропусков в датах (категорийная переменная). Заполнить пропуски в этом признаке также не сможем, т.к. не можем быть уверенны, что игра выходила на всех платформах в один год. Даже наличие года в названии не говорит нам о реальной дате выхода игры, т.к. нередко бывает так, что игра выходит, например, во второй половине 2003, а в названии содержится 2004 год. Поэтому, оставим пропуски в данном столбце как есть.\n",
    "Пропуски в данном столбце могут быть по трем причинам: \n",
    "\n",
    "     1) несмотря на демоверсии и даже возможные оценки пользователей или критиков игра так и не вышла.\n",
    "     2) игра \"утекла в сеть\", год выхода точно не известен, разработчик его не заявил\n",
    "     3) ошибка или потеря данных\n",
    "\n"
   ]
  },
  {
   "cell_type": "code",
   "execution_count": 7,
   "metadata": {},
   "outputs": [],
   "source": [
    "dataset['rating'] = dataset['rating'].fillna('unknown_rating')\n",
    "dataset = dataset.dropna(subset = ['name']).reset_index(drop = True)"
   ]
  },
  {
   "cell_type": "markdown",
   "metadata": {},
   "source": [
    "В столбце **\"rating\"** пропуски заполнены. Далее необходимо проверить датасет на ошибки и дубли."
   ]
  },
  {
   "cell_type": "markdown",
   "metadata": {},
   "source": [
    "### Поиск и обработка дублей и ошибок в данных"
   ]
  },
  {
   "cell_type": "markdown",
   "metadata": {},
   "source": [
    "Посмотрим, на уникальные значения в каждом столбце, а также проверим, есть ли дубли и отрицательные значения в таблице. "
   ]
  },
  {
   "cell_type": "code",
   "execution_count": 8,
   "metadata": {},
   "outputs": [
    {
     "data": {
      "text/plain": [
       "Need for Speed: Most Wanted                       12\n",
       "LEGO Marvel Super Heroes                           9\n",
       "FIFA 14                                            9\n",
       "Ratatouille                                        9\n",
       "Madden NFL 07                                      9\n",
       "                                                  ..\n",
       "FaceBreaker K.O. Party                             1\n",
       "Dead or Alive Xtreme 2                             1\n",
       "Shining Force: Resurrection of the Dark Dragon     1\n",
       "The King of Fighters '94 (CD)                      1\n",
       "Shadowgate 64: Trials of the Four Towers           1\n",
       "Name: name, Length: 11559, dtype: int64"
      ]
     },
     "metadata": {},
     "output_type": "display_data"
    },
    {
     "data": {
      "text/plain": [
       "PS2     2161\n",
       "DS      2151\n",
       "PS3     1331\n",
       "Wii     1320\n",
       "X360    1262\n",
       "PSP     1209\n",
       "PS      1197\n",
       "PC       974\n",
       "XB       824\n",
       "GBA      822\n",
       "GC       556\n",
       "3DS      520\n",
       "PSV      430\n",
       "PS4      392\n",
       "N64      319\n",
       "XOne     247\n",
       "SNES     239\n",
       "SAT      173\n",
       "WiiU     147\n",
       "2600     133\n",
       "GB        98\n",
       "NES       98\n",
       "DC        52\n",
       "GEN       27\n",
       "NG        12\n",
       "WS         6\n",
       "SCD        6\n",
       "3DO        3\n",
       "TG16       2\n",
       "GG         1\n",
       "PCFX       1\n",
       "Name: platform, dtype: int64"
      ]
     },
     "metadata": {},
     "output_type": "display_data"
    },
    {
     "data": {
      "text/plain": [
       "2008.0    1427\n",
       "2009.0    1426\n",
       "2010.0    1255\n",
       "2007.0    1197\n",
       "2011.0    1136\n",
       "2006.0    1006\n",
       "2005.0     939\n",
       "2002.0     829\n",
       "2003.0     775\n",
       "2004.0     762\n",
       "2012.0     653\n",
       "2015.0     606\n",
       "2014.0     581\n",
       "2013.0     544\n",
       "2016.0     502\n",
       "2001.0     482\n",
       "1998.0     379\n",
       "2000.0     350\n",
       "1999.0     338\n",
       "1997.0     289\n",
       "1996.0     263\n",
       "1995.0     219\n",
       "1994.0     121\n",
       "1993.0      60\n",
       "1981.0      46\n",
       "1992.0      43\n",
       "1991.0      41\n",
       "1982.0      36\n",
       "1986.0      21\n",
       "1989.0      17\n",
       "1983.0      17\n",
       "1990.0      16\n",
       "1987.0      16\n",
       "1988.0      15\n",
       "1985.0      14\n",
       "1984.0      14\n",
       "1980.0       9\n",
       "Name: year_of_release, dtype: int64"
      ]
     },
     "metadata": {},
     "output_type": "display_data"
    },
    {
     "data": {
      "text/plain": [
       "Action          3369\n",
       "Sports          2348\n",
       "Misc            1750\n",
       "Role-Playing    1498\n",
       "Shooter         1323\n",
       "Adventure       1303\n",
       "Racing          1249\n",
       "Platform         888\n",
       "Simulation       873\n",
       "Fighting         849\n",
       "Strategy         683\n",
       "Puzzle           580\n",
       "Name: genre, dtype: int64"
      ]
     },
     "metadata": {},
     "output_type": "display_data"
    },
    {
     "data": {
      "text/plain": [
       "0.00    4507\n",
       "0.02     576\n",
       "0.03     561\n",
       "0.04     549\n",
       "0.01     545\n",
       "        ... \n",
       "4.98       1\n",
       "4.21       1\n",
       "6.82       1\n",
       "5.05       1\n",
       "9.00       1\n",
       "Name: na_sales, Length: 402, dtype: int64"
      ]
     },
     "metadata": {},
     "output_type": "display_data"
    },
    {
     "data": {
      "text/plain": [
       "0.00    5869\n",
       "0.01    1494\n",
       "0.02    1308\n",
       "0.03     926\n",
       "0.04     709\n",
       "        ... \n",
       "3.59       1\n",
       "4.02       1\n",
       "2.24       1\n",
       "2.27       1\n",
       "3.75       1\n",
       "Name: eu_sales, Length: 307, dtype: int64"
      ]
     },
     "metadata": {},
     "output_type": "display_data"
    },
    {
     "data": {
      "text/plain": [
       "0.00    10513\n",
       "0.02      741\n",
       "0.01      706\n",
       "0.03      545\n",
       "0.04      397\n",
       "        ...  \n",
       "1.16        1\n",
       "2.12        1\n",
       "7.20        1\n",
       "2.17        1\n",
       "6.50        1\n",
       "Name: jp_sales, Length: 244, dtype: int64"
      ]
     },
     "metadata": {},
     "output_type": "display_data"
    },
    {
     "data": {
      "text/plain": [
       "0.00    6600\n",
       "0.01    3464\n",
       "0.02    1618\n",
       "0.03     926\n",
       "0.04     654\n",
       "        ... \n",
       "0.96       1\n",
       "1.93       1\n",
       "0.97       1\n",
       "1.37       1\n",
       "1.06       1\n",
       "Name: other_sales, Length: 155, dtype: int64"
      ]
     },
     "metadata": {},
     "output_type": "display_data"
    },
    {
     "data": {
      "text/plain": [
       "70.0    256\n",
       "71.0    254\n",
       "75.0    245\n",
       "78.0    240\n",
       "73.0    238\n",
       "       ... \n",
       "20.0      3\n",
       "17.0      1\n",
       "22.0      1\n",
       "13.0      1\n",
       "21.0      1\n",
       "Name: critic_score, Length: 82, dtype: int64"
      ]
     },
     "metadata": {},
     "output_type": "display_data"
    },
    {
     "data": {
      "text/plain": [
       "tbd    2424\n",
       "7.8     324\n",
       "8       290\n",
       "8.2     282\n",
       "8.3     254\n",
       "       ... \n",
       "1         2\n",
       "0.6       2\n",
       "0.2       2\n",
       "0         1\n",
       "9.7       1\n",
       "Name: user_score, Length: 96, dtype: int64"
      ]
     },
     "metadata": {},
     "output_type": "display_data"
    },
    {
     "data": {
      "text/plain": [
       "unknown_rating    6764\n",
       "E                 3990\n",
       "T                 2961\n",
       "M                 1563\n",
       "E10+              1420\n",
       "EC                   8\n",
       "K-A                  3\n",
       "RP                   3\n",
       "AO                   1\n",
       "Name: rating, dtype: int64"
      ]
     },
     "metadata": {},
     "output_type": "display_data"
    }
   ],
   "source": [
    "for column in dataset.columns.values.tolist():\n",
    "    display(dataset[column].value_counts() )\n"
   ]
  },
  {
   "cell_type": "code",
   "execution_count": 9,
   "metadata": {},
   "outputs": [
    {
     "name": "stdout",
     "output_type": "stream",
     "text": [
      "Дублей в таблице:  0\n",
      "Не удалось найти отрицательные значения в столбцах:  ['name', 'platform', 'genre', 'user_score', 'rating']\n"
     ]
    }
   ],
   "source": [
    "print('Дублей в таблице: ',dataset.duplicated()[0].sum())\n",
    "\n",
    "exceptions = []# список для записи столбцов, в которых не удалось проверить на отрицательные значения\n",
    "\n",
    "for column in dataset.columns.values.tolist():  \n",
    "    try:\n",
    "        data = dataset[dataset[column] < 0]\n",
    "        if len(data) != 0:\n",
    "            print('Отрицательные значения в таблице: \\r\\n',data)\n",
    "    except:\n",
    "        exceptions.append(column)\n",
    "            \n",
    "print('Не удалось найти отрицательные значения в столбцах: ',exceptions)"
   ]
  },
  {
   "cell_type": "markdown",
   "metadata": {},
   "source": [
    "Все данные, кроме столбца \"user_score\" выглядят нормально,дублирующихся строк в таблице также нет. Отрицательных значений также нет. Все столбцы, в которых не удалось проверить на отрицательные числа - категорийные, кроме \"user_score\" из-за значения tbd.\n",
    "\n",
    "Рассмотрим подробнее значение \"tbd\". Также заодно проверим,что за одна игра с оценкой \"0\" \n"
   ]
  },
  {
   "cell_type": "code",
   "execution_count": 10,
   "metadata": {
    "scrolled": false
   },
   "outputs": [
    {
     "data": {
      "text/html": [
       "<div>\n",
       "<style scoped>\n",
       "    .dataframe tbody tr th:only-of-type {\n",
       "        vertical-align: middle;\n",
       "    }\n",
       "\n",
       "    .dataframe tbody tr th {\n",
       "        vertical-align: top;\n",
       "    }\n",
       "\n",
       "    .dataframe thead th {\n",
       "        text-align: right;\n",
       "    }\n",
       "</style>\n",
       "<table border=\"1\" class=\"dataframe\">\n",
       "  <thead>\n",
       "    <tr style=\"text-align: right;\">\n",
       "      <th></th>\n",
       "      <th>name</th>\n",
       "      <th>platform</th>\n",
       "      <th>year_of_release</th>\n",
       "      <th>genre</th>\n",
       "      <th>na_sales</th>\n",
       "      <th>eu_sales</th>\n",
       "      <th>jp_sales</th>\n",
       "      <th>other_sales</th>\n",
       "      <th>critic_score</th>\n",
       "      <th>user_score</th>\n",
       "      <th>rating</th>\n",
       "    </tr>\n",
       "  </thead>\n",
       "  <tbody>\n",
       "    <tr>\n",
       "      <td>2834</td>\n",
       "      <td>My Little Pony: Pinkie Pie's Party</td>\n",
       "      <td>DS</td>\n",
       "      <td>2008.0</td>\n",
       "      <td>Adventure</td>\n",
       "      <td>0.66</td>\n",
       "      <td>0.0</td>\n",
       "      <td>0.0</td>\n",
       "      <td>0.06</td>\n",
       "      <td>NaN</td>\n",
       "      <td>0</td>\n",
       "      <td>E</td>\n",
       "    </tr>\n",
       "  </tbody>\n",
       "</table>\n",
       "</div>"
      ],
      "text/plain": [
       "                                    name platform  year_of_release      genre  \\\n",
       "2834  My Little Pony: Pinkie Pie's Party       DS           2008.0  Adventure   \n",
       "\n",
       "      na_sales  eu_sales  jp_sales  other_sales  critic_score user_score  \\\n",
       "2834      0.66       0.0       0.0         0.06           NaN          0   \n",
       "\n",
       "     rating  \n",
       "2834      E  "
      ]
     },
     "metadata": {},
     "output_type": "display_data"
    },
    {
     "data": {
      "text/html": [
       "<div>\n",
       "<style scoped>\n",
       "    .dataframe tbody tr th:only-of-type {\n",
       "        vertical-align: middle;\n",
       "    }\n",
       "\n",
       "    .dataframe tbody tr th {\n",
       "        vertical-align: top;\n",
       "    }\n",
       "\n",
       "    .dataframe thead th {\n",
       "        text-align: right;\n",
       "    }\n",
       "</style>\n",
       "<table border=\"1\" class=\"dataframe\">\n",
       "  <thead>\n",
       "    <tr style=\"text-align: right;\">\n",
       "      <th></th>\n",
       "      <th>name</th>\n",
       "      <th>platform</th>\n",
       "      <th>year_of_release</th>\n",
       "      <th>genre</th>\n",
       "      <th>na_sales</th>\n",
       "      <th>eu_sales</th>\n",
       "      <th>jp_sales</th>\n",
       "      <th>other_sales</th>\n",
       "      <th>critic_score</th>\n",
       "      <th>user_score</th>\n",
       "      <th>rating</th>\n",
       "    </tr>\n",
       "  </thead>\n",
       "  <tbody>\n",
       "    <tr>\n",
       "      <td>119</td>\n",
       "      <td>Zumba Fitness</td>\n",
       "      <td>Wii</td>\n",
       "      <td>2010.0</td>\n",
       "      <td>Sports</td>\n",
       "      <td>3.45</td>\n",
       "      <td>2.59</td>\n",
       "      <td>0.00</td>\n",
       "      <td>0.66</td>\n",
       "      <td>NaN</td>\n",
       "      <td>tbd</td>\n",
       "      <td>E</td>\n",
       "    </tr>\n",
       "    <tr>\n",
       "      <td>301</td>\n",
       "      <td>Namco Museum: 50th Anniversary</td>\n",
       "      <td>PS2</td>\n",
       "      <td>2005.0</td>\n",
       "      <td>Misc</td>\n",
       "      <td>2.08</td>\n",
       "      <td>1.35</td>\n",
       "      <td>0.00</td>\n",
       "      <td>0.54</td>\n",
       "      <td>61.0</td>\n",
       "      <td>tbd</td>\n",
       "      <td>E10+</td>\n",
       "    </tr>\n",
       "    <tr>\n",
       "      <td>520</td>\n",
       "      <td>Zumba Fitness 2</td>\n",
       "      <td>Wii</td>\n",
       "      <td>2011.0</td>\n",
       "      <td>Sports</td>\n",
       "      <td>1.51</td>\n",
       "      <td>1.03</td>\n",
       "      <td>0.00</td>\n",
       "      <td>0.27</td>\n",
       "      <td>NaN</td>\n",
       "      <td>tbd</td>\n",
       "      <td>T</td>\n",
       "    </tr>\n",
       "    <tr>\n",
       "      <td>645</td>\n",
       "      <td>uDraw Studio</td>\n",
       "      <td>Wii</td>\n",
       "      <td>2010.0</td>\n",
       "      <td>Misc</td>\n",
       "      <td>1.65</td>\n",
       "      <td>0.57</td>\n",
       "      <td>0.00</td>\n",
       "      <td>0.20</td>\n",
       "      <td>71.0</td>\n",
       "      <td>tbd</td>\n",
       "      <td>E</td>\n",
       "    </tr>\n",
       "    <tr>\n",
       "      <td>657</td>\n",
       "      <td>Frogger's Adventures: Temple of the Frog</td>\n",
       "      <td>GBA</td>\n",
       "      <td>NaN</td>\n",
       "      <td>Adventure</td>\n",
       "      <td>2.15</td>\n",
       "      <td>0.18</td>\n",
       "      <td>0.00</td>\n",
       "      <td>0.07</td>\n",
       "      <td>73.0</td>\n",
       "      <td>tbd</td>\n",
       "      <td>E</td>\n",
       "    </tr>\n",
       "    <tr>\n",
       "      <td>717</td>\n",
       "      <td>Just Dance Kids</td>\n",
       "      <td>Wii</td>\n",
       "      <td>2010.0</td>\n",
       "      <td>Misc</td>\n",
       "      <td>1.52</td>\n",
       "      <td>0.54</td>\n",
       "      <td>0.00</td>\n",
       "      <td>0.18</td>\n",
       "      <td>NaN</td>\n",
       "      <td>tbd</td>\n",
       "      <td>E</td>\n",
       "    </tr>\n",
       "    <tr>\n",
       "      <td>725</td>\n",
       "      <td>Dance Dance Revolution X2</td>\n",
       "      <td>PS2</td>\n",
       "      <td>2009.0</td>\n",
       "      <td>Simulation</td>\n",
       "      <td>1.09</td>\n",
       "      <td>0.85</td>\n",
       "      <td>0.00</td>\n",
       "      <td>0.28</td>\n",
       "      <td>NaN</td>\n",
       "      <td>tbd</td>\n",
       "      <td>E10+</td>\n",
       "    </tr>\n",
       "    <tr>\n",
       "      <td>820</td>\n",
       "      <td>The Incredibles</td>\n",
       "      <td>GBA</td>\n",
       "      <td>2004.0</td>\n",
       "      <td>Action</td>\n",
       "      <td>1.15</td>\n",
       "      <td>0.77</td>\n",
       "      <td>0.04</td>\n",
       "      <td>0.10</td>\n",
       "      <td>55.0</td>\n",
       "      <td>tbd</td>\n",
       "      <td>E</td>\n",
       "    </tr>\n",
       "    <tr>\n",
       "      <td>880</td>\n",
       "      <td>Who wants to be a millionaire</td>\n",
       "      <td>PC</td>\n",
       "      <td>1999.0</td>\n",
       "      <td>Misc</td>\n",
       "      <td>1.94</td>\n",
       "      <td>0.00</td>\n",
       "      <td>0.00</td>\n",
       "      <td>0.00</td>\n",
       "      <td>NaN</td>\n",
       "      <td>tbd</td>\n",
       "      <td>E</td>\n",
       "    </tr>\n",
       "    <tr>\n",
       "      <td>1046</td>\n",
       "      <td>Tetris Worlds</td>\n",
       "      <td>GBA</td>\n",
       "      <td>2001.0</td>\n",
       "      <td>Puzzle</td>\n",
       "      <td>1.25</td>\n",
       "      <td>0.39</td>\n",
       "      <td>0.00</td>\n",
       "      <td>0.06</td>\n",
       "      <td>65.0</td>\n",
       "      <td>tbd</td>\n",
       "      <td>E</td>\n",
       "    </tr>\n",
       "    <tr>\n",
       "      <td>1047</td>\n",
       "      <td>Imagine: Teacher</td>\n",
       "      <td>DS</td>\n",
       "      <td>2008.0</td>\n",
       "      <td>Simulation</td>\n",
       "      <td>0.70</td>\n",
       "      <td>0.82</td>\n",
       "      <td>0.00</td>\n",
       "      <td>0.19</td>\n",
       "      <td>NaN</td>\n",
       "      <td>tbd</td>\n",
       "      <td>E</td>\n",
       "    </tr>\n",
       "    <tr>\n",
       "      <td>1068</td>\n",
       "      <td>Personal Trainer: Math</td>\n",
       "      <td>DS</td>\n",
       "      <td>2007.0</td>\n",
       "      <td>Puzzle</td>\n",
       "      <td>0.48</td>\n",
       "      <td>1.12</td>\n",
       "      <td>0.00</td>\n",
       "      <td>0.08</td>\n",
       "      <td>63.0</td>\n",
       "      <td>tbd</td>\n",
       "      <td>E</td>\n",
       "    </tr>\n",
       "    <tr>\n",
       "      <td>1069</td>\n",
       "      <td>Game Party 3</td>\n",
       "      <td>Wii</td>\n",
       "      <td>2009.0</td>\n",
       "      <td>Puzzle</td>\n",
       "      <td>1.40</td>\n",
       "      <td>0.16</td>\n",
       "      <td>0.00</td>\n",
       "      <td>0.12</td>\n",
       "      <td>37.0</td>\n",
       "      <td>tbd</td>\n",
       "      <td>E</td>\n",
       "    </tr>\n",
       "    <tr>\n",
       "      <td>1088</td>\n",
       "      <td>Monsters, Inc.</td>\n",
       "      <td>GBA</td>\n",
       "      <td>2001.0</td>\n",
       "      <td>Adventure</td>\n",
       "      <td>0.59</td>\n",
       "      <td>0.95</td>\n",
       "      <td>0.03</td>\n",
       "      <td>0.10</td>\n",
       "      <td>NaN</td>\n",
       "      <td>tbd</td>\n",
       "      <td>E</td>\n",
       "    </tr>\n",
       "    <tr>\n",
       "      <td>1150</td>\n",
       "      <td>SpongeBob's Atlantis SquarePantis</td>\n",
       "      <td>DS</td>\n",
       "      <td>2007.0</td>\n",
       "      <td>Action</td>\n",
       "      <td>1.49</td>\n",
       "      <td>0.00</td>\n",
       "      <td>0.00</td>\n",
       "      <td>0.11</td>\n",
       "      <td>64.0</td>\n",
       "      <td>tbd</td>\n",
       "      <td>E</td>\n",
       "    </tr>\n",
       "    <tr>\n",
       "      <td>1198</td>\n",
       "      <td>MySims Kingdom</td>\n",
       "      <td>DS</td>\n",
       "      <td>2008.0</td>\n",
       "      <td>Simulation</td>\n",
       "      <td>0.80</td>\n",
       "      <td>0.59</td>\n",
       "      <td>0.01</td>\n",
       "      <td>0.16</td>\n",
       "      <td>58.0</td>\n",
       "      <td>tbd</td>\n",
       "      <td>E</td>\n",
       "    </tr>\n",
       "    <tr>\n",
       "      <td>1209</td>\n",
       "      <td>Moshi Monsters: Moshling Zoo</td>\n",
       "      <td>DS</td>\n",
       "      <td>2011.0</td>\n",
       "      <td>Misc</td>\n",
       "      <td>0.37</td>\n",
       "      <td>0.96</td>\n",
       "      <td>0.00</td>\n",
       "      <td>0.21</td>\n",
       "      <td>NaN</td>\n",
       "      <td>tbd</td>\n",
       "      <td>E</td>\n",
       "    </tr>\n",
       "    <tr>\n",
       "      <td>1283</td>\n",
       "      <td>Disney Sing It: Pop Hits</td>\n",
       "      <td>Wii</td>\n",
       "      <td>2009.0</td>\n",
       "      <td>Misc</td>\n",
       "      <td>1.07</td>\n",
       "      <td>0.28</td>\n",
       "      <td>0.00</td>\n",
       "      <td>0.13</td>\n",
       "      <td>NaN</td>\n",
       "      <td>tbd</td>\n",
       "      <td>E</td>\n",
       "    </tr>\n",
       "    <tr>\n",
       "      <td>1290</td>\n",
       "      <td>Imagine: Master Chef</td>\n",
       "      <td>DS</td>\n",
       "      <td>2007.0</td>\n",
       "      <td>Simulation</td>\n",
       "      <td>0.39</td>\n",
       "      <td>0.91</td>\n",
       "      <td>0.00</td>\n",
       "      <td>0.17</td>\n",
       "      <td>NaN</td>\n",
       "      <td>tbd</td>\n",
       "      <td>E</td>\n",
       "    </tr>\n",
       "    <tr>\n",
       "      <td>1291</td>\n",
       "      <td>Disney Princess</td>\n",
       "      <td>GBA</td>\n",
       "      <td>2003.0</td>\n",
       "      <td>Platform</td>\n",
       "      <td>1.04</td>\n",
       "      <td>0.37</td>\n",
       "      <td>0.00</td>\n",
       "      <td>0.06</td>\n",
       "      <td>NaN</td>\n",
       "      <td>tbd</td>\n",
       "      <td>E</td>\n",
       "    </tr>\n",
       "  </tbody>\n",
       "</table>\n",
       "</div>"
      ],
      "text/plain": [
       "                                          name platform  year_of_release  \\\n",
       "119                              Zumba Fitness      Wii           2010.0   \n",
       "301             Namco Museum: 50th Anniversary      PS2           2005.0   \n",
       "520                            Zumba Fitness 2      Wii           2011.0   \n",
       "645                               uDraw Studio      Wii           2010.0   \n",
       "657   Frogger's Adventures: Temple of the Frog      GBA              NaN   \n",
       "717                            Just Dance Kids      Wii           2010.0   \n",
       "725                  Dance Dance Revolution X2      PS2           2009.0   \n",
       "820                            The Incredibles      GBA           2004.0   \n",
       "880              Who wants to be a millionaire       PC           1999.0   \n",
       "1046                             Tetris Worlds      GBA           2001.0   \n",
       "1047                          Imagine: Teacher       DS           2008.0   \n",
       "1068                    Personal Trainer: Math       DS           2007.0   \n",
       "1069                              Game Party 3      Wii           2009.0   \n",
       "1088                            Monsters, Inc.      GBA           2001.0   \n",
       "1150         SpongeBob's Atlantis SquarePantis       DS           2007.0   \n",
       "1198                            MySims Kingdom       DS           2008.0   \n",
       "1209              Moshi Monsters: Moshling Zoo       DS           2011.0   \n",
       "1283                  Disney Sing It: Pop Hits      Wii           2009.0   \n",
       "1290                      Imagine: Master Chef       DS           2007.0   \n",
       "1291                           Disney Princess      GBA           2003.0   \n",
       "\n",
       "           genre  na_sales  eu_sales  jp_sales  other_sales  critic_score  \\\n",
       "119       Sports      3.45      2.59      0.00         0.66           NaN   \n",
       "301         Misc      2.08      1.35      0.00         0.54          61.0   \n",
       "520       Sports      1.51      1.03      0.00         0.27           NaN   \n",
       "645         Misc      1.65      0.57      0.00         0.20          71.0   \n",
       "657    Adventure      2.15      0.18      0.00         0.07          73.0   \n",
       "717         Misc      1.52      0.54      0.00         0.18           NaN   \n",
       "725   Simulation      1.09      0.85      0.00         0.28           NaN   \n",
       "820       Action      1.15      0.77      0.04         0.10          55.0   \n",
       "880         Misc      1.94      0.00      0.00         0.00           NaN   \n",
       "1046      Puzzle      1.25      0.39      0.00         0.06          65.0   \n",
       "1047  Simulation      0.70      0.82      0.00         0.19           NaN   \n",
       "1068      Puzzle      0.48      1.12      0.00         0.08          63.0   \n",
       "1069      Puzzle      1.40      0.16      0.00         0.12          37.0   \n",
       "1088   Adventure      0.59      0.95      0.03         0.10           NaN   \n",
       "1150      Action      1.49      0.00      0.00         0.11          64.0   \n",
       "1198  Simulation      0.80      0.59      0.01         0.16          58.0   \n",
       "1209        Misc      0.37      0.96      0.00         0.21           NaN   \n",
       "1283        Misc      1.07      0.28      0.00         0.13           NaN   \n",
       "1290  Simulation      0.39      0.91      0.00         0.17           NaN   \n",
       "1291    Platform      1.04      0.37      0.00         0.06           NaN   \n",
       "\n",
       "     user_score rating  \n",
       "119         tbd      E  \n",
       "301         tbd   E10+  \n",
       "520         tbd      T  \n",
       "645         tbd      E  \n",
       "657         tbd      E  \n",
       "717         tbd      E  \n",
       "725         tbd   E10+  \n",
       "820         tbd      E  \n",
       "880         tbd      E  \n",
       "1046        tbd      E  \n",
       "1047        tbd      E  \n",
       "1068        tbd      E  \n",
       "1069        tbd      E  \n",
       "1088        tbd      E  \n",
       "1150        tbd      E  \n",
       "1198        tbd      E  \n",
       "1209        tbd      E  \n",
       "1283        tbd      E  \n",
       "1290        tbd      E  \n",
       "1291        tbd      E  "
      ]
     },
     "metadata": {},
     "output_type": "display_data"
    },
    {
     "data": {
      "text/html": [
       "<div>\n",
       "<style scoped>\n",
       "    .dataframe tbody tr th:only-of-type {\n",
       "        vertical-align: middle;\n",
       "    }\n",
       "\n",
       "    .dataframe tbody tr th {\n",
       "        vertical-align: top;\n",
       "    }\n",
       "\n",
       "    .dataframe thead th {\n",
       "        text-align: right;\n",
       "    }\n",
       "</style>\n",
       "<table border=\"1\" class=\"dataframe\">\n",
       "  <thead>\n",
       "    <tr style=\"text-align: right;\">\n",
       "      <th></th>\n",
       "      <th>name</th>\n",
       "      <th>platform</th>\n",
       "      <th>year_of_release</th>\n",
       "      <th>genre</th>\n",
       "      <th>na_sales</th>\n",
       "      <th>eu_sales</th>\n",
       "      <th>jp_sales</th>\n",
       "      <th>other_sales</th>\n",
       "      <th>critic_score</th>\n",
       "      <th>user_score</th>\n",
       "      <th>rating</th>\n",
       "    </tr>\n",
       "  </thead>\n",
       "  <tbody>\n",
       "    <tr>\n",
       "      <td>16566</td>\n",
       "      <td>Luxor: Pharaoh's Challenge</td>\n",
       "      <td>DS</td>\n",
       "      <td>2007.0</td>\n",
       "      <td>Puzzle</td>\n",
       "      <td>0.00</td>\n",
       "      <td>0.01</td>\n",
       "      <td>0.00</td>\n",
       "      <td>0.0</td>\n",
       "      <td>NaN</td>\n",
       "      <td>tbd</td>\n",
       "      <td>E</td>\n",
       "    </tr>\n",
       "    <tr>\n",
       "      <td>16572</td>\n",
       "      <td>Smart Boy's Winter Wonderland</td>\n",
       "      <td>DS</td>\n",
       "      <td>2008.0</td>\n",
       "      <td>Misc</td>\n",
       "      <td>0.01</td>\n",
       "      <td>0.00</td>\n",
       "      <td>0.00</td>\n",
       "      <td>0.0</td>\n",
       "      <td>NaN</td>\n",
       "      <td>tbd</td>\n",
       "      <td>E</td>\n",
       "    </tr>\n",
       "    <tr>\n",
       "      <td>16575</td>\n",
       "      <td>Space Raiders</td>\n",
       "      <td>GC</td>\n",
       "      <td>2003.0</td>\n",
       "      <td>Shooter</td>\n",
       "      <td>0.01</td>\n",
       "      <td>0.00</td>\n",
       "      <td>0.00</td>\n",
       "      <td>0.0</td>\n",
       "      <td>40.0</td>\n",
       "      <td>tbd</td>\n",
       "      <td>T</td>\n",
       "    </tr>\n",
       "    <tr>\n",
       "      <td>16591</td>\n",
       "      <td>Winx Club: Saving Alfea</td>\n",
       "      <td>3DS</td>\n",
       "      <td>2014.0</td>\n",
       "      <td>Action</td>\n",
       "      <td>0.00</td>\n",
       "      <td>0.01</td>\n",
       "      <td>0.00</td>\n",
       "      <td>0.0</td>\n",
       "      <td>NaN</td>\n",
       "      <td>tbd</td>\n",
       "      <td>E</td>\n",
       "    </tr>\n",
       "    <tr>\n",
       "      <td>16597</td>\n",
       "      <td>Legends of Oz: Dorothy's Return</td>\n",
       "      <td>3DS</td>\n",
       "      <td>2014.0</td>\n",
       "      <td>Puzzle</td>\n",
       "      <td>0.00</td>\n",
       "      <td>0.01</td>\n",
       "      <td>0.00</td>\n",
       "      <td>0.0</td>\n",
       "      <td>NaN</td>\n",
       "      <td>tbd</td>\n",
       "      <td>E</td>\n",
       "    </tr>\n",
       "    <tr>\n",
       "      <td>16613</td>\n",
       "      <td>Balloon Pop 2</td>\n",
       "      <td>3DS</td>\n",
       "      <td>2012.0</td>\n",
       "      <td>Puzzle</td>\n",
       "      <td>0.01</td>\n",
       "      <td>0.00</td>\n",
       "      <td>0.00</td>\n",
       "      <td>0.0</td>\n",
       "      <td>NaN</td>\n",
       "      <td>tbd</td>\n",
       "      <td>E</td>\n",
       "    </tr>\n",
       "    <tr>\n",
       "      <td>16624</td>\n",
       "      <td>The Ultimate Battle of the Sexes</td>\n",
       "      <td>Wii</td>\n",
       "      <td>2010.0</td>\n",
       "      <td>Misc</td>\n",
       "      <td>0.01</td>\n",
       "      <td>0.00</td>\n",
       "      <td>0.00</td>\n",
       "      <td>0.0</td>\n",
       "      <td>NaN</td>\n",
       "      <td>tbd</td>\n",
       "      <td>T</td>\n",
       "    </tr>\n",
       "    <tr>\n",
       "      <td>16631</td>\n",
       "      <td>SBK Superbike World Championship</td>\n",
       "      <td>PSP</td>\n",
       "      <td>2008.0</td>\n",
       "      <td>Racing</td>\n",
       "      <td>0.01</td>\n",
       "      <td>0.00</td>\n",
       "      <td>0.00</td>\n",
       "      <td>0.0</td>\n",
       "      <td>NaN</td>\n",
       "      <td>tbd</td>\n",
       "      <td>E10+</td>\n",
       "    </tr>\n",
       "    <tr>\n",
       "      <td>16636</td>\n",
       "      <td>Tour de France 2014</td>\n",
       "      <td>PS3</td>\n",
       "      <td>2014.0</td>\n",
       "      <td>Sports</td>\n",
       "      <td>0.00</td>\n",
       "      <td>0.01</td>\n",
       "      <td>0.00</td>\n",
       "      <td>0.0</td>\n",
       "      <td>NaN</td>\n",
       "      <td>tbd</td>\n",
       "      <td>E</td>\n",
       "    </tr>\n",
       "    <tr>\n",
       "      <td>16645</td>\n",
       "      <td>Metal Gear Solid HD Edition</td>\n",
       "      <td>X360</td>\n",
       "      <td>2011.0</td>\n",
       "      <td>Action</td>\n",
       "      <td>0.00</td>\n",
       "      <td>0.00</td>\n",
       "      <td>0.01</td>\n",
       "      <td>0.0</td>\n",
       "      <td>NaN</td>\n",
       "      <td>tbd</td>\n",
       "      <td>M</td>\n",
       "    </tr>\n",
       "    <tr>\n",
       "      <td>16648</td>\n",
       "      <td>Agatha Christie: Peril at End House</td>\n",
       "      <td>PC</td>\n",
       "      <td>2009.0</td>\n",
       "      <td>Adventure</td>\n",
       "      <td>0.00</td>\n",
       "      <td>0.01</td>\n",
       "      <td>0.00</td>\n",
       "      <td>0.0</td>\n",
       "      <td>NaN</td>\n",
       "      <td>tbd</td>\n",
       "      <td>T</td>\n",
       "    </tr>\n",
       "    <tr>\n",
       "      <td>16653</td>\n",
       "      <td>Summer Athletics</td>\n",
       "      <td>PC</td>\n",
       "      <td>2008.0</td>\n",
       "      <td>Sports</td>\n",
       "      <td>0.00</td>\n",
       "      <td>0.01</td>\n",
       "      <td>0.00</td>\n",
       "      <td>0.0</td>\n",
       "      <td>NaN</td>\n",
       "      <td>tbd</td>\n",
       "      <td>unknown_rating</td>\n",
       "    </tr>\n",
       "    <tr>\n",
       "      <td>16667</td>\n",
       "      <td>Super Robot Taisen: Original Generation</td>\n",
       "      <td>GBA</td>\n",
       "      <td>2002.0</td>\n",
       "      <td>Role-Playing</td>\n",
       "      <td>0.01</td>\n",
       "      <td>0.00</td>\n",
       "      <td>0.00</td>\n",
       "      <td>0.0</td>\n",
       "      <td>72.0</td>\n",
       "      <td>tbd</td>\n",
       "      <td>T</td>\n",
       "    </tr>\n",
       "    <tr>\n",
       "      <td>16670</td>\n",
       "      <td>Metal Gear Solid V: The Definitive Experience</td>\n",
       "      <td>XOne</td>\n",
       "      <td>2016.0</td>\n",
       "      <td>Action</td>\n",
       "      <td>0.01</td>\n",
       "      <td>0.00</td>\n",
       "      <td>0.00</td>\n",
       "      <td>0.0</td>\n",
       "      <td>NaN</td>\n",
       "      <td>tbd</td>\n",
       "      <td>M</td>\n",
       "    </tr>\n",
       "    <tr>\n",
       "      <td>16686</td>\n",
       "      <td>Outdoors Unleashed: Africa 3D</td>\n",
       "      <td>3DS</td>\n",
       "      <td>2011.0</td>\n",
       "      <td>Sports</td>\n",
       "      <td>0.01</td>\n",
       "      <td>0.00</td>\n",
       "      <td>0.00</td>\n",
       "      <td>0.0</td>\n",
       "      <td>NaN</td>\n",
       "      <td>tbd</td>\n",
       "      <td>T</td>\n",
       "    </tr>\n",
       "    <tr>\n",
       "      <td>16693</td>\n",
       "      <td>Planet Monsters</td>\n",
       "      <td>GBA</td>\n",
       "      <td>2001.0</td>\n",
       "      <td>Action</td>\n",
       "      <td>0.01</td>\n",
       "      <td>0.00</td>\n",
       "      <td>0.00</td>\n",
       "      <td>0.0</td>\n",
       "      <td>67.0</td>\n",
       "      <td>tbd</td>\n",
       "      <td>E</td>\n",
       "    </tr>\n",
       "    <tr>\n",
       "      <td>16695</td>\n",
       "      <td>Bust-A-Move 3000</td>\n",
       "      <td>GC</td>\n",
       "      <td>2003.0</td>\n",
       "      <td>Puzzle</td>\n",
       "      <td>0.01</td>\n",
       "      <td>0.00</td>\n",
       "      <td>0.00</td>\n",
       "      <td>0.0</td>\n",
       "      <td>53.0</td>\n",
       "      <td>tbd</td>\n",
       "      <td>E</td>\n",
       "    </tr>\n",
       "    <tr>\n",
       "      <td>16696</td>\n",
       "      <td>Mega Brain Boost</td>\n",
       "      <td>DS</td>\n",
       "      <td>2008.0</td>\n",
       "      <td>Puzzle</td>\n",
       "      <td>0.01</td>\n",
       "      <td>0.00</td>\n",
       "      <td>0.00</td>\n",
       "      <td>0.0</td>\n",
       "      <td>48.0</td>\n",
       "      <td>tbd</td>\n",
       "      <td>E</td>\n",
       "    </tr>\n",
       "    <tr>\n",
       "      <td>16702</td>\n",
       "      <td>Plushees</td>\n",
       "      <td>DS</td>\n",
       "      <td>2008.0</td>\n",
       "      <td>Simulation</td>\n",
       "      <td>0.01</td>\n",
       "      <td>0.00</td>\n",
       "      <td>0.00</td>\n",
       "      <td>0.0</td>\n",
       "      <td>NaN</td>\n",
       "      <td>tbd</td>\n",
       "      <td>E</td>\n",
       "    </tr>\n",
       "    <tr>\n",
       "      <td>16704</td>\n",
       "      <td>Men in Black II: Alien Escape</td>\n",
       "      <td>GC</td>\n",
       "      <td>2003.0</td>\n",
       "      <td>Shooter</td>\n",
       "      <td>0.01</td>\n",
       "      <td>0.00</td>\n",
       "      <td>0.00</td>\n",
       "      <td>0.0</td>\n",
       "      <td>NaN</td>\n",
       "      <td>tbd</td>\n",
       "      <td>T</td>\n",
       "    </tr>\n",
       "  </tbody>\n",
       "</table>\n",
       "</div>"
      ],
      "text/plain": [
       "                                                name platform  \\\n",
       "16566                     Luxor: Pharaoh's Challenge       DS   \n",
       "16572                  Smart Boy's Winter Wonderland       DS   \n",
       "16575                                  Space Raiders       GC   \n",
       "16591                       Winx Club: Saving Alfea       3DS   \n",
       "16597                Legends of Oz: Dorothy's Return      3DS   \n",
       "16613                                  Balloon Pop 2      3DS   \n",
       "16624               The Ultimate Battle of the Sexes      Wii   \n",
       "16631               SBK Superbike World Championship      PSP   \n",
       "16636                            Tour de France 2014      PS3   \n",
       "16645                    Metal Gear Solid HD Edition     X360   \n",
       "16648            Agatha Christie: Peril at End House       PC   \n",
       "16653                               Summer Athletics       PC   \n",
       "16667        Super Robot Taisen: Original Generation      GBA   \n",
       "16670  Metal Gear Solid V: The Definitive Experience     XOne   \n",
       "16686                  Outdoors Unleashed: Africa 3D      3DS   \n",
       "16693                                Planet Monsters      GBA   \n",
       "16695                               Bust-A-Move 3000       GC   \n",
       "16696                               Mega Brain Boost       DS   \n",
       "16702                                       Plushees       DS   \n",
       "16704                  Men in Black II: Alien Escape       GC   \n",
       "\n",
       "       year_of_release         genre  na_sales  eu_sales  jp_sales  \\\n",
       "16566           2007.0        Puzzle      0.00      0.01      0.00   \n",
       "16572           2008.0          Misc      0.01      0.00      0.00   \n",
       "16575           2003.0       Shooter      0.01      0.00      0.00   \n",
       "16591           2014.0        Action      0.00      0.01      0.00   \n",
       "16597           2014.0        Puzzle      0.00      0.01      0.00   \n",
       "16613           2012.0        Puzzle      0.01      0.00      0.00   \n",
       "16624           2010.0          Misc      0.01      0.00      0.00   \n",
       "16631           2008.0        Racing      0.01      0.00      0.00   \n",
       "16636           2014.0        Sports      0.00      0.01      0.00   \n",
       "16645           2011.0        Action      0.00      0.00      0.01   \n",
       "16648           2009.0     Adventure      0.00      0.01      0.00   \n",
       "16653           2008.0        Sports      0.00      0.01      0.00   \n",
       "16667           2002.0  Role-Playing      0.01      0.00      0.00   \n",
       "16670           2016.0        Action      0.01      0.00      0.00   \n",
       "16686           2011.0        Sports      0.01      0.00      0.00   \n",
       "16693           2001.0        Action      0.01      0.00      0.00   \n",
       "16695           2003.0        Puzzle      0.01      0.00      0.00   \n",
       "16696           2008.0        Puzzle      0.01      0.00      0.00   \n",
       "16702           2008.0    Simulation      0.01      0.00      0.00   \n",
       "16704           2003.0       Shooter      0.01      0.00      0.00   \n",
       "\n",
       "       other_sales  critic_score user_score          rating  \n",
       "16566          0.0           NaN        tbd               E  \n",
       "16572          0.0           NaN        tbd               E  \n",
       "16575          0.0          40.0        tbd               T  \n",
       "16591          0.0           NaN        tbd               E  \n",
       "16597          0.0           NaN        tbd               E  \n",
       "16613          0.0           NaN        tbd               E  \n",
       "16624          0.0           NaN        tbd               T  \n",
       "16631          0.0           NaN        tbd            E10+  \n",
       "16636          0.0           NaN        tbd               E  \n",
       "16645          0.0           NaN        tbd               M  \n",
       "16648          0.0           NaN        tbd               T  \n",
       "16653          0.0           NaN        tbd  unknown_rating  \n",
       "16667          0.0          72.0        tbd               T  \n",
       "16670          0.0           NaN        tbd               M  \n",
       "16686          0.0           NaN        tbd               T  \n",
       "16693          0.0          67.0        tbd               E  \n",
       "16695          0.0          53.0        tbd               E  \n",
       "16696          0.0          48.0        tbd               E  \n",
       "16702          0.0           NaN        tbd               E  \n",
       "16704          0.0           NaN        tbd               T  "
      ]
     },
     "metadata": {},
     "output_type": "display_data"
    }
   ],
   "source": [
    "display(dataset[dataset['user_score']== '0'].head())\n",
    "display(dataset[dataset['user_score']== 'tbd'].head(20))\n",
    "display(dataset[dataset['user_score']== 'tbd'].tail(20))"
   ]
  },
  {
   "cell_type": "markdown",
   "metadata": {},
   "source": [
    "Игра с рейтингом 0 - My Little Pony. Вряд ли целевая аудитория игры в состоянии оценить игру для использования этого результата в рейтинге. \n",
    "\n",
    "Визуальный анализ таблицы показал: Среди игр со значением tbd в признаке \"user_score\" много непопулярным симуляторов, игр по фильмам и мультикам, а также игр для детей. Часто у таких игр нет оценки критиков. Эти выводы не позволяют выявить какую-то закономерность, поэтому логика, предчувствие и гугл подсказывают, что значение \"tbd\" означает \"ожидается оценка\" (возможная расшифровка \"to be determined\"), что по смыслу является аналогией NaN в нашем случае. Поэтому заменим все значения tbd на NaN в интересующем нас столбце для того, что бы формат столбца был float и позволял производить математические вычисления с ним. Для надежности, добавим столбец tbd , в котором в строках со значением tbd в признаке \"user_score\" будет True, иначе False - возможно эти данные понадобятся для анализа далее. \n"
   ]
  },
  {
   "cell_type": "code",
   "execution_count": 11,
   "metadata": {},
   "outputs": [
    {
     "data": {
      "text/html": [
       "<div>\n",
       "<style scoped>\n",
       "    .dataframe tbody tr th:only-of-type {\n",
       "        vertical-align: middle;\n",
       "    }\n",
       "\n",
       "    .dataframe tbody tr th {\n",
       "        vertical-align: top;\n",
       "    }\n",
       "\n",
       "    .dataframe thead th {\n",
       "        text-align: right;\n",
       "    }\n",
       "</style>\n",
       "<table border=\"1\" class=\"dataframe\">\n",
       "  <thead>\n",
       "    <tr style=\"text-align: right;\">\n",
       "      <th></th>\n",
       "      <th>name</th>\n",
       "      <th>platform</th>\n",
       "      <th>year_of_release</th>\n",
       "      <th>genre</th>\n",
       "      <th>na_sales</th>\n",
       "      <th>eu_sales</th>\n",
       "      <th>jp_sales</th>\n",
       "      <th>other_sales</th>\n",
       "      <th>critic_score</th>\n",
       "      <th>user_score</th>\n",
       "      <th>rating</th>\n",
       "      <th>tbd</th>\n",
       "    </tr>\n",
       "  </thead>\n",
       "  <tbody>\n",
       "    <tr>\n",
       "      <td>119</td>\n",
       "      <td>Zumba Fitness</td>\n",
       "      <td>Wii</td>\n",
       "      <td>2010.0</td>\n",
       "      <td>Sports</td>\n",
       "      <td>3.45</td>\n",
       "      <td>2.59</td>\n",
       "      <td>0.0</td>\n",
       "      <td>0.66</td>\n",
       "      <td>NaN</td>\n",
       "      <td>tbd</td>\n",
       "      <td>E</td>\n",
       "      <td>True</td>\n",
       "    </tr>\n",
       "    <tr>\n",
       "      <td>301</td>\n",
       "      <td>Namco Museum: 50th Anniversary</td>\n",
       "      <td>PS2</td>\n",
       "      <td>2005.0</td>\n",
       "      <td>Misc</td>\n",
       "      <td>2.08</td>\n",
       "      <td>1.35</td>\n",
       "      <td>0.0</td>\n",
       "      <td>0.54</td>\n",
       "      <td>61.0</td>\n",
       "      <td>tbd</td>\n",
       "      <td>E10+</td>\n",
       "      <td>True</td>\n",
       "    </tr>\n",
       "    <tr>\n",
       "      <td>520</td>\n",
       "      <td>Zumba Fitness 2</td>\n",
       "      <td>Wii</td>\n",
       "      <td>2011.0</td>\n",
       "      <td>Sports</td>\n",
       "      <td>1.51</td>\n",
       "      <td>1.03</td>\n",
       "      <td>0.0</td>\n",
       "      <td>0.27</td>\n",
       "      <td>NaN</td>\n",
       "      <td>tbd</td>\n",
       "      <td>T</td>\n",
       "      <td>True</td>\n",
       "    </tr>\n",
       "    <tr>\n",
       "      <td>645</td>\n",
       "      <td>uDraw Studio</td>\n",
       "      <td>Wii</td>\n",
       "      <td>2010.0</td>\n",
       "      <td>Misc</td>\n",
       "      <td>1.65</td>\n",
       "      <td>0.57</td>\n",
       "      <td>0.0</td>\n",
       "      <td>0.20</td>\n",
       "      <td>71.0</td>\n",
       "      <td>tbd</td>\n",
       "      <td>E</td>\n",
       "      <td>True</td>\n",
       "    </tr>\n",
       "    <tr>\n",
       "      <td>657</td>\n",
       "      <td>Frogger's Adventures: Temple of the Frog</td>\n",
       "      <td>GBA</td>\n",
       "      <td>NaN</td>\n",
       "      <td>Adventure</td>\n",
       "      <td>2.15</td>\n",
       "      <td>0.18</td>\n",
       "      <td>0.0</td>\n",
       "      <td>0.07</td>\n",
       "      <td>73.0</td>\n",
       "      <td>tbd</td>\n",
       "      <td>E</td>\n",
       "      <td>True</td>\n",
       "    </tr>\n",
       "  </tbody>\n",
       "</table>\n",
       "</div>"
      ],
      "text/plain": [
       "                                         name platform  year_of_release  \\\n",
       "119                             Zumba Fitness      Wii           2010.0   \n",
       "301            Namco Museum: 50th Anniversary      PS2           2005.0   \n",
       "520                           Zumba Fitness 2      Wii           2011.0   \n",
       "645                              uDraw Studio      Wii           2010.0   \n",
       "657  Frogger's Adventures: Temple of the Frog      GBA              NaN   \n",
       "\n",
       "         genre  na_sales  eu_sales  jp_sales  other_sales  critic_score  \\\n",
       "119     Sports      3.45      2.59       0.0         0.66           NaN   \n",
       "301       Misc      2.08      1.35       0.0         0.54          61.0   \n",
       "520     Sports      1.51      1.03       0.0         0.27           NaN   \n",
       "645       Misc      1.65      0.57       0.0         0.20          71.0   \n",
       "657  Adventure      2.15      0.18       0.0         0.07          73.0   \n",
       "\n",
       "    user_score rating   tbd  \n",
       "119        tbd      E  True  \n",
       "301        tbd   E10+  True  \n",
       "520        tbd      T  True  \n",
       "645        tbd      E  True  \n",
       "657        tbd      E  True  "
      ]
     },
     "metadata": {},
     "output_type": "display_data"
    },
    {
     "data": {
      "text/html": [
       "<div>\n",
       "<style scoped>\n",
       "    .dataframe tbody tr th:only-of-type {\n",
       "        vertical-align: middle;\n",
       "    }\n",
       "\n",
       "    .dataframe tbody tr th {\n",
       "        vertical-align: top;\n",
       "    }\n",
       "\n",
       "    .dataframe thead th {\n",
       "        text-align: right;\n",
       "    }\n",
       "</style>\n",
       "<table border=\"1\" class=\"dataframe\">\n",
       "  <thead>\n",
       "    <tr style=\"text-align: right;\">\n",
       "      <th></th>\n",
       "      <th>name</th>\n",
       "      <th>platform</th>\n",
       "      <th>year_of_release</th>\n",
       "      <th>genre</th>\n",
       "      <th>na_sales</th>\n",
       "      <th>eu_sales</th>\n",
       "      <th>jp_sales</th>\n",
       "      <th>other_sales</th>\n",
       "      <th>critic_score</th>\n",
       "      <th>user_score</th>\n",
       "      <th>rating</th>\n",
       "      <th>tbd</th>\n",
       "    </tr>\n",
       "  </thead>\n",
       "  <tbody>\n",
       "  </tbody>\n",
       "</table>\n",
       "</div>"
      ],
      "text/plain": [
       "Empty DataFrame\n",
       "Columns: [name, platform, year_of_release, genre, na_sales, eu_sales, jp_sales, other_sales, critic_score, user_score, rating, tbd]\n",
       "Index: []"
      ]
     },
     "metadata": {},
     "output_type": "display_data"
    },
    {
     "name": "stdout",
     "output_type": "stream",
     "text": [
      "<class 'pandas.core.frame.DataFrame'>\n",
      "RangeIndex: 16713 entries, 0 to 16712\n",
      "Data columns (total 12 columns):\n",
      "name               16713 non-null object\n",
      "platform           16713 non-null object\n",
      "year_of_release    16444 non-null float64\n",
      "genre              16713 non-null object\n",
      "na_sales           16713 non-null float64\n",
      "eu_sales           16713 non-null float64\n",
      "jp_sales           16713 non-null float64\n",
      "other_sales        16713 non-null float64\n",
      "critic_score       8137 non-null float64\n",
      "user_score         7590 non-null object\n",
      "rating             16713 non-null object\n",
      "tbd                16713 non-null bool\n",
      "dtypes: bool(1), float64(6), object(5)\n",
      "memory usage: 1.4+ MB\n"
     ]
    },
    {
     "data": {
      "text/plain": [
       "None"
      ]
     },
     "metadata": {},
     "output_type": "display_data"
    }
   ],
   "source": [
    "dataset['tbd'] = dataset['user_score'].apply(lambda x: True if x=='tbd' else False)\n",
    "display(dataset[dataset['user_score']== 'tbd'].head())\n",
    "dataset['user_score'] = dataset['user_score'].apply(lambda x: np.nan if x=='tbd' else x)\n",
    "display(dataset[dataset['user_score']== 'tbd'].head())\n",
    "display(dataset.info())\n"
   ]
  },
  {
   "cell_type": "markdown",
   "metadata": {},
   "source": [
    "### Преобразование типов данных"
   ]
  },
  {
   "cell_type": "markdown",
   "metadata": {},
   "source": [
    "Выделим столбцы в таблицах, для которых необходимо поменять тип данных:\n",
    "\n",
    "Тип данных у столбеца  **\"year_of_release\"** для удобства вычисления желательно сменить на int, т.к. год не может быть дробным.\n",
    "\n",
    "Тип данных у столбеца  **\"user_score\"** желательно сменить на float, т.к. в этом столбце хранятся данные о рейтинге, значения которого могут быть дробными числами.\n",
    "\n"
   ]
  },
  {
   "cell_type": "code",
   "execution_count": 12,
   "metadata": {},
   "outputs": [
    {
     "name": "stdout",
     "output_type": "stream",
     "text": [
      "<class 'pandas.core.frame.DataFrame'>\n",
      "RangeIndex: 16713 entries, 0 to 16712\n",
      "Data columns (total 12 columns):\n",
      "name               16713 non-null object\n",
      "platform           16713 non-null object\n",
      "year_of_release    16444 non-null Int64\n",
      "genre              16713 non-null object\n",
      "na_sales           16713 non-null float64\n",
      "eu_sales           16713 non-null float64\n",
      "jp_sales           16713 non-null float64\n",
      "other_sales        16713 non-null float64\n",
      "critic_score       8137 non-null float64\n",
      "user_score         7590 non-null float64\n",
      "rating             16713 non-null object\n",
      "tbd                16713 non-null bool\n",
      "dtypes: Int64(1), bool(1), float64(6), object(4)\n",
      "memory usage: 1.4+ MB\n"
     ]
    },
    {
     "data": {
      "text/plain": [
       "None"
      ]
     },
     "metadata": {},
     "output_type": "display_data"
    }
   ],
   "source": [
    "dataset['user_score'] = dataset['user_score'].astype(float)\n",
    "dataset['year_of_release'] = dataset['year_of_release'].astype('Int64')\n",
    "display(dataset.info())"
   ]
  },
  {
   "cell_type": "markdown",
   "metadata": {},
   "source": [
    "### Произведение расчетов"
   ]
  },
  {
   "cell_type": "markdown",
   "metadata": {},
   "source": [
    "Вычислим, сколько было суммарно продаж по всем регионам в столбец \"total_sales\""
   ]
  },
  {
   "cell_type": "code",
   "execution_count": 13,
   "metadata": {},
   "outputs": [
    {
     "data": {
      "text/html": [
       "<div>\n",
       "<style scoped>\n",
       "    .dataframe tbody tr th:only-of-type {\n",
       "        vertical-align: middle;\n",
       "    }\n",
       "\n",
       "    .dataframe tbody tr th {\n",
       "        vertical-align: top;\n",
       "    }\n",
       "\n",
       "    .dataframe thead th {\n",
       "        text-align: right;\n",
       "    }\n",
       "</style>\n",
       "<table border=\"1\" class=\"dataframe\">\n",
       "  <thead>\n",
       "    <tr style=\"text-align: right;\">\n",
       "      <th></th>\n",
       "      <th>name</th>\n",
       "      <th>platform</th>\n",
       "      <th>year_of_release</th>\n",
       "      <th>genre</th>\n",
       "      <th>na_sales</th>\n",
       "      <th>eu_sales</th>\n",
       "      <th>jp_sales</th>\n",
       "      <th>other_sales</th>\n",
       "      <th>critic_score</th>\n",
       "      <th>user_score</th>\n",
       "      <th>rating</th>\n",
       "      <th>tbd</th>\n",
       "      <th>total_sales</th>\n",
       "    </tr>\n",
       "  </thead>\n",
       "  <tbody>\n",
       "    <tr>\n",
       "      <td>0</td>\n",
       "      <td>Wii Sports</td>\n",
       "      <td>Wii</td>\n",
       "      <td>2006</td>\n",
       "      <td>Sports</td>\n",
       "      <td>41.36</td>\n",
       "      <td>28.96</td>\n",
       "      <td>3.77</td>\n",
       "      <td>8.45</td>\n",
       "      <td>76.0</td>\n",
       "      <td>8.0</td>\n",
       "      <td>E</td>\n",
       "      <td>False</td>\n",
       "      <td>82.54</td>\n",
       "    </tr>\n",
       "    <tr>\n",
       "      <td>1</td>\n",
       "      <td>Super Mario Bros.</td>\n",
       "      <td>NES</td>\n",
       "      <td>1985</td>\n",
       "      <td>Platform</td>\n",
       "      <td>29.08</td>\n",
       "      <td>3.58</td>\n",
       "      <td>6.81</td>\n",
       "      <td>0.77</td>\n",
       "      <td>NaN</td>\n",
       "      <td>NaN</td>\n",
       "      <td>unknown_rating</td>\n",
       "      <td>False</td>\n",
       "      <td>40.24</td>\n",
       "    </tr>\n",
       "    <tr>\n",
       "      <td>2</td>\n",
       "      <td>Mario Kart Wii</td>\n",
       "      <td>Wii</td>\n",
       "      <td>2008</td>\n",
       "      <td>Racing</td>\n",
       "      <td>15.68</td>\n",
       "      <td>12.76</td>\n",
       "      <td>3.79</td>\n",
       "      <td>3.29</td>\n",
       "      <td>82.0</td>\n",
       "      <td>8.3</td>\n",
       "      <td>E</td>\n",
       "      <td>False</td>\n",
       "      <td>35.52</td>\n",
       "    </tr>\n",
       "    <tr>\n",
       "      <td>3</td>\n",
       "      <td>Wii Sports Resort</td>\n",
       "      <td>Wii</td>\n",
       "      <td>2009</td>\n",
       "      <td>Sports</td>\n",
       "      <td>15.61</td>\n",
       "      <td>10.93</td>\n",
       "      <td>3.28</td>\n",
       "      <td>2.95</td>\n",
       "      <td>80.0</td>\n",
       "      <td>8.0</td>\n",
       "      <td>E</td>\n",
       "      <td>False</td>\n",
       "      <td>32.77</td>\n",
       "    </tr>\n",
       "    <tr>\n",
       "      <td>4</td>\n",
       "      <td>Pokemon Red/Pokemon Blue</td>\n",
       "      <td>GB</td>\n",
       "      <td>1996</td>\n",
       "      <td>Role-Playing</td>\n",
       "      <td>11.27</td>\n",
       "      <td>8.89</td>\n",
       "      <td>10.22</td>\n",
       "      <td>1.00</td>\n",
       "      <td>NaN</td>\n",
       "      <td>NaN</td>\n",
       "      <td>unknown_rating</td>\n",
       "      <td>False</td>\n",
       "      <td>31.38</td>\n",
       "    </tr>\n",
       "  </tbody>\n",
       "</table>\n",
       "</div>"
      ],
      "text/plain": [
       "                       name platform  year_of_release         genre  na_sales  \\\n",
       "0                Wii Sports      Wii             2006        Sports     41.36   \n",
       "1         Super Mario Bros.      NES             1985      Platform     29.08   \n",
       "2            Mario Kart Wii      Wii             2008        Racing     15.68   \n",
       "3         Wii Sports Resort      Wii             2009        Sports     15.61   \n",
       "4  Pokemon Red/Pokemon Blue       GB             1996  Role-Playing     11.27   \n",
       "\n",
       "   eu_sales  jp_sales  other_sales  critic_score  user_score          rating  \\\n",
       "0     28.96      3.77         8.45          76.0         8.0               E   \n",
       "1      3.58      6.81         0.77           NaN         NaN  unknown_rating   \n",
       "2     12.76      3.79         3.29          82.0         8.3               E   \n",
       "3     10.93      3.28         2.95          80.0         8.0               E   \n",
       "4      8.89     10.22         1.00           NaN         NaN  unknown_rating   \n",
       "\n",
       "     tbd  total_sales  \n",
       "0  False        82.54  \n",
       "1  False        40.24  \n",
       "2  False        35.52  \n",
       "3  False        32.77  \n",
       "4  False        31.38  "
      ]
     },
     "metadata": {},
     "output_type": "display_data"
    }
   ],
   "source": [
    "dataset['total_sales'] = dataset['na_sales']+dataset['eu_sales']+dataset['jp_sales']+dataset['other_sales']\n",
    "display(dataset.head())"
   ]
  },
  {
   "cell_type": "markdown",
   "metadata": {},
   "source": [
    "### Вывод"
   ]
  },
  {
   "cell_type": "markdown",
   "metadata": {},
   "source": [
    "Данные подготовлены: считаны, очищены от пропусков, дублей и ошибок, преобразованы к нужным типам данных. Произведен расчет суммарных продаж по всем регионам. Можно переходить к анализу данных."
   ]
  },
  {
   "cell_type": "markdown",
   "metadata": {},
   "source": [
    "## Исследовальский анализ данных"
   ]
  },
  {
   "cell_type": "markdown",
   "metadata": {},
   "source": [
    "### Выбор периода для анализа и прогноза"
   ]
  },
  {
   "cell_type": "markdown",
   "metadata": {},
   "source": [
    "Посмотрим, сколько игр выпускалось в разные годы. Для этого выведем сводную таблицу по году и построим график распределения выпущенных игр по годам."
   ]
  },
  {
   "cell_type": "code",
   "execution_count": 14,
   "metadata": {},
   "outputs": [
    {
     "data": {
      "image/png": "[encoded data removed]",
      "text/plain": [
       "<Figure size 432x288 with 1 Axes>"
      ]
     },
     "metadata": {
      "needs_background": "light"
     },
     "output_type": "display_data"
    },
    {
     "data": {
      "text/html": [
       "<div>\n",
       "<style scoped>\n",
       "    .dataframe tbody tr th:only-of-type {\n",
       "        vertical-align: middle;\n",
       "    }\n",
       "\n",
       "    .dataframe tbody tr th {\n",
       "        vertical-align: top;\n",
       "    }\n",
       "\n",
       "    .dataframe thead th {\n",
       "        text-align: right;\n",
       "    }\n",
       "</style>\n",
       "<table border=\"1\" class=\"dataframe\">\n",
       "  <thead>\n",
       "    <tr style=\"text-align: right;\">\n",
       "      <th></th>\n",
       "      <th>year_of_release</th>\n",
       "      <th>name</th>\n",
       "    </tr>\n",
       "  </thead>\n",
       "  <tbody>\n",
       "    <tr>\n",
       "      <td>0</td>\n",
       "      <td>1980</td>\n",
       "      <td>9</td>\n",
       "    </tr>\n",
       "    <tr>\n",
       "      <td>1</td>\n",
       "      <td>1981</td>\n",
       "      <td>46</td>\n",
       "    </tr>\n",
       "    <tr>\n",
       "      <td>2</td>\n",
       "      <td>1982</td>\n",
       "      <td>36</td>\n",
       "    </tr>\n",
       "    <tr>\n",
       "      <td>3</td>\n",
       "      <td>1983</td>\n",
       "      <td>17</td>\n",
       "    </tr>\n",
       "    <tr>\n",
       "      <td>4</td>\n",
       "      <td>1984</td>\n",
       "      <td>14</td>\n",
       "    </tr>\n",
       "    <tr>\n",
       "      <td>5</td>\n",
       "      <td>1985</td>\n",
       "      <td>14</td>\n",
       "    </tr>\n",
       "    <tr>\n",
       "      <td>6</td>\n",
       "      <td>1986</td>\n",
       "      <td>21</td>\n",
       "    </tr>\n",
       "    <tr>\n",
       "      <td>7</td>\n",
       "      <td>1987</td>\n",
       "      <td>16</td>\n",
       "    </tr>\n",
       "    <tr>\n",
       "      <td>8</td>\n",
       "      <td>1988</td>\n",
       "      <td>15</td>\n",
       "    </tr>\n",
       "    <tr>\n",
       "      <td>9</td>\n",
       "      <td>1989</td>\n",
       "      <td>17</td>\n",
       "    </tr>\n",
       "    <tr>\n",
       "      <td>10</td>\n",
       "      <td>1990</td>\n",
       "      <td>16</td>\n",
       "    </tr>\n",
       "    <tr>\n",
       "      <td>11</td>\n",
       "      <td>1991</td>\n",
       "      <td>41</td>\n",
       "    </tr>\n",
       "    <tr>\n",
       "      <td>12</td>\n",
       "      <td>1992</td>\n",
       "      <td>43</td>\n",
       "    </tr>\n",
       "    <tr>\n",
       "      <td>13</td>\n",
       "      <td>1993</td>\n",
       "      <td>60</td>\n",
       "    </tr>\n",
       "    <tr>\n",
       "      <td>14</td>\n",
       "      <td>1994</td>\n",
       "      <td>121</td>\n",
       "    </tr>\n",
       "    <tr>\n",
       "      <td>15</td>\n",
       "      <td>1995</td>\n",
       "      <td>219</td>\n",
       "    </tr>\n",
       "    <tr>\n",
       "      <td>16</td>\n",
       "      <td>1996</td>\n",
       "      <td>263</td>\n",
       "    </tr>\n",
       "    <tr>\n",
       "      <td>17</td>\n",
       "      <td>1997</td>\n",
       "      <td>289</td>\n",
       "    </tr>\n",
       "    <tr>\n",
       "      <td>18</td>\n",
       "      <td>1998</td>\n",
       "      <td>379</td>\n",
       "    </tr>\n",
       "    <tr>\n",
       "      <td>19</td>\n",
       "      <td>1999</td>\n",
       "      <td>338</td>\n",
       "    </tr>\n",
       "    <tr>\n",
       "      <td>20</td>\n",
       "      <td>2000</td>\n",
       "      <td>350</td>\n",
       "    </tr>\n",
       "    <tr>\n",
       "      <td>21</td>\n",
       "      <td>2001</td>\n",
       "      <td>482</td>\n",
       "    </tr>\n",
       "    <tr>\n",
       "      <td>22</td>\n",
       "      <td>2002</td>\n",
       "      <td>829</td>\n",
       "    </tr>\n",
       "    <tr>\n",
       "      <td>23</td>\n",
       "      <td>2003</td>\n",
       "      <td>775</td>\n",
       "    </tr>\n",
       "    <tr>\n",
       "      <td>24</td>\n",
       "      <td>2004</td>\n",
       "      <td>762</td>\n",
       "    </tr>\n",
       "    <tr>\n",
       "      <td>25</td>\n",
       "      <td>2005</td>\n",
       "      <td>939</td>\n",
       "    </tr>\n",
       "    <tr>\n",
       "      <td>26</td>\n",
       "      <td>2006</td>\n",
       "      <td>1006</td>\n",
       "    </tr>\n",
       "    <tr>\n",
       "      <td>27</td>\n",
       "      <td>2007</td>\n",
       "      <td>1197</td>\n",
       "    </tr>\n",
       "    <tr>\n",
       "      <td>28</td>\n",
       "      <td>2008</td>\n",
       "      <td>1427</td>\n",
       "    </tr>\n",
       "    <tr>\n",
       "      <td>29</td>\n",
       "      <td>2009</td>\n",
       "      <td>1426</td>\n",
       "    </tr>\n",
       "    <tr>\n",
       "      <td>30</td>\n",
       "      <td>2010</td>\n",
       "      <td>1255</td>\n",
       "    </tr>\n",
       "    <tr>\n",
       "      <td>31</td>\n",
       "      <td>2011</td>\n",
       "      <td>1136</td>\n",
       "    </tr>\n",
       "    <tr>\n",
       "      <td>32</td>\n",
       "      <td>2012</td>\n",
       "      <td>653</td>\n",
       "    </tr>\n",
       "    <tr>\n",
       "      <td>33</td>\n",
       "      <td>2013</td>\n",
       "      <td>544</td>\n",
       "    </tr>\n",
       "    <tr>\n",
       "      <td>34</td>\n",
       "      <td>2014</td>\n",
       "      <td>581</td>\n",
       "    </tr>\n",
       "    <tr>\n",
       "      <td>35</td>\n",
       "      <td>2015</td>\n",
       "      <td>606</td>\n",
       "    </tr>\n",
       "    <tr>\n",
       "      <td>36</td>\n",
       "      <td>2016</td>\n",
       "      <td>502</td>\n",
       "    </tr>\n",
       "  </tbody>\n",
       "</table>\n",
       "</div>"
      ],
      "text/plain": [
       "    year_of_release  name\n",
       "0              1980     9\n",
       "1              1981    46\n",
       "2              1982    36\n",
       "3              1983    17\n",
       "4              1984    14\n",
       "5              1985    14\n",
       "6              1986    21\n",
       "7              1987    16\n",
       "8              1988    15\n",
       "9              1989    17\n",
       "10             1990    16\n",
       "11             1991    41\n",
       "12             1992    43\n",
       "13             1993    60\n",
       "14             1994   121\n",
       "15             1995   219\n",
       "16             1996   263\n",
       "17             1997   289\n",
       "18             1998   379\n",
       "19             1999   338\n",
       "20             2000   350\n",
       "21             2001   482\n",
       "22             2002   829\n",
       "23             2003   775\n",
       "24             2004   762\n",
       "25             2005   939\n",
       "26             2006  1006\n",
       "27             2007  1197\n",
       "28             2008  1427\n",
       "29             2009  1426\n",
       "30             2010  1255\n",
       "31             2011  1136\n",
       "32             2012   653\n",
       "33             2013   544\n",
       "34             2014   581\n",
       "35             2015   606\n",
       "36             2016   502"
      ]
     },
     "metadata": {},
     "output_type": "display_data"
    }
   ],
   "source": [
    "year_pivot = dataset.pivot_table(index = 'year_of_release', values = 'name', aggfunc = 'count').reset_index()\n",
    "plt.bar(year_pivot['year_of_release'],year_pivot['name'])\n",
    "plt.title('Распределение выпущенных игр по годам')\n",
    "plt.show()\n",
    "display(year_pivot.head(50))\n",
    "\n"
   ]
  },
  {
   "cell_type": "markdown",
   "metadata": {},
   "source": [
    "Из сводной таблицы и графика видно, что количество выпущенных игр на любые платформы росло начиная с 1980 до 2009 года, далее до 2011 снижалась, а далее был резкий провал в 2012 и далее в год выходило примерно по 500-600 игр. Возможно, это связано с закрытием каких-то платформ, на которые выходило большое количество игр и/или разработки игр на игровых движках нового поколения (ps4 вышла в 2013 году, значит, что разработка началась раньше), что повлияло на стоимость разработки игр, а значит и их количество. \n",
    "\n",
    "**Анализируя график можно предположить, что оптимальный период, в течение которого количество выпущенных игр находится рядом - 5 лет.** "
   ]
  },
  {
   "cell_type": "markdown",
   "metadata": {},
   "source": [
    "Проверим, как менялись продажи по популярным платформам с годами. Какой, в среднем, жизненный цикл платформы. Для этого построим графики распределения по годам для каждой платформы. \n",
    "\n",
    "За платформы с наибольшими суммарными продажами возьмем те платформы, у которых общее количество больше значения третьего квартиля."
   ]
  },
  {
   "cell_type": "code",
   "execution_count": 15,
   "metadata": {},
   "outputs": [
    {
     "name": "stdout",
     "output_type": "stream",
     "text": [
      "В отбор попадут все платформы с общим количеством продаж выше 304.0949999999971\n"
     ]
    },
    {
     "data": {
      "text/html": [
       "<div>\n",
       "<style scoped>\n",
       "    .dataframe tbody tr th:only-of-type {\n",
       "        vertical-align: middle;\n",
       "    }\n",
       "\n",
       "    .dataframe tbody tr th {\n",
       "        vertical-align: top;\n",
       "    }\n",
       "\n",
       "    .dataframe thead th {\n",
       "        text-align: right;\n",
       "    }\n",
       "</style>\n",
       "<table border=\"1\" class=\"dataframe\">\n",
       "  <thead>\n",
       "    <tr style=\"text-align: right;\">\n",
       "      <th></th>\n",
       "      <th>platform</th>\n",
       "      <th>total_sales</th>\n",
       "    </tr>\n",
       "  </thead>\n",
       "  <tbody>\n",
       "    <tr>\n",
       "      <td>0</td>\n",
       "      <td>PS2</td>\n",
       "      <td>1255.77</td>\n",
       "    </tr>\n",
       "    <tr>\n",
       "      <td>1</td>\n",
       "      <td>X360</td>\n",
       "      <td>971.42</td>\n",
       "    </tr>\n",
       "    <tr>\n",
       "      <td>2</td>\n",
       "      <td>PS3</td>\n",
       "      <td>939.65</td>\n",
       "    </tr>\n",
       "    <tr>\n",
       "      <td>3</td>\n",
       "      <td>Wii</td>\n",
       "      <td>907.51</td>\n",
       "    </tr>\n",
       "    <tr>\n",
       "      <td>4</td>\n",
       "      <td>DS</td>\n",
       "      <td>806.12</td>\n",
       "    </tr>\n",
       "    <tr>\n",
       "      <td>5</td>\n",
       "      <td>PS</td>\n",
       "      <td>730.86</td>\n",
       "    </tr>\n",
       "    <tr>\n",
       "      <td>6</td>\n",
       "      <td>GBA</td>\n",
       "      <td>317.85</td>\n",
       "    </tr>\n",
       "    <tr>\n",
       "      <td>7</td>\n",
       "      <td>PS4</td>\n",
       "      <td>314.14</td>\n",
       "    </tr>\n",
       "  </tbody>\n",
       "</table>\n",
       "</div>"
      ],
      "text/plain": [
       "  platform  total_sales\n",
       "0      PS2      1255.77\n",
       "1     X360       971.42\n",
       "2      PS3       939.65\n",
       "3      Wii       907.51\n",
       "4       DS       806.12\n",
       "5       PS       730.86\n",
       "6      GBA       317.85\n",
       "7      PS4       314.14"
      ]
     },
     "metadata": {},
     "output_type": "display_data"
    }
   ],
   "source": [
    "platform_pivot = dataset.pivot_table(index = 'platform', values = 'total_sales', aggfunc = 'sum').sort_values(by = 'total_sales', ascending = False).reset_index()\n",
    "\n",
    "platform_q3 = platform_pivot['total_sales'].quantile(.75)\n",
    "print('В отбор попадут все платформы с общим количеством продаж выше',platform_q3)\n",
    "platform_pivot_q3 = platform_pivot.query('total_sales > @platform_q3')\n",
    "display(platform_pivot_q3)"
   ]
  },
  {
   "cell_type": "code",
   "execution_count": 16,
   "metadata": {},
   "outputs": [
    {
     "data": {
      "text/html": [
       "<div>\n",
       "<style scoped>\n",
       "    .dataframe tbody tr th:only-of-type {\n",
       "        vertical-align: middle;\n",
       "    }\n",
       "\n",
       "    .dataframe tbody tr th {\n",
       "        vertical-align: top;\n",
       "    }\n",
       "\n",
       "    .dataframe thead th {\n",
       "        text-align: right;\n",
       "    }\n",
       "</style>\n",
       "<table border=\"1\" class=\"dataframe\">\n",
       "  <thead>\n",
       "    <tr style=\"text-align: right;\">\n",
       "      <th></th>\n",
       "      <th>year_of_release</th>\n",
       "      <th>total_sales</th>\n",
       "    </tr>\n",
       "  </thead>\n",
       "  <tbody>\n",
       "    <tr>\n",
       "      <td>0</td>\n",
       "      <td>2013</td>\n",
       "      <td>25.99</td>\n",
       "    </tr>\n",
       "    <tr>\n",
       "      <td>1</td>\n",
       "      <td>2014</td>\n",
       "      <td>100.00</td>\n",
       "    </tr>\n",
       "    <tr>\n",
       "      <td>2</td>\n",
       "      <td>2015</td>\n",
       "      <td>118.90</td>\n",
       "    </tr>\n",
       "    <tr>\n",
       "      <td>3</td>\n",
       "      <td>2016</td>\n",
       "      <td>69.25</td>\n",
       "    </tr>\n",
       "  </tbody>\n",
       "</table>\n",
       "</div>"
      ],
      "text/plain": [
       "   year_of_release  total_sales\n",
       "0             2013        25.99\n",
       "1             2014       100.00\n",
       "2             2015       118.90\n",
       "3             2016        69.25"
      ]
     },
     "metadata": {},
     "output_type": "display_data"
    },
    {
     "data": {
      "image/png": "[encoded data removed]",
      "text/plain": [
       "<Figure size 432x288 with 1 Axes>"
      ]
     },
     "metadata": {
      "needs_background": "light"
     },
     "output_type": "display_data"
    },
    {
     "data": {
      "image/png": "[encoded data removed]",
      "text/plain": [
       "<Figure size 432x288 with 1 Axes>"
      ]
     },
     "metadata": {
      "needs_background": "light"
     },
     "output_type": "display_data"
    },
    {
     "data": {
      "image/png": "[encoded data removed]",
      "text/plain": [
       "<Figure size 432x288 with 1 Axes>"
      ]
     },
     "metadata": {
      "needs_background": "light"
     },
     "output_type": "display_data"
    },
    {
     "data": {
      "image/png": "[encoded data removed]",
      "text/plain": [
       "<Figure size 432x288 with 1 Axes>"
      ]
     },
     "metadata": {
      "needs_background": "light"
     },
     "output_type": "display_data"
    },
    {
     "data": {
      "image/png": "[encoded data removed]",
      "text/plain": [
       "<Figure size 432x288 with 1 Axes>"
      ]
     },
     "metadata": {
      "needs_background": "light"
     },
     "output_type": "display_data"
    },
    {
     "data": {
      "image/png": "[encoded data removed]",
      "text/plain": [
       "<Figure size 432x288 with 1 Axes>"
      ]
     },
     "metadata": {
      "needs_background": "light"
     },
     "output_type": "display_data"
    },
    {
     "data": {
      "image/png": "[encoded data removed]",
      "text/plain": [
       "<Figure size 432x288 with 1 Axes>"
      ]
     },
     "metadata": {
      "needs_background": "light"
     },
     "output_type": "display_data"
    },
    {
     "data": {
      "image/png": "[encoded data removed]",
      "text/plain": [
       "<Figure size 432x288 with 1 Axes>"
      ]
     },
     "metadata": {
      "needs_background": "light"
     },
     "output_type": "display_data"
    },
    {
     "data": {
      "image/png": "[encoded data removed]",
      "text/plain": [
       "<Figure size 432x288 with 1 Axes>"
      ]
     },
     "metadata": {
      "needs_background": "light"
     },
     "output_type": "display_data"
    }
   ],
   "source": [
    "\n",
    "ds = dataset.query('platform == \"PS4\"').pivot_table(index = 'year_of_release', values = 'total_sales', aggfunc = 'sum').reset_index()\n",
    "display(ds)\n",
    "\n",
    "for each in platform_pivot_q3['platform']:\n",
    "    ds = dataset.query('platform == @each').pivot_table(index = 'year_of_release', values = 'total_sales', aggfunc = 'sum').reset_index()\n",
    "    plt.bar(ds['year_of_release'],ds['total_sales'])\n",
    "plt.legend(['PS2','X360','PS3','Wii','DS','PS','GBA','PS4'])\n",
    "plt.title('Все платформы')\n",
    "        \n",
    "plt.show() \n",
    "\n",
    "for each in platform_pivot_q3['platform']:\n",
    "    ds = dataset.query('platform == @each').pivot_table(index = 'year_of_release', values = 'total_sales', aggfunc = 'sum').reset_index()\n",
    "    ds.plot('year_of_release','total_sales',kind = 'bar')\n",
    "    plt.title('Платформа: '+each)\n",
    "    plt.show() "
   ]
  },
  {
   "cell_type": "markdown",
   "metadata": {},
   "source": [
    "Как видно из графиков, наше предположение об оптимальном 5-ти летнем периоде для анализа и прогнозирования подтвердилось. \n",
    "\n",
    "В среднем цикл жизни платформы - 5 лет, в остальное время количество выпущенных игр либо еще мало либо уже значительно снижается. Исключение в нашем случае составляют две платформы: PS3 и x360, т.к. очень долго из разработки выходили PS4 и новый Xbox, соответственно игры выпускались на платформы предыдущего поколения.\n",
    "\n",
    "Отберем данные за 2012-2016 года."
   ]
  },
  {
   "cell_type": "code",
   "execution_count": 17,
   "metadata": {},
   "outputs": [
    {
     "data": {
      "text/html": [
       "<div>\n",
       "<style scoped>\n",
       "    .dataframe tbody tr th:only-of-type {\n",
       "        vertical-align: middle;\n",
       "    }\n",
       "\n",
       "    .dataframe tbody tr th {\n",
       "        vertical-align: top;\n",
       "    }\n",
       "\n",
       "    .dataframe thead th {\n",
       "        text-align: right;\n",
       "    }\n",
       "</style>\n",
       "<table border=\"1\" class=\"dataframe\">\n",
       "  <thead>\n",
       "    <tr style=\"text-align: right;\">\n",
       "      <th></th>\n",
       "      <th>name</th>\n",
       "      <th>platform</th>\n",
       "      <th>year_of_release</th>\n",
       "      <th>genre</th>\n",
       "      <th>na_sales</th>\n",
       "      <th>eu_sales</th>\n",
       "      <th>jp_sales</th>\n",
       "      <th>other_sales</th>\n",
       "      <th>critic_score</th>\n",
       "      <th>user_score</th>\n",
       "      <th>rating</th>\n",
       "      <th>tbd</th>\n",
       "      <th>total_sales</th>\n",
       "    </tr>\n",
       "  </thead>\n",
       "  <tbody>\n",
       "    <tr>\n",
       "      <td>16</td>\n",
       "      <td>Grand Theft Auto V</td>\n",
       "      <td>PS3</td>\n",
       "      <td>2013</td>\n",
       "      <td>Action</td>\n",
       "      <td>7.02</td>\n",
       "      <td>9.09</td>\n",
       "      <td>0.98</td>\n",
       "      <td>3.96</td>\n",
       "      <td>97.0</td>\n",
       "      <td>8.2</td>\n",
       "      <td>M</td>\n",
       "      <td>False</td>\n",
       "      <td>21.05</td>\n",
       "    </tr>\n",
       "    <tr>\n",
       "      <td>23</td>\n",
       "      <td>Grand Theft Auto V</td>\n",
       "      <td>X360</td>\n",
       "      <td>2013</td>\n",
       "      <td>Action</td>\n",
       "      <td>9.66</td>\n",
       "      <td>5.14</td>\n",
       "      <td>0.06</td>\n",
       "      <td>1.41</td>\n",
       "      <td>97.0</td>\n",
       "      <td>8.1</td>\n",
       "      <td>M</td>\n",
       "      <td>False</td>\n",
       "      <td>16.27</td>\n",
       "    </tr>\n",
       "    <tr>\n",
       "      <td>31</td>\n",
       "      <td>Call of Duty: Black Ops 3</td>\n",
       "      <td>PS4</td>\n",
       "      <td>2015</td>\n",
       "      <td>Shooter</td>\n",
       "      <td>6.03</td>\n",
       "      <td>5.86</td>\n",
       "      <td>0.36</td>\n",
       "      <td>2.38</td>\n",
       "      <td>NaN</td>\n",
       "      <td>NaN</td>\n",
       "      <td>unknown_rating</td>\n",
       "      <td>False</td>\n",
       "      <td>14.63</td>\n",
       "    </tr>\n",
       "    <tr>\n",
       "      <td>33</td>\n",
       "      <td>Pokemon X/Pokemon Y</td>\n",
       "      <td>3DS</td>\n",
       "      <td>2013</td>\n",
       "      <td>Role-Playing</td>\n",
       "      <td>5.28</td>\n",
       "      <td>4.19</td>\n",
       "      <td>4.35</td>\n",
       "      <td>0.78</td>\n",
       "      <td>NaN</td>\n",
       "      <td>NaN</td>\n",
       "      <td>unknown_rating</td>\n",
       "      <td>False</td>\n",
       "      <td>14.60</td>\n",
       "    </tr>\n",
       "    <tr>\n",
       "      <td>34</td>\n",
       "      <td>Call of Duty: Black Ops II</td>\n",
       "      <td>PS3</td>\n",
       "      <td>2012</td>\n",
       "      <td>Shooter</td>\n",
       "      <td>4.99</td>\n",
       "      <td>5.73</td>\n",
       "      <td>0.65</td>\n",
       "      <td>2.42</td>\n",
       "      <td>83.0</td>\n",
       "      <td>5.3</td>\n",
       "      <td>M</td>\n",
       "      <td>False</td>\n",
       "      <td>13.79</td>\n",
       "    </tr>\n",
       "  </tbody>\n",
       "</table>\n",
       "</div>"
      ],
      "text/plain": [
       "                          name platform  year_of_release         genre  \\\n",
       "16          Grand Theft Auto V      PS3             2013        Action   \n",
       "23          Grand Theft Auto V     X360             2013        Action   \n",
       "31   Call of Duty: Black Ops 3      PS4             2015       Shooter   \n",
       "33         Pokemon X/Pokemon Y      3DS             2013  Role-Playing   \n",
       "34  Call of Duty: Black Ops II      PS3             2012       Shooter   \n",
       "\n",
       "    na_sales  eu_sales  jp_sales  other_sales  critic_score  user_score  \\\n",
       "16      7.02      9.09      0.98         3.96          97.0         8.2   \n",
       "23      9.66      5.14      0.06         1.41          97.0         8.1   \n",
       "31      6.03      5.86      0.36         2.38           NaN         NaN   \n",
       "33      5.28      4.19      4.35         0.78           NaN         NaN   \n",
       "34      4.99      5.73      0.65         2.42          83.0         5.3   \n",
       "\n",
       "            rating    tbd  total_sales  \n",
       "16               M  False        21.05  \n",
       "23               M  False        16.27  \n",
       "31  unknown_rating  False        14.63  \n",
       "33  unknown_rating  False        14.60  \n",
       "34               M  False        13.79  "
      ]
     },
     "metadata": {},
     "output_type": "display_data"
    }
   ],
   "source": [
    "five_year_data = dataset.query('2012 <= year_of_release <= 2016')\n",
    "display(five_year_data.head())"
   ]
  },
  {
   "cell_type": "markdown",
   "metadata": {},
   "source": [
    "#### Вывод\n",
    "\n",
    "На основании анализа ежегодного выпуска игр на всех платформах и жизненного цикла популярных платформ можно утверждать:\n",
    "   \n",
    " **Оптимальный период, на основании которого можно делать анализ и прогноз - 5 лет. Поэтому за основу для прогнозирования продаж на 2017 год возьмем данные на период с 2012 по 2016 год.**"
   ]
  },
  {
   "cell_type": "markdown",
   "metadata": {},
   "source": [
    "### Анализ продаж по платформам"
   ]
  },
  {
   "cell_type": "markdown",
   "metadata": {},
   "source": [
    "Принимая во внимание данные за последние 5 лет посмотрим, какие платформы лидируют по продажам, растут или падают. "
   ]
  },
  {
   "cell_type": "code",
   "execution_count": 18,
   "metadata": {},
   "outputs": [
    {
     "data": {
      "text/html": [
       "<div>\n",
       "<style scoped>\n",
       "    .dataframe tbody tr th:only-of-type {\n",
       "        vertical-align: middle;\n",
       "    }\n",
       "\n",
       "    .dataframe tbody tr th {\n",
       "        vertical-align: top;\n",
       "    }\n",
       "\n",
       "    .dataframe thead th {\n",
       "        text-align: right;\n",
       "    }\n",
       "</style>\n",
       "<table border=\"1\" class=\"dataframe\">\n",
       "  <thead>\n",
       "    <tr style=\"text-align: right;\">\n",
       "      <th></th>\n",
       "      <th>platform</th>\n",
       "      <th>total_sales</th>\n",
       "    </tr>\n",
       "  </thead>\n",
       "  <tbody>\n",
       "    <tr>\n",
       "      <td>0</td>\n",
       "      <td>PS4</td>\n",
       "      <td>314.14</td>\n",
       "    </tr>\n",
       "    <tr>\n",
       "      <td>1</td>\n",
       "      <td>PS3</td>\n",
       "      <td>288.79</td>\n",
       "    </tr>\n",
       "    <tr>\n",
       "      <td>2</td>\n",
       "      <td>X360</td>\n",
       "      <td>236.54</td>\n",
       "    </tr>\n",
       "    <tr>\n",
       "      <td>3</td>\n",
       "      <td>3DS</td>\n",
       "      <td>194.61</td>\n",
       "    </tr>\n",
       "    <tr>\n",
       "      <td>4</td>\n",
       "      <td>XOne</td>\n",
       "      <td>159.32</td>\n",
       "    </tr>\n",
       "    <tr>\n",
       "      <td>5</td>\n",
       "      <td>WiiU</td>\n",
       "      <td>82.19</td>\n",
       "    </tr>\n",
       "    <tr>\n",
       "      <td>6</td>\n",
       "      <td>PC</td>\n",
       "      <td>62.65</td>\n",
       "    </tr>\n",
       "    <tr>\n",
       "      <td>7</td>\n",
       "      <td>PSV</td>\n",
       "      <td>49.18</td>\n",
       "    </tr>\n",
       "    <tr>\n",
       "      <td>8</td>\n",
       "      <td>Wii</td>\n",
       "      <td>35.37</td>\n",
       "    </tr>\n",
       "    <tr>\n",
       "      <td>9</td>\n",
       "      <td>DS</td>\n",
       "      <td>12.55</td>\n",
       "    </tr>\n",
       "    <tr>\n",
       "      <td>10</td>\n",
       "      <td>PSP</td>\n",
       "      <td>11.19</td>\n",
       "    </tr>\n",
       "  </tbody>\n",
       "</table>\n",
       "</div>"
      ],
      "text/plain": [
       "   platform  total_sales\n",
       "0       PS4       314.14\n",
       "1       PS3       288.79\n",
       "2      X360       236.54\n",
       "3       3DS       194.61\n",
       "4      XOne       159.32\n",
       "5      WiiU        82.19\n",
       "6        PC        62.65\n",
       "7       PSV        49.18\n",
       "8       Wii        35.37\n",
       "9        DS        12.55\n",
       "10      PSP        11.19"
      ]
     },
     "metadata": {},
     "output_type": "display_data"
    },
    {
     "data": {
      "image/png": "[encoded data removed]",
      "text/plain": [
       "<Figure size 432x288 with 1 Axes>"
      ]
     },
     "metadata": {
      "needs_background": "light"
     },
     "output_type": "display_data"
    },
    {
     "data": {
      "image/png": "[encoded data removed]",
      "text/plain": [
       "<Figure size 432x288 with 1 Axes>"
      ]
     },
     "metadata": {
      "needs_background": "light"
     },
     "output_type": "display_data"
    },
    {
     "data": {
      "image/png": "[encoded data removed]",
      "text/plain": [
       "<Figure size 432x288 with 1 Axes>"
      ]
     },
     "metadata": {
      "needs_background": "light"
     },
     "output_type": "display_data"
    },
    {
     "data": {
      "image/png": "[encoded data removed]",
      "text/plain": [
       "<Figure size 432x288 with 1 Axes>"
      ]
     },
     "metadata": {
      "needs_background": "light"
     },
     "output_type": "display_data"
    },
    {
     "data": {
      "image/png": "[encoded data removed]",
      "text/plain": [
       "<Figure size 432x288 with 1 Axes>"
      ]
     },
     "metadata": {
      "needs_background": "light"
     },
     "output_type": "display_data"
    },
    {
     "data": {
      "image/png": "[encoded data removed]",
      "text/plain": [
       "<Figure size 432x288 with 1 Axes>"
      ]
     },
     "metadata": {
      "needs_background": "light"
     },
     "output_type": "display_data"
    },
    {
     "data": {
      "image/png": "[encoded data removed]",
      "text/plain": [
       "<Figure size 432x288 with 1 Axes>"
      ]
     },
     "metadata": {
      "needs_background": "light"
     },
     "output_type": "display_data"
    },
    {
     "data": {
      "image/png": "[encoded data removed]",
      "text/plain": [
       "<Figure size 432x288 with 1 Axes>"
      ]
     },
     "metadata": {
      "needs_background": "light"
     },
     "output_type": "display_data"
    },
    {
     "data": {
      "image/png": "[encoded data removed]",
      "text/plain": [
       "<Figure size 432x288 with 1 Axes>"
      ]
     },
     "metadata": {
      "needs_background": "light"
     },
     "output_type": "display_data"
    },
    {
     "data": {
      "image/png": "[encoded data removed]",
      "text/plain": [
       "<Figure size 432x288 with 1 Axes>"
      ]
     },
     "metadata": {
      "needs_background": "light"
     },
     "output_type": "display_data"
    },
    {
     "data": {
      "image/png": "[encoded data removed]",
      "text/plain": [
       "<Figure size 432x288 with 1 Axes>"
      ]
     },
     "metadata": {
      "needs_background": "light"
     },
     "output_type": "display_data"
    }
   ],
   "source": [
    "platform_pivot_5y = five_year_data.pivot_table(index = 'platform', values = 'total_sales', aggfunc = 'sum').sort_values(by = 'total_sales', ascending = False).reset_index()\n",
    "display(platform_pivot_5y)\n",
    "for each in five_year_data['platform'].unique().tolist():\n",
    "    ds = five_year_data.query('platform == @each').pivot_table(index = 'year_of_release', values = 'total_sales', aggfunc = 'sum').reset_index()\n",
    "    ds.plot('year_of_release','total_sales',kind = 'bar')\n",
    "    plt.title('Платформа: '+each)\n",
    "    plt.show() \n",
    "    "
   ]
  },
  {
   "cell_type": "markdown",
   "metadata": {},
   "source": [
    "Явный лидер по продажам - PS4, это явно прибыльная платформа.\n",
    "\n",
    "На первый взгляд продажи по всем платформам падают, однако, данные за 2016 год могут быть не полными, поэтому продажи на XOne и PS4 скорее всего растут (держим в уме 5-ти летний жизненный цикл платформы), поэтому XOne тоже попадает в список перспективных платформ.\n",
    "\n",
    "Также в список перспективных платформ попадает 3DS, несмотря на тренд на снижение, ожидаемый объем продаж за 2016 год составит 17-20 млн. \n",
    "\n",
    "Платформа WiiU занимает малую часть рынка ~8%, однако ожидаемый объем продаж за 2016 год составит 12-15 млн, поэтому эту платформу также будем считать перспективной. \n",
    "\n",
    "Продажи у лидеров по прошлых лет pS3 и x360 сильно упали к 2016 году и однако ожидаемый объем продаж за 2016 год составит менее 10 млн, а судя по тренду в 2017 еще меньше, поэтому эти платформы не попадают в список потенциально прибильных.\n",
    "\n",
    "Продажи по остальным платформам составляют менее 12% в совокупности от всего рынка, поэтому ориентироваться при планировании рекламной кампании на них точно не стоит - на них бюджет будет распределятся по остаточному принципу."
   ]
  },
  {
   "cell_type": "markdown",
   "metadata": {},
   "source": [
    "Построим \"ящики с усами\" по общим продажам для каждой из потенциально прибильных платформ для того что бы сравнить распределения данных между собой, оценить межквартильный размах и медианы. "
   ]
  },
  {
   "cell_type": "code",
   "execution_count": 19,
   "metadata": {},
   "outputs": [
    {
     "name": "stderr",
     "output_type": "stream",
     "text": [
      "/opt/conda/lib/python3.7/site-packages/numpy/core/_asarray.py:83: VisibleDeprecationWarning: Creating an ndarray from ragged nested sequences (which is a list-or-tuple of lists-or-tuples-or ndarrays with different lengths or shapes) is deprecated. If you meant to do this, you must specify 'dtype=object' when creating the ndarray\n",
      "  return array(a, dtype, copy=False, order=order)\n"
     ]
    },
    {
     "data": {
      "text/plain": [
       "<matplotlib.axes._subplots.AxesSubplot at 0x7f5e4b2925d0>"
      ]
     },
     "execution_count": 19,
     "metadata": {},
     "output_type": "execute_result"
    },
    {
     "data": {
      "image/png": "[encoded data removed]",
      "text/plain": [
       "<Figure size 720x1440 with 1 Axes>"
      ]
     },
     "metadata": {
      "needs_background": "light"
     },
     "output_type": "display_data"
    }
   ],
   "source": [
    "final_five_year_data = five_year_data.query('platform == \"PS4\" | platform == \"XOne\" | platform ==\"3DS\" | platform ==\"WiiU\"');\n",
    "\n",
    "final_five_year_data.boxplot('total_sales', by='platform',figsize = (10,20))\n"
   ]
  },
  {
   "cell_type": "markdown",
   "metadata": {},
   "source": [
    "Распределение значений для всех платформ отличается между собой не слишком сильно, верхняя граница \"уса\" колеблется от 0,8 до 1,8 млн в месяц, медиана на уровне 0,25 млн - это говорит о том, что выбор потенциально прибильных платформ был выполнен верно.\n",
    "\n",
    "Выбросов довольно много, однако больше всего их у платформы PS4  - вероятно сказывается то, что это относительно новая платформа и игры после выхода массово приобретаются. Т.к. на данный момент мы производим общий анализ данных, то устранят выбросы не будем - нам важно увидеть все выбросы для формирования выводов. Однако перед описанием портрета клиента необходимо будет от них избавиться."
   ]
  },
  {
   "cell_type": "markdown",
   "metadata": {},
   "source": [
    "Рассмотрим диаграмму рассеивания для признаков \"user_score\",\"critic_score\" и \"total_sales\" для платформы PS4, а также посмотрим коэффициенты корреляции между всеми признаками и признаком \"total_sales\"."
   ]
  },
  {
   "cell_type": "code",
   "execution_count": 20,
   "metadata": {},
   "outputs": [
    {
     "data": {
      "image/png": "[encoded data removed]",
      "text/plain": [
       "<Figure size 576x432 with 1 Axes>"
      ]
     },
     "metadata": {
      "needs_background": "light"
     },
     "output_type": "display_data"
    },
    {
     "data": {
      "image/png": "[encoded data removed]",
      "text/plain": [
       "<Figure size 576x432 with 1 Axes>"
      ]
     },
     "metadata": {
      "needs_background": "light"
     },
     "output_type": "display_data"
    },
    {
     "name": "stdout",
     "output_type": "stream",
     "text": [
      "year_of_release   -0.235032\n",
      "na_sales           0.928160\n",
      "eu_sales           0.958157\n",
      "jp_sales           0.527129\n",
      "other_sales        0.998051\n",
      "critic_score       0.406568\n",
      "user_score        -0.031957\n",
      "tbd               -0.060348\n",
      "total_sales        1.000000\n",
      "Name: total_sales, dtype: float64\n"
     ]
    }
   ],
   "source": [
    "ps4_sales = final_five_year_data.query('platform == \"PS4\"')\n",
    "draw_scatter(ps4_sales,'user_score','total_sales')\n",
    "draw_scatter(ps4_sales,'critic_score','total_sales')\n",
    "\n",
    "print(ps4_sales.corr()['total_sales'])"
   ]
  },
  {
   "cell_type": "markdown",
   "metadata": {},
   "source": [
    "По первой диаграмме рассеивания можно сказать, что в среднем купленные игры имеют пользовательский рейтинг  от 6 до 8. Однако коэффициент корреляции имеет значения -0.031957 и этого говорит о том, что связи между признаками нет. Возможно, так получается из-за того, что пользователи обычно не покупают заведомо провальные игры и редко оценивают их менее 6 и из-за этого вцелом рейтинг популярных игр редко опускается ниже 6.\n",
    "\n",
    "По второй диаграмме рассеивания (оценка критиков) можно сказать, что лучше продаются игры с рейтингом критиков от 6 до 8. Это подтверждает умеренная прямая связь между признаками (Коэффициент корреляции ~0.41). Можно сказать, что чем выше рейтинг критиков, тем лучше игра продается.\n",
    "\n",
    "Необходимо отметить, что на продажи игр на этой платформе влияет регион. Интересно, что несмотря на то, что родина PS4 - Япония, игры лучше продаются в других регионах (судя по силе связи между признаками, коэффициент корреляции 0.527129 против 0.95-0.99).  Подробно этот вопрос рассмотрим при составлении портрета клиентов для каждого региона.\n",
    "\n",
    "Также видно, что есть слабая обратная связь между годом и общими продажами. Связь слишком слабая, что бы сделать на основе этого какой-то вывод.\n",
    "\n",
    "Посмотрим, будет ли справедлив этот вывод для других платформ.\n"
   ]
  },
  {
   "cell_type": "code",
   "execution_count": 21,
   "metadata": {},
   "outputs": [
    {
     "name": "stdout",
     "output_type": "stream",
     "text": [
      "Графики и коэф. корреляции для платформы:  XOne\n"
     ]
    },
    {
     "data": {
      "image/png": "[encoded data removed]",
      "text/plain": [
       "<Figure size 576x432 with 1 Axes>"
      ]
     },
     "metadata": {
      "needs_background": "light"
     },
     "output_type": "display_data"
    },
    {
     "data": {
      "image/png": "[encoded data removed]",
      "text/plain": [
       "<Figure size 576x432 with 1 Axes>"
      ]
     },
     "metadata": {
      "needs_background": "light"
     },
     "output_type": "display_data"
    },
    {
     "name": "stdout",
     "output_type": "stream",
     "text": [
      "year_of_release   -0.239183\n",
      "na_sales           0.970433\n",
      "eu_sales           0.898045\n",
      "jp_sales           0.452701\n",
      "other_sales        0.995238\n",
      "critic_score       0.416998\n",
      "user_score        -0.068925\n",
      "tbd               -0.124232\n",
      "total_sales        1.000000\n",
      "Name: total_sales, dtype: float64\n",
      "\n",
      "Графики и коэф. корреляции для платформы:  3DS\n"
     ]
    },
    {
     "data": {
      "image/png": "[encoded data removed]",
      "text/plain": [
       "<Figure size 576x432 with 1 Axes>"
      ]
     },
     "metadata": {
      "needs_background": "light"
     },
     "output_type": "display_data"
    },
    {
     "data": {
      "image/png": "[encoded data removed]",
      "text/plain": [
       "<Figure size 576x432 with 1 Axes>"
      ]
     },
     "metadata": {
      "needs_background": "light"
     },
     "output_type": "display_data"
    },
    {
     "name": "stdout",
     "output_type": "stream",
     "text": [
      "year_of_release   -0.071661\n",
      "na_sales           0.939587\n",
      "eu_sales           0.940331\n",
      "jp_sales           0.868770\n",
      "other_sales        0.951971\n",
      "critic_score       0.320803\n",
      "user_score         0.197583\n",
      "tbd               -0.086421\n",
      "total_sales        1.000000\n",
      "Name: total_sales, dtype: float64\n",
      "\n",
      "Графики и коэф. корреляции для платформы:  WiiU\n"
     ]
    },
    {
     "data": {
      "image/png": "[encoded data removed]",
      "text/plain": [
       "<Figure size 576x432 with 1 Axes>"
      ]
     },
     "metadata": {
      "needs_background": "light"
     },
     "output_type": "display_data"
    },
    {
     "data": {
      "image/png": "[encoded data removed]",
      "text/plain": [
       "<Figure size 576x432 with 1 Axes>"
      ]
     },
     "metadata": {
      "needs_background": "light"
     },
     "output_type": "display_data"
    },
    {
     "name": "stdout",
     "output_type": "stream",
     "text": [
      "year_of_release   -0.016573\n",
      "na_sales           0.982155\n",
      "eu_sales           0.984567\n",
      "jp_sales           0.895940\n",
      "other_sales        0.988421\n",
      "critic_score       0.348380\n",
      "user_score         0.400219\n",
      "tbd               -0.085199\n",
      "total_sales        1.000000\n",
      "Name: total_sales, dtype: float64\n",
      "\n"
     ]
    }
   ],
   "source": [
    "needed_platform = ['XOne','3DS','WiiU']\n",
    "\n",
    "for each in needed_platform:\n",
    "    pl_sales = final_five_year_data.query('platform == @each')\n",
    "    print('Графики и коэф. корреляции для платформы: ', each)\n",
    "    draw_scatter(pl_sales,'user_score','total_sales')\n",
    "    draw_scatter(pl_sales,'critic_score','total_sales')\n",
    "    print(pl_sales.corr()['total_sales'])\n",
    "    print()\n",
    "\n"
   ]
  },
  {
   "cell_type": "markdown",
   "metadata": {},
   "source": [
    "По диаграммам рассеивания видно, что действительно большинство проданных игр имеют оценки пользователей или критиков 6-8, несмотря на разные коэффициенты корреляции.\n",
    "\n",
    "Для платформы XOne данные, а значит выводы совпадают с данными и выводами для PS4. Это можно объяснить популярностью платформ и распостраненностью в Европе и Америке - возможно такое поведение пользователей характерно для этих регионов. Проверим это в следующем разделе. \n",
    "\n",
    "Другая ситуация для платформ 3DS и WiiU - игры неа этих платформах очень популярны внутри рынка (в Японии), поэтому связь между признаками \"total_sales\" и \"jp_sales\" ожидаемо стала сильной.\n",
    "\n",
    "Для платформы 3DS связь между оценками критиков и продажами ослабевает(коэф. корр. 0.32), а связь между оценками пользователей и продажами усиливается, хотя все равно остается слабой, по сравнению с PS4 и XOne.\n",
    "\n",
    "Для платформы WiiU связь между оценками критиков и продажами также слабже чем у PS4 и XOne и почти совпадает с 3DS (коэф. корр. 0.34), а вляние оценок пользователей на продажи становится сильнее (коэф. корр. 0.4), чем оценка критиков.\n",
    "\n",
    "Связи между продажами и оценкой, находящейся на рассмотрении практически нет, связь для всех платформ очень слабая. \n",
    "\n",
    "Основываясь на результатах, можно сформировать выводы:\n",
    "\n",
    " - **Для платформ PS4 и XOne пользователи перед покупкой в основном смотрят только на оценку критиков и почти не смотрят на оценки других пользователей. Игры на этих платформах продаются лучше в Северной Америке и Европе, чем в Японии** \n",
    "\n",
    " - **Для платформ 3DS и WiiU пользователи больше доверяют оценкам пользователей, чем пользователи PS4 и XOne и меньше оценкам критиков. Для WiiU пользователи доверяют больше оценке пользователей, чем оценке критиков. Игры на этих платформах практически одинаково продаются в Северной Америке, Европе и  Японии**\n",
    " \n"
   ]
  },
  {
   "cell_type": "markdown",
   "metadata": {},
   "source": [
    "#### Вывод\n",
    "\n",
    "В список потенциально прибильных платформ попали : \n",
    "\n",
    "- **PS4**\n",
    "\n",
    "- **XOne**\n",
    "\n",
    "- **3DS**\n",
    "\n",
    "- **WiiU**\n",
    "\n",
    "Дальнейший анализ будет проводиться только для этих платформ.\n",
    "\n",
    "Лидер среди платформ по продажам:  PS4\n",
    "\n",
    "Судя по тренду последних 5-ти лет продажи игр по платформам PS4 и XOne скорее всего растут (не хватает полных данных за 2016 год, что бы с уверенностью это утверждать). Продажи на остальных платформах падают. \n",
    "\n",
    "**Для платформ PS4 и XOne пользователи перед покупкой в основном смотрят только на оценку критиков и почти не смотрят на оценки других пользователей. Игры на этих платформах продаются лучше в Северной Америке и Европе, чем в Японии** \n",
    "\n",
    "**Для платформ 3DS и WiiU пользователи больше доверяют оценкам пользователей, чем пользователи PS4 и XOne и меньше оценкам критиков. Для WiiU пользователи доверяют больше оценке пользователей, чем оценке критиков. Игры на этих платформах практически одинаково продаются в Северной Америке, Европе и  Японии**"
   ]
  },
  {
   "cell_type": "markdown",
   "metadata": {},
   "source": [
    "### Анализ продаж по жанрам"
   ]
  },
  {
   "cell_type": "markdown",
   "metadata": {},
   "source": [
    "Проанализируем, какие жанры лучше продаются, а какие хуже. "
   ]
  },
  {
   "cell_type": "code",
   "execution_count": 22,
   "metadata": {},
   "outputs": [
    {
     "data": {
      "image/png": "[encoded data removed]",
      "text/plain": [
       "<Figure size 432x288 with 1 Axes>"
      ]
     },
     "metadata": {
      "needs_background": "light"
     },
     "output_type": "display_data"
    },
    {
     "data": {
      "image/png": "[encoded data removed]",
      "text/plain": [
       "<Figure size 432x288 with 1 Axes>"
      ]
     },
     "metadata": {
      "needs_background": "light"
     },
     "output_type": "display_data"
    },
    {
     "data": {
      "image/png": "[encoded data removed]",
      "text/plain": [
       "<Figure size 432x288 with 1 Axes>"
      ]
     },
     "metadata": {
      "needs_background": "light"
     },
     "output_type": "display_data"
    },
    {
     "data": {
      "image/png": "[encoded data removed]",
      "text/plain": [
       "<Figure size 432x288 with 1 Axes>"
      ]
     },
     "metadata": {
      "needs_background": "light"
     },
     "output_type": "display_data"
    }
   ],
   "source": [
    "needed_platform = ['PS4','XOne','3DS','WiiU']\n",
    "for each in needed_platform:\n",
    "    ds = final_five_year_data.query('platform == @each').pivot_table(index = 'genre', values = 'total_sales', aggfunc = 'sum').reset_index()\n",
    "    ds.plot('genre','total_sales',kind = 'bar')\n",
    "    plt.title('Жанр: '+each)\n",
    "    plt.show()\n",
    "  "
   ]
  },
  {
   "cell_type": "markdown",
   "metadata": {},
   "source": [
    "### Вывод\n",
    "\n",
    "Для PS4 и XOne ожидаемо самые популярные жанры Action и Shooter. Самые непопулярные - Strategy и Simulation.\n",
    "\n",
    "Для платформы 3DS самый популярный жанр \"Role-playing\"  - скорее всего это особенность и направленность платформы.\n",
    "На втором месте также жанр \"Action\". Самые непопулярные жанры \"Racing\" и \"Shooter\".\n",
    "\n",
    "Для платформы WiiU самый популярный жанр \"Platform\" - вероятно, это также направленность платформы. На втором месте также жанр \"Action\". Самые непопулярные жанры \"Simulation\" и \"Adventure\". \n",
    "\n",
    "По всем платформам видно, что очень мало покупается игр жанров \"Strategy\", \"Puzzle\", \"Adventure\", поэтому это стоит учесть при планировании рекламных кампаний. \n",
    "\n",
    "Среди всех платформ хорошо продаются игры жанра \"Action\" - для PS4 он первый по популярности, для остальных - второй. \n",
    "\n",
    "Жанр Sport также популярен для PS4 и XOne и находится на 3 месте по популярности."
   ]
  },
  {
   "cell_type": "markdown",
   "metadata": {},
   "source": [
    "## Описание портрета клиента по регионам"
   ]
  },
  {
   "cell_type": "markdown",
   "metadata": {},
   "source": [
    "Для  описания портрета пользователя для каждого региона найдем: \n",
    "\n",
    "- Самые популярные платформы (топ-5)\n",
    "- Самые популярные жанры (топ-5)\n",
    "\n",
    "Также проверим как влияет ли рейтинг ESRB на продажи в отдельном регионе?"
   ]
  },
  {
   "cell_type": "markdown",
   "metadata": {},
   "source": [
    "Для описания портрета пользователя необходимо очистить данные от выбросов, т.к. нас интересует среднестатистический пользователь, а выбросы могут исказить данные, что приведет к неправильным выводам. \n",
    "\n",
    "Для начала проверим количество выбросов в данных."
   ]
  },
  {
   "cell_type": "code",
   "execution_count": 23,
   "metadata": {},
   "outputs": [
    {
     "name": "stdout",
     "output_type": "stream",
     "text": [
      "Не удалось найти усы в  name , проблема с типом данных\n",
      "Не удалось найти усы в  platform , проблема с типом данных\n",
      "Количество данных из столбца  year_of_release , которые считаем выбросами: 0 , процент от общего числа: 0.0%\n",
      "Не удалось найти усы в  genre , проблема с типом данных\n",
      "Количество данных из столбца  na_sales , которые считаем выбросами: 352 , процент от общего числа: 12.2%\n",
      "Количество данных из столбца  eu_sales , которые считаем выбросами: 331 , процент от общего числа: 11.5%\n",
      "Количество данных из столбца  jp_sales , которые считаем выбросами: 335 , процент от общего числа: 11.6%\n",
      "Количество данных из столбца  other_sales , которые считаем выбросами: 358 , процент от общего числа: 12.4%\n",
      "Количество данных из столбца  critic_score , которые считаем выбросами: 46 , процент от общего числа: 3.5%\n",
      "Количество данных из столбца  user_score , которые считаем выбросами: 33 , процент от общего числа: 2.2%\n",
      "Не удалось найти усы в  rating , проблема с типом данных\n",
      "Количество данных из столбца  tbd , которые считаем выбросами: 132 , процент от общего числа: 4.6%\n",
      "Количество данных из столбца  total_sales , которые считаем выбросами: 333 , процент от общего числа: 11.5%\n"
     ]
    }
   ],
   "source": [
    "for column in five_year_data.columns.values.tolist():\n",
    "    num_normalized_data_info(five_year_data,column)"
   ]
  },
  {
   "cell_type": "markdown",
   "metadata": {},
   "source": [
    "Выбросов в данных очень много, попробуем очистить данные от выбросов и проверим, сколько данных у нас останется. Возможно, выбросы содержаться в одних и тех же строчках и потеря данных будет в пределах 15%. "
   ]
  },
  {
   "cell_type": "code",
   "execution_count": 24,
   "metadata": {},
   "outputs": [
    {
     "name": "stdout",
     "output_type": "stream",
     "text": [
      "Количество выбросов в столбце  na_sales  в итоговой выборке: 0\n",
      "Количество выбросов в столбце  eu_sales  в итоговой выборке: 0\n",
      "Количество выбросов в столбце  jp_sales  в итоговой выборке: 0\n",
      "Количество выбросов в столбце  other_sales  в итоговой выборке: 0\n",
      "Количество выбросов в столбце  critic_score  в итоговой выборке: 8\n",
      "Количество выбросов в столбце  user_score  в итоговой выборке: 0\n",
      "Количество выбросов в столбце  total_sales  в итоговой выборке: 0\n",
      "\n",
      "Количество строк в нормализованной выборке 735 , процент оставшихся данных: 62.2%\n"
     ]
    },
    {
     "data": {
      "image/png": "[encoded data removed]",
      "text/plain": [
       "<Figure size 648x1800 with 14 Axes>"
      ]
     },
     "metadata": {
      "needs_background": "light"
     },
     "output_type": "display_data"
    }
   ],
   "source": [
    "needed_columns = ['na_sales','eu_sales','jp_sales','other_sales','critic_score','user_score','total_sales']\n",
    "clear_data = final_five_year_data\n",
    "\n",
    "for column in needed_columns:\n",
    "    clear_data = num_normalized_data(clear_data,column)\n",
    "        \n",
    "clear_data = clear_data.reset_index(drop=True)\n",
    "\n",
    "for column in needed_columns:\n",
    "    num_normalized_data_check(clear_data,column,final_five_year_data)\n",
    "    \n",
    "print()\n",
    "print ('Количество строк в нормализованной выборке',clear_data['total_sales']\\\n",
    "       .count(),', процент оставшихся данных: {:.1%}'\\\n",
    "       .format(clear_data['total_sales'].count()/final_five_year_data['total_sales'].count())) \n",
    "\n",
    "\n",
    "\n",
    "fig, axs = plt.subplots(7, 2, figsize=(9, 25))\n",
    "\n",
    "i=0\n",
    "for each in needed_columns:\n",
    "    axs[i,0].hist(final_five_year_data[each], bins = bins_num_sturges(final_five_year_data[each]))\n",
    "    axs[i,0].set_title(str(each)+'\\исходные данные')\n",
    "    axs[i,1].hist(clear_data[each], bins = bins_num_sturges(clear_data[each]))\n",
    "    axs[i,1].set_title(str(each)+'\\данные без выбросов')\n",
    "    i+=1\n",
    "plt.show()"
   ]
  },
  {
   "cell_type": "markdown",
   "metadata": {},
   "source": [
    "После избавления от выбросов, все распределения данных в признаках, кроме \"critic_scrore\" и \"user_score\" припохожи на распределения Пуассона. \n",
    "Распределения \"critic_scrore\" и \"user_score\" скошенны влево и похожи на нормальное распределение.\n",
    "\n",
    "Процент оставшихся данных составил 62,2%. Нельзя потерять такое количество данных - это непредсказуемо повлияет на результаты анализа. Поэтому для описания портрета будем использовать данные с выбросами и соотносить с данными без выбросов (приоритет отдается данным с выбросами, т.к. они более полные). Проверим, построив таблицу топ-5 по популярности платформ для Северной Америки."
   ]
  },
  {
   "cell_type": "code",
   "execution_count": 25,
   "metadata": {},
   "outputs": [
    {
     "data": {
      "text/html": [
       "<div>\n",
       "<style scoped>\n",
       "    .dataframe tbody tr th:only-of-type {\n",
       "        vertical-align: middle;\n",
       "    }\n",
       "\n",
       "    .dataframe tbody tr th {\n",
       "        vertical-align: top;\n",
       "    }\n",
       "\n",
       "    .dataframe thead th {\n",
       "        text-align: right;\n",
       "    }\n",
       "</style>\n",
       "<table border=\"1\" class=\"dataframe\">\n",
       "  <thead>\n",
       "    <tr style=\"text-align: right;\">\n",
       "      <th></th>\n",
       "      <th>platform</th>\n",
       "      <th>na_sales</th>\n",
       "    </tr>\n",
       "  </thead>\n",
       "  <tbody>\n",
       "    <tr>\n",
       "      <td>0</td>\n",
       "      <td>XOne</td>\n",
       "      <td>9.65</td>\n",
       "    </tr>\n",
       "    <tr>\n",
       "      <td>1</td>\n",
       "      <td>3DS</td>\n",
       "      <td>7.02</td>\n",
       "    </tr>\n",
       "    <tr>\n",
       "      <td>2</td>\n",
       "      <td>PS4</td>\n",
       "      <td>6.56</td>\n",
       "    </tr>\n",
       "    <tr>\n",
       "      <td>3</td>\n",
       "      <td>WiiU</td>\n",
       "      <td>6.15</td>\n",
       "    </tr>\n",
       "  </tbody>\n",
       "</table>\n",
       "</div>"
      ],
      "text/plain": [
       "  platform  na_sales\n",
       "0     XOne      9.65\n",
       "1      3DS      7.02\n",
       "2      PS4      6.56\n",
       "3     WiiU      6.15"
      ]
     },
     "metadata": {},
     "output_type": "display_data"
    },
    {
     "data": {
      "text/html": [
       "<div>\n",
       "<style scoped>\n",
       "    .dataframe tbody tr th:only-of-type {\n",
       "        vertical-align: middle;\n",
       "    }\n",
       "\n",
       "    .dataframe tbody tr th {\n",
       "        vertical-align: top;\n",
       "    }\n",
       "\n",
       "    .dataframe thead th {\n",
       "        text-align: right;\n",
       "    }\n",
       "</style>\n",
       "<table border=\"1\" class=\"dataframe\">\n",
       "  <thead>\n",
       "    <tr style=\"text-align: right;\">\n",
       "      <th></th>\n",
       "      <th>platform</th>\n",
       "      <th>na_sales</th>\n",
       "    </tr>\n",
       "  </thead>\n",
       "  <tbody>\n",
       "    <tr>\n",
       "      <td>0</td>\n",
       "      <td>PS4</td>\n",
       "      <td>108.74</td>\n",
       "    </tr>\n",
       "    <tr>\n",
       "      <td>1</td>\n",
       "      <td>XOne</td>\n",
       "      <td>93.12</td>\n",
       "    </tr>\n",
       "    <tr>\n",
       "      <td>2</td>\n",
       "      <td>3DS</td>\n",
       "      <td>55.31</td>\n",
       "    </tr>\n",
       "    <tr>\n",
       "      <td>3</td>\n",
       "      <td>WiiU</td>\n",
       "      <td>38.10</td>\n",
       "    </tr>\n",
       "  </tbody>\n",
       "</table>\n",
       "</div>"
      ],
      "text/plain": [
       "  platform  na_sales\n",
       "0      PS4    108.74\n",
       "1     XOne     93.12\n",
       "2      3DS     55.31\n",
       "3     WiiU     38.10"
      ]
     },
     "metadata": {},
     "output_type": "display_data"
    }
   ],
   "source": [
    "ds = clear_data.pivot_table(index = 'platform', values = 'na_sales', aggfunc = 'sum').sort_values(by='na_sales',ascending = False).reset_index()\n",
    "display(ds.head())\n",
    "    \n",
    "ds = final_five_year_data.pivot_table(index = 'platform', values = 'na_sales', aggfunc = 'sum').sort_values(by='na_sales',ascending = False).reset_index()\n",
    "display(ds.head())\n",
    "    \n"
   ]
  },
  {
   "cell_type": "markdown",
   "metadata": {},
   "source": [
    "Разброс в ежегодных продажах для каждой платформы и для каждой игры очень большой и после удаления выбросов цифры стали в 15 раз меньше. Сомнительно, что такие данные дадут достоверные результаты, поэтому использовать датасет, очищенный от выбросов мы не будем. "
   ]
  },
  {
   "cell_type": "code",
   "execution_count": 26,
   "metadata": {},
   "outputs": [
    {
     "name": "stdout",
     "output_type": "stream",
     "text": [
      "Для региона:  na_sales\n"
     ]
    },
    {
     "data": {
      "image/png": "[encoded data removed]",
      "text/plain": [
       "<Figure size 432x288 with 1 Axes>"
      ]
     },
     "metadata": {},
     "output_type": "display_data"
    },
    {
     "data": {
      "text/html": [
       "<div>\n",
       "<style scoped>\n",
       "    .dataframe tbody tr th:only-of-type {\n",
       "        vertical-align: middle;\n",
       "    }\n",
       "\n",
       "    .dataframe tbody tr th {\n",
       "        vertical-align: top;\n",
       "    }\n",
       "\n",
       "    .dataframe thead th {\n",
       "        text-align: right;\n",
       "    }\n",
       "</style>\n",
       "<table border=\"1\" class=\"dataframe\">\n",
       "  <thead>\n",
       "    <tr style=\"text-align: right;\">\n",
       "      <th></th>\n",
       "      <th>platform</th>\n",
       "      <th>na_sales</th>\n",
       "      <th>sales_perc</th>\n",
       "    </tr>\n",
       "  </thead>\n",
       "  <tbody>\n",
       "    <tr>\n",
       "      <td>0</td>\n",
       "      <td>PS4</td>\n",
       "      <td>108.74</td>\n",
       "      <td>0.368273</td>\n",
       "    </tr>\n",
       "    <tr>\n",
       "      <td>1</td>\n",
       "      <td>XOne</td>\n",
       "      <td>93.12</td>\n",
       "      <td>0.315372</td>\n",
       "    </tr>\n",
       "    <tr>\n",
       "      <td>2</td>\n",
       "      <td>3DS</td>\n",
       "      <td>55.31</td>\n",
       "      <td>0.187320</td>\n",
       "    </tr>\n",
       "    <tr>\n",
       "      <td>3</td>\n",
       "      <td>WiiU</td>\n",
       "      <td>38.10</td>\n",
       "      <td>0.129034</td>\n",
       "    </tr>\n",
       "  </tbody>\n",
       "</table>\n",
       "</div>"
      ],
      "text/plain": [
       "  platform  na_sales  sales_perc\n",
       "0      PS4    108.74    0.368273\n",
       "1     XOne     93.12    0.315372\n",
       "2      3DS     55.31    0.187320\n",
       "3     WiiU     38.10    0.129034"
      ]
     },
     "metadata": {},
     "output_type": "display_data"
    },
    {
     "name": "stdout",
     "output_type": "stream",
     "text": [
      "Для региона:  eu_sales\n"
     ]
    },
    {
     "data": {
      "image/png": "[encoded data removed]",
      "text/plain": [
       "<Figure size 432x288 with 1 Axes>"
      ]
     },
     "metadata": {},
     "output_type": "display_data"
    },
    {
     "data": {
      "text/html": [
       "<div>\n",
       "<style scoped>\n",
       "    .dataframe tbody tr th:only-of-type {\n",
       "        vertical-align: middle;\n",
       "    }\n",
       "\n",
       "    .dataframe tbody tr th {\n",
       "        vertical-align: top;\n",
       "    }\n",
       "\n",
       "    .dataframe thead th {\n",
       "        text-align: right;\n",
       "    }\n",
       "</style>\n",
       "<table border=\"1\" class=\"dataframe\">\n",
       "  <thead>\n",
       "    <tr style=\"text-align: right;\">\n",
       "      <th></th>\n",
       "      <th>platform</th>\n",
       "      <th>eu_sales</th>\n",
       "      <th>sales_perc</th>\n",
       "    </tr>\n",
       "  </thead>\n",
       "  <tbody>\n",
       "    <tr>\n",
       "      <td>0</td>\n",
       "      <td>PS4</td>\n",
       "      <td>141.09</td>\n",
       "      <td>0.541716</td>\n",
       "    </tr>\n",
       "    <tr>\n",
       "      <td>1</td>\n",
       "      <td>XOne</td>\n",
       "      <td>51.59</td>\n",
       "      <td>0.198080</td>\n",
       "    </tr>\n",
       "    <tr>\n",
       "      <td>2</td>\n",
       "      <td>3DS</td>\n",
       "      <td>42.64</td>\n",
       "      <td>0.163717</td>\n",
       "    </tr>\n",
       "    <tr>\n",
       "      <td>3</td>\n",
       "      <td>WiiU</td>\n",
       "      <td>25.13</td>\n",
       "      <td>0.096487</td>\n",
       "    </tr>\n",
       "  </tbody>\n",
       "</table>\n",
       "</div>"
      ],
      "text/plain": [
       "  platform  eu_sales  sales_perc\n",
       "0      PS4    141.09    0.541716\n",
       "1     XOne     51.59    0.198080\n",
       "2      3DS     42.64    0.163717\n",
       "3     WiiU     25.13    0.096487"
      ]
     },
     "metadata": {},
     "output_type": "display_data"
    },
    {
     "name": "stdout",
     "output_type": "stream",
     "text": [
      "Для региона:  jp_sales\n"
     ]
    },
    {
     "data": {
      "image/png": "[encoded data removed]",
      "text/plain": [
       "<Figure size 432x288 with 1 Axes>"
      ]
     },
     "metadata": {},
     "output_type": "display_data"
    },
    {
     "data": {
      "text/html": [
       "<div>\n",
       "<style scoped>\n",
       "    .dataframe tbody tr th:only-of-type {\n",
       "        vertical-align: middle;\n",
       "    }\n",
       "\n",
       "    .dataframe tbody tr th {\n",
       "        vertical-align: top;\n",
       "    }\n",
       "\n",
       "    .dataframe thead th {\n",
       "        text-align: right;\n",
       "    }\n",
       "</style>\n",
       "<table border=\"1\" class=\"dataframe\">\n",
       "  <thead>\n",
       "    <tr style=\"text-align: right;\">\n",
       "      <th></th>\n",
       "      <th>platform</th>\n",
       "      <th>jp_sales</th>\n",
       "      <th>sales_perc</th>\n",
       "    </tr>\n",
       "  </thead>\n",
       "  <tbody>\n",
       "    <tr>\n",
       "      <td>0</td>\n",
       "      <td>3DS</td>\n",
       "      <td>87.79</td>\n",
       "      <td>0.749701</td>\n",
       "    </tr>\n",
       "    <tr>\n",
       "      <td>1</td>\n",
       "      <td>PS4</td>\n",
       "      <td>15.96</td>\n",
       "      <td>0.136294</td>\n",
       "    </tr>\n",
       "    <tr>\n",
       "      <td>2</td>\n",
       "      <td>WiiU</td>\n",
       "      <td>13.01</td>\n",
       "      <td>0.111102</td>\n",
       "    </tr>\n",
       "    <tr>\n",
       "      <td>3</td>\n",
       "      <td>XOne</td>\n",
       "      <td>0.34</td>\n",
       "      <td>0.002904</td>\n",
       "    </tr>\n",
       "  </tbody>\n",
       "</table>\n",
       "</div>"
      ],
      "text/plain": [
       "  platform  jp_sales  sales_perc\n",
       "0      3DS     87.79    0.749701\n",
       "1      PS4     15.96    0.136294\n",
       "2     WiiU     13.01    0.111102\n",
       "3     XOne      0.34    0.002904"
      ]
     },
     "metadata": {},
     "output_type": "display_data"
    }
   ],
   "source": [
    "needed_columns = ['na_sales','eu_sales','jp_sales']\n",
    "for each in needed_columns:\n",
    "    print('Для региона: ',each)\n",
    "    setattr(__main__, each, final_five_year_data.pivot_table(index = 'platform', values = each , aggfunc = 'sum').sort_values(by=each,ascending = False).reset_index()) \n",
    "    eval(each)['sales_perc'] = eval(each)[each]/eval(each)[each].sum()\n",
    "    labels = eval(each)['platform']\n",
    "    sizes = eval(each)['sales_perc']\n",
    "    fig1, ax1 = plt.subplots()\n",
    "    ax1.pie(sizes, labels=labels, autopct='%1.1f%%',\n",
    "            shadow=True, startangle=90)\n",
    "    ax1.axis('equal')\n",
    "    plt.show()\n",
    "    display(eval(each).head())"
   ]
  },
  {
   "cell_type": "markdown",
   "metadata": {},
   "source": [
    "На рынке Европы и Северной Америки ожидаемо самая популярная платформа PS4, с долей рынка 54,2% и 36,8% соответсвенно. XOne популярнее в Северной Америке, чем Европе (31,5% против 19,8%). WiiU и 3DS не слишком популярны для С.Америки и Европы и суммарно занимают долю рынка 31,6% и 26% соответвенно.\n",
    "\n",
    "На рынке Японии самая популярная платформа 3DS с долей рынка 75%. XOne категорически не популярна в Японии - доля всего 0,3%. "
   ]
  },
  {
   "cell_type": "markdown",
   "metadata": {},
   "source": [
    "Теперь посмотрим, какие жанры самые популярные в каждом регионе."
   ]
  },
  {
   "cell_type": "code",
   "execution_count": 27,
   "metadata": {},
   "outputs": [
    {
     "name": "stdout",
     "output_type": "stream",
     "text": [
      "Для региона:  na_sales\n"
     ]
    },
    {
     "data": {
      "image/png": "[encoded data removed]",
      "text/plain": [
       "<Figure size 432x288 with 1 Axes>"
      ]
     },
     "metadata": {},
     "output_type": "display_data"
    },
    {
     "data": {
      "text/html": [
       "<div>\n",
       "<style scoped>\n",
       "    .dataframe tbody tr th:only-of-type {\n",
       "        vertical-align: middle;\n",
       "    }\n",
       "\n",
       "    .dataframe tbody tr th {\n",
       "        vertical-align: top;\n",
       "    }\n",
       "\n",
       "    .dataframe thead th {\n",
       "        text-align: right;\n",
       "    }\n",
       "</style>\n",
       "<table border=\"1\" class=\"dataframe\">\n",
       "  <thead>\n",
       "    <tr style=\"text-align: right;\">\n",
       "      <th></th>\n",
       "      <th>genre</th>\n",
       "      <th>na_sales</th>\n",
       "      <th>genre_perc</th>\n",
       "    </tr>\n",
       "  </thead>\n",
       "  <tbody>\n",
       "    <tr>\n",
       "      <td>0</td>\n",
       "      <td>Action</td>\n",
       "      <td>77.65</td>\n",
       "      <td>0.315100</td>\n",
       "    </tr>\n",
       "    <tr>\n",
       "      <td>1</td>\n",
       "      <td>Shooter</td>\n",
       "      <td>71.86</td>\n",
       "      <td>0.291604</td>\n",
       "    </tr>\n",
       "    <tr>\n",
       "      <td>2</td>\n",
       "      <td>Role-Playing</td>\n",
       "      <td>39.14</td>\n",
       "      <td>0.158828</td>\n",
       "    </tr>\n",
       "    <tr>\n",
       "      <td>3</td>\n",
       "      <td>Sports</td>\n",
       "      <td>37.60</td>\n",
       "      <td>0.152579</td>\n",
       "    </tr>\n",
       "    <tr>\n",
       "      <td>4</td>\n",
       "      <td>Platform</td>\n",
       "      <td>20.18</td>\n",
       "      <td>0.081889</td>\n",
       "    </tr>\n",
       "  </tbody>\n",
       "</table>\n",
       "</div>"
      ],
      "text/plain": [
       "          genre  na_sales  genre_perc\n",
       "0        Action     77.65    0.315100\n",
       "1       Shooter     71.86    0.291604\n",
       "2  Role-Playing     39.14    0.158828\n",
       "3        Sports     37.60    0.152579\n",
       "4      Platform     20.18    0.081889"
      ]
     },
     "metadata": {},
     "output_type": "display_data"
    },
    {
     "name": "stdout",
     "output_type": "stream",
     "text": [
      "Для региона:  eu_sales\n"
     ]
    },
    {
     "data": {
      "image/png": "[encoded data removed]",
      "text/plain": [
       "<Figure size 432x288 with 1 Axes>"
      ]
     },
     "metadata": {},
     "output_type": "display_data"
    },
    {
     "data": {
      "text/html": [
       "<div>\n",
       "<style scoped>\n",
       "    .dataframe tbody tr th:only-of-type {\n",
       "        vertical-align: middle;\n",
       "    }\n",
       "\n",
       "    .dataframe tbody tr th {\n",
       "        vertical-align: top;\n",
       "    }\n",
       "\n",
       "    .dataframe thead th {\n",
       "        text-align: right;\n",
       "    }\n",
       "</style>\n",
       "<table border=\"1\" class=\"dataframe\">\n",
       "  <thead>\n",
       "    <tr style=\"text-align: right;\">\n",
       "      <th></th>\n",
       "      <th>genre</th>\n",
       "      <th>eu_sales</th>\n",
       "      <th>genre_perc</th>\n",
       "    </tr>\n",
       "  </thead>\n",
       "  <tbody>\n",
       "    <tr>\n",
       "      <td>0</td>\n",
       "      <td>Action</td>\n",
       "      <td>71.22</td>\n",
       "      <td>0.332214</td>\n",
       "    </tr>\n",
       "    <tr>\n",
       "      <td>1</td>\n",
       "      <td>Shooter</td>\n",
       "      <td>58.77</td>\n",
       "      <td>0.274139</td>\n",
       "    </tr>\n",
       "    <tr>\n",
       "      <td>2</td>\n",
       "      <td>Sports</td>\n",
       "      <td>37.28</td>\n",
       "      <td>0.173897</td>\n",
       "    </tr>\n",
       "    <tr>\n",
       "      <td>3</td>\n",
       "      <td>Role-Playing</td>\n",
       "      <td>30.53</td>\n",
       "      <td>0.142411</td>\n",
       "    </tr>\n",
       "    <tr>\n",
       "      <td>4</td>\n",
       "      <td>Platform</td>\n",
       "      <td>16.58</td>\n",
       "      <td>0.077339</td>\n",
       "    </tr>\n",
       "  </tbody>\n",
       "</table>\n",
       "</div>"
      ],
      "text/plain": [
       "          genre  eu_sales  genre_perc\n",
       "0        Action     71.22    0.332214\n",
       "1       Shooter     58.77    0.274139\n",
       "2        Sports     37.28    0.173897\n",
       "3  Role-Playing     30.53    0.142411\n",
       "4      Platform     16.58    0.077339"
      ]
     },
     "metadata": {},
     "output_type": "display_data"
    },
    {
     "name": "stdout",
     "output_type": "stream",
     "text": [
      "Для региона:  jp_sales\n"
     ]
    },
    {
     "data": {
      "image/png": "[encoded data removed]",
      "text/plain": [
       "<Figure size 432x288 with 1 Axes>"
      ]
     },
     "metadata": {},
     "output_type": "display_data"
    },
    {
     "data": {
      "text/html": [
       "<div>\n",
       "<style scoped>\n",
       "    .dataframe tbody tr th:only-of-type {\n",
       "        vertical-align: middle;\n",
       "    }\n",
       "\n",
       "    .dataframe tbody tr th {\n",
       "        vertical-align: top;\n",
       "    }\n",
       "\n",
       "    .dataframe thead th {\n",
       "        text-align: right;\n",
       "    }\n",
       "</style>\n",
       "<table border=\"1\" class=\"dataframe\">\n",
       "  <thead>\n",
       "    <tr style=\"text-align: right;\">\n",
       "      <th></th>\n",
       "      <th>genre</th>\n",
       "      <th>jp_sales</th>\n",
       "      <th>genre_perc</th>\n",
       "    </tr>\n",
       "  </thead>\n",
       "  <tbody>\n",
       "    <tr>\n",
       "      <td>0</td>\n",
       "      <td>Role-Playing</td>\n",
       "      <td>43.38</td>\n",
       "      <td>0.446159</td>\n",
       "    </tr>\n",
       "    <tr>\n",
       "      <td>1</td>\n",
       "      <td>Action</td>\n",
       "      <td>27.55</td>\n",
       "      <td>0.283349</td>\n",
       "    </tr>\n",
       "    <tr>\n",
       "      <td>2</td>\n",
       "      <td>Simulation</td>\n",
       "      <td>9.57</td>\n",
       "      <td>0.098426</td>\n",
       "    </tr>\n",
       "    <tr>\n",
       "      <td>3</td>\n",
       "      <td>Platform</td>\n",
       "      <td>8.49</td>\n",
       "      <td>0.087319</td>\n",
       "    </tr>\n",
       "    <tr>\n",
       "      <td>4</td>\n",
       "      <td>Misc</td>\n",
       "      <td>8.24</td>\n",
       "      <td>0.084748</td>\n",
       "    </tr>\n",
       "  </tbody>\n",
       "</table>\n",
       "</div>"
      ],
      "text/plain": [
       "          genre  jp_sales  genre_perc\n",
       "0  Role-Playing     43.38    0.446159\n",
       "1        Action     27.55    0.283349\n",
       "2    Simulation      9.57    0.098426\n",
       "3      Platform      8.49    0.087319\n",
       "4          Misc      8.24    0.084748"
      ]
     },
     "metadata": {},
     "output_type": "display_data"
    }
   ],
   "source": [
    "needed_columns = ['na_sales','eu_sales','jp_sales']\n",
    "for each in needed_columns:\n",
    "    print('Для региона: ',each)\n",
    "    setattr(__main__, each, final_five_year_data.pivot_table(index = 'genre', values = each , aggfunc = 'sum').sort_values(by=each,ascending = False).reset_index().head()) \n",
    "    eval(each)['genre_perc'] = eval(each)[each]/eval(each)[each].sum()\n",
    "    labels = eval(each)['genre']\n",
    "    sizes = eval(each)['genre_perc']\n",
    "    fig1, ax1 = plt.subplots()\n",
    "    ax1.pie(sizes, labels=labels, autopct='%1.1f%%',\n",
    "            shadow=True, startangle=90)\n",
    "    ax1.axis('equal')\n",
    "    plt.show()\n",
    "    display(eval(each).head())"
   ]
  },
  {
   "cell_type": "markdown",
   "metadata": {},
   "source": [
    "Популярные жанры в Европе и в Северной Америке очень похожи: \n",
    "Самые популярные жанры там это Action (33,2% - 33,5%) и Shooter(27,4% - 29,2%).\n",
    "\n",
    "В Европе на третьем месте Sport (17,4%), совсем немного опередил четвертый жанр по популярности Role-Playing (14,2%). Замыкает ТОП5 популярныж жанров для европы жанр Platform (7,7%)\n",
    "\n",
    "В Северной Америке  на третьем месте Playing (15,9%), практически наравне с четвертым по популярности с Role-Sport (15,3%). Пятым по популярности жанром является жанр Platform (8,2%)\n",
    "\n",
    "В Японии, самый популярный жанр Role-Playing (44,6%), далее идет Action (28,3%), на третьем месте Simulation (9,8%), на четвертом Platform (8,7%) и пятый по популярности жанр Misc (8,5%). "
   ]
  },
  {
   "cell_type": "markdown",
   "metadata": {},
   "source": [
    "Теперь необходимо проверить, как влияет на продажи возрастной рейтинг игры. Для этого построим графики по каждому региону."
   ]
  },
  {
   "cell_type": "code",
   "execution_count": 28,
   "metadata": {},
   "outputs": [
    {
     "name": "stdout",
     "output_type": "stream",
     "text": [
      "Для региона:  na_sales\n"
     ]
    },
    {
     "data": {
      "image/png": "[encoded data removed]",
      "text/plain": [
       "<Figure size 432x288 with 1 Axes>"
      ]
     },
     "metadata": {
      "needs_background": "light"
     },
     "output_type": "display_data"
    },
    {
     "name": "stdout",
     "output_type": "stream",
     "text": [
      "Для региона:  eu_sales\n"
     ]
    },
    {
     "data": {
      "image/png": "[encoded data removed]",
      "text/plain": [
       "<Figure size 432x288 with 1 Axes>"
      ]
     },
     "metadata": {
      "needs_background": "light"
     },
     "output_type": "display_data"
    },
    {
     "name": "stdout",
     "output_type": "stream",
     "text": [
      "Для региона:  jp_sales\n"
     ]
    },
    {
     "data": {
      "image/png": "[encoded data removed]",
      "text/plain": [
       "<Figure size 432x288 with 1 Axes>"
      ]
     },
     "metadata": {
      "needs_background": "light"
     },
     "output_type": "display_data"
    }
   ],
   "source": [
    "for each in needed_columns:\n",
    "    print('Для региона: ',each)\n",
    "    ds = final_five_year_data.pivot_table(index = 'rating', values = each, aggfunc = 'sum').reset_index()\n",
    "    ds.plot('rating',each,kind = 'bar')\n",
    "    plt.title('Регион: '+each)\n",
    "    plt.show() \n",
    "    "
   ]
  },
  {
   "cell_type": "markdown",
   "metadata": {},
   "source": [
    "В Европе и Северной Америке больше всего продается игр с рейтингом M - \"пользователи, старше 17 лет\". Второе место по возрастному рейтингу делят между собой игры, которым не был присвоен рейтинг, а также игры категории \"для всех\". Ощутимо меньше (в 2-2,5 раза) продается игр с рейтингом E10+ и T (дети старше 10 лет и подростки).\n",
    "\n",
    "В Японии очень много игр не имеет рейтинга. Возможно, правительство Японии не так жестко регулирует обязательные возрастные рейтинги у игр. Второе место по количеству продаж занимают игры с рейтингом E \"для всех\". Игр с остальными возрастными категориями продается очень мало."
   ]
  },
  {
   "cell_type": "markdown",
   "metadata": {},
   "source": [
    "### Вывод\n",
    "\n",
    "\n",
    "Портрет пользователя для кажого из регионов можно описать так:\n",
    "\n",
    "1) Северная Америка - пользователь, предпочитающий в почти в равной степени игры жанров Action, Shooter на платформах  XOne или PS4 c возрастной категорией M.    \n",
    "\n",
    "2) Европа - пользователь, предпочитающий в почти в большей степени игры на платформе PS4 жанров Action, Shooter c возрастной категорией M. \n",
    "\n",
    "3) Япония - пользователь, предпочитающий в почти в большей степени игры на платформе 3DS жанра Role-Playing (реже Action). Возрастной рейтинг игры не имеет значение "
   ]
  },
  {
   "cell_type": "markdown",
   "metadata": {},
   "source": [
    "## Проверка гипотез"
   ]
  },
  {
   "cell_type": "markdown",
   "metadata": {},
   "source": [
    "Для проверки гипотез будем использовать критерий Стьюдента, поскольку при подтверждении гипотез о различии или равенстве рейтингов для платформ или жанров , нам нужно опеределить, вляется ли это различие статистически значимым или же разница обусловлена случайным разбросом. Критерий значимости возьмем 0,05."
   ]
  },
  {
   "cell_type": "markdown",
   "metadata": {},
   "source": [
    "Перед проверкой гипотез рассчитаем для данных о пользовательском рейтинге платформ XOne и PC, а также для данных о пользовательском рейтинге жанров Action и Sports среднее, медиану, диспресию и стандартное отклонение."
   ]
  },
  {
   "cell_type": "code",
   "execution_count": 29,
   "metadata": {},
   "outputs": [
    {
     "data": {
      "text/html": [
       "<div>\n",
       "<style scoped>\n",
       "    .dataframe tbody tr th:only-of-type {\n",
       "        vertical-align: middle;\n",
       "    }\n",
       "\n",
       "    .dataframe tbody tr th {\n",
       "        vertical-align: top;\n",
       "    }\n",
       "\n",
       "    .dataframe thead tr th {\n",
       "        text-align: left;\n",
       "    }\n",
       "</style>\n",
       "<table border=\"1\" class=\"dataframe\">\n",
       "  <thead>\n",
       "    <tr>\n",
       "      <th></th>\n",
       "      <th colspan=\"4\" halign=\"left\">user_score</th>\n",
       "    </tr>\n",
       "    <tr>\n",
       "      <th></th>\n",
       "      <th>median</th>\n",
       "      <th>mean</th>\n",
       "      <th>var</th>\n",
       "      <th>std</th>\n",
       "    </tr>\n",
       "  </thead>\n",
       "  <tbody>\n",
       "    <tr>\n",
       "      <td>XOne</td>\n",
       "      <td>6.8</td>\n",
       "      <td>6.52</td>\n",
       "      <td>1.91</td>\n",
       "      <td>1.38</td>\n",
       "    </tr>\n",
       "    <tr>\n",
       "      <td>PC</td>\n",
       "      <td>6.8</td>\n",
       "      <td>6.43</td>\n",
       "      <td>2.77</td>\n",
       "      <td>1.66</td>\n",
       "    </tr>\n",
       "  </tbody>\n",
       "</table>\n",
       "</div>"
      ],
      "text/plain": [
       "     user_score                  \n",
       "         median  mean   var   std\n",
       "XOne        6.8  6.52  1.91  1.38\n",
       "PC          6.8  6.43  2.77  1.66"
      ]
     },
     "metadata": {},
     "output_type": "display_data"
    },
    {
     "data": {
      "text/html": [
       "<div>\n",
       "<style scoped>\n",
       "    .dataframe tbody tr th:only-of-type {\n",
       "        vertical-align: middle;\n",
       "    }\n",
       "\n",
       "    .dataframe tbody tr th {\n",
       "        vertical-align: top;\n",
       "    }\n",
       "\n",
       "    .dataframe thead tr th {\n",
       "        text-align: left;\n",
       "    }\n",
       "</style>\n",
       "<table border=\"1\" class=\"dataframe\">\n",
       "  <thead>\n",
       "    <tr>\n",
       "      <th></th>\n",
       "      <th colspan=\"4\" halign=\"left\">user_score</th>\n",
       "    </tr>\n",
       "    <tr>\n",
       "      <th></th>\n",
       "      <th>median</th>\n",
       "      <th>mean</th>\n",
       "      <th>var</th>\n",
       "      <th>std</th>\n",
       "    </tr>\n",
       "  </thead>\n",
       "  <tbody>\n",
       "    <tr>\n",
       "      <td>Action</td>\n",
       "      <td>7.1</td>\n",
       "      <td>6.83</td>\n",
       "      <td>1.89</td>\n",
       "      <td>1.37</td>\n",
       "    </tr>\n",
       "    <tr>\n",
       "      <td>Sports</td>\n",
       "      <td>5.7</td>\n",
       "      <td>5.46</td>\n",
       "      <td>3.02</td>\n",
       "      <td>1.74</td>\n",
       "    </tr>\n",
       "  </tbody>\n",
       "</table>\n",
       "</div>"
      ],
      "text/plain": [
       "       user_score                  \n",
       "           median  mean   var   std\n",
       "Action        7.1  6.83  1.89  1.37\n",
       "Sports        5.7  5.46  3.02  1.74"
      ]
     },
     "metadata": {},
     "output_type": "display_data"
    }
   ],
   "source": [
    "# Это все для мультиндекса\n",
    "l1 = ['user_score']\n",
    "l2 = ['median','mean', 'var', 'std']\n",
    "idx = pd.MultiIndex.from_product([l1, l2])\n",
    "\n",
    "df1= pd.DataFrame(index=['XOne', 'PC'], columns=idx)\n",
    "\n",
    "for i in df1.columns:\n",
    "    df1.loc['XOne',i] = np.round(five_year_data.query('platform == \"XOne\"')[i[0]].agg(i[1]),2)\n",
    "    df1.loc['PC',i] = np.round(five_year_data.query('platform == \"PC\"')[i[0]].agg(i[1]),2)\n",
    "display(df1)\n",
    "\n",
    "l1 = ['user_score']\n",
    "l2 = ['median','mean', 'var', 'std']\n",
    "idx = pd.MultiIndex.from_product([l1, l2])\n",
    "\n",
    "df1= pd.DataFrame(index=['Action', 'Sports'], columns=idx)\n",
    "\n",
    "for i in df1.columns:\n",
    "    df1.loc['Action',i] = np.round(five_year_data.query('genre == \"Action\"')[i[0]].agg(i[1]),2)\n",
    "    df1.loc['Sports',i] = np.round(five_year_data.query('genre == \"Sports\"')[i[0]].agg(i[1]),2)\n",
    "display(df1)  \n"
   ]
  },
  {
   "cell_type": "markdown",
   "metadata": {},
   "source": [
    "Для платформ XOne и PC - медианы совпали, средние практически равны. Далее с помощью критерия Стьюдента проверим, значимо ли это. Разброс данных не очень большой, т.к. стандартное отклонение составляет ~20% от медианы. \n",
    "\n",
    "Для жанров Action и Sports - и медиана и средние достаточно сильно отличаются друг от друга, однако разброс данных для этих признаков уже сильнее, стандартное отклонение составляет 22% для жанра Action и 30% для жанра Sports.\n",
    "\n",
    "Проверим, значимы ли равенство/отличие средних между признаками с помощью критерия Стьюдента.\n",
    "\n",
    "Сравниваемые выборки независимы - мы исследуем рейтинги на разных платформах или рейтинги для разных жанров, а  , поэтому для проверки гипотезы будем использовать метод ttest_ind.\n",
    "\n",
    "Т.к. дисперсии выборок явно отличаются более чем на 5%, то при использовании метода ttest_ind будем использовать параметр equal_var=False. \n"
   ]
  },
  {
   "cell_type": "markdown",
   "metadata": {},
   "source": [
    "#### Гипотеза: Средние пользовательские рейтинги платформ Xbox One и PC одинаковые"
   ]
  },
  {
   "cell_type": "markdown",
   "metadata": {},
   "source": [
    "Для проверки этой гипотезы сформируем нулевую и альтернативную гипотезы:\n",
    "\n",
    "**Нулевая гипотеза:** Средние пользовательские рейтинги платформ Xbox One и PC одинаковые\n",
    "\n",
    "**Альтернативная гипотеза:** Средние пользовательские рейтинги платформ Xbox One и PC различаются\n",
    "\n",
    "Нулевую гипотезу принимаем как равенство пользовательских рейтингов для двух платформ - XOne и PC, т.к. нам важно убедиться, что вероятность с которой мы допустим ошибку, если примем альтернативную гипотезу, меньше уровня значимости - 5%.  Если мы отвергнем нулевую гипотезу, то далее мы сможем сделать правильный вывод с вероятностью не менее 95% у какой платформы выше рейтинг. "
   ]
  },
  {
   "cell_type": "code",
   "execution_count": 30,
   "metadata": {},
   "outputs": [
    {
     "name": "stdout",
     "output_type": "stream",
     "text": [
      "p-значение: 0.5535080500642724\n",
      "Не получилось отвергнуть нулевую гипотезу\n"
     ]
    }
   ],
   "source": [
    "alpha = 0.05\n",
    "\n",
    "results = st.ttest_ind(five_year_data.query('platform == \"XOne\"')['user_score'], five_year_data.query('platform == \"PC\"')['user_score'],nan_policy = 'omit')\n",
    "\n",
    "print('p-значение:', results.pvalue)\n",
    "\n",
    "if results.pvalue < alpha:\n",
    "    print('Отвергаем нулевую гипотезу')\n",
    "else:\n",
    "    print('Не получилось отвергнуть нулевую гипотезу') \n"
   ]
  },
  {
   "cell_type": "markdown",
   "metadata": {},
   "source": [
    "#### Вывод\n",
    "\n",
    "Т.к. нулевая гипотеза не отвергнута, то нельзя утверждать, что рейтинги платформ PC и XOne значимо равны. \n",
    "С вероятностью 55%  такое равенство можно получить случайно, а значит, нельзя делать вывод что рейтинги значимо равны или неравны. "
   ]
  },
  {
   "cell_type": "markdown",
   "metadata": {},
   "source": [
    "#### Гипотеза: Средние пользовательские рейтинги жанров Action  и Sports разные."
   ]
  },
  {
   "cell_type": "markdown",
   "metadata": {},
   "source": [
    "Для проверки этой гипотезы сформируем нулевую и альтернативную гипотезы:\n",
    "\n",
    "**Нулевая гипотеза:** Средние пользовательские рейтинги жанров Action и Sports равны.\n",
    "\n",
    "**Альтернативная гипотеза:** Средние пользовательские рейтинги жанров Action и Sports разные.\n",
    "\n",
    "Нулевую гипотезу принимаем как равенство пользовательских рейтингов для двух жанров - Action и Sports, т.к. нам важно убедиться, что вероятность с которой мы допустим ошибку, если примем альтернативную гипотезу, меньше уровня значимости - 5%.  Если мы отвергнем нулевую гипотезу, то далее мы сможем сделать правильный вывод с вероятностью не менее 95% у какого жанра выше рейтинг. "
   ]
  },
  {
   "cell_type": "code",
   "execution_count": 31,
   "metadata": {},
   "outputs": [
    {
     "name": "stdout",
     "output_type": "stream",
     "text": [
      "p-значение: 3.716308946093586e-26\n",
      "Отвергаем нулевую гипотезу\n"
     ]
    }
   ],
   "source": [
    "alpha = 0.05\n",
    "\n",
    "results = st.ttest_ind(five_year_data.query('genre == \"Action\"')['user_score'], five_year_data.query('genre == \"Sports\"')['user_score'],nan_policy = 'omit')\n",
    "\n",
    "print('p-значение:', results.pvalue)\n",
    "\n",
    "if results.pvalue < alpha:\n",
    "    print('Отвергаем нулевую гипотезу')\n",
    "else:\n",
    "    print('Не получилось отвергнуть нулевую гипотезу') \n"
   ]
  },
  {
   "cell_type": "markdown",
   "metadata": {},
   "source": [
    "#### Вывод\n",
    "\n",
    "Т.к. нулевая гипотеза отвергнута, а рейтинг игр жанра Action больше рейтинга игр жанра Sports, то с вероятностью 99% можно утверждать:\n",
    "\n",
    "Рейтинг игр жанра Action значимо выше рейтинга игр Sports, в среднем на ~25%."
   ]
  },
  {
   "cell_type": "markdown",
   "metadata": {},
   "source": [
    "## Общий вывод\n",
    "\n",
    "Потенциально популярным продуктом можно назвать:\n",
    "\n",
    "- Игру на платформах PS4 и XOne с хорошими оценками критиков ( выше 6 ), жанра Action и Shooter и возрастной категорием M, для пользователей из Северной Америки\n",
    "- Игру на платформах PS4 и XOne (преимущественно PS4) с хорошими оценками критиков ( выше 6 ), жанра Action и Shooter и возрастной категорием M, для пользователей из Европы \n",
    "- Игру на платформе 3DS с хорошими оценками как пользователей ( выше 6 ), так и критиков, жанра Role-Playing (реже Action) для пользователей Японии \n",
    "\n",
    "Портрет пользователя для кажого из регионов :\n",
    "\n",
    "1) **Северная Америка** - пользователь, предпочитающий в почти в равной степени игры жанров Action, Shooter на платформах  XOne или PS4 c возрастной категорией M.    \n",
    "\n",
    "2) **Европа** - пользователь, предпочитающий в почти в большей степени игры на платформе PS4 жанров Action, Shooter c возрастной категорией M. \n",
    "\n",
    "3) **Япония** - пользователь, предпочитающий в почти в большей степени игры на платформе 3DS жанра Role-Playing (реже Action). Возрастной рейтинг игры не имеет значение \n",
    "\n",
    "Нельзя утверждать, что рейтинги платформ PC и XOne значимо равны, с вероятностью 55% такое равентсво можно получить случайно.\n",
    "\n",
    "С вероятностью 99% можно утверждать: рейтинг игр жанра Action значимо выше рейтинга игр Sports, в среднем на ~25%.\n",
    "\n",
    "Оптимальный период, на основании которого можно делать анализ и прогноз - 5 лет.\n",
    "\n",
    "Продажи на всех платформах, кроме, вероятно, PS4 и XOne падают. Т.к. данные за 2016 год не полные, то рекомендуется дополнить данные и проверить результаты исследования на полных данных\n",
    "\n",
    "Для платформ 3DS и WiiU пользователи больше доверяют оценкам пользователей, чем пользователи PS4 и XOne и меньше оценкам критиков. Для WiiU пользователи доверяют больше оценке пользователей, чем оценке критиков.\n",
    "\n",
    "В Японии наиболее популярны игры в жанрах \"Role-Playing\" и \"Platform\".\n",
    "\n",
    "Игры жанра Action очень перспективны для продвижения, т.к. почти на всех платформах и во всех регионах такие игры популярны.\n",
    "\n",
    "В результате анализа были сформированы следующие рекомендации заказчику: \n",
    " - При планировании рекламной кампании стоит принимать во внимание регион, в котором находится потенциальный покупатель, а также его портрет. Не стоит делать ставку на игры в жанре \"Strategy\", \"Puzzle\", \"Adventure\" - они плохо продаются в любом регионе и на любой платформе.\n",
    " - Рекомендуется дополнить данные за 2016 год и проверить результаты исследования на полных данных.\n",
    " - Необходимо обратиться к разработчикам и уточнить, почему в данных по рейтингам (признаки \"user_score\" и \"critic_score\") и оценке (признак \"rating\") очень много пропусков (около 50% данных с пропусками)."
   ]
  },
  {
   "cell_type": "markdown",
   "metadata": {},
   "source": [
    " "
   ]
  }
 ],
 "metadata": {
  "kernelspec": {
   "display_name": "Python 3",
   "language": "python",
   "name": "python3"
  },
  "language_info": {
   "codemirror_mode": {
    "name": "ipython",
    "version": 3
   },
   "file_extension": ".py",
   "mimetype": "text/x-python",
   "name": "python",
   "nbconvert_exporter": "python",
   "pygments_lexer": "ipython3",
   "version": "3.7.8"
  },
  "toc": {
   "base_numbering": 1,
   "nav_menu": {},
   "number_sections": true,
   "sideBar": true,
   "skip_h1_title": true,
   "title_cell": "Содержание",
   "title_sidebar": "Contents",
   "toc_cell": true,
   "toc_position": {
    "height": "calc(100% - 180px)",
    "left": "10px",
    "top": "150px",
    "width": "250.035px"
   },
   "toc_section_display": true,
   "toc_window_display": true
  }
 },
 "nbformat": 4,
 "nbformat_minor": 2
}
