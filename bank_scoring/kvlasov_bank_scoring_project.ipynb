{
 "cells": [
  {
   "cell_type": "markdown",
   "metadata": {},
   "source": [
    "# Исследование надёжности заёмщиков\n",
    "\n",
    "Заказчик — кредитный отдел банка. Нужно разобраться, влияет ли семейное положение и количество детей клиента на факт погашения кредита в срок. Входные данные от банка — статистика о платёжеспособности клиентов.\n",
    "\n",
    "Результаты исследования будут учтены при построении модели **кредитного скоринга** — специальной системы, которая оценивает способность потенциального заёмщика вернуть кредит банку."
   ]
  },
  {
   "cell_type": "markdown",
   "metadata": {},
   "source": [
    "Цель исследования:\n",
    "\n",
    "1) Ответить на вопросы: \n",
    "- Существует зависимость между наличием детей и возвратом кредита в срок.\n",
    "- Существует зависимость между семейным положением и возвратом кредита в срок.\n",
    "- Существует зависимость между уровнем дохода и возвратом кредита в срок.\n",
    "- Сущестует зависимость между целью получения кредита и возвратом кредита в срок.\n",
    "\n",
    "2) Описать характер (как влияет фактор на срок возврата долга) для каждой подвержденной зависимости\n",
    "\n",
    "\n"
   ]
  },
  {
   "cell_type": "markdown",
   "metadata": {},
   "source": [
    "## Шаг 1. Откройте файл с данными и изучите общую информацию"
   ]
  },
  {
   "cell_type": "markdown",
   "metadata": {},
   "source": [
    "Импортируем необходимые библиотеки "
   ]
  },
  {
   "cell_type": "code",
   "execution_count": 1,
   "metadata": {},
   "outputs": [],
   "source": [
    "import pandas as pd \n",
    "from pymystem3 import Mystem\n",
    "from collections import Counter\n",
    "from IPython.display import display"
   ]
  },
  {
   "cell_type": "code",
   "execution_count": 2,
   "metadata": {},
   "outputs": [],
   "source": [
    "scoring_data_native = pd.read_csv('/datasets/data.csv')# формируем DataFrame. \n",
    "scoring_data = scoring_data_native\n",
    "\n",
    "if len(scoring_data) == 0: #проверка на путой датафрейм\n",
    "    print('Dataframe пуст!')\n",
    "m = Mystem() "
   ]
  },
  {
   "cell_type": "markdown",
   "metadata": {},
   "source": [
    "Далее будем работать с датафреймом в переменной scoring_data, для того, что бы всегда иметь доступ к исходным данным."
   ]
  },
  {
   "cell_type": "code",
   "execution_count": 3,
   "metadata": {},
   "outputs": [
    {
     "name": "stdout",
     "output_type": "stream",
     "text": [
      "<class 'pandas.core.frame.DataFrame'>\n",
      "RangeIndex: 21525 entries, 0 to 21524\n",
      "Data columns (total 12 columns):\n",
      "children            21525 non-null int64\n",
      "days_employed       19351 non-null float64\n",
      "dob_years           21525 non-null int64\n",
      "education           21525 non-null object\n",
      "education_id        21525 non-null int64\n",
      "family_status       21525 non-null object\n",
      "family_status_id    21525 non-null int64\n",
      "gender              21525 non-null object\n",
      "income_type         21525 non-null object\n",
      "debt                21525 non-null int64\n",
      "total_income        19351 non-null float64\n",
      "purpose             21525 non-null object\n",
      "dtypes: float64(2), int64(5), object(5)\n",
      "memory usage: 2.0+ MB\n",
      "\r\n",
      "Количество пропусков в столбце days_employed : 2174 \r\n",
      "\n",
      "Количество пропусков в столбце total_income : 2174 \r\n",
      "\n",
      "сотрудник          1105\n",
      "компаньон           508\n",
      "пенсионер           413\n",
      "госслужащий         147\n",
      "предприниматель       1\n",
      "Name: income_type, dtype: int64\n"
     ]
    }
   ],
   "source": [
    "scoring_data.info()\n",
    "\n",
    "#Подсчет количества строк с пропусками\n",
    "print('\\r\\nКоличество пропусков в столбце days_employed :',scoring_data[scoring_data['days_employed'].isnull()]['purpose'].count(),'\\r\\n')# purpose взяли т.к. интересует любо столбец без пропусков \n",
    "print('Количество пропусков в столбце total_income :',scoring_data[scoring_data['total_income'].isnull()]['purpose'].count(),'\\r\\n')\n",
    "\n",
    "\n",
    "print(scoring_data[scoring_data['days_employed'].isnull()]['income_type'].value_counts())\n"
   ]
  },
  {
   "cell_type": "markdown",
   "metadata": {},
   "source": [
    "**Вывод**\n",
    "\n",
    "В столбцах \"days_employed\" и \"total_income\" одинаковое количество пропущенных значений значений: 2174. Вероятно, эти пропуски связаны с тем, что при сборе данных сотрудники могли сделать ошибку и записать дробное число через запятую, а не точку и значение не записалось. \n",
    "\n",
    "Это подтверждает то, что люди трудоустроены, а значит должны иметь стаж и ежемесячный доход. В столбце \"income_type\" встречаются разные типы занятости, что говорит о том, что пропуски встречаются не только у каких-то конкретных типов.\n",
    "\n",
    "Пропусков \"None\" нет в столбцах с пропусками. Об это говорит то, что тип данных в двух столбцах float64, а не object. "
   ]
  },
  {
   "cell_type": "markdown",
   "metadata": {},
   "source": [
    "## Шаг 2. Предобработка данных"
   ]
  },
  {
   "cell_type": "markdown",
   "metadata": {},
   "source": [
    "### Обработка пропусков"
   ]
  },
  {
   "cell_type": "markdown",
   "metadata": {},
   "source": [
    "Количество пропусков составляет около 10%, потерять такое количество записей мы не можем. Пропуски находятся в количественных переменных, поэтому отсортируем таблицу по этим столбцам и посмотрим на данные в первых и последних строках, что бы выбрать метод для заполнения : медианой или же средним арифметическим."
   ]
  },
  {
   "cell_type": "markdown",
   "metadata": {},
   "source": [
    "####  Обработка пропусков в столбце  \"total_income\""
   ]
  },
  {
   "cell_type": "markdown",
   "metadata": {},
   "source": [
    "Что бы заполнить пропуски наиболее приближенными значениями к действительности, будем опираться на тип занятости.\n",
    "Посмотрим максимальные и минимальные значения для основных типов занятости. "
   ]
  },
  {
   "cell_type": "code",
   "execution_count": 4,
   "metadata": {},
   "outputs": [
    {
     "name": "stdout",
     "output_type": "stream",
     "text": [
      "сотрудник          11119\n",
      "компаньон           5085\n",
      "пенсионер           3856\n",
      "госслужащий         1459\n",
      "безработный            2\n",
      "предприниматель        2\n",
      "в декрете              1\n",
      "студент                1\n",
      "Name: income_type, dtype: int64\n",
      "\n",
      "Медиана ежемесячного дохода среди всех записей: 167422.30\n",
      "\n",
      "Максимальная ЗП типа занятости \"сотрудник\": 1726276.01\n",
      "Минимальная ЗП типа занятости \"сотрудник\": 21367.65\n",
      "\n",
      "Максимальная ЗП типа занятости \"компаньон\": 2265604.03\n",
      "Минимальная ЗП типа занятости \"компаньон\": 28702.81\n",
      "\n",
      "Максимальная ЗП типа занятости \"госслужащий\": 910451.47\n",
      "Минимальная ЗП типа занятости \"госслужащий\": 29200.08\n",
      "\n",
      "Максимальная ЗП типа занятости \"пенсионер\": 735103.27\n",
      "Минимальная ЗП типа занятости \"пенсионер\": 20667.26\n"
     ]
    }
   ],
   "source": [
    "print(scoring_data['income_type'].value_counts())\n",
    "print()    \n",
    "print('Медиана ежемесячного дохода среди всех записей: {:.2f}'.format(scoring_data['total_income'].mean()))\n",
    "print()\n",
    "print('Максимальная ЗП типа занятости \"сотрудник\": {:.2f}'.format(scoring_data[scoring_data['income_type'] == 'сотрудник']['total_income'].max()))\n",
    "print('Минимальная ЗП типа занятости \"сотрудник\": {:.2f}'.format(scoring_data[scoring_data['income_type'] == 'сотрудник']['total_income'].min()))\n",
    "print()\n",
    "print('Максимальная ЗП типа занятости \"компаньон\": {:.2f}'.format(scoring_data[scoring_data['income_type'] == 'компаньон']['total_income'].max()))\n",
    "print('Минимальная ЗП типа занятости \"компаньон\": {:.2f}'.format(scoring_data[scoring_data['income_type'] == 'компаньон']['total_income'].min()))\n",
    "print()\n",
    "print('Максимальная ЗП типа занятости \"госслужащий\": {:.2f}'.format(scoring_data[scoring_data['income_type'] == 'госслужащий']['total_income'].max()))\n",
    "print('Минимальная ЗП типа занятости \"госслужащий\": {:.2f}'.format(scoring_data[scoring_data['income_type'] == 'госслужащий']['total_income'].min()))\n",
    "print()\n",
    "print('Максимальная ЗП типа занятости \"пенсионер\": {:.2f}'.format(scoring_data[scoring_data['income_type'] == 'пенсионер']['total_income'].max()))\n",
    "print('Минимальная ЗП типа занятости \"пенсионер\": {:.2f}'.format(scoring_data[scoring_data['income_type'] == 'пенсионер']['total_income'].min()))"
   ]
  },
  {
   "cell_type": "markdown",
   "metadata": {},
   "source": [
    "Безработных, декретных и студентов рассматривать не будем, т.к. их количество незначительно и для них подойдет любой выбранный способ.\n",
    "\n",
    "Из данных видно, что разрыв между минимальным и максимальным значением для каждого типа занятости очень большой и среднее значение плохо характеризует по-настоящему средний доход, поэтому пропуски будем заполнять медианой среди значений соответствующих типов занятости."
   ]
  },
  {
   "cell_type": "code",
   "execution_count": 5,
   "metadata": {},
   "outputs": [
    {
     "name": "stdout",
     "output_type": "stream",
     "text": [
      "<class 'pandas.core.frame.DataFrame'>\n",
      "RangeIndex: 21525 entries, 0 to 21524\n",
      "Data columns (total 12 columns):\n",
      "children            21525 non-null int64\n",
      "days_employed       19351 non-null float64\n",
      "dob_years           21525 non-null int64\n",
      "education           21525 non-null object\n",
      "education_id        21525 non-null int64\n",
      "family_status       21525 non-null object\n",
      "family_status_id    21525 non-null int64\n",
      "gender              21525 non-null object\n",
      "income_type         21525 non-null object\n",
      "debt                21525 non-null int64\n",
      "total_income        21525 non-null float64\n",
      "purpose             21525 non-null object\n",
      "dtypes: float64(2), int64(5), object(5)\n",
      "memory usage: 2.0+ MB\n"
     ]
    }
   ],
   "source": [
    "#заполняем пропуски соотв. медианами\n",
    "scoring_data['total_income'] = scoring_data.groupby('income_type')['total_income'].apply(lambda x: x.fillna(x.median()))\n",
    "scoring_data.info()"
   ]
  },
  {
   "cell_type": "markdown",
   "metadata": {},
   "source": [
    "Пропуски в столбце total_income заполнены. "
   ]
  },
  {
   "cell_type": "markdown",
   "metadata": {},
   "source": [
    "#### Обработка пропусков в столбце \"days_employed\""
   ]
  },
  {
   "cell_type": "markdown",
   "metadata": {},
   "source": [
    "Для поставленных целей данный столбец, вероятно, не понадобится, поэтому не будем применять для него более подробный анализ для заполнения пропусков. Применим метод abs() для возведения в модуль значений столбца и избавления от отрицательных значений, а затем заполним пропуски медианой среди всех значений.  "
   ]
  },
  {
   "cell_type": "code",
   "execution_count": 6,
   "metadata": {},
   "outputs": [
    {
     "name": "stdout",
     "output_type": "stream",
     "text": [
      "<class 'pandas.core.frame.DataFrame'>\n",
      "RangeIndex: 21525 entries, 0 to 21524\n",
      "Data columns (total 12 columns):\n",
      "children            21525 non-null int64\n",
      "days_employed       21525 non-null float64\n",
      "dob_years           21525 non-null int64\n",
      "education           21525 non-null object\n",
      "education_id        21525 non-null int64\n",
      "family_status       21525 non-null object\n",
      "family_status_id    21525 non-null int64\n",
      "gender              21525 non-null object\n",
      "income_type         21525 non-null object\n",
      "debt                21525 non-null int64\n",
      "total_income        21525 non-null float64\n",
      "purpose             21525 non-null object\n",
      "dtypes: float64(2), int64(5), object(5)\n",
      "memory usage: 2.0+ MB\n"
     ]
    }
   ],
   "source": [
    "#сначала избавимся от отрицательных значений, чтобы верно посчитать медиану\n",
    "scoring_data['days_employed'] = scoring_data['days_employed'].abs()\n",
    "#заполним пропуски\n",
    "scoring_data['days_employed'] = scoring_data['days_employed'].fillna(scoring_data['days_employed'].median())\n",
    "scoring_data.info()"
   ]
  },
  {
   "cell_type": "markdown",
   "metadata": {},
   "source": [
    "После заполнения всех пропусков, при оценке значений категориальных переменных среди значимых (отностиельно целей исследования) показателей обнаружились отрицательные значения в столбце \"children\". "
   ]
  },
  {
   "cell_type": "code",
   "execution_count": 7,
   "metadata": {},
   "outputs": [
    {
     "name": "stdout",
     "output_type": "stream",
     "text": [
      " 0     14149\n",
      " 1      4818\n",
      " 2      2055\n",
      " 3       330\n",
      " 20       76\n",
      "-1        47\n",
      " 4        41\n",
      " 5         9\n",
      "Name: children, dtype: int64\n"
     ]
    }
   ],
   "source": [
    "print(scoring_data['children'].value_counts())"
   ]
  },
  {
   "cell_type": "markdown",
   "metadata": {},
   "source": [
    "Что бы избавится от отрицательных значений в столбце применим к нему метод abs().\n",
    "\n",
    "Также в столбце был обнаружен вероятный артефакт: 76 выданных кредитов людям, у которых по **20 детей**. Рекомендуется проверить, как попадают эти данные в датасет, предположительно ошибка может возникнуть из-за опечатки сотрудников (лишний ноль в конце).\n",
    "Т.к. мы проверяем гипотезу о наличии зависимости между наличием детей и возвратом в срок, нам может быть интересно посмотреть зависимость и от количества детей. Однако количество таких строк 0,35% и вряд ли они повлияют на результат исследования, поэтому оставим данные как есть."
   ]
  },
  {
   "cell_type": "code",
   "execution_count": 8,
   "metadata": {},
   "outputs": [],
   "source": [
    "scoring_data['children'] = scoring_data['children'].abs() "
   ]
  },
  {
   "cell_type": "markdown",
   "metadata": {},
   "source": [
    "**Вывод**\n",
    "В таблице больше нет пропусков, артефактов, которые нам помешают на первый взгляд нет и можно двигаться дальше.\n",
    "\n",
    "Артефакты в значениях столбца \"days_eployed\"(стаж 1000 лет или отрицательные значения) могут быть связаны с неправильно составленной формулой способа исчисления трудового стажа, установленного ФЗ No 255-ФЗ. Необходимо проверить, каким образом эти данные попадают в таблицу \n",
    "\n",
    "Также в таблице 101 запись с параметром \"dob_years\" равным нулю. Для поставленных целей возраст заемщика, вероятно, не понадобится, поэтому исправлять данный артефакт оставим без внимания. Однако по этому артефакту также стоит проверить сбор данных, т.к. если в дальнейшем он понадобится для анализа, то заполнять нулевые значения средними значениями возвраста не будет смысла, а зависмость возвраста от стажа или типа занятости крайне сомнительна.\n",
    "\n",
    "Интересно, что безработным, декретным и студентам очень редко все же одобряются кредиты, в основном на цели, связанные с жильем, хотя риск очень большой. Возможно роль сыграл неплохой ежемесячный доход."
   ]
  },
  {
   "cell_type": "markdown",
   "metadata": {},
   "source": [
    "### Замена типа данных"
   ]
  },
  {
   "cell_type": "markdown",
   "metadata": {},
   "source": [
    "Т.к. в данном случае разница в рубль в ежемесячном доходе для нас не принципиальна, поэтоу оруглять значения не будем и просто отбросим дробную часть. \n",
    "Трудовой стаж, как правило, округляется в большую сторону, поэтому применим округление до ближайшего четного для значений столбца \"days_employed\"."
   ]
  },
  {
   "cell_type": "code",
   "execution_count": 9,
   "metadata": {},
   "outputs": [
    {
     "name": "stdout",
     "output_type": "stream",
     "text": [
      "0    253875\n",
      "1    112080\n",
      "2    145885\n",
      "3    267628\n",
      "4    158616\n",
      "Name: total_income, dtype: int64\n",
      "0      8438\n",
      "1      4025\n",
      "2      5623\n",
      "3      4125\n",
      "4    340266\n",
      "Name: days_employed, dtype: int64\n"
     ]
    }
   ],
   "source": [
    "scoring_data['days_employed'] = scoring_data['days_employed'].apply(lambda x: round(x))\n",
    "scoring_data['total_income'] = scoring_data['total_income'].astype(int)\n",
    "print(scoring_data['total_income'].head())\n",
    "print(scoring_data['days_employed'].head())"
   ]
  },
  {
   "cell_type": "code",
   "execution_count": 10,
   "metadata": {},
   "outputs": [
    {
     "data": {
      "text/plain": [
       "0        253875\n",
       "1        112080\n",
       "2        145885\n",
       "3        267628\n",
       "4        158616\n",
       "          ...  \n",
       "21520    224791\n",
       "21521    155999\n",
       "21522     89672\n",
       "21523    244093\n",
       "21524     82047\n",
       "Name: total_income, Length: 21525, dtype: int64"
      ]
     },
     "execution_count": 10,
     "metadata": {},
     "output_type": "execute_result"
    }
   ],
   "source": [
    "scoring_data['total_income'].round().astype(int)"
   ]
  },
  {
   "cell_type": "markdown",
   "metadata": {},
   "source": [
    "**Вывод**\n",
    "\n",
    "В результате оба столбца имеют тип данных int64, значит, преобразование прошло. В случае необходимости округления по математическм правилам можно было бы написать свою функцию."
   ]
  },
  {
   "cell_type": "markdown",
   "metadata": {},
   "source": [
    "### Обработка дубликатов"
   ]
  },
  {
   "cell_type": "markdown",
   "metadata": {},
   "source": [
    "С помощью value_counts() найдем количество уникальных значений в каждом столбце. Не используем unique(), т.к., возможно, потребуется оценить также количество таких значений.  "
   ]
  },
  {
   "cell_type": "code",
   "execution_count": 11,
   "metadata": {},
   "outputs": [
    {
     "name": "stdout",
     "output_type": "stream",
     "text": [
      "0     14149\n",
      "1      4865\n",
      "2      2055\n",
      "3       330\n",
      "20       76\n",
      "4        41\n",
      "5         9\n",
      "Name: children, dtype: int64 \n",
      "\n",
      "2194      2179\n",
      "200         15\n",
      "1482        14\n",
      "206         14\n",
      "220         14\n",
      "          ... \n",
      "7739         1\n",
      "368193       1\n",
      "400962       1\n",
      "7748         1\n",
      "347045       1\n",
      "Name: days_employed, Length: 9058, dtype: int64 \n",
      "\n",
      "35    617\n",
      "40    609\n",
      "41    607\n",
      "34    603\n",
      "38    598\n",
      "42    597\n",
      "33    581\n",
      "39    573\n",
      "31    560\n",
      "36    555\n",
      "44    547\n",
      "29    545\n",
      "30    540\n",
      "48    538\n",
      "37    537\n",
      "50    514\n",
      "43    513\n",
      "32    510\n",
      "49    508\n",
      "28    503\n",
      "45    497\n",
      "27    493\n",
      "56    487\n",
      "52    484\n",
      "47    480\n",
      "54    479\n",
      "46    475\n",
      "58    461\n",
      "57    460\n",
      "53    459\n",
      "51    448\n",
      "59    444\n",
      "55    443\n",
      "26    408\n",
      "60    377\n",
      "25    357\n",
      "61    355\n",
      "62    352\n",
      "63    269\n",
      "64    265\n",
      "24    264\n",
      "23    254\n",
      "65    194\n",
      "66    183\n",
      "22    183\n",
      "67    167\n",
      "21    111\n",
      "0     101\n",
      "68     99\n",
      "69     85\n",
      "70     65\n",
      "71     58\n",
      "20     51\n",
      "72     33\n",
      "19     14\n",
      "73      8\n",
      "74      6\n",
      "75      1\n",
      "Name: dob_years, dtype: int64 \n",
      "\n",
      "среднее                13750\n",
      "высшее                  4718\n",
      "СРЕДНЕЕ                  772\n",
      "Среднее                  711\n",
      "неоконченное высшее      668\n",
      "ВЫСШЕЕ                   274\n",
      "Высшее                   268\n",
      "начальное                250\n",
      "Неоконченное высшее       47\n",
      "НЕОКОНЧЕННОЕ ВЫСШЕЕ       29\n",
      "НАЧАЛЬНОЕ                 17\n",
      "Начальное                 15\n",
      "ученая степень             4\n",
      "Ученая степень             1\n",
      "УЧЕНАЯ СТЕПЕНЬ             1\n",
      "Name: education, dtype: int64 \n",
      "\n",
      "1    15233\n",
      "0     5260\n",
      "2      744\n",
      "3      282\n",
      "4        6\n",
      "Name: education_id, dtype: int64 \n",
      "\n",
      "женат / замужем          12380\n",
      "гражданский брак          4177\n",
      "Не женат / не замужем     2813\n",
      "в разводе                 1195\n",
      "вдовец / вдова             960\n",
      "Name: family_status, dtype: int64 \n",
      "\n",
      "0    12380\n",
      "1     4177\n",
      "4     2813\n",
      "3     1195\n",
      "2      960\n",
      "Name: family_status_id, dtype: int64 \n",
      "\n",
      "F      14236\n",
      "M       7288\n",
      "XNA        1\n",
      "Name: gender, dtype: int64 \n",
      "\n",
      "сотрудник          11119\n",
      "компаньон           5085\n",
      "пенсионер           3856\n",
      "госслужащий         1459\n",
      "безработный            2\n",
      "предприниматель        2\n",
      "в декрете              1\n",
      "студент                1\n",
      "Name: income_type, dtype: int64 \n",
      "\n",
      "0    19784\n",
      "1     1741\n",
      "Name: debt, dtype: int64 \n",
      "\n",
      "142594    1105\n",
      "172357     509\n",
      "118514     414\n",
      "150447     147\n",
      "161807       3\n",
      "          ... \n",
      "119961       1\n",
      "218263       1\n",
      "119958       1\n",
      "185492       1\n",
      "81054        1\n",
      "Name: total_income, Length: 18608, dtype: int64 \n",
      "\n",
      "свадьба                                   797\n",
      "на проведение свадьбы                     777\n",
      "сыграть свадьбу                           774\n",
      "операции с недвижимостью                  676\n",
      "покупка коммерческой недвижимости         664\n",
      "операции с жильем                         653\n",
      "покупка жилья для сдачи                   653\n",
      "операции с коммерческой недвижимостью     651\n",
      "покупка жилья                             647\n",
      "жилье                                     647\n",
      "покупка жилья для семьи                   641\n",
      "строительство собственной недвижимости    635\n",
      "недвижимость                              634\n",
      "операции со своей недвижимостью           630\n",
      "строительство жилой недвижимости          626\n",
      "покупка недвижимости                      624\n",
      "строительство недвижимости                620\n",
      "покупка своего жилья                      620\n",
      "ремонт жилью                              612\n",
      "покупка жилой недвижимости                607\n",
      "на покупку своего автомобиля              505\n",
      "заняться высшим образованием              496\n",
      "автомобиль                                495\n",
      "сделка с подержанным автомобилем          489\n",
      "свой автомобиль                           480\n",
      "на покупку подержанного автомобиля        479\n",
      "автомобили                                478\n",
      "на покупку автомобиля                     472\n",
      "приобретение автомобиля                   462\n",
      "дополнительное образование                462\n",
      "сделка с автомобилем                      455\n",
      "высшее образование                        453\n",
      "получение дополнительного образования     447\n",
      "образование                               447\n",
      "получение образования                     443\n",
      "профильное образование                    436\n",
      "получение высшего образования             426\n",
      "заняться образованием                     412\n",
      "Name: purpose, dtype: int64 \n",
      "\n"
     ]
    },
    {
     "data": {
      "text/plain": [
       "children            None\n",
       "days_employed       None\n",
       "dob_years           None\n",
       "education           None\n",
       "education_id        None\n",
       "family_status       None\n",
       "family_status_id    None\n",
       "gender              None\n",
       "income_type         None\n",
       "debt                None\n",
       "total_income        None\n",
       "purpose             None\n",
       "dtype: object"
      ]
     },
     "execution_count": 11,
     "metadata": {},
     "output_type": "execute_result"
    }
   ],
   "source": [
    "def find_uniq_values(series):\n",
    "    return print(series.value_counts(),'\\r\\n')\n",
    "scoring_data.apply(find_uniq_values)"
   ]
  },
  {
   "cell_type": "markdown",
   "metadata": {},
   "source": [
    "В столбце \"education\" найдены значения, которые отличаются между собой регистром. Перед проверкой на дубли и их очисткой приведем значеня в единый регистр. Значения в остальных столбцах в норме."
   ]
  },
  {
   "cell_type": "code",
   "execution_count": 12,
   "metadata": {},
   "outputs": [
    {
     "name": "stdout",
     "output_type": "stream",
     "text": [
      "среднее                13750\n",
      "высшее                  4718\n",
      "СРЕДНЕЕ                  772\n",
      "Среднее                  711\n",
      "неоконченное высшее      668\n",
      "ВЫСШЕЕ                   274\n",
      "Высшее                   268\n",
      "начальное                250\n",
      "Неоконченное высшее       47\n",
      "НЕОКОНЧЕННОЕ ВЫСШЕЕ       29\n",
      "НАЧАЛЬНОЕ                 17\n",
      "Начальное                 15\n",
      "ученая степень             4\n",
      "Ученая степень             1\n",
      "УЧЕНАЯ СТЕПЕНЬ             1\n",
      "Name: education, dtype: int64\n",
      "\n",
      "После перевода в нижний регистр:\r\n",
      "\n",
      "среднее                15233\n",
      "высшее                  5260\n",
      "неоконченное высшее      744\n",
      "начальное                282\n",
      "ученая степень             6\n",
      "Name: education, dtype: int64\n"
     ]
    }
   ],
   "source": [
    "print(scoring_data['education'].value_counts())\n",
    "\n",
    "scoring_data['education'] = scoring_data['education'].str.lower()\n",
    "print()\n",
    "print('После перевода в нижний регистр:\\r\\n')\n",
    "print(scoring_data['education'].value_counts())"
   ]
  },
  {
   "cell_type": "markdown",
   "metadata": {},
   "source": [
    "Проверим на дубликаты датасет. Использовать будем метод duplicated() для того, что бы найти дубли строк во всем датасете. "
   ]
  },
  {
   "cell_type": "code",
   "execution_count": 13,
   "metadata": {},
   "outputs": [
    {
     "name": "stdout",
     "output_type": "stream",
     "text": [
      "Количество одинаковых строк: 71\n"
     ]
    }
   ],
   "source": [
    "print('Количество одинаковых строк:',scoring_data.duplicated().sum())\n",
    "   "
   ]
  },
  {
   "cell_type": "markdown",
   "metadata": {},
   "source": [
    "В данном случае дубли могли появится из-за заполнения пропущенных данных  медианами. Однако количество дублей всего 71 шт (0,33%), поэтому удалим их методом drop_duplicates() "
   ]
  },
  {
   "cell_type": "code",
   "execution_count": 14,
   "metadata": {},
   "outputs": [
    {
     "name": "stdout",
     "output_type": "stream",
     "text": [
      "Количество одинаковых строк: 0\n",
      "\n",
      "<class 'pandas.core.frame.DataFrame'>\n",
      "RangeIndex: 21454 entries, 0 to 21453\n",
      "Data columns (total 12 columns):\n",
      "children            21454 non-null int64\n",
      "days_employed       21454 non-null int64\n",
      "dob_years           21454 non-null int64\n",
      "education           21454 non-null object\n",
      "education_id        21454 non-null int64\n",
      "family_status       21454 non-null object\n",
      "family_status_id    21454 non-null int64\n",
      "gender              21454 non-null object\n",
      "income_type         21454 non-null object\n",
      "debt                21454 non-null int64\n",
      "total_income        21454 non-null int64\n",
      "purpose             21454 non-null object\n",
      "dtypes: int64(7), object(5)\n",
      "memory usage: 2.0+ MB\n"
     ]
    }
   ],
   "source": [
    "scoring_data = scoring_data.drop_duplicates().reset_index(drop = True)\n",
    "print('Количество одинаковых строк:',scoring_data.duplicated().sum())\n",
    "print()\n",
    "scoring_data.info()"
   ]
  },
  {
   "cell_type": "markdown",
   "metadata": {},
   "source": [
    "**Вывод**\n",
    "\n",
    "Дубли очищены, количество строк в таблице уменьшилось ровно на количество дублей.\n",
    "Заказчику рекомендуется обратиться в отдел разработки с предложением обработки таких значений до записи в датасет: приведение к единому регистру либо дать пользователям возможность выбрать из предопределенных вариантов."
   ]
  },
  {
   "cell_type": "markdown",
   "metadata": {},
   "source": [
    "### Лемматизация"
   ]
  },
  {
   "cell_type": "markdown",
   "metadata": {},
   "source": [
    "Выделим леммы из каждого значения в столбце \"purpose\" в столбец \"lemmas\". Проанализируем, сколько всего разных целей среди выданных кредитов."
   ]
  },
  {
   "cell_type": "code",
   "execution_count": 15,
   "metadata": {},
   "outputs": [
    {
     "name": "stdout",
     "output_type": "stream",
     "text": [
      "Найденные леммы:\r\n",
      " [автомобиль, \\n]                                          972\n",
      "[свадьба, \\n]                                             791\n",
      "[на,  , проведение,  , свадьба, \\n]                       768\n",
      "[сыграть,  , свадьба, \\n]                                 765\n",
      "[операция,  , с,  , недвижимость, \\n]                     675\n",
      "[покупка,  , коммерческий,  , недвижимость, \\n]           661\n",
      "[операция,  , с,  , жилье, \\n]                            652\n",
      "[покупка,  , жилье,  , для,  , сдача, \\n]                 651\n",
      "[операция,  , с,  , коммерческий,  , недвижимость, \\n]    650\n",
      "[покупка,  , жилье, \\n]                                   646\n",
      "[жилье, \\n]                                               646\n",
      "[покупка,  , жилье,  , для,  , семья, \\n]                 638\n",
      "[строительство,  , собственный,  , недвижимость, \\n]      635\n",
      "[недвижимость, \\n]                                        633\n",
      "[операция,  , со,  , свой,  , недвижимость, \\n]           627\n",
      "[строительство,  , жилой,  , недвижимость, \\n]            624\n",
      "[покупка,  , недвижимость, \\n]                            621\n",
      "[покупка,  , свой,  , жилье, \\n]                          620\n",
      "[строительство,  , недвижимость, \\n]                      619\n",
      "[ремонт,  , жилье, \\n]                                    607\n",
      "[покупка,  , жилой,  , недвижимость, \\n]                  606\n",
      "[на,  , покупка,  , свой,  , автомобиль, \\n]              505\n",
      "[заниматься,  , высокий,  , образование, \\n]              496\n",
      "[сделка,  , с,  , подержанный,  , автомобиль, \\n]         486\n",
      "[свой,  , автомобиль, \\n]                                 478\n",
      "[на,  , покупка,  , подержать,  , автомобиль, \\n]         478\n",
      "[на,  , покупка,  , автомобиль, \\n]                       471\n",
      "[приобретение,  , автомобиль, \\n]                         461\n",
      "[дополнительный,  , образование, \\n]                      460\n",
      "[сделка,  , с,  , автомобиль, \\n]                         455\n",
      "[высокий,  , образование, \\n]                             452\n",
      "[образование, \\n]                                         447\n",
      "[получение,  , дополнительный,  , образование, \\n]        446\n",
      "[получение,  , образование, \\n]                           442\n",
      "[профильный,  , образование, \\n]                          436\n",
      "[получение,  , высокий,  , образование, \\n]               426\n",
      "[заниматься,  , образование, \\n]                          408\n",
      "Name: purpose_lemmas, dtype: int64\n"
     ]
    }
   ],
   "source": [
    "def find_lemmas(string):# функция для выделения лемм в строке\n",
    "    lemmas = m.lemmatize(string)\n",
    "    return lemmas\n",
    "\n",
    "scoring_data['purpose_lemmas'] = scoring_data['purpose'].apply(find_lemmas)# в столбце lemmas будут хранится выделенные леммы\n",
    "print('Найденные леммы:\\r\\n',scoring_data['purpose_lemmas'].value_counts())#найдем уникальные выделенные леммы \n"
   ]
  },
  {
   "cell_type": "markdown",
   "metadata": {},
   "source": [
    "Как видно из данных, уникальных лемм не так много и можно выделить пять главных групп целей кредитования:\n",
    "1) покупка автомобиля\n",
    "2) покупка недвижимости\n",
    "3) получение образования\n",
    "4) свадьба\n",
    "5) ремонт жилья"
   ]
  },
  {
   "cell_type": "markdown",
   "metadata": {},
   "source": [
    "**Вывод**\n",
    "\n",
    "С помощью лемматизации выделены основные группы целей кредитования, по которым в дальнейшем будет производится категоризация.\n",
    "Чаще всего кредит берутся для приобретения недвижимости, самая редкая цель кредитования - ремонт. \n",
    "\n",
    "В остальных признаках лемматизация не требуется, т.к. данные, интересующие нас, уже характеризуют категории заемщиков в необходимых аналитиках\n"
   ]
  },
  {
   "cell_type": "markdown",
   "metadata": {},
   "source": [
    "### Категоризация данных"
   ]
  },
  {
   "cell_type": "markdown",
   "metadata": {},
   "source": [
    "Для дальнейшей категоризации добавим к dataframe столбцы:\n",
    "\n",
    "1) \"have_child\" - признак, принимающий значение \"1\", если у заемщика ребенок есть и \"0\" если ребенка нет\n",
    "\n",
    "2) \"total_income_category\" - признак, характеризующий категории дохода. Для выделения категорий по данному принаку посмотрим медианы ежемесячного дохода для каждого типа занятости.\n",
    "\n",
    "3) \"purpose_category\" - признак, характеризующий категории целей кредитования и принимающий соответсвующие значения: автомобиль, недвижимость, образование, ремонт, свадьба"
   ]
  },
  {
   "cell_type": "code",
   "execution_count": 16,
   "metadata": {},
   "outputs": [
    {
     "name": "stdout",
     "output_type": "stream",
     "text": [
      "Медиана дохода для типа занятости \"сотрудник\": 142594.00\n",
      "Медиана дохода для типа занятости \"пенсионер\": 118514.00\n",
      "Медиана дохода для типа занятости \"компаньон\": 172357.00\n",
      "Медиана дохода для типа занятости \"госслужащий\": 150447.00\n"
     ]
    }
   ],
   "source": [
    "print('Медиана дохода для типа занятости \"сотрудник\": {:.2f}'.format(scoring_data[scoring_data['income_type'] == 'сотрудник']['total_income'].median()))\n",
    "print('Медиана дохода для типа занятости \"пенсионер\": {:.2f}'.format(scoring_data[scoring_data['income_type'] == 'пенсионер']['total_income'].median()))\n",
    "print('Медиана дохода для типа занятости \"компаньон\": {:.2f}'.format(scoring_data[scoring_data['income_type'] == 'компаньон']['total_income'].median()))\n",
    "print('Медиана дохода для типа занятости \"госслужащий\": {:.2f}'.format(scoring_data[scoring_data['income_type'] == 'госслужащий']['total_income'].median()))"
   ]
  },
  {
   "cell_type": "markdown",
   "metadata": {},
   "source": [
    "Для столбца \"total_income_category\" выделим следующие категории: \n",
    "- значение \"низкий\" при ежемесячном доходе менее 70 000 у.е \n",
    "- \"ниже среднего\" при ежемесячном доходе 70 000 - 120 000 у.е \n",
    "- \"средний\" при ежемесячном доходе 120 000 - 160 000 у.е. \n",
    "- \"высокий\" при ежемесячном доходе от 160 000 у.е. "
   ]
  },
  {
   "cell_type": "code",
   "execution_count": 17,
   "metadata": {},
   "outputs": [
    {
     "name": "stdout",
     "output_type": "stream",
     "text": [
      "Все леммы попали в категории!\n",
      "\n"
     ]
    },
    {
     "data": {
      "text/html": [
       "<div>\n",
       "<style scoped>\n",
       "    .dataframe tbody tr th:only-of-type {\n",
       "        vertical-align: middle;\n",
       "    }\n",
       "\n",
       "    .dataframe tbody tr th {\n",
       "        vertical-align: top;\n",
       "    }\n",
       "\n",
       "    .dataframe thead th {\n",
       "        text-align: right;\n",
       "    }\n",
       "</style>\n",
       "<table border=\"1\" class=\"dataframe\">\n",
       "  <thead>\n",
       "    <tr style=\"text-align: right;\">\n",
       "      <th></th>\n",
       "      <th>children</th>\n",
       "      <th>days_employed</th>\n",
       "      <th>dob_years</th>\n",
       "      <th>education</th>\n",
       "      <th>education_id</th>\n",
       "      <th>family_status</th>\n",
       "      <th>family_status_id</th>\n",
       "      <th>gender</th>\n",
       "      <th>income_type</th>\n",
       "      <th>debt</th>\n",
       "      <th>total_income</th>\n",
       "      <th>purpose</th>\n",
       "      <th>purpose_lemmas</th>\n",
       "      <th>have_child</th>\n",
       "      <th>total_income_category</th>\n",
       "      <th>purpose_category</th>\n",
       "    </tr>\n",
       "  </thead>\n",
       "  <tbody>\n",
       "    <tr>\n",
       "      <td>0</td>\n",
       "      <td>1</td>\n",
       "      <td>8438</td>\n",
       "      <td>42</td>\n",
       "      <td>высшее</td>\n",
       "      <td>0</td>\n",
       "      <td>женат / замужем</td>\n",
       "      <td>0</td>\n",
       "      <td>F</td>\n",
       "      <td>сотрудник</td>\n",
       "      <td>0</td>\n",
       "      <td>253875</td>\n",
       "      <td>покупка жилья</td>\n",
       "      <td>[покупка,  , жилье, \\n]</td>\n",
       "      <td>дети есть</td>\n",
       "      <td>высокий</td>\n",
       "      <td>недвижимость</td>\n",
       "    </tr>\n",
       "    <tr>\n",
       "      <td>1</td>\n",
       "      <td>1</td>\n",
       "      <td>4025</td>\n",
       "      <td>36</td>\n",
       "      <td>среднее</td>\n",
       "      <td>1</td>\n",
       "      <td>женат / замужем</td>\n",
       "      <td>0</td>\n",
       "      <td>F</td>\n",
       "      <td>сотрудник</td>\n",
       "      <td>0</td>\n",
       "      <td>112080</td>\n",
       "      <td>приобретение автомобиля</td>\n",
       "      <td>[приобретение,  , автомобиль, \\n]</td>\n",
       "      <td>дети есть</td>\n",
       "      <td>ниже среднего</td>\n",
       "      <td>автомобиль</td>\n",
       "    </tr>\n",
       "    <tr>\n",
       "      <td>2</td>\n",
       "      <td>0</td>\n",
       "      <td>5623</td>\n",
       "      <td>33</td>\n",
       "      <td>среднее</td>\n",
       "      <td>1</td>\n",
       "      <td>женат / замужем</td>\n",
       "      <td>0</td>\n",
       "      <td>M</td>\n",
       "      <td>сотрудник</td>\n",
       "      <td>0</td>\n",
       "      <td>145885</td>\n",
       "      <td>покупка жилья</td>\n",
       "      <td>[покупка,  , жилье, \\n]</td>\n",
       "      <td>детей нет</td>\n",
       "      <td>средний</td>\n",
       "      <td>недвижимость</td>\n",
       "    </tr>\n",
       "    <tr>\n",
       "      <td>3</td>\n",
       "      <td>3</td>\n",
       "      <td>4125</td>\n",
       "      <td>32</td>\n",
       "      <td>среднее</td>\n",
       "      <td>1</td>\n",
       "      <td>женат / замужем</td>\n",
       "      <td>0</td>\n",
       "      <td>M</td>\n",
       "      <td>сотрудник</td>\n",
       "      <td>0</td>\n",
       "      <td>267628</td>\n",
       "      <td>дополнительное образование</td>\n",
       "      <td>[дополнительный,  , образование, \\n]</td>\n",
       "      <td>дети есть</td>\n",
       "      <td>высокий</td>\n",
       "      <td>образование</td>\n",
       "    </tr>\n",
       "    <tr>\n",
       "      <td>4</td>\n",
       "      <td>0</td>\n",
       "      <td>340266</td>\n",
       "      <td>53</td>\n",
       "      <td>среднее</td>\n",
       "      <td>1</td>\n",
       "      <td>гражданский брак</td>\n",
       "      <td>1</td>\n",
       "      <td>F</td>\n",
       "      <td>пенсионер</td>\n",
       "      <td>0</td>\n",
       "      <td>158616</td>\n",
       "      <td>сыграть свадьбу</td>\n",
       "      <td>[сыграть,  , свадьба, \\n]</td>\n",
       "      <td>детей нет</td>\n",
       "      <td>средний</td>\n",
       "      <td>свадьба</td>\n",
       "    </tr>\n",
       "    <tr>\n",
       "      <td>5</td>\n",
       "      <td>0</td>\n",
       "      <td>926</td>\n",
       "      <td>27</td>\n",
       "      <td>высшее</td>\n",
       "      <td>0</td>\n",
       "      <td>гражданский брак</td>\n",
       "      <td>1</td>\n",
       "      <td>M</td>\n",
       "      <td>компаньон</td>\n",
       "      <td>0</td>\n",
       "      <td>255763</td>\n",
       "      <td>покупка жилья</td>\n",
       "      <td>[покупка,  , жилье, \\n]</td>\n",
       "      <td>детей нет</td>\n",
       "      <td>высокий</td>\n",
       "      <td>недвижимость</td>\n",
       "    </tr>\n",
       "    <tr>\n",
       "      <td>6</td>\n",
       "      <td>0</td>\n",
       "      <td>2879</td>\n",
       "      <td>43</td>\n",
       "      <td>высшее</td>\n",
       "      <td>0</td>\n",
       "      <td>женат / замужем</td>\n",
       "      <td>0</td>\n",
       "      <td>F</td>\n",
       "      <td>компаньон</td>\n",
       "      <td>0</td>\n",
       "      <td>240525</td>\n",
       "      <td>операции с жильем</td>\n",
       "      <td>[операция,  , с,  , жилье, \\n]</td>\n",
       "      <td>детей нет</td>\n",
       "      <td>высокий</td>\n",
       "      <td>недвижимость</td>\n",
       "    </tr>\n",
       "    <tr>\n",
       "      <td>7</td>\n",
       "      <td>0</td>\n",
       "      <td>153</td>\n",
       "      <td>50</td>\n",
       "      <td>среднее</td>\n",
       "      <td>1</td>\n",
       "      <td>женат / замужем</td>\n",
       "      <td>0</td>\n",
       "      <td>M</td>\n",
       "      <td>сотрудник</td>\n",
       "      <td>0</td>\n",
       "      <td>135823</td>\n",
       "      <td>образование</td>\n",
       "      <td>[образование, \\n]</td>\n",
       "      <td>детей нет</td>\n",
       "      <td>средний</td>\n",
       "      <td>образование</td>\n",
       "    </tr>\n",
       "    <tr>\n",
       "      <td>8</td>\n",
       "      <td>2</td>\n",
       "      <td>6930</td>\n",
       "      <td>35</td>\n",
       "      <td>высшее</td>\n",
       "      <td>0</td>\n",
       "      <td>гражданский брак</td>\n",
       "      <td>1</td>\n",
       "      <td>F</td>\n",
       "      <td>сотрудник</td>\n",
       "      <td>0</td>\n",
       "      <td>95856</td>\n",
       "      <td>на проведение свадьбы</td>\n",
       "      <td>[на,  , проведение,  , свадьба, \\n]</td>\n",
       "      <td>дети есть</td>\n",
       "      <td>ниже среднего</td>\n",
       "      <td>свадьба</td>\n",
       "    </tr>\n",
       "    <tr>\n",
       "      <td>9</td>\n",
       "      <td>0</td>\n",
       "      <td>2189</td>\n",
       "      <td>41</td>\n",
       "      <td>среднее</td>\n",
       "      <td>1</td>\n",
       "      <td>женат / замужем</td>\n",
       "      <td>0</td>\n",
       "      <td>M</td>\n",
       "      <td>сотрудник</td>\n",
       "      <td>0</td>\n",
       "      <td>144425</td>\n",
       "      <td>покупка жилья для семьи</td>\n",
       "      <td>[покупка,  , жилье,  , для,  , семья, \\n]</td>\n",
       "      <td>детей нет</td>\n",
       "      <td>средний</td>\n",
       "      <td>недвижимость</td>\n",
       "    </tr>\n",
       "  </tbody>\n",
       "</table>\n",
       "</div>"
      ],
      "text/plain": [
       "   children  days_employed  dob_years education  education_id  \\\n",
       "0         1           8438         42    высшее             0   \n",
       "1         1           4025         36   среднее             1   \n",
       "2         0           5623         33   среднее             1   \n",
       "3         3           4125         32   среднее             1   \n",
       "4         0         340266         53   среднее             1   \n",
       "5         0            926         27    высшее             0   \n",
       "6         0           2879         43    высшее             0   \n",
       "7         0            153         50   среднее             1   \n",
       "8         2           6930         35    высшее             0   \n",
       "9         0           2189         41   среднее             1   \n",
       "\n",
       "      family_status  family_status_id gender income_type  debt  total_income  \\\n",
       "0   женат / замужем                 0      F   сотрудник     0        253875   \n",
       "1   женат / замужем                 0      F   сотрудник     0        112080   \n",
       "2   женат / замужем                 0      M   сотрудник     0        145885   \n",
       "3   женат / замужем                 0      M   сотрудник     0        267628   \n",
       "4  гражданский брак                 1      F   пенсионер     0        158616   \n",
       "5  гражданский брак                 1      M   компаньон     0        255763   \n",
       "6   женат / замужем                 0      F   компаньон     0        240525   \n",
       "7   женат / замужем                 0      M   сотрудник     0        135823   \n",
       "8  гражданский брак                 1      F   сотрудник     0         95856   \n",
       "9   женат / замужем                 0      M   сотрудник     0        144425   \n",
       "\n",
       "                      purpose                             purpose_lemmas  \\\n",
       "0               покупка жилья                    [покупка,  , жилье, \\n]   \n",
       "1     приобретение автомобиля          [приобретение,  , автомобиль, \\n]   \n",
       "2               покупка жилья                    [покупка,  , жилье, \\n]   \n",
       "3  дополнительное образование       [дополнительный,  , образование, \\n]   \n",
       "4             сыграть свадьбу                  [сыграть,  , свадьба, \\n]   \n",
       "5               покупка жилья                    [покупка,  , жилье, \\n]   \n",
       "6           операции с жильем             [операция,  , с,  , жилье, \\n]   \n",
       "7                 образование                          [образование, \\n]   \n",
       "8       на проведение свадьбы        [на,  , проведение,  , свадьба, \\n]   \n",
       "9     покупка жилья для семьи  [покупка,  , жилье,  , для,  , семья, \\n]   \n",
       "\n",
       "  have_child total_income_category purpose_category  \n",
       "0  дети есть               высокий     недвижимость  \n",
       "1  дети есть         ниже среднего       автомобиль  \n",
       "2  детей нет               средний     недвижимость  \n",
       "3  дети есть               высокий      образование  \n",
       "4  детей нет               средний          свадьба  \n",
       "5  детей нет               высокий     недвижимость  \n",
       "6  детей нет               высокий     недвижимость  \n",
       "7  детей нет               средний      образование  \n",
       "8  дети есть         ниже среднего          свадьба  \n",
       "9  детей нет               средний     недвижимость  "
      ]
     },
     "metadata": {},
     "output_type": "display_data"
    }
   ],
   "source": [
    "def have_child_category(child_value):#категоризация по налиию детей\n",
    "    if child_value == 0:\n",
    "        return 'детей нет'\n",
    "    else:\n",
    "        return 'дети есть'\n",
    "\n",
    "def  set_income_category(income_value):#категоризация по ежемесячному доходу\n",
    "    if income_value < 70000:\n",
    "        return 'низкий'\n",
    "    elif ((income_value >= 70000)&(income_value<120000)):\n",
    "        return 'ниже среднего'\n",
    "    elif ((income_value >= 120000)&(income_value<160000)):\n",
    "        return 'средний'\n",
    "    return 'высокий'\n",
    "\n",
    "def set_purpose_category(purpose_values):#категоризация по целям кредитования\n",
    "    if 'свадьба' in purpose_values:\n",
    "        return 'свадьба'\n",
    "    elif 'ремонт' in purpose_values:\n",
    "        return 'ремонт'\n",
    "    elif 'автомобиль' in purpose_values:\n",
    "        return 'автомобиль'\n",
    "    elif 'образование' in purpose_values:\n",
    "        return 'образование'\n",
    "    elif ((('жилье' in purpose_values) & ('ремонт' not in purpose_values)) or ('недвижимость' in purpose_values)):\n",
    "        return 'недвижимость'\n",
    "    else:    \n",
    "        return 'неизвестно' #для проверки лемм, которые не попали ни в одну категорию.\n",
    "    \n",
    "scoring_data['have_child'] = scoring_data['children'].apply(have_child_category)\n",
    "scoring_data['total_income_category'] = scoring_data['total_income'].apply(set_income_category)\n",
    "scoring_data['purpose_category'] = scoring_data['purpose_lemmas'].apply(set_purpose_category)\n",
    "\n",
    "if (scoring_data[scoring_data['purpose_category'] == 'неизвестно'].empty):#проверяем, все ли леммы попали в категории\n",
    "    print('Все леммы попали в категории!')\n",
    "print()\n",
    "display(scoring_data.head(10))"
   ]
  },
  {
   "cell_type": "markdown",
   "metadata": {},
   "source": [
    "**Вывод**\n",
    "\n",
    "Все необходимые признаки для анализа категоризированы: семейное положение, ежемесячный доход, наличие детей и цель кредита.\n",
    "\n",
    "Цифры об общем ежемесячном доходе кажутся сильно завышенными как минимум для пенсионеров и госслужащих. Значения сильно больше значений как официальной статистики, так и так  посчитанной сторонними организациями.  Возможно, стоит проверить достоверность данных и пересмотреть границы соответсвующих категорий.\n",
    "Такой предположительный артефакт может быть связан с тем, что банк допускает указывать незадекларированный доход в общем ежемесячном доходе, а заемщики этим пользуются, для увеличения вероятности одобрения займа. В таком случае можно предложить заказчику разделить общий ежемесячный доход на декларируемый и недекларируемый, для более объективных данных."
   ]
  },
  {
   "cell_type": "markdown",
   "metadata": {},
   "source": [
    "## Шаг 3. Ответьте на вопросы"
   ]
  },
  {
   "cell_type": "markdown",
   "metadata": {},
   "source": [
    "### Есть ли зависимость между наличием детей и возвратом кредита в срок?"
   ]
  },
  {
   "cell_type": "markdown",
   "metadata": {},
   "source": [
    "Выдвинем гипотезу.\n",
    "\n",
    "**Гипотеза 1. \n",
    "Заемщики, у которых есть дети, реже становятся должниками.** \n",
    "\n",
    "Предполагаемые причины: т.к. наличие детей дисциплинирует, а также заемщики больше опасаются негативных последствий при просроченной задолженности, которые могут повлиять также и на детей (арест счетов, опись имущества, коллекторские мероприятия и т.д.)\n",
    "\n",
    "Для проверки гипотезы проанализируем:\n",
    "\n",
    "1) процент невозврата кредитов у заемщиков с детьми и без детей\n",
    "\n",
    "2) количество выданных кредитов заемщикам с детьми и без детей. Возможно, что объем выборки может быть слишком маленькой  для подвтерждения или опровержения гипотезы\n",
    "\n",
    "Также будет интересно посмотреть процент невозврата для заемщиков с разным колиеством детей"
   ]
  },
  {
   "cell_type": "code",
   "execution_count": 18,
   "metadata": {},
   "outputs": [
    {
     "name": "stdout",
     "output_type": "stream",
     "text": [
      "Количество кредитов, выданных заемщикам с детьми: 7363\n",
      "Количество кредитов, выданных заемщикам без детей: 14091\n",
      "\n",
      "Общий процент невозврата: 8.1%\n",
      "Процент невозврата заемщиками, у которых есть дети: 9.2%\n",
      "Процент невозврата заемщиками, у которых нет детей: 7.5%\n",
      "\n"
     ]
    },
    {
     "data": {
      "text/html": [
       "<div>\n",
       "<style scoped>\n",
       "    .dataframe tbody tr th:only-of-type {\n",
       "        vertical-align: middle;\n",
       "    }\n",
       "\n",
       "    .dataframe tbody tr th {\n",
       "        vertical-align: top;\n",
       "    }\n",
       "\n",
       "    .dataframe thead th {\n",
       "        text-align: right;\n",
       "    }\n",
       "</style>\n",
       "<table border=\"1\" class=\"dataframe\">\n",
       "  <thead>\n",
       "    <tr style=\"text-align: right;\">\n",
       "      <th></th>\n",
       "      <th>debt</th>\n",
       "      <th>credit_count</th>\n",
       "      <th>debt_percent</th>\n",
       "      <th>income_median</th>\n",
       "    </tr>\n",
       "    <tr>\n",
       "      <th>children</th>\n",
       "      <th></th>\n",
       "      <th></th>\n",
       "      <th></th>\n",
       "      <th></th>\n",
       "    </tr>\n",
       "  </thead>\n",
       "  <tbody>\n",
       "    <tr>\n",
       "      <td>0</td>\n",
       "      <td>1063</td>\n",
       "      <td>14091</td>\n",
       "      <td>7.5</td>\n",
       "      <td>142594.0</td>\n",
       "    </tr>\n",
       "    <tr>\n",
       "      <td>1</td>\n",
       "      <td>445</td>\n",
       "      <td>4855</td>\n",
       "      <td>9.2</td>\n",
       "      <td>145521.0</td>\n",
       "    </tr>\n",
       "    <tr>\n",
       "      <td>2</td>\n",
       "      <td>194</td>\n",
       "      <td>2052</td>\n",
       "      <td>9.5</td>\n",
       "      <td>142594.0</td>\n",
       "    </tr>\n",
       "    <tr>\n",
       "      <td>3</td>\n",
       "      <td>27</td>\n",
       "      <td>330</td>\n",
       "      <td>8.2</td>\n",
       "      <td>145220.0</td>\n",
       "    </tr>\n",
       "    <tr>\n",
       "      <td>4</td>\n",
       "      <td>4</td>\n",
       "      <td>41</td>\n",
       "      <td>9.8</td>\n",
       "      <td>150447.0</td>\n",
       "    </tr>\n",
       "    <tr>\n",
       "      <td>5</td>\n",
       "      <td>0</td>\n",
       "      <td>9</td>\n",
       "      <td>0.0</td>\n",
       "      <td>168460.0</td>\n",
       "    </tr>\n",
       "    <tr>\n",
       "      <td>20</td>\n",
       "      <td>8</td>\n",
       "      <td>76</td>\n",
       "      <td>10.5</td>\n",
       "      <td>144036.5</td>\n",
       "    </tr>\n",
       "  </tbody>\n",
       "</table>\n",
       "</div>"
      ],
      "text/plain": [
       "          debt  credit_count  debt_percent  income_median\n",
       "children                                                 \n",
       "0         1063         14091           7.5       142594.0\n",
       "1          445          4855           9.2       145521.0\n",
       "2          194          2052           9.5       142594.0\n",
       "3           27           330           8.2       145220.0\n",
       "4            4            41           9.8       150447.0\n",
       "5            0             9           0.0       168460.0\n",
       "20           8            76          10.5       144036.5"
      ]
     },
     "metadata": {},
     "output_type": "display_data"
    },
    {
     "name": "stdout",
     "output_type": "stream",
     "text": [
      "\n"
     ]
    },
    {
     "data": {
      "text/plain": [
       "children  purpose_category\n",
       "0         недвижимость        6672\n",
       "          автомобиль          2845\n",
       "          образование         2642\n",
       "          свадьба             1530\n",
       "          ремонт               402\n",
       "1         недвижимость        2334\n",
       "          автомобиль           974\n",
       "          образование          876\n",
       "          свадьба              534\n",
       "          ремонт               137\n",
       "2         недвижимость         978\n",
       "          образование          403\n",
       "          автомобиль           399\n",
       "          свадьба              215\n",
       "          ремонт                57\n",
       "3         недвижимость         160\n",
       "          образование           69\n",
       "          автомобиль            60\n",
       "          свадьба               32\n",
       "          ремонт                 9\n",
       "4         недвижимость          21\n",
       "          автомобиль            10\n",
       "          образование            7\n",
       "          свадьба                3\n",
       "5         недвижимость           5\n",
       "          автомобиль             2\n",
       "          образование            1\n",
       "          свадьба                1\n",
       "20        недвижимость          34\n",
       "          автомобиль            16\n",
       "          образование           15\n",
       "          свадьба                9\n",
       "          ремонт                 2\n",
       "Name: purpose_category, dtype: int64"
      ]
     },
     "metadata": {},
     "output_type": "display_data"
    }
   ],
   "source": [
    "print('Количество кредитов, выданных заемщикам с детьми:',scoring_data[scoring_data['have_child'] == 'дети есть']['have_child'].count())\n",
    "print('Количество кредитов, выданных заемщикам без детей:',scoring_data[scoring_data['have_child'] == 'детей нет']['have_child'].count())\n",
    "\n",
    "total_debt_value = (scoring_data[scoring_data['debt'] == 1]['debt'].count())/len(scoring_data)#общий процент невозврата\n",
    "debt_with_child = (scoring_data[(scoring_data['debt'] == 1) & (scoring_data['have_child'] == 'дети есть')]['debt'].count())/(scoring_data[scoring_data['have_child'] == 'дети есть']['debt'].count())#общий процент невозврата\n",
    "debt_without_child = (scoring_data[(scoring_data['debt'] == 1) & (scoring_data['have_child'] == 'детей нет')]['debt'].count())/(scoring_data[scoring_data['have_child'] == 'детей нет']['debt'].count())#общий процент невозврата\n",
    "print()\n",
    "print('Общий процент невозврата: {:.1%}'.format(total_debt_value))\n",
    "print('Процент невозврата заемщиками, у которых есть дети: {:.1%}'.format(debt_with_child))\n",
    "print('Процент невозврата заемщиками, у которых нет детей: {:.1%}'.format(debt_without_child))\n",
    "\n",
    "debt_number_of_childrens = scoring_data.groupby('children').sum()#группируем датасет по количеству детей\n",
    "print()\n",
    "\n",
    "#находим количество займов для заемщиков с определенным количествомм детей\n",
    "debt_number_of_childrens['credit_count'] = scoring_data.groupby('children')['debt'].count()\n",
    "\n",
    "#находим медиану среднего дохода для заемщиков с определенным колиеством детей\n",
    "debt_number_of_childrens['income_median'] = scoring_data.groupby('children')['total_income'].median()\n",
    "\n",
    "#находим процент невозврата займов для заемщиков с определенным количествомм детей\n",
    "debt_number_of_childrens['debt_percent'] = round((scoring_data.groupby('children')['debt'].sum()/debt_number_of_childrens['credit_count'])*100,1)\n",
    "display(debt_number_of_childrens[['debt','credit_count','debt_percent','income_median']])\n",
    "print()\n",
    "display(scoring_data.groupby('children')['purpose_category'].value_counts())"
   ]
  },
  {
   "cell_type": "markdown",
   "metadata": {},
   "source": [
    "**Вывод**\n",
    "\n",
    "Выдвинутая гипотеза отвергнута. Процент невозврата у заемщиков с детьми оказался выше, чем у заемщиков без детей (9,2% против 7,5%) и даже оказался выше, чем общий процент невозврата. **Это говорит о том, что связь между наличием детей и возвратом кредита в срок есть: заемщики с детьми чаще допускают просрочки по кредиту, чем заемщики без детей.**\n",
    "\n",
    "Также при рассмотрени целей кредита для заемщиков с разным количеством детей видно, что наличия или отсутсвия детей тройка самых популярных целей одна и та же: недвижимость, авто, образование. Это говорит о том, что влияние количества детей на цель кредита либо исключено либо минимально и не может быть косвенной причиной полученных результатов.\n",
    "\n",
    "Одна из вероятных причин может быть связана с тем, что при наличии детей, заемщик несет повышенные расходы и из-за этого может допускать просрочки по кредиту. Это подтверждает то, что с ростом количества детей процент невозврата растет, а ежемесячный доход остается на прежнем уровне.\n",
    "\n"
   ]
  },
  {
   "cell_type": "markdown",
   "metadata": {},
   "source": [
    "### Есть ли зависимость между семейным положением и возвратом кредита в срок?"
   ]
  },
  {
   "cell_type": "markdown",
   "metadata": {},
   "source": [
    "Выдвинем гипотезы:\n",
    "\n",
    "**Гипотеза 2.  Самый низкий процент невозврата у заемщиков, которые либо находятся в зарегистрированных отношениях или в гражданском браке**\n",
    "Возможные причины: т.к. в таком случае долговая нагрузка может распределятся на двух человек. \n",
    "\n",
    "**Гипотеза 3. Самый высокий процент невозврата у заемщиков, которые являются вдовами/вдовцами или же находящимися в разводе.**\n",
    "Возможные причины: эмоциональное состояние и отсутсвие возможности распределения долговой нагрузки.\n",
    "\n",
    "При наличии категории \"гражданский брак\" полагаем, что, если заемщик рзведен, но живет с кем-то в гражданском браке, то он все равно попадает в категорию с семейным положением \"гражданский брак\"."
   ]
  },
  {
   "cell_type": "code",
   "execution_count": 19,
   "metadata": {},
   "outputs": [
    {
     "name": "stdout",
     "output_type": "stream",
     "text": [
      "Количество кредитов для категорий:\n",
      "женат / замужем          12339\n",
      "гражданский брак          4151\n",
      "Не женат / не замужем     2810\n",
      "в разводе                 1195\n",
      "вдовец / вдова             959\n",
      "Name: family_status, dtype: int64\n",
      "\n",
      "\n"
     ]
    },
    {
     "data": {
      "text/html": [
       "<div>\n",
       "<style scoped>\n",
       "    .dataframe tbody tr th:only-of-type {\n",
       "        vertical-align: middle;\n",
       "    }\n",
       "\n",
       "    .dataframe tbody tr th {\n",
       "        vertical-align: top;\n",
       "    }\n",
       "\n",
       "    .dataframe thead th {\n",
       "        text-align: right;\n",
       "    }\n",
       "</style>\n",
       "<table border=\"1\" class=\"dataframe\">\n",
       "  <thead>\n",
       "    <tr style=\"text-align: right;\">\n",
       "      <th></th>\n",
       "      <th>debt</th>\n",
       "      <th>credit_count</th>\n",
       "      <th>debt_percent</th>\n",
       "      <th>income_median</th>\n",
       "    </tr>\n",
       "    <tr>\n",
       "      <th>family_status</th>\n",
       "      <th></th>\n",
       "      <th></th>\n",
       "      <th></th>\n",
       "      <th></th>\n",
       "    </tr>\n",
       "  </thead>\n",
       "  <tbody>\n",
       "    <tr>\n",
       "      <td>Не женат / не замужем</td>\n",
       "      <td>274</td>\n",
       "      <td>2810</td>\n",
       "      <td>9.8</td>\n",
       "      <td>142594</td>\n",
       "    </tr>\n",
       "    <tr>\n",
       "      <td>в разводе</td>\n",
       "      <td>85</td>\n",
       "      <td>1195</td>\n",
       "      <td>7.1</td>\n",
       "      <td>143450</td>\n",
       "    </tr>\n",
       "    <tr>\n",
       "      <td>вдовец / вдова</td>\n",
       "      <td>63</td>\n",
       "      <td>959</td>\n",
       "      <td>6.6</td>\n",
       "      <td>127310</td>\n",
       "    </tr>\n",
       "    <tr>\n",
       "      <td>гражданский брак</td>\n",
       "      <td>388</td>\n",
       "      <td>4151</td>\n",
       "      <td>9.3</td>\n",
       "      <td>142594</td>\n",
       "    </tr>\n",
       "    <tr>\n",
       "      <td>женат / замужем</td>\n",
       "      <td>931</td>\n",
       "      <td>12339</td>\n",
       "      <td>7.5</td>\n",
       "      <td>142969</td>\n",
       "    </tr>\n",
       "  </tbody>\n",
       "</table>\n",
       "</div>"
      ],
      "text/plain": [
       "                       debt  credit_count  debt_percent  income_median\n",
       "family_status                                                         \n",
       "Не женат / не замужем   274          2810           9.8         142594\n",
       "в разводе                85          1195           7.1         143450\n",
       "вдовец / вдова           63           959           6.6         127310\n",
       "гражданский брак        388          4151           9.3         142594\n",
       "женат / замужем         931         12339           7.5         142969"
      ]
     },
     "metadata": {},
     "output_type": "display_data"
    },
    {
     "name": "stdout",
     "output_type": "stream",
     "text": [
      "\n"
     ]
    },
    {
     "data": {
      "text/plain": [
       "family_status          purpose_category\n",
       "Не женат / не замужем  недвижимость        1503\n",
       "                       автомобиль           637\n",
       "                       образование          577\n",
       "                       ремонт                93\n",
       "в разводе              недвижимость         637\n",
       "                       автомобиль           281\n",
       "                       образование          238\n",
       "                       ремонт                39\n",
       "вдовец / вдова         недвижимость         510\n",
       "                       автомобиль           218\n",
       "                       образование          199\n",
       "                       ремонт                32\n",
       "гражданский брак       свадьба             2324\n",
       "                       недвижимость         934\n",
       "                       автомобиль           434\n",
       "                       образование          404\n",
       "                       ремонт                55\n",
       "женат / замужем        недвижимость        6620\n",
       "                       автомобиль          2736\n",
       "                       образование         2595\n",
       "                       ремонт               388\n",
       "Name: purpose_category, dtype: int64"
      ]
     },
     "metadata": {},
     "output_type": "display_data"
    },
    {
     "name": "stdout",
     "output_type": "stream",
     "text": [
      "\n",
      "Среднее значение ежемесячного дохода для каждой категории признака \"семейное положение\" 139783.4\n"
     ]
    }
   ],
   "source": [
    "print('Количество кредитов для категорий:')\n",
    "print(scoring_data['family_status'].value_counts())\n",
    "print()\n",
    "\n",
    "for_family_status = scoring_data.groupby('family_status').sum()#группируем датасет по семейному положению\n",
    "print()\n",
    "\n",
    "#находим количество займов для заемщиков с определенным семейным положением\n",
    "for_family_status['credit_count'] = scoring_data.groupby('family_status')['debt'].count()\n",
    "\n",
    "#находим медиану среднего дохода для заемщиков с определенным семейным положением\n",
    "for_family_status['income_median'] = scoring_data.groupby('family_status')['total_income'].median()\n",
    "\n",
    "#находим процент невозврата займов для заемщиков с определенным семейным положением\n",
    "for_family_status['debt_percent'] = round((scoring_data.groupby('family_status')['debt'].sum()/for_family_status['credit_count'])*100,1)\n",
    "display(for_family_status[['debt','credit_count','debt_percent','income_median']])\n",
    "print()\n",
    "display(scoring_data.groupby('family_status')['purpose_category'].value_counts())\n",
    "print()\n",
    "print('Среднее значение ежемесячного дохода для каждой категории признака \"семейное положение\"',for_family_status['income_median'].mean())"
   ]
  },
  {
   "cell_type": "markdown",
   "metadata": {},
   "source": [
    "**Вывод**\n",
    "\n",
    "**Связь между семейным положением и возвратом кредита в срок есть:**\n",
    "\n",
    "Несмотря на то, что у заемщиков с семейным положением \"вдова/вдовец\" средний доход на ~9% меньше, чем средний доход заемщиков в разных семейных положениях, процент невозврата для кредитов, выданных им оказался самым низким - 6,6%. **Это означает, что заемщики с семейным положением \"вдова/вдовец\" реже остальных допускают просрочки по кредиту.**\n",
    "\n",
    "Процент невозврата кредитов, выданных заемщикам с семейным положением \"в разводе\" также оказался одним из самых низких - 7.1%\n",
    "**Это означает, что заемщики с семейным положением \"в разводе\" допускают просрочки по кредиту реже тех, кто находится в зарегистрированных отношениях, гражданском браке и заемщиков, с семейным положением \"не женат/не замужем\".**\n",
    "Следовательно, гипотеза №3 отвергнута.\n",
    "Из имеющихся данных сложно предположить причины таких результатов, возможно ответ кроется в психологии?\n",
    "\n",
    "**У заемщиков с семейным положением \"женат/замужем\" оказался ниже, чем у не женатых заемщиков или находящихся в гражданском браке - 7,5%. Однако процент невозврата у живущих в гражданском браке заемщиков один из самых высоких - 9.3%.**\n",
    "Следовательно, гипотеза №2 частично подтверждена.\n",
    "\n",
    "**Самый высокий процент невозврата кредитов у заемщиков с семейным положением \"не женат/не замужем\" - 9,8%**\n",
    "\n",
    "Интересно, что для заемщиков популярные цели кредита почти одинаковы, кроме заемщиков в семейном положении \"в гражданском браке\" - они, в основном, берут кредиты для того, что бы провести свадьбу.  \n"
   ]
  },
  {
   "cell_type": "markdown",
   "metadata": {},
   "source": [
    "### Есть ли зависимость между уровнем дохода и возвратом кредита в срок?"
   ]
  },
  {
   "cell_type": "markdown",
   "metadata": {},
   "source": [
    "Выдвинем гипотезу:\n",
    "\n",
    "**Гипотеза 4. Чем выше доход, тем меньше процент невозврата кредитов.**\n"
   ]
  },
  {
   "cell_type": "code",
   "execution_count": 20,
   "metadata": {},
   "outputs": [
    {
     "name": "stdout",
     "output_type": "stream",
     "text": [
      "Количество кредитов для категорий:\n",
      "высокий          8720\n",
      "ниже среднего    5757\n",
      "средний          5503\n",
      "низкий           1474\n",
      "Name: total_income_category, dtype: int64\n",
      "\n",
      "\n"
     ]
    },
    {
     "data": {
      "text/html": [
       "<div>\n",
       "<style scoped>\n",
       "    .dataframe tbody tr th:only-of-type {\n",
       "        vertical-align: middle;\n",
       "    }\n",
       "\n",
       "    .dataframe tbody tr th {\n",
       "        vertical-align: top;\n",
       "    }\n",
       "\n",
       "    .dataframe thead th {\n",
       "        text-align: right;\n",
       "    }\n",
       "</style>\n",
       "<table border=\"1\" class=\"dataframe\">\n",
       "  <thead>\n",
       "    <tr style=\"text-align: right;\">\n",
       "      <th></th>\n",
       "      <th>debt</th>\n",
       "      <th>credit_count</th>\n",
       "      <th>debt_percent</th>\n",
       "      <th>income_median</th>\n",
       "    </tr>\n",
       "    <tr>\n",
       "      <th>total_income_category</th>\n",
       "      <th></th>\n",
       "      <th></th>\n",
       "      <th></th>\n",
       "      <th></th>\n",
       "    </tr>\n",
       "  </thead>\n",
       "  <tbody>\n",
       "    <tr>\n",
       "      <td>высокий</td>\n",
       "      <td>668</td>\n",
       "      <td>8720</td>\n",
       "      <td>7.7</td>\n",
       "      <td>212990.5</td>\n",
       "    </tr>\n",
       "    <tr>\n",
       "      <td>ниже среднего</td>\n",
       "      <td>485</td>\n",
       "      <td>5757</td>\n",
       "      <td>8.4</td>\n",
       "      <td>99022.0</td>\n",
       "    </tr>\n",
       "    <tr>\n",
       "      <td>низкий</td>\n",
       "      <td>101</td>\n",
       "      <td>1474</td>\n",
       "      <td>6.9</td>\n",
       "      <td>58542.5</td>\n",
       "    </tr>\n",
       "    <tr>\n",
       "      <td>средний</td>\n",
       "      <td>487</td>\n",
       "      <td>5503</td>\n",
       "      <td>8.8</td>\n",
       "      <td>142594.0</td>\n",
       "    </tr>\n",
       "  </tbody>\n",
       "</table>\n",
       "</div>"
      ],
      "text/plain": [
       "                       debt  credit_count  debt_percent  income_median\n",
       "total_income_category                                                 \n",
       "высокий                 668          8720           7.7       212990.5\n",
       "ниже среднего           485          5757           8.4        99022.0\n",
       "низкий                  101          1474           6.9        58542.5\n",
       "средний                 487          5503           8.8       142594.0"
      ]
     },
     "metadata": {},
     "output_type": "display_data"
    },
    {
     "name": "stdout",
     "output_type": "stream",
     "text": [
      "\n"
     ]
    },
    {
     "data": {
      "text/plain": [
       "total_income_category  purpose_category\n",
       "высокий                недвижимость        4207\n",
       "                       автомобиль          1739\n",
       "                       образование         1582\n",
       "                       свадьба              927\n",
       "                       ремонт               265\n",
       "ниже среднего          недвижимость        2726\n",
       "                       автомобиль          1142\n",
       "                       образование         1078\n",
       "                       свадьба              668\n",
       "                       ремонт               143\n",
       "низкий                 недвижимость         695\n",
       "                       автомобиль           299\n",
       "                       образование          289\n",
       "                       свадьба              150\n",
       "                       ремонт                41\n",
       "средний                недвижимость        2576\n",
       "                       автомобиль          1126\n",
       "                       образование         1064\n",
       "                       свадьба              579\n",
       "                       ремонт               158\n",
       "Name: purpose_category, dtype: int64"
      ]
     },
     "metadata": {},
     "output_type": "display_data"
    },
    {
     "name": "stdout",
     "output_type": "stream",
     "text": [
      "\n"
     ]
    }
   ],
   "source": [
    "print('Количество кредитов для категорий:')\n",
    "print(scoring_data['total_income_category'].value_counts())\n",
    "print()\n",
    "\n",
    "debt_income_category = scoring_data.groupby('total_income_category').sum()#группируем датасет по уровню дохода\n",
    "print()\n",
    "\n",
    "#находим количество займов для заемщиков с определенным уровнем дохода\n",
    "debt_income_category['credit_count'] = scoring_data.groupby('total_income_category')['debt'].count()\n",
    "\n",
    "#находим медиану среднего дохода для заемщиков с определенным уровнем дохода\n",
    "debt_income_category['income_median'] = scoring_data.groupby('total_income_category')['total_income'].median()\n",
    "\n",
    "#находим процент невозврата займов для заемщиков с определенным уровнем дохода\n",
    "debt_income_category['debt_percent'] = round((scoring_data.groupby('total_income_category')['debt'].sum()/debt_income_category['credit_count'])*100,1)\n",
    "display(debt_income_category[['debt','credit_count','debt_percent','income_median']])\n",
    "print()\n",
    "display(scoring_data.groupby('total_income_category')['purpose_category'].value_counts())\n",
    "print()"
   ]
  },
  {
   "cell_type": "markdown",
   "metadata": {},
   "source": [
    "**Вывод**\n",
    "\n",
    "Вопреки ожиданиям, самый низкий процент невозврата оказался у заемщиков с низким уровнем дохода - 6,9%, далее идут заемщики с высоким уровнем дохода, у которых процент невозврата 7.7%. Самый высокий процент невозврата у заемщиков с доходом ниже среднего и средним - 8,4% и 8,8% соответсвенно.\n",
    "\n",
    "**Это говорит о том, что связь между уровнем дохода есть, однако она нелинейная - с увеличением уровня дохода процент невозврата не падает.** Самые надеждные заемщики это заемщики с низким и высоким уровнями доходов.\n",
    "Следовательно, гипотеза №4 отвергнута."
   ]
  },
  {
   "cell_type": "markdown",
   "metadata": {},
   "source": [
    "### Как разные цели кредита влияют на его возврат в срок?"
   ]
  },
  {
   "cell_type": "markdown",
   "metadata": {},
   "source": [
    "Выдвинем гипотезу:\n",
    "\n",
    "**Гипотеза 5. Реже всего заемщики не вовращают кредиты выданные на недвижимость.**\n",
    "Возможные причины: в случае невозврата кредита у заемщика могут жилье, что стимулирует его к возврату кредита."
   ]
  },
  {
   "cell_type": "code",
   "execution_count": 21,
   "metadata": {},
   "outputs": [
    {
     "name": "stdout",
     "output_type": "stream",
     "text": [
      "Количество кредитов для категорий:\n",
      "недвижимость    10204\n",
      "автомобиль       4306\n",
      "образование      4013\n",
      "свадьба          2324\n",
      "ремонт            607\n",
      "Name: purpose_category, dtype: int64\n",
      "\n",
      "\n"
     ]
    },
    {
     "data": {
      "text/html": [
       "<div>\n",
       "<style scoped>\n",
       "    .dataframe tbody tr th:only-of-type {\n",
       "        vertical-align: middle;\n",
       "    }\n",
       "\n",
       "    .dataframe tbody tr th {\n",
       "        vertical-align: top;\n",
       "    }\n",
       "\n",
       "    .dataframe thead th {\n",
       "        text-align: right;\n",
       "    }\n",
       "</style>\n",
       "<table border=\"1\" class=\"dataframe\">\n",
       "  <thead>\n",
       "    <tr style=\"text-align: right;\">\n",
       "      <th></th>\n",
       "      <th>debt</th>\n",
       "      <th>credit_count</th>\n",
       "      <th>debt_percent</th>\n",
       "      <th>income_median</th>\n",
       "    </tr>\n",
       "    <tr>\n",
       "      <th>purpose_category</th>\n",
       "      <th></th>\n",
       "      <th></th>\n",
       "      <th></th>\n",
       "      <th></th>\n",
       "    </tr>\n",
       "  </thead>\n",
       "  <tbody>\n",
       "    <tr>\n",
       "      <td>автомобиль</td>\n",
       "      <td>403</td>\n",
       "      <td>4306</td>\n",
       "      <td>9.4</td>\n",
       "      <td>142594.0</td>\n",
       "    </tr>\n",
       "    <tr>\n",
       "      <td>недвижимость</td>\n",
       "      <td>747</td>\n",
       "      <td>10204</td>\n",
       "      <td>7.3</td>\n",
       "      <td>142617.5</td>\n",
       "    </tr>\n",
       "    <tr>\n",
       "      <td>образование</td>\n",
       "      <td>370</td>\n",
       "      <td>4013</td>\n",
       "      <td>9.2</td>\n",
       "      <td>142594.0</td>\n",
       "    </tr>\n",
       "    <tr>\n",
       "      <td>ремонт</td>\n",
       "      <td>35</td>\n",
       "      <td>607</td>\n",
       "      <td>5.8</td>\n",
       "      <td>148925.0</td>\n",
       "    </tr>\n",
       "    <tr>\n",
       "      <td>свадьба</td>\n",
       "      <td>186</td>\n",
       "      <td>2324</td>\n",
       "      <td>8.0</td>\n",
       "      <td>142594.0</td>\n",
       "    </tr>\n",
       "  </tbody>\n",
       "</table>\n",
       "</div>"
      ],
      "text/plain": [
       "                  debt  credit_count  debt_percent  income_median\n",
       "purpose_category                                                 \n",
       "автомобиль         403          4306           9.4       142594.0\n",
       "недвижимость       747         10204           7.3       142617.5\n",
       "образование        370          4013           9.2       142594.0\n",
       "ремонт              35           607           5.8       148925.0\n",
       "свадьба            186          2324           8.0       142594.0"
      ]
     },
     "metadata": {},
     "output_type": "display_data"
    }
   ],
   "source": [
    "print('Количество кредитов для категорий:')\n",
    "print(scoring_data['purpose_category'].value_counts())\n",
    "print()\n",
    "\n",
    "debt_purpose_category = scoring_data.groupby('purpose_category').sum()#группируем датасет по уровню дохода\n",
    "print()\n",
    "\n",
    "#находим количество займов для заемщиков с определенным уровнем дохода\n",
    "debt_purpose_category['credit_count'] = scoring_data.groupby('purpose_category')['debt'].count()\n",
    "\n",
    "#находим медиану среднего дохода для заемщиков с определенным уровнем дохода\n",
    "debt_purpose_category['income_median'] = scoring_data.groupby('purpose_category')['total_income'].median()\n",
    "\n",
    "#находим процент невозврата займов для заемщиков с определенным уровнем дохода\n",
    "debt_purpose_category['debt_percent'] = round((scoring_data.groupby('purpose_category')['debt'].sum()/debt_purpose_category['credit_count'])*100,1)\n",
    "display(debt_purpose_category[['debt','credit_count','debt_percent','income_median']])\n"
   ]
  },
  {
   "cell_type": "markdown",
   "metadata": {},
   "source": [
    "**Вывод**\n",
    "\n",
    "**Связь между целью кредита и возвратом кредита, выданного для этой цели есть: реже всего не возвращают кредиты ремонт и , как ожидалось, недвижимость - процент невозврата 5.8% и 7.3% соответсвенно.** Следовательно, гипотеза №5 подтверждена частично. Кредитов на ремонт выдано не так много, возможно это также одна из причин низкого уровня невозврата."
   ]
  },
  {
   "cell_type": "markdown",
   "metadata": {},
   "source": [
    "## Шаг 4. Общий вывод"
   ]
  },
  {
   "cell_type": "markdown",
   "metadata": {},
   "source": [
    "В результате исследования были сделаны следующие выводы:\n",
    "\n",
    "1) Заемщики с детьми чаще допускают просрочки по кредиту, чем заемщики без детей.\n",
    "\n",
    "2) Самые надежные заемщики находятся в семейном положении \"в разводе\" и \"женат/замужем\". Самые ненадежные заемщики с семейным положением \"не женат/не замужем\".\n",
    "\n",
    "3) Самые надеждные заемщики это заемщики с низким и высоким уровнями доходов.\n",
    "\n",
    "4) Реже всего не возвращают кредиты, взятые на ремонт и недвижимость. Чаще всего не возвращают кредиты  на автомобиль и образование.\n",
    "\n",
    "Из пяти гипотез, которые были выдвинуты без изучения статистики, три были отвергнуты и две подтверждены только частично, хотя и казались логичными, поэтому при принятии важных решений лучше опираться на результаты анализа, основанного на статистике и фактах.\n",
    "\n",
    "Заказчику рекомендуется обратиться в отдел разработки, для того что бы выяснить, почему в датасете появляются артефакты и пустые значения. Если возможно устранить пропуски и артефакты в интересующей выборке, то рекомендуется проанализировать новый исправленный датасет, что бы убедится в корректности результатов исследования.\n",
    "\n",
    "При наличии дополнительных данных можно сделать более глубокий анализ. Можно рассмотреть как влияют на возврат кредита в срок такие показатели,как, например: сумма кредита; срок просрочки"
   ]
  }
 ],
 "metadata": {
  "kernelspec": {
   "display_name": "Python 3",
   "language": "python",
   "name": "python3"
  },
  "language_info": {
   "codemirror_mode": {
    "name": "ipython",
    "version": 3
   },
   "file_extension": ".py",
   "mimetype": "text/x-python",
   "name": "python",
   "nbconvert_exporter": "python",
   "pygments_lexer": "ipython3",
   "version": "3.7.8"
  },
  "toc": {
   "base_numbering": 1,
   "nav_menu": {},
   "number_sections": true,
   "sideBar": true,
   "skip_h1_title": true,
   "title_cell": "Table of Contents",
   "title_sidebar": "Contents",
   "toc_cell": false,
   "toc_position": {},
   "toc_section_display": true,
   "toc_window_display": false
  }
 },
 "nbformat": 4,
 "nbformat_minor": 2
}
