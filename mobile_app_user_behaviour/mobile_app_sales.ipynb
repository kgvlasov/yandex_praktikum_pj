{
 "cells": [
  {
   "cell_type": "markdown",
   "metadata": {},
   "source": [
    "# Проект \"Анализ пользовательского поведения в мобильном приложении\""
   ]
  },
  {
   "cell_type": "markdown",
   "metadata": {},
   "source": [
    "## Описание задачи"
   ]
  },
  {
   "cell_type": "markdown",
   "metadata": {},
   "source": [
    "**Заказчик: стартап, продающий продукты питания через мобильное приложение**\n",
    "\n",
    "**Задачи от заказчика:**\n",
    "\n",
    "1) Необходимо ответить на вопросы:\n",
    "\n",
    "    - Сколько пользователей доходит до покупки, а сколько — «застревает» на предыдущих шагах? \n",
    "    - На каких именно шагах \"застревают\" пользователи?\n",
    "    \n",
    "2) На основании проведенного A/A/B теста ответить на вопрос: \"Как повлияет на пользователей изменение шрифтов в приложении?\"\n",
    "\n",
    "**Входные данные:**\n",
    "\n",
    "Лог действий пользователей, содержащий: \n",
    " - EventName — название события\n",
    " - DeviceIDHash — уникальный идентификатор пользователя\n",
    " - EventTimestamp — время события\n",
    " - ExpId — номер эксперимента: 246 и 247 — контрольные группы, а 248 — экспериментальная"
   ]
  },
  {
   "cell_type": "markdown",
   "metadata": {},
   "source": [
    "## Подготовка данных"
   ]
  },
  {
   "cell_type": "markdown",
   "metadata": {},
   "source": [
    "### Импорт библиотек"
   ]
  },
  {
   "cell_type": "code",
   "execution_count": 1,
   "metadata": {},
   "outputs": [],
   "source": [
    "import pandas as pd \n",
    "from IPython.display import display\n",
    "import matplotlib.pyplot as plt\n",
    "import math\n",
    "import __main__\n",
    "from scipy import stats as st\n",
    "import numpy as np\n",
    "import seaborn as sns\n",
    "import datetime as dt\n",
    "from plotly import graph_objects as go \n",
    "import math as mth"
   ]
  },
  {
   "cell_type": "markdown",
   "metadata": {},
   "source": [
    "### Импорт данных"
   ]
  },
  {
   "cell_type": "code",
   "execution_count": 2,
   "metadata": {},
   "outputs": [
    {
     "data": {
      "text/html": [
       "<div>\n",
       "<style scoped>\n",
       "    .dataframe tbody tr th:only-of-type {\n",
       "        vertical-align: middle;\n",
       "    }\n",
       "\n",
       "    .dataframe tbody tr th {\n",
       "        vertical-align: top;\n",
       "    }\n",
       "\n",
       "    .dataframe thead th {\n",
       "        text-align: right;\n",
       "    }\n",
       "</style>\n",
       "<table border=\"1\" class=\"dataframe\">\n",
       "  <thead>\n",
       "    <tr style=\"text-align: right;\">\n",
       "      <th></th>\n",
       "      <th>EventName</th>\n",
       "      <th>DeviceIDHash</th>\n",
       "      <th>EventTimestamp</th>\n",
       "      <th>ExpId</th>\n",
       "    </tr>\n",
       "  </thead>\n",
       "  <tbody>\n",
       "    <tr>\n",
       "      <td>0</td>\n",
       "      <td>MainScreenAppear</td>\n",
       "      <td>4575588528974610257</td>\n",
       "      <td>1564029816</td>\n",
       "      <td>246</td>\n",
       "    </tr>\n",
       "    <tr>\n",
       "      <td>1</td>\n",
       "      <td>MainScreenAppear</td>\n",
       "      <td>7416695313311560658</td>\n",
       "      <td>1564053102</td>\n",
       "      <td>246</td>\n",
       "    </tr>\n",
       "    <tr>\n",
       "      <td>2</td>\n",
       "      <td>PaymentScreenSuccessful</td>\n",
       "      <td>3518123091307005509</td>\n",
       "      <td>1564054127</td>\n",
       "      <td>248</td>\n",
       "    </tr>\n",
       "    <tr>\n",
       "      <td>3</td>\n",
       "      <td>CartScreenAppear</td>\n",
       "      <td>3518123091307005509</td>\n",
       "      <td>1564054127</td>\n",
       "      <td>248</td>\n",
       "    </tr>\n",
       "    <tr>\n",
       "      <td>4</td>\n",
       "      <td>PaymentScreenSuccessful</td>\n",
       "      <td>6217807653094995999</td>\n",
       "      <td>1564055322</td>\n",
       "      <td>248</td>\n",
       "    </tr>\n",
       "    <tr>\n",
       "      <td>...</td>\n",
       "      <td>...</td>\n",
       "      <td>...</td>\n",
       "      <td>...</td>\n",
       "      <td>...</td>\n",
       "    </tr>\n",
       "    <tr>\n",
       "      <td>244121</td>\n",
       "      <td>MainScreenAppear</td>\n",
       "      <td>4599628364049201812</td>\n",
       "      <td>1565212345</td>\n",
       "      <td>247</td>\n",
       "    </tr>\n",
       "    <tr>\n",
       "      <td>244122</td>\n",
       "      <td>MainScreenAppear</td>\n",
       "      <td>5849806612437486590</td>\n",
       "      <td>1565212439</td>\n",
       "      <td>246</td>\n",
       "    </tr>\n",
       "    <tr>\n",
       "      <td>244123</td>\n",
       "      <td>MainScreenAppear</td>\n",
       "      <td>5746969938801999050</td>\n",
       "      <td>1565212483</td>\n",
       "      <td>246</td>\n",
       "    </tr>\n",
       "    <tr>\n",
       "      <td>244124</td>\n",
       "      <td>MainScreenAppear</td>\n",
       "      <td>5746969938801999050</td>\n",
       "      <td>1565212498</td>\n",
       "      <td>246</td>\n",
       "    </tr>\n",
       "    <tr>\n",
       "      <td>244125</td>\n",
       "      <td>OffersScreenAppear</td>\n",
       "      <td>5746969938801999050</td>\n",
       "      <td>1565212517</td>\n",
       "      <td>246</td>\n",
       "    </tr>\n",
       "  </tbody>\n",
       "</table>\n",
       "<p>244126 rows × 4 columns</p>\n",
       "</div>"
      ],
      "text/plain": [
       "                      EventName         DeviceIDHash  EventTimestamp  ExpId\n",
       "0              MainScreenAppear  4575588528974610257      1564029816    246\n",
       "1              MainScreenAppear  7416695313311560658      1564053102    246\n",
       "2       PaymentScreenSuccessful  3518123091307005509      1564054127    248\n",
       "3              CartScreenAppear  3518123091307005509      1564054127    248\n",
       "4       PaymentScreenSuccessful  6217807653094995999      1564055322    248\n",
       "...                         ...                  ...             ...    ...\n",
       "244121         MainScreenAppear  4599628364049201812      1565212345    247\n",
       "244122         MainScreenAppear  5849806612437486590      1565212439    246\n",
       "244123         MainScreenAppear  5746969938801999050      1565212483    246\n",
       "244124         MainScreenAppear  5746969938801999050      1565212498    246\n",
       "244125       OffersScreenAppear  5746969938801999050      1565212517    246\n",
       "\n",
       "[244126 rows x 4 columns]"
      ]
     },
     "metadata": {},
     "output_type": "display_data"
    },
    {
     "name": "stdout",
     "output_type": "stream",
     "text": [
      "<class 'pandas.core.frame.DataFrame'>\n",
      "RangeIndex: 244126 entries, 0 to 244125\n",
      "Data columns (total 4 columns):\n",
      "EventName         244126 non-null object\n",
      "DeviceIDHash      244126 non-null int64\n",
      "EventTimestamp    244126 non-null int64\n",
      "ExpId             244126 non-null int64\n",
      "dtypes: int64(3), object(1)\n",
      "memory usage: 7.5+ MB\n"
     ]
    }
   ],
   "source": [
    "data = pd.read_csv('/datasets/logs_exp.csv',sep = '\\t')\n",
    "display(data)\n",
    "data.info()"
   ]
  },
  {
   "cell_type": "markdown",
   "metadata": {},
   "source": [
    "Пропусков в данных нет.\n",
    "Типы данных верные во всех столбцах, кроме \"EventTimestamp\", однако изменять его не будем, а просто выделим столбец с днем события и полной датой события. \n",
    "Также заменим имена столбцов на более удобные. "
   ]
  },
  {
   "cell_type": "code",
   "execution_count": 3,
   "metadata": {
    "scrolled": false
   },
   "outputs": [
    {
     "data": {
      "text/html": [
       "<div>\n",
       "<style scoped>\n",
       "    .dataframe tbody tr th:only-of-type {\n",
       "        vertical-align: middle;\n",
       "    }\n",
       "\n",
       "    .dataframe tbody tr th {\n",
       "        vertical-align: top;\n",
       "    }\n",
       "\n",
       "    .dataframe thead th {\n",
       "        text-align: right;\n",
       "    }\n",
       "</style>\n",
       "<table border=\"1\" class=\"dataframe\">\n",
       "  <thead>\n",
       "    <tr style=\"text-align: right;\">\n",
       "      <th></th>\n",
       "      <th>event_name</th>\n",
       "      <th>user_id</th>\n",
       "      <th>event_timestamp</th>\n",
       "      <th>test_group</th>\n",
       "      <th>event_time</th>\n",
       "      <th>event_date</th>\n",
       "    </tr>\n",
       "  </thead>\n",
       "  <tbody>\n",
       "    <tr>\n",
       "      <td>0</td>\n",
       "      <td>MainScreenAppear</td>\n",
       "      <td>4575588528974610257</td>\n",
       "      <td>1564029816</td>\n",
       "      <td>246</td>\n",
       "      <td>2019-07-25 04:43:36</td>\n",
       "      <td>2019-07-25</td>\n",
       "    </tr>\n",
       "    <tr>\n",
       "      <td>1</td>\n",
       "      <td>MainScreenAppear</td>\n",
       "      <td>7416695313311560658</td>\n",
       "      <td>1564053102</td>\n",
       "      <td>246</td>\n",
       "      <td>2019-07-25 11:11:42</td>\n",
       "      <td>2019-07-25</td>\n",
       "    </tr>\n",
       "    <tr>\n",
       "      <td>2</td>\n",
       "      <td>PaymentScreenSuccessful</td>\n",
       "      <td>3518123091307005509</td>\n",
       "      <td>1564054127</td>\n",
       "      <td>248</td>\n",
       "      <td>2019-07-25 11:28:47</td>\n",
       "      <td>2019-07-25</td>\n",
       "    </tr>\n",
       "    <tr>\n",
       "      <td>3</td>\n",
       "      <td>CartScreenAppear</td>\n",
       "      <td>3518123091307005509</td>\n",
       "      <td>1564054127</td>\n",
       "      <td>248</td>\n",
       "      <td>2019-07-25 11:28:47</td>\n",
       "      <td>2019-07-25</td>\n",
       "    </tr>\n",
       "    <tr>\n",
       "      <td>4</td>\n",
       "      <td>PaymentScreenSuccessful</td>\n",
       "      <td>6217807653094995999</td>\n",
       "      <td>1564055322</td>\n",
       "      <td>248</td>\n",
       "      <td>2019-07-25 11:48:42</td>\n",
       "      <td>2019-07-25</td>\n",
       "    </tr>\n",
       "    <tr>\n",
       "      <td>...</td>\n",
       "      <td>...</td>\n",
       "      <td>...</td>\n",
       "      <td>...</td>\n",
       "      <td>...</td>\n",
       "      <td>...</td>\n",
       "      <td>...</td>\n",
       "    </tr>\n",
       "    <tr>\n",
       "      <td>244121</td>\n",
       "      <td>MainScreenAppear</td>\n",
       "      <td>4599628364049201812</td>\n",
       "      <td>1565212345</td>\n",
       "      <td>247</td>\n",
       "      <td>2019-08-07 21:12:25</td>\n",
       "      <td>2019-08-07</td>\n",
       "    </tr>\n",
       "    <tr>\n",
       "      <td>244122</td>\n",
       "      <td>MainScreenAppear</td>\n",
       "      <td>5849806612437486590</td>\n",
       "      <td>1565212439</td>\n",
       "      <td>246</td>\n",
       "      <td>2019-08-07 21:13:59</td>\n",
       "      <td>2019-08-07</td>\n",
       "    </tr>\n",
       "    <tr>\n",
       "      <td>244123</td>\n",
       "      <td>MainScreenAppear</td>\n",
       "      <td>5746969938801999050</td>\n",
       "      <td>1565212483</td>\n",
       "      <td>246</td>\n",
       "      <td>2019-08-07 21:14:43</td>\n",
       "      <td>2019-08-07</td>\n",
       "    </tr>\n",
       "    <tr>\n",
       "      <td>244124</td>\n",
       "      <td>MainScreenAppear</td>\n",
       "      <td>5746969938801999050</td>\n",
       "      <td>1565212498</td>\n",
       "      <td>246</td>\n",
       "      <td>2019-08-07 21:14:58</td>\n",
       "      <td>2019-08-07</td>\n",
       "    </tr>\n",
       "    <tr>\n",
       "      <td>244125</td>\n",
       "      <td>OffersScreenAppear</td>\n",
       "      <td>5746969938801999050</td>\n",
       "      <td>1565212517</td>\n",
       "      <td>246</td>\n",
       "      <td>2019-08-07 21:15:17</td>\n",
       "      <td>2019-08-07</td>\n",
       "    </tr>\n",
       "  </tbody>\n",
       "</table>\n",
       "<p>244126 rows × 6 columns</p>\n",
       "</div>"
      ],
      "text/plain": [
       "                     event_name              user_id  event_timestamp  \\\n",
       "0              MainScreenAppear  4575588528974610257       1564029816   \n",
       "1              MainScreenAppear  7416695313311560658       1564053102   \n",
       "2       PaymentScreenSuccessful  3518123091307005509       1564054127   \n",
       "3              CartScreenAppear  3518123091307005509       1564054127   \n",
       "4       PaymentScreenSuccessful  6217807653094995999       1564055322   \n",
       "...                         ...                  ...              ...   \n",
       "244121         MainScreenAppear  4599628364049201812       1565212345   \n",
       "244122         MainScreenAppear  5849806612437486590       1565212439   \n",
       "244123         MainScreenAppear  5746969938801999050       1565212483   \n",
       "244124         MainScreenAppear  5746969938801999050       1565212498   \n",
       "244125       OffersScreenAppear  5746969938801999050       1565212517   \n",
       "\n",
       "        test_group          event_time  event_date  \n",
       "0              246 2019-07-25 04:43:36  2019-07-25  \n",
       "1              246 2019-07-25 11:11:42  2019-07-25  \n",
       "2              248 2019-07-25 11:28:47  2019-07-25  \n",
       "3              248 2019-07-25 11:28:47  2019-07-25  \n",
       "4              248 2019-07-25 11:48:42  2019-07-25  \n",
       "...            ...                 ...         ...  \n",
       "244121         247 2019-08-07 21:12:25  2019-08-07  \n",
       "244122         246 2019-08-07 21:13:59  2019-08-07  \n",
       "244123         246 2019-08-07 21:14:43  2019-08-07  \n",
       "244124         246 2019-08-07 21:14:58  2019-08-07  \n",
       "244125         246 2019-08-07 21:15:17  2019-08-07  \n",
       "\n",
       "[244126 rows x 6 columns]"
      ]
     },
     "metadata": {},
     "output_type": "display_data"
    }
   ],
   "source": [
    "data.columns = ['event_name','user_id','event_timestamp','test_group']\n",
    "data['event_time'] = pd.to_datetime(data['event_timestamp'], unit='s')\n",
    "data['event_date'] = data['event_time'].dt.date\n",
    "display(data)"
   ]
  },
  {
   "cell_type": "markdown",
   "metadata": {},
   "source": [
    "Проверим данные на дубли."
   ]
  },
  {
   "cell_type": "code",
   "execution_count": 4,
   "metadata": {},
   "outputs": [
    {
     "name": "stdout",
     "output_type": "stream",
     "text": [
      "Количество дублей в таблице: 413\n"
     ]
    }
   ],
   "source": [
    "print('Количество дублей в таблице:', data.duplicated().sum())"
   ]
  },
  {
   "cell_type": "markdown",
   "metadata": {},
   "source": [
    "В таблице найдено 413 дублей, удалим их. Необходимо отправить запрос в отдел разработки для проверки корректности записи логов."
   ]
  },
  {
   "cell_type": "code",
   "execution_count": 5,
   "metadata": {},
   "outputs": [
    {
     "name": "stdout",
     "output_type": "stream",
     "text": [
      "<class 'pandas.core.frame.DataFrame'>\n",
      "Int64Index: 243713 entries, 0 to 244125\n",
      "Data columns (total 6 columns):\n",
      "event_name         243713 non-null object\n",
      "user_id            243713 non-null int64\n",
      "event_timestamp    243713 non-null int64\n",
      "test_group         243713 non-null int64\n",
      "event_time         243713 non-null datetime64[ns]\n",
      "event_date         243713 non-null object\n",
      "dtypes: datetime64[ns](1), int64(3), object(2)\n",
      "memory usage: 13.0+ MB\n"
     ]
    }
   ],
   "source": [
    "data = data.drop_duplicates()\n",
    "data.info()"
   ]
  },
  {
   "cell_type": "markdown",
   "metadata": {},
   "source": [
    "### Вывод\n",
    "\n",
    "Данные обработаны, можно переходить к анализу данных. \n",
    "Необходимо отправить запрос в отдел разработки для проверки корректности записи логов - в них встречаются дубли."
   ]
  },
  {
   "cell_type": "markdown",
   "metadata": {},
   "source": [
    "## Анализ данных"
   ]
  },
  {
   "cell_type": "markdown",
   "metadata": {},
   "source": [
    "Проверим, сколько всего событий в логе, сколько всего пользователей в логе и сколько в среднем событий приходится на пользователя. Мерой среднего выберем медиану, т.к. она устойчива к выбросам."
   ]
  },
  {
   "cell_type": "code",
   "execution_count": 6,
   "metadata": {},
   "outputs": [
    {
     "name": "stdout",
     "output_type": "stream",
     "text": [
      "Количество событий в логе 243713\n",
      "Количество уникальных пользователей 7551\n",
      "Среднее количество событий на пользователя 20.0\n"
     ]
    }
   ],
   "source": [
    "print('Количество событий в логе', data['user_id'].count())\n",
    "print('Количество уникальных пользователей', data['user_id'].nunique())\n",
    "print('Среднее количество событий на пользователя', data.groupby('user_id').agg('count')['event_name'].median())"
   ]
  },
  {
   "cell_type": "markdown",
   "metadata": {},
   "source": [
    "**Всего событий в логе - 243713 шт, количество уникальных пользователей - 7551 человек. В среднем на каждого пользователя приходится 20 событий.**"
   ]
  },
  {
   "cell_type": "markdown",
   "metadata": {},
   "source": [
    "Определим, за какой период имеются данные, а также полноту данных за найденный период."
   ]
  },
  {
   "cell_type": "code",
   "execution_count": 7,
   "metadata": {},
   "outputs": [
    {
     "name": "stdout",
     "output_type": "stream",
     "text": [
      "Минимальная дата: 2019-07-25 04:43:36\n",
      "Максимальная дата: 2019-08-07 21:15:17\n"
     ]
    },
    {
     "name": "stderr",
     "output_type": "stream",
     "text": [
      "/opt/conda/lib/python3.7/site-packages/pandas/plotting/_matplotlib/converter.py:103: FutureWarning:\n",
      "\n",
      "Using an implicitly registered datetime converter for a matplotlib plotting method. The converter was registered by pandas on import. Future versions of pandas will require you to explicitly register matplotlib converters.\n",
      "\n",
      "To register the converters:\n",
      "\t>>> from pandas.plotting import register_matplotlib_converters\n",
      "\t>>> register_matplotlib_converters()\n",
      "\n"
     ]
    },
    {
     "data": {
      "text/plain": [
       "Text(0, 0.5, 'Количество событий, шт')"
      ]
     },
     "execution_count": 7,
     "metadata": {},
     "output_type": "execute_result"
    },
    {
     "data": {
      "image/png": "[encoded data removed]",
      "text/plain": [
       "<Figure size 1296x432 with 1 Axes>"
      ]
     },
     "metadata": {
      "needs_background": "light"
     },
     "output_type": "display_data"
    }
   ],
   "source": [
    "print('Минимальная дата:',data['event_time'].min())\n",
    "print('Максимальная дата:',data['event_time'].max())\n",
    "\n",
    "data['event_time'].hist(bins=312,figsize=(18,6));#За количество корзин взяли кол-во часов за исследуемый период \n",
    "plt.title('Распределение событий по дням')\n",
    "plt.xlabel('Дни')\n",
    "plt.ylabel('Количество событий, шт')"
   ]
  },
  {
   "cell_type": "markdown",
   "metadata": {},
   "source": [
    "<hr style=\"border: 2px solid green;\" />"
   ]
  },
  {
   "cell_type": "code",
   "execution_count": 10,
   "metadata": {},
   "outputs": [
    {
     "data": {
      "text/plain": [
       "243713"
      ]
     },
     "execution_count": 10,
     "metadata": {},
     "output_type": "execute_result"
    }
   ],
   "source": [
    "data['event_time'].count()"
   ]
  },
  {
   "cell_type": "markdown",
   "metadata": {},
   "source": [
    "<hr style=\"border: 2px solid red;\" />"
   ]
  },
  {
   "cell_type": "markdown",
   "metadata": {},
   "source": [
    "Из графика \"Распределение событий по дням\" видно, что в у нас имеются данные да 7 полных дней. Также есть данные за несколько дней июля - вероятно, это старые данные, которые случайно попали в выборку. Нужный нам период начинается с 01.08.2019 - только он обеспечит нам необходимую полноту, а данные за июль могут сильно исказить результаты анализа.\n",
    "\n",
    "Также проверим, сколько данных мы отбросили и есть не потеряли ли мы всех пользователей из какой-либо группы."
   ]
  },
  {
   "cell_type": "code",
   "execution_count": 12,
   "metadata": {},
   "outputs": [
    {
     "name": "stdout",
     "output_type": "stream",
     "text": [
      "2826\n",
      "Процент отброшенных данных:1.2%\n"
     ]
    },
    {
     "data": {
      "image/png": "[encoded data removed]",
      "text/plain": [
       "<Figure size 1296x432 with 1 Axes>"
      ]
     },
     "metadata": {
      "needs_background": "light"
     },
     "output_type": "display_data"
    }
   ],
   "source": [
    "data_recall = data[data['event_date'] >= dt.date(2019,8,1)]\n",
    "data_recall['event_time'].hist(bins=168,figsize=(18,6));#За количество корзин взяли кол-во часов за исследуемый период \n",
    "plt.title('Распределение событий по дням')\n",
    "plt.xlabel('Дни')\n",
    "plt.ylabel('Количество событий, шт')\n",
    "\n",
    "print(len(data) - len(data_recall))\n",
    "print('Процент отброшенных данных:{:.1%}'.format((len(data) - len(data_recall))/len(data)))"
   ]
  },
  {
   "cell_type": "code",
   "execution_count": 13,
   "metadata": {},
   "outputs": [
    {
     "name": "stdout",
     "output_type": "stream",
     "text": [
      "Количество событий в группах\n",
      "248    84563\n",
      "246    79302\n",
      "247    77022\n",
      "Name: test_group, dtype: int64\n"
     ]
    }
   ],
   "source": [
    "print('Количество событий в группах')\n",
    "print(data_recall['test_group'].value_counts())"
   ]
  },
  {
   "cell_type": "markdown",
   "metadata": {},
   "source": [
    "**Отброшенные данные составляют всего 1.2%, в \"чистых\" данных есть достаточное количество всех групп, поэтому далее работать будем только данными за период с 01.08.2019 по 07.08.2019.**"
   ]
  },
  {
   "cell_type": "markdown",
   "metadata": {},
   "source": [
    "### Вывод\n",
    "\n",
    "**Всего событий в логе - 243713 шт, количество уникальных пользователей - 7551 человек. В среднем на каждого пользователя приходится 20 событий.**\n",
    "\n",
    "**Для дальнейшего анализа будем использовать данные за период с 01.08.2019 по 07.08.2019**"
   ]
  },
  {
   "cell_type": "markdown",
   "metadata": {},
   "source": [
    "## Анализ воронки событий"
   ]
  },
  {
   "cell_type": "markdown",
   "metadata": {},
   "source": [
    "Посмотрим, сколько событий каждого типа."
   ]
  },
  {
   "cell_type": "code",
   "execution_count": 14,
   "metadata": {},
   "outputs": [
    {
     "data": {
      "image/png": "[encoded data removed]",
      "text/plain": [
       "<Figure size 576x288 with 1 Axes>"
      ]
     },
     "metadata": {
      "needs_background": "light"
     },
     "output_type": "display_data"
    },
    {
     "data": {
      "text/html": [
       "<div>\n",
       "<style scoped>\n",
       "    .dataframe tbody tr th:only-of-type {\n",
       "        vertical-align: middle;\n",
       "    }\n",
       "\n",
       "    .dataframe tbody tr th {\n",
       "        vertical-align: top;\n",
       "    }\n",
       "\n",
       "    .dataframe thead th {\n",
       "        text-align: right;\n",
       "    }\n",
       "</style>\n",
       "<table border=\"1\" class=\"dataframe\">\n",
       "  <thead>\n",
       "    <tr style=\"text-align: right;\">\n",
       "      <th></th>\n",
       "      <th>event_name</th>\n",
       "      <th>user_id</th>\n",
       "    </tr>\n",
       "  </thead>\n",
       "  <tbody>\n",
       "    <tr>\n",
       "      <td>1</td>\n",
       "      <td>MainScreenAppear</td>\n",
       "      <td>117328</td>\n",
       "    </tr>\n",
       "    <tr>\n",
       "      <td>2</td>\n",
       "      <td>OffersScreenAppear</td>\n",
       "      <td>46333</td>\n",
       "    </tr>\n",
       "    <tr>\n",
       "      <td>0</td>\n",
       "      <td>CartScreenAppear</td>\n",
       "      <td>42303</td>\n",
       "    </tr>\n",
       "    <tr>\n",
       "      <td>3</td>\n",
       "      <td>PaymentScreenSuccessful</td>\n",
       "      <td>33918</td>\n",
       "    </tr>\n",
       "    <tr>\n",
       "      <td>4</td>\n",
       "      <td>Tutorial</td>\n",
       "      <td>1005</td>\n",
       "    </tr>\n",
       "  </tbody>\n",
       "</table>\n",
       "</div>"
      ],
      "text/plain": [
       "                event_name  user_id\n",
       "1         MainScreenAppear   117328\n",
       "2       OffersScreenAppear    46333\n",
       "0         CartScreenAppear    42303\n",
       "3  PaymentScreenSuccessful    33918\n",
       "4                 Tutorial     1005"
      ]
     },
     "metadata": {},
     "output_type": "display_data"
    }
   ],
   "source": [
    "plt.figure(\n",
    "    figsize=(8, 4)\n",
    ")\n",
    "sns.set_palette('muted') \n",
    "sns.barplot(x='user_id', y='event_name', data=data_recall.groupby('event_name')['user_id'].count().reset_index().sort_values('user_id',ascending = False))\n",
    "plt.title('Количество событий разного типа')\n",
    "plt.ylabel('')\n",
    "plt.xlabel('Количество, шт.')\n",
    "plt.show()\n",
    "\n",
    "display(data_recall.groupby('event_name')['user_id'].count().reset_index().sort_values('user_id',ascending = False))"
   ]
  },
  {
   "cell_type": "markdown",
   "metadata": {},
   "source": [
    "Перед формированием выводов посмотрим на количество каждого события в среднем на пользователя, а также сколько пользователей совершали каждое из этих событий и найдем долю пользователей, которые хоть раз совершали соотвествующее событие."
   ]
  },
  {
   "cell_type": "code",
   "execution_count": 15,
   "metadata": {
    "scrolled": false
   },
   "outputs": [
    {
     "name": "stdout",
     "output_type": "stream",
     "text": [
      "Среднее количество событий по пользователям\n"
     ]
    },
    {
     "data": {
      "text/html": [
       "<div>\n",
       "<style scoped>\n",
       "    .dataframe tbody tr th:only-of-type {\n",
       "        vertical-align: middle;\n",
       "    }\n",
       "\n",
       "    .dataframe tbody tr th {\n",
       "        vertical-align: top;\n",
       "    }\n",
       "\n",
       "    .dataframe thead th {\n",
       "        text-align: right;\n",
       "    }\n",
       "</style>\n",
       "<table border=\"1\" class=\"dataframe\">\n",
       "  <thead>\n",
       "    <tr style=\"text-align: right;\">\n",
       "      <th></th>\n",
       "      <th>event_name</th>\n",
       "      <th>event_timestamp</th>\n",
       "    </tr>\n",
       "  </thead>\n",
       "  <tbody>\n",
       "    <tr>\n",
       "      <td>0</td>\n",
       "      <td>MainScreenAppear</td>\n",
       "      <td>11</td>\n",
       "    </tr>\n",
       "    <tr>\n",
       "      <td>1</td>\n",
       "      <td>OffersScreenAppear</td>\n",
       "      <td>6</td>\n",
       "    </tr>\n",
       "    <tr>\n",
       "      <td>2</td>\n",
       "      <td>CartScreenAppear</td>\n",
       "      <td>5</td>\n",
       "    </tr>\n",
       "    <tr>\n",
       "      <td>3</td>\n",
       "      <td>PaymentScreenSuccessful</td>\n",
       "      <td>4</td>\n",
       "    </tr>\n",
       "    <tr>\n",
       "      <td>4</td>\n",
       "      <td>Tutorial</td>\n",
       "      <td>1</td>\n",
       "    </tr>\n",
       "  </tbody>\n",
       "</table>\n",
       "</div>"
      ],
      "text/plain": [
       "                event_name  event_timestamp\n",
       "0         MainScreenAppear               11\n",
       "1       OffersScreenAppear                6\n",
       "2         CartScreenAppear                5\n",
       "3  PaymentScreenSuccessful                4\n",
       "4                 Tutorial                1"
      ]
     },
     "metadata": {},
     "output_type": "display_data"
    },
    {
     "data": {
      "image/png": "[encoded data removed]",
      "text/plain": [
       "<Figure size 576x288 with 1 Axes>"
      ]
     },
     "metadata": {
      "needs_background": "light"
     },
     "output_type": "display_data"
    },
    {
     "name": "stdout",
     "output_type": "stream",
     "text": [
      "Общее количество пользователей, совершивших каждое событие и их доля\n"
     ]
    },
    {
     "data": {
      "text/html": [
       "<div>\n",
       "<style scoped>\n",
       "    .dataframe tbody tr th:only-of-type {\n",
       "        vertical-align: middle;\n",
       "    }\n",
       "\n",
       "    .dataframe tbody tr th {\n",
       "        vertical-align: top;\n",
       "    }\n",
       "\n",
       "    .dataframe thead th {\n",
       "        text-align: right;\n",
       "    }\n",
       "</style>\n",
       "<table border=\"1\" class=\"dataframe\">\n",
       "  <thead>\n",
       "    <tr style=\"text-align: right;\">\n",
       "      <th></th>\n",
       "      <th>user_id</th>\n",
       "      <th>total_conversion</th>\n",
       "    </tr>\n",
       "    <tr>\n",
       "      <th>event_name</th>\n",
       "      <th></th>\n",
       "      <th></th>\n",
       "    </tr>\n",
       "  </thead>\n",
       "  <tbody>\n",
       "    <tr>\n",
       "      <td>MainScreenAppear</td>\n",
       "      <td>7419</td>\n",
       "      <td>98.5</td>\n",
       "    </tr>\n",
       "    <tr>\n",
       "      <td>OffersScreenAppear</td>\n",
       "      <td>4593</td>\n",
       "      <td>61.0</td>\n",
       "    </tr>\n",
       "    <tr>\n",
       "      <td>CartScreenAppear</td>\n",
       "      <td>3734</td>\n",
       "      <td>49.6</td>\n",
       "    </tr>\n",
       "    <tr>\n",
       "      <td>PaymentScreenSuccessful</td>\n",
       "      <td>3539</td>\n",
       "      <td>47.0</td>\n",
       "    </tr>\n",
       "    <tr>\n",
       "      <td>Tutorial</td>\n",
       "      <td>840</td>\n",
       "      <td>11.1</td>\n",
       "    </tr>\n",
       "  </tbody>\n",
       "</table>\n",
       "</div>"
      ],
      "text/plain": [
       "                         user_id  total_conversion\n",
       "event_name                                        \n",
       "MainScreenAppear            7419              98.5\n",
       "OffersScreenAppear          4593              61.0\n",
       "CartScreenAppear            3734              49.6\n",
       "PaymentScreenSuccessful     3539              47.0\n",
       "Tutorial                     840              11.1"
      ]
     },
     "metadata": {},
     "output_type": "display_data"
    }
   ],
   "source": [
    "num_event_per_user = data_recall.groupby(['user_id','event_name']).agg({'event_timestamp':'count'}).reset_index().groupby('event_name').agg({'event_timestamp':'median'}).sort_values('event_timestamp',ascending = False).reset_index()\n",
    "print('Среднее количество событий по пользователям')\n",
    "display(num_event_per_user)\n",
    "plt.figure(\n",
    "    figsize=(8, 4)\n",
    ")\n",
    "sns.set_palette('muted') \n",
    "sns.barplot(x='event_timestamp', y='event_name', data=num_event_per_user)\n",
    "plt.title('Среднее количество событий на пользователя')\n",
    "plt.ylabel('')\n",
    "plt.xlabel('Количество, шт.')\n",
    "plt.show()\n",
    "\n",
    "total_conversion = data_recall.pivot_table(index='event_name', values='user_id', aggfunc={'user_id':'nunique'}).sort_values(by='user_id', ascending=False)\n",
    "total_conversion['total_conversion'] = (total_conversion ['user_id'] / data_recall['user_id'].nunique() * 100).round(1)\n",
    "print('Общее количество пользователей, совершивших каждое событие и их доля')\n",
    "display(total_conversion)"
   ]
  },
  {
   "cell_type": "markdown",
   "metadata": {},
   "source": [
    "Судя по графику \"Количество событий разного типа\" и \"Среднее количество событий на пользователя\" распределение общего количества событий совпадает с распределением среднего количества событий по пользователям. \n",
    "\n",
    "Событий \"MainScreenAppear\" всегда больше всех. На втором месте по количеству событие \"OffersScreenAppear\", на третьем \"CartScreenAppear\" и на четвертом \"PaymentScreenSuccessful\". Событие \"Tutorial\", как правило, самое редкое. \n",
    "\n",
    "**Возможно, события можно интерпретировать так:**\n",
    "\n",
    "MainScreenAppear - пользователь увидел главный экран приложения\n",
    "\n",
    "OffersScreenAppear - пользователь увидел экран с предложением товаров\n",
    "\n",
    "CartScreenAppear - пользователь увидел корзину\n",
    "\n",
    "PaymentScreenSuccessful - пользователь увидел экран с сообщением об успешной покупке\n",
    "\n",
    "Tutorial - пользователь увидел экран обучения или начал/завершил обучение. \n",
    "\n",
    "**Скорее всего, последовательная цепочка действий пользователя в воронке имеет следующий порядок:**\n",
    "\n",
    "    1) MainScreenAppear\n",
    "    2) OffersScreenAppear\n",
    "    3) CartScreenAppear\n",
    "    4) PaymentScreenSuccessful\n",
    "\n",
    "Событие \"Tutorial\" намеренно не включаем в воронку, т.к. совсем не обязательно проходить обучение, что бы совершить покупку и наоборот. \n",
    "\n",
    "Судя по полученным данным больше всего пользователей теряется после того, как видят главный экран приложения. Возможно, с главным экраном что-то не так и изменение шрифтов как раз позволит увеличить конверсию перехода на следующий этап. Можно отметить, что пользователь, добавивший товар в корзину, как правило, его покупает.\n",
    "\n",
    "**По графику \"Среднее количество событий на пользователя\" видно, что за неделю с первого по седьмое августа 2019 года пользователи делали в среднем 4 покупки и видел всего 6 страниц с продуктом - возможно, стоит \"помочь\" пользователю выгодно докупить к своему товару еще какой-то с помощью рекомендаций. Это может повысить средний чек.** \n",
    "\n",
    "**98,5% прользователей видят главную страницу. Остальные 1,5%, судя по всему, переходят в приложение с рекламных баннеров на определенные продукты и сразу видят предложения к покупке. Либо это могут быть пользователи, которые совершили действия до 01.08.2019, которые мы не испольуем в расчетах.**"
   ]
  },
  {
   "cell_type": "markdown",
   "metadata": {},
   "source": [
    "Рассмотрим подробнее воронку продаж и найдем конверсию последовательных переходов по этапам. Также дополнительно рассмотрим воронку продаж по каждой группу отдельно."
   ]
  },
  {
   "cell_type": "code",
   "execution_count": 1,
   "metadata": {
    "scrolled": false
   },
   "outputs": [
    {
     "ename": "NameError",
     "evalue": "name 'go' is not defined",
     "output_type": "error",
     "traceback": [
      "\u001b[0;31m---------------------------------------------------------------------------\u001b[0m",
      "\u001b[0;31mNameError\u001b[0m                                 Traceback (most recent call last)",
      "\u001b[0;32m<ipython-input-1-9a20eee3ad32>\u001b[0m in \u001b[0;36m<module>\u001b[0;34m\u001b[0m\n\u001b[1;32m     37\u001b[0m     textinfo = \"value+percent initial\"))\n\u001b[1;32m     38\u001b[0m \u001b[0;34m\u001b[0m\u001b[0m\n\u001b[0;32m---> 39\u001b[0;31m fig1 = go.Figure(go.Funnel(\n\u001b[0m\u001b[1;32m     40\u001b[0m     \u001b[0my\u001b[0m \u001b[0;34m=\u001b[0m \u001b[0;34m[\u001b[0m\u001b[0;34m\"Посетителей\"\u001b[0m\u001b[0;34m,\u001b[0m\u001b[0;34m\"Увидели экран продукта\"\u001b[0m\u001b[0;34m,\u001b[0m \u001b[0;34m\"Увидели корзину\"\u001b[0m\u001b[0;34m,\u001b[0m \u001b[0;34m\"Оплатили заказы\"\u001b[0m\u001b[0;34m]\u001b[0m\u001b[0;34m,\u001b[0m\u001b[0;34m\u001b[0m\u001b[0;34m\u001b[0m\u001b[0m\n\u001b[1;32m     41\u001b[0m     \u001b[0mx\u001b[0m \u001b[0;34m=\u001b[0m \u001b[0minit_metrics\u001b[0m\u001b[0;34m(\u001b[0m\u001b[0;34m)\u001b[0m\u001b[0;34m\u001b[0m\u001b[0;34m\u001b[0m\u001b[0m\n",
      "\u001b[0;31mNameError\u001b[0m: name 'go' is not defined"
     ]
    }
   ],
   "source": [
    "\n",
    "def init_metrics (group = 'noneparam'):\n",
    "    \n",
    "    if group == 'noneparam':\n",
    "        users = data_recall.pivot_table(\n",
    "            index='user_id', \n",
    "            columns='event_name', \n",
    "            values='event_time',\n",
    "            aggfunc='min'\n",
    "        )\n",
    "    else :\n",
    "         users = data_recall.query('test_group == @group').pivot_table(\n",
    "            index='user_id', \n",
    "            columns='event_name', \n",
    "            values='event_time',\n",
    "            aggfunc='min'\n",
    "            )\n",
    "   \n",
    "\n",
    "    step_1 = ~users['MainScreenAppear'].isna() \n",
    "    step_2 = step_1 & (users['OffersScreenAppear'] > users['MainScreenAppear']) \n",
    "    step_3 = step_2 & (users['CartScreenAppear'] > users['OffersScreenAppear'])\n",
    "    step_4 = step_3 & (users['PaymentScreenSuccessful'] > users['CartScreenAppear']) \n",
    "\n",
    "    n_pageview = users[step_1].shape[0] \n",
    "    n_add_to_cart = users[step_2].shape[0] \n",
    "    n_checkout = users[step_3].shape[0] \n",
    "    n_payment = users[step_4].shape[0]\n",
    "    \n",
    "    return n_pageview,n_add_to_cart,n_checkout,n_payment\n",
    "\n",
    "\n",
    "def add_trace (group = 'noneparam'):\n",
    "    fig.add_trace(go.Funnel(\n",
    "    name = group,\n",
    "     y = [\"Посетителей\",\"Увидели экран продукта\", \"Увидели корзину\", \"Оплатили заказы\"],\n",
    "     x = init_metrics(group),\n",
    "    textinfo = \"value+percent initial\"))\n",
    "\n",
    "fig1 = go.Figure(go.Funnel(\n",
    "    y = [\"Посетителей\",\"Увидели экран продукта\", \"Увидели корзину\", \"Оплатили заказы\"],\n",
    "    x = init_metrics()\n",
    "    ))\n",
    "fig1.update_layout(title_text='Воронка событий по всем пользователям')\n",
    "fig1.show()    \n",
    "    \n",
    "fig = go.Figure()\n",
    "fig.update_layout(title_text='Воронка событий по пользователям из разных групп')\n",
    "for each in data_recall['test_group'].unique():\n",
    "    add_trace(each.astype(str))\n",
    "\n",
    "fig.show()\n",
    "\n"
   ]
  },
  {
   "cell_type": "markdown",
   "metadata": {},
   "source": [
    "**Конверсия переходов по этапа пользователей:**\n",
    "\n",
    "    - с этапа \"MainScreenAppear (увидел главный экран)\" на \"OffersScreenAppear(увидел экран продукта)\" конверсия составляет 56,6% \n",
    "    - с этапа \"OffersScreenAppear(увидел экран продукта)\" на \"CartScreenAppear(увидел корзину)\" конверсия составляет 42,1% \n",
    "    - с этапа \"CartScreenAppear(увидел корзину)\" на \"PaymentScreenSuccessful(увидел экран с успешной оплатой)\" конверсия составляет 25,7% \n",
    "  \n",
    "\n",
    "**Из графика \"Воронка событий по всем пользователям\" видно, что больше всего пользователей по количеству теряется после просмотра главного экрана приложения - 44,4%  или 3218 пользователей от общего числа уходят. Это может говорить о том, что предположения о проблемах на главном экране может быть верно.**\n",
    "\n",
    "**Заказчику рекомендуется провести дополнительное исследование для определения факторов, влияющих на показатель конверсии переходов с главного экрана на экран с предложением продуктов.**\n",
    "\n",
    "**Однако если судить по относительным показателям, то больше всего посетителей теряется после того, как увидят корзину - 74,3% или 1313 пользователей не совершают покупку после того, как посетят корзину. Пользователей может пугать общая стоимость, а, может быть, на этом экране отображается время доставки и оно не устраивает посетителей - стоит проверить и принять меры.** \n",
    "\n",
    "**Из всех посетителей оплатило свои заказы только 6,1%.** \n",
    "\n",
    "**Для разных групп конверсия на каждом шаге практически совпадает с общей конверсией - данные разнятся в пределах 1%.** Однако Конверсия покупки после просмотра корзины у экспериментальной группы 248 выше на 4,3%.  Необходимо проверить, есть ли значимые различия между группами. "
   ]
  },
  {
   "cell_type": "markdown",
   "metadata": {},
   "source": [
    "## Анализ результатов A/A/B теста"
   ]
  },
  {
   "cell_type": "markdown",
   "metadata": {},
   "source": [
    "Для начала посмотрим, сколько пользователей в каждой группе."
   ]
  },
  {
   "cell_type": "code",
   "execution_count": 17,
   "metadata": {},
   "outputs": [
    {
     "name": "stdout",
     "output_type": "stream",
     "text": [
      "Количество пользователей в каждой группе:\n"
     ]
    },
    {
     "data": {
      "text/html": [
       "<div>\n",
       "<style scoped>\n",
       "    .dataframe tbody tr th:only-of-type {\n",
       "        vertical-align: middle;\n",
       "    }\n",
       "\n",
       "    .dataframe tbody tr th {\n",
       "        vertical-align: top;\n",
       "    }\n",
       "\n",
       "    .dataframe thead th {\n",
       "        text-align: right;\n",
       "    }\n",
       "</style>\n",
       "<table border=\"1\" class=\"dataframe\">\n",
       "  <thead>\n",
       "    <tr style=\"text-align: right;\">\n",
       "      <th></th>\n",
       "      <th>test_group</th>\n",
       "      <th>user_id</th>\n",
       "    </tr>\n",
       "  </thead>\n",
       "  <tbody>\n",
       "    <tr>\n",
       "      <td>0</td>\n",
       "      <td>246</td>\n",
       "      <td>2484</td>\n",
       "    </tr>\n",
       "    <tr>\n",
       "      <td>1</td>\n",
       "      <td>247</td>\n",
       "      <td>2513</td>\n",
       "    </tr>\n",
       "    <tr>\n",
       "      <td>2</td>\n",
       "      <td>248</td>\n",
       "      <td>2537</td>\n",
       "    </tr>\n",
       "  </tbody>\n",
       "</table>\n",
       "</div>"
      ],
      "text/plain": [
       "   test_group  user_id\n",
       "0         246     2484\n",
       "1         247     2513\n",
       "2         248     2537"
      ]
     },
     "metadata": {},
     "output_type": "display_data"
    }
   ],
   "source": [
    "print('Количество пользователей в каждой группе:')\n",
    "display(data_recall.groupby('test_group').agg({'user_id':'nunique'}).reset_index())"
   ]
  },
  {
   "cell_type": "markdown",
   "metadata": {},
   "source": [
    "Выберем самое популярное событие, посчитаем количество пользователей с которыми оно произошло.  "
   ]
  },
  {
   "cell_type": "code",
   "execution_count": 21,
   "metadata": {},
   "outputs": [
    {
     "data": {
      "text/html": [
       "<div>\n",
       "<style scoped>\n",
       "    .dataframe tbody tr th:only-of-type {\n",
       "        vertical-align: middle;\n",
       "    }\n",
       "\n",
       "    .dataframe tbody tr th {\n",
       "        vertical-align: top;\n",
       "    }\n",
       "\n",
       "    .dataframe thead th {\n",
       "        text-align: right;\n",
       "    }\n",
       "</style>\n",
       "<table border=\"1\" class=\"dataframe\">\n",
       "  <thead>\n",
       "    <tr style=\"text-align: right;\">\n",
       "      <th></th>\n",
       "      <th>event_name</th>\n",
       "      <th>test_group</th>\n",
       "      <th>user_id</th>\n",
       "    </tr>\n",
       "  </thead>\n",
       "  <tbody>\n",
       "    <tr>\n",
       "      <td>0</td>\n",
       "      <td>CartScreenAppear</td>\n",
       "      <td>246</td>\n",
       "      <td>1266</td>\n",
       "    </tr>\n",
       "    <tr>\n",
       "      <td>1</td>\n",
       "      <td>CartScreenAppear</td>\n",
       "      <td>247</td>\n",
       "      <td>1238</td>\n",
       "    </tr>\n",
       "    <tr>\n",
       "      <td>2</td>\n",
       "      <td>CartScreenAppear</td>\n",
       "      <td>248</td>\n",
       "      <td>1230</td>\n",
       "    </tr>\n",
       "    <tr>\n",
       "      <td>3</td>\n",
       "      <td>MainScreenAppear</td>\n",
       "      <td>246</td>\n",
       "      <td>2450</td>\n",
       "    </tr>\n",
       "    <tr>\n",
       "      <td>4</td>\n",
       "      <td>MainScreenAppear</td>\n",
       "      <td>247</td>\n",
       "      <td>2476</td>\n",
       "    </tr>\n",
       "    <tr>\n",
       "      <td>5</td>\n",
       "      <td>MainScreenAppear</td>\n",
       "      <td>248</td>\n",
       "      <td>2493</td>\n",
       "    </tr>\n",
       "    <tr>\n",
       "      <td>6</td>\n",
       "      <td>OffersScreenAppear</td>\n",
       "      <td>246</td>\n",
       "      <td>1542</td>\n",
       "    </tr>\n",
       "    <tr>\n",
       "      <td>7</td>\n",
       "      <td>OffersScreenAppear</td>\n",
       "      <td>247</td>\n",
       "      <td>1520</td>\n",
       "    </tr>\n",
       "    <tr>\n",
       "      <td>8</td>\n",
       "      <td>OffersScreenAppear</td>\n",
       "      <td>248</td>\n",
       "      <td>1531</td>\n",
       "    </tr>\n",
       "    <tr>\n",
       "      <td>9</td>\n",
       "      <td>PaymentScreenSuccessful</td>\n",
       "      <td>246</td>\n",
       "      <td>1200</td>\n",
       "    </tr>\n",
       "    <tr>\n",
       "      <td>10</td>\n",
       "      <td>PaymentScreenSuccessful</td>\n",
       "      <td>247</td>\n",
       "      <td>1158</td>\n",
       "    </tr>\n",
       "    <tr>\n",
       "      <td>11</td>\n",
       "      <td>PaymentScreenSuccessful</td>\n",
       "      <td>248</td>\n",
       "      <td>1181</td>\n",
       "    </tr>\n",
       "    <tr>\n",
       "      <td>12</td>\n",
       "      <td>Tutorial</td>\n",
       "      <td>246</td>\n",
       "      <td>278</td>\n",
       "    </tr>\n",
       "    <tr>\n",
       "      <td>13</td>\n",
       "      <td>Tutorial</td>\n",
       "      <td>247</td>\n",
       "      <td>283</td>\n",
       "    </tr>\n",
       "    <tr>\n",
       "      <td>14</td>\n",
       "      <td>Tutorial</td>\n",
       "      <td>248</td>\n",
       "      <td>279</td>\n",
       "    </tr>\n",
       "  </tbody>\n",
       "</table>\n",
       "</div>"
      ],
      "text/plain": [
       "                 event_name  test_group  user_id\n",
       "0          CartScreenAppear         246     1266\n",
       "1          CartScreenAppear         247     1238\n",
       "2          CartScreenAppear         248     1230\n",
       "3          MainScreenAppear         246     2450\n",
       "4          MainScreenAppear         247     2476\n",
       "5          MainScreenAppear         248     2493\n",
       "6        OffersScreenAppear         246     1542\n",
       "7        OffersScreenAppear         247     1520\n",
       "8        OffersScreenAppear         248     1531\n",
       "9   PaymentScreenSuccessful         246     1200\n",
       "10  PaymentScreenSuccessful         247     1158\n",
       "11  PaymentScreenSuccessful         248     1181\n",
       "12                 Tutorial         246      278\n",
       "13                 Tutorial         247      283\n",
       "14                 Tutorial         248      279"
      ]
     },
     "metadata": {},
     "output_type": "display_data"
    }
   ],
   "source": [
    "display(data_recall.groupby(['event_name','test_group']).agg({'user_id':'nunique'}).reset_index())\n"
   ]
  },
  {
   "cell_type": "markdown",
   "metadata": {},
   "source": [
    "Самое популярное событие - \"MainScreenAppear\". Количество пользователей, которое его совершили, по группам:\n",
    "\n",
    "    Группа 246 - 2450\n",
    "    Группа 247 - 2476\n",
    "    Группа 248 - 2493"
   ]
  },
  {
   "cell_type": "code",
   "execution_count": 22,
   "metadata": {},
   "outputs": [],
   "source": [
    "sample_A1 = data_recall[data_recall['test_group'] == 246].reset_index()\n",
    "sample_A2 = data_recall[data_recall['test_group'] == 247].reset_index()\n",
    "sample_B = data_recall[data_recall['test_group'] == 248].reset_index()\n",
    "\n"
   ]
  },
  {
   "cell_type": "markdown",
   "metadata": {},
   "source": [
    "Для проверки значимости гипотезы о равенстве долей напишем функцию. Т.к. далее планируется проводить несколько сравнений для одних и тех же данных, то применим метод Шидака для корректировки критического уровня статистической значимости: всего планируется провести 16 сравнений на одних и тех же данных ( сравнение групп 246 и 247, 246 и 248, 247 и 248, 246_247 и 248 по 4 события). "
   ]
  },
  {
   "cell_type": "code",
   "execution_count": 23,
   "metadata": {},
   "outputs": [
    {
     "name": "stdout",
     "output_type": "stream",
     "text": [
      "Необходимый критический уровень значимости 0.0032006977101884937\n"
     ]
    }
   ],
   "source": [
    "sidak = 1-(1-0.05)**(1/16)\n",
    "print('Необходимый критический уровень значимости',sidak)"
   ]
  },
  {
   "cell_type": "markdown",
   "metadata": {},
   "source": [
    "Т.к. в данном случае нас интересует значимая разница в конверсии переходов по этапам воронки, то далее для проверки статистической значимости будем использовать z-тест о равенстве долей. "
   ]
  },
  {
   "cell_type": "markdown",
   "metadata": {},
   "source": [
    "**Необходимый критический уровень значимости 0.0032006977101884937**"
   ]
  },
  {
   "cell_type": "code",
   "execution_count": 24,
   "metadata": {},
   "outputs": [],
   "source": [
    "#на входе две сравниваемые выборки, событие и крит. уровень стат. значимости\n",
    "def z_test(sample_1, sample_2, event_name, alpha=0.05): \n",
    "    # критический уровень статистической значимости\n",
    "    alpha = alpha\n",
    "    \n",
    "    # число успехов это число уникальных ползователей в событие группы\n",
    "    successes_1 = sample_1[sample_1['event_name'] == event_name]['user_id'].nunique()\n",
    "    successes_2 = sample_2[sample_2['event_name'] == event_name]['user_id'].nunique()\n",
    "    \n",
    "    # число попыток это число уникальных ползователей в группе\n",
    "    trials_1 = sample_1['user_id'].nunique()\n",
    "    trials_2 = sample_2['user_id'].nunique()\n",
    "    \n",
    "    #пропорция успехов в первой группе:\n",
    "    p1 = successes_1 / trials_1\n",
    "    #пропорция успехов во второй группе:\n",
    "    p2 = successes_2 / trials_2\n",
    "    #пропорция успехов в комбинированном датасете:\n",
    "    p_combined  = (successes_1 + successes_2) / (trials_1 + trials_2)\n",
    "    #разница пропорций в датасетах\n",
    "    difference = p1 - p2\n",
    "    \n",
    "    #считаем статистику в ст.отклонениях стандартного нормального распределения\n",
    "    z_value = difference / mth.sqrt(p_combined  *  (1 - p_combined ) * (1 / trials_1 + 1 / trials_2))\n",
    "    \n",
    "    #задаем стандартное нормальное распределение (среднее 0, ст.отклонение 1)\n",
    "    distr = st.norm(0, 1) \n",
    "    p_value = (1 - distr.cdf(abs(z_value))) * 2\n",
    "    \n",
    "    print('В группе', sample_1['test_group'][0],'в событии', event_name,\n",
    "          f'{successes_1} пользователей, 'f'доля совершивших это событие: {p1:.1%}')\n",
    "    print('В группе', sample_2['test_group'][0],'в событии', event_name,\n",
    "          f'{successes_2} пользователей, 'f'доля совершивших это событие: {p2:.1%}')\n",
    "    \n",
    "    print('p-значение: ', p_value)\n",
    "    if (p_value < alpha):\n",
    "        print(\"Отвергаем нулевую гипотезу, между долями есть значимая разница\")\n",
    "    else:\n",
    "        print(\"Не получилось отвергнуть нулевую гипотезу, нет оснований считать доли разными\")"
   ]
  },
  {
   "cell_type": "markdown",
   "metadata": {},
   "source": [
    "Проверим, будут ли статистически значимые отличия в долях выборок 246 и 247 по всем событиям из воронки. \n",
    "\n",
    "Формируем гипотезы:\n",
    "\n",
    "    H0 - Доли сравниваемых выборок равны \n",
    "    H1 - Между долями выборок есть статистически значимые различия"
   ]
  },
  {
   "cell_type": "code",
   "execution_count": 25,
   "metadata": {},
   "outputs": [
    {
     "name": "stdout",
     "output_type": "stream",
     "text": [
      "В группе 246 в событии MainScreenAppear 2450 пользователей, доля совершивших это событие: 98.6%\n",
      "В группе 247 в событии MainScreenAppear 2476 пользователей, доля совершивших это событие: 98.5%\n",
      "p-значение:  0.7570597232046099\n",
      "Не получилось отвергнуть нулевую гипотезу, нет оснований считать доли разными\n",
      "\n",
      "В группе 246 в событии OffersScreenAppear 1542 пользователей, доля совершивших это событие: 62.1%\n",
      "В группе 247 в событии OffersScreenAppear 1520 пользователей, доля совершивших это событие: 60.5%\n",
      "p-значение:  0.2480954578522181\n",
      "Не получилось отвергнуть нулевую гипотезу, нет оснований считать доли разными\n",
      "\n",
      "В группе 246 в событии CartScreenAppear 1266 пользователей, доля совершивших это событие: 51.0%\n",
      "В группе 247 в событии CartScreenAppear 1238 пользователей, доля совершивших это событие: 49.3%\n",
      "p-значение:  0.22883372237997213\n",
      "Не получилось отвергнуть нулевую гипотезу, нет оснований считать доли разными\n",
      "\n",
      "В группе 246 в событии PaymentScreenSuccessful 1200 пользователей, доля совершивших это событие: 48.3%\n",
      "В группе 247 в событии PaymentScreenSuccessful 1158 пользователей, доля совершивших это событие: 46.1%\n",
      "p-значение:  0.11456679313141849\n",
      "Не получилось отвергнуть нулевую гипотезу, нет оснований считать доли разными\n",
      "\n"
     ]
    }
   ],
   "source": [
    "events = ['MainScreenAppear','OffersScreenAppear','CartScreenAppear','PaymentScreenSuccessful']\n",
    "\n",
    "for each in events:\n",
    "    z_test(sample_A1, sample_A2, each, alpha=sidak)\n",
    "    print()"
   ]
  },
  {
   "cell_type": "markdown",
   "metadata": {},
   "source": [
    "Для всех событий отвергнута нулевая гипотеза - значит, нет статистически значимых различий между группами 246 и 247. \n",
    "\n",
    "Т.к. для всех событий групп 246 и 247 мы не получили подвтерждение статистически значимых различий, значит разбиение по группам работает верно и можно приступать к проверке с экспериментальной группой."
   ]
  },
  {
   "cell_type": "markdown",
   "metadata": {},
   "source": [
    "Проверим, есть ли статистически значимые различия долей между группами 246 и 248 по всем событиям из воронки.\n",
    "\n",
    "Формируем гипотезы:\n",
    "\n",
    "    H0 - Доли сравниваемых выборок равны \n",
    "    H1 - Между долями выборок есть статистически значимые различия"
   ]
  },
  {
   "cell_type": "code",
   "execution_count": 26,
   "metadata": {},
   "outputs": [
    {
     "name": "stdout",
     "output_type": "stream",
     "text": [
      "В группе 246 в событии MainScreenAppear 2450 пользователей, доля совершивших это событие: 98.6%\n",
      "В группе 248 в событии MainScreenAppear 2493 пользователей, доля совершивших это событие: 98.3%\n",
      "p-значение:  0.2949721933554552\n",
      "Не получилось отвергнуть нулевую гипотезу, нет оснований считать доли разными\n",
      "\n",
      "В группе 246 в событии OffersScreenAppear 1542 пользователей, доля совершивших это событие: 62.1%\n",
      "В группе 248 в событии OffersScreenAppear 1531 пользователей, доля совершивших это событие: 60.3%\n",
      "p-значение:  0.20836205402738917\n",
      "Не получилось отвергнуть нулевую гипотезу, нет оснований считать доли разными\n",
      "\n",
      "В группе 246 в событии CartScreenAppear 1266 пользователей, доля совершивших это событие: 51.0%\n",
      "В группе 248 в событии CartScreenAppear 1230 пользователей, доля совершивших это событие: 48.5%\n",
      "p-значение:  0.07842923237520116\n",
      "Не получилось отвергнуть нулевую гипотезу, нет оснований считать доли разными\n",
      "\n",
      "В группе 246 в событии PaymentScreenSuccessful 1200 пользователей, доля совершивших это событие: 48.3%\n",
      "В группе 248 в событии PaymentScreenSuccessful 1181 пользователей, доля совершивших это событие: 46.6%\n",
      "p-значение:  0.2122553275697796\n",
      "Не получилось отвергнуть нулевую гипотезу, нет оснований считать доли разными\n",
      "\n"
     ]
    }
   ],
   "source": [
    "for each in events:\n",
    "    z_test(sample_A1, sample_B, each, alpha=sidak)\n",
    "    print()"
   ]
  },
  {
   "cell_type": "markdown",
   "metadata": {},
   "source": [
    "Для всех событий отвергнута нулевая гипотеза - значит, нет статистически значимых различий между группами 246 и 248. "
   ]
  },
  {
   "cell_type": "markdown",
   "metadata": {},
   "source": [
    "Проверим, есть ли статистически значимые различия долей между группами 247 и 248 по всем событиям из воронки.\n",
    "\n",
    "Формируем гипотезы:\n",
    "\n",
    "    H0 - Доли сравниваемых выборок равны \n",
    "    H1 - Между долями выборок есть статистически значимые различия"
   ]
  },
  {
   "cell_type": "code",
   "execution_count": 27,
   "metadata": {},
   "outputs": [
    {
     "name": "stdout",
     "output_type": "stream",
     "text": [
      "В группе 247 в событии MainScreenAppear 2476 пользователей, доля совершивших это событие: 98.5%\n",
      "В группе 248 в событии MainScreenAppear 2493 пользователей, доля совершивших это событие: 98.3%\n",
      "p-значение:  0.4587053616621515\n",
      "Не получилось отвергнуть нулевую гипотезу, нет оснований считать доли разными\n",
      "\n",
      "В группе 247 в событии OffersScreenAppear 1520 пользователей, доля совершивших это событие: 60.5%\n",
      "В группе 248 в событии OffersScreenAppear 1531 пользователей, доля совершивших это событие: 60.3%\n",
      "p-значение:  0.9197817830592261\n",
      "Не получилось отвергнуть нулевую гипотезу, нет оснований считать доли разными\n",
      "\n",
      "В группе 247 в событии CartScreenAppear 1238 пользователей, доля совершивших это событие: 49.3%\n",
      "В группе 248 в событии CartScreenAppear 1230 пользователей, доля совершивших это событие: 48.5%\n",
      "p-значение:  0.5786197879539783\n",
      "Не получилось отвергнуть нулевую гипотезу, нет оснований считать доли разными\n",
      "\n",
      "В группе 247 в событии PaymentScreenSuccessful 1158 пользователей, доля совершивших это событие: 46.1%\n",
      "В группе 248 в событии PaymentScreenSuccessful 1181 пользователей, доля совершивших это событие: 46.6%\n",
      "p-значение:  0.7373415053803964\n",
      "Не получилось отвергнуть нулевую гипотезу, нет оснований считать доли разными\n",
      "\n"
     ]
    }
   ],
   "source": [
    "for each in events:\n",
    "    z_test(sample_A2, sample_B, each, alpha=sidak)\n",
    "    print()"
   ]
  },
  {
   "cell_type": "markdown",
   "metadata": {},
   "source": [
    "Для всех событий отвергнута нулевая гипотеза - значит, нет статистически значимых различий между группами 247 и 248. "
   ]
  },
  {
   "cell_type": "markdown",
   "metadata": {},
   "source": [
    "**Таким образом получаем, что по отдельности нет статистически значимой разницы между группами 246,247 и 248. Интересно, что даже не меняя критический уровень значимости (оставив значение 0.05) мы бы не получили статистически значимые различия, что дополнительно подтверждает результаты проверки.**"
   ]
  },
  {
   "cell_type": "markdown",
   "metadata": {},
   "source": [
    "Дополнительно проверим, есть ли статистически значимые различия в долях между группой 248 и объединенной выборкой из групп 246 и 247.\n",
    "\n",
    "Формируем гипотезы:\n",
    "\n",
    "    H0 - Доли сравниваемых выборок равны \n",
    "    H1 - Между долями выборок есть статистически значимые различия"
   ]
  },
  {
   "cell_type": "code",
   "execution_count": 28,
   "metadata": {},
   "outputs": [
    {
     "name": "stdout",
     "output_type": "stream",
     "text": [
      "В группе 246 в событии MainScreenAppear 4926 пользователей, доля совершивших это событие: 98.6%\n",
      "В группе 248 в событии MainScreenAppear 2493 пользователей, доля совершивших это событие: 98.3%\n",
      "p-значение:  0.29424526837179577\n",
      "Не получилось отвергнуть нулевую гипотезу, нет оснований считать доли разными\n",
      "\n",
      "В группе 246 в событии OffersScreenAppear 3062 пользователей, доля совершивших это событие: 61.3%\n",
      "В группе 248 в событии OffersScreenAppear 1531 пользователей, доля совершивших это событие: 60.3%\n",
      "p-значение:  0.43425549655188256\n",
      "Не получилось отвергнуть нулевую гипотезу, нет оснований считать доли разными\n",
      "\n",
      "В группе 246 в событии CartScreenAppear 2504 пользователей, доля совершивших это событие: 50.1%\n",
      "В группе 248 в событии CartScreenAppear 1230 пользователей, доля совершивших это событие: 48.5%\n",
      "p-значение:  0.18175875284404386\n",
      "Не получилось отвергнуть нулевую гипотезу, нет оснований считать доли разными\n",
      "\n",
      "В группе 246 в событии PaymentScreenSuccessful 2358 пользователей, доля совершивших это событие: 47.2%\n",
      "В группе 248 в событии PaymentScreenSuccessful 1181 пользователей, доля совершивших это событие: 46.6%\n",
      "p-значение:  0.6004294282308704\n",
      "Не получилось отвергнуть нулевую гипотезу, нет оснований считать доли разными\n",
      "\n"
     ]
    }
   ],
   "source": [
    "for each in events:\n",
    "    z_test(data_recall[(data_recall['test_group'] == 246) | (data_recall['test_group'] == 247)].reset_index(), sample_B, each, alpha=sidak)\n",
    "    print()"
   ]
  },
  {
   "cell_type": "markdown",
   "metadata": {},
   "source": [
    "**Для всех событий отвергнута нулевая гипотеза - значит, нет статистически значимых различий между группой 248 и выборкой из объединенных групп 246,247.** "
   ]
  },
  {
   "cell_type": "markdown",
   "metadata": {},
   "source": [
    "### Вывод\n",
    "\n",
    "**В результате анализа результатов теста и проведения проверки значимости различий между группами 246,247 и 248 с помощью z-теста было выявлено, что значимых различий между группами нет. Это означает, что изменение шрифта никак не повлияла на пользователей из контрольной группы - данное изменение не принесет никакой выгоды заказчику, но и не принесет негативный эффект.**"
   ]
  },
  {
   "cell_type": "markdown",
   "metadata": {},
   "source": [
    "## Итоговый вывод\n",
    "\n",
    "Всего событий в логе - 243713 шт, количество уникальных пользователей - 7551 человек. В среднем на каждого пользователя приходится 20 событий.\n",
    "\n",
    "Анализ проводился на данных за период с 01.08.2019 по 07.08.2019\n",
    "\n",
    "Конверсия переходов по этапа пользователей:\n",
    "\n",
    "    - с этапа \"увидел главный экран\" на \"увидел экран продукта\" конверсия составляет 56,6% \n",
    "    - с этапа \"увидел экран продукта\" на \"увидел корзину\" конверсия составляет 42,1% \n",
    "    - с этапа \"увидел корзину\" на \"увидел экран с успешной оплатой\" конверсия составляет 25,7% \n",
    "    \n",
    "Конверсия в группах 246,247 и 248 практически одинакова на всех этапах и отличается в среднем на 1%. \n",
    "  \n",
    "Больше всего пользователей (в количественных величинах) теряется после просмотра главного экрана приложения - 44,4% или 3218  пользователей от общего числа уходят. Это может говорить о том, что предположения о проблемах на главном экране может быть верно. Рекомендуется провести дополнительное исследование для определения факторов, влияющих на показатель конверсии переходов с главного экрана на экран с предложением продуктов.\n",
    "\n",
    "Больше всего пользователей (в относительных мерах) теряется после того, как увидят корзину - 74,3% или 1313 пользователей не совершают покупку после того, как посетят корзину. Пользователей может пугать общая стоимость, или, может быть, на этом экране отображается время доставки и оно не устраивает посетителей - стоит проверить и принять меры.\n",
    "\n",
    "Из всех посетителей оплатило свои заказы только 6,1%.\n",
    "\n",
    "**В результате анализа результатов теста и проведения проверки значимости различий между группами 246,247 и 248 с помощью z-теста было выявлено, что значимых различий между группами нет. Это означает, что изменение шрифта никак не повлияло на пользователей из контрольной группы - данное изменение не принесет никакой выгоды заказчику, но и не принесет негативный эффект.**\n",
    "\n",
    "\n",
    "Рекомендуется обратиться в отдел разработки для проверки корректности записи логов - в них встречаются дубли.\n"
   ]
  }
 ],
 "metadata": {
  "ExecuteTimeLog": [
   {
    "duration": 1056,
    "start_time": "2021-08-07T19:48:02.529Z"
   },
   {
    "duration": 232,
    "start_time": "2021-08-07T19:48:04.625Z"
   },
   {
    "duration": 269,
    "start_time": "2021-08-07T19:48:10.962Z"
   },
   {
    "duration": 130,
    "start_time": "2021-08-07T19:48:33.894Z"
   },
   {
    "duration": 132,
    "start_time": "2021-08-07T19:57:02.647Z"
   },
   {
    "duration": 3,
    "start_time": "2021-08-07T20:08:34.194Z"
   },
   {
    "duration": 87,
    "start_time": "2021-08-07T20:09:51.184Z"
   },
   {
    "duration": 78,
    "start_time": "2021-08-07T20:12:01.481Z"
   },
   {
    "duration": 91,
    "start_time": "2021-08-07T20:12:15.007Z"
   },
   {
    "duration": 80,
    "start_time": "2021-08-07T20:12:50.654Z"
   },
   {
    "duration": 86,
    "start_time": "2021-08-07T20:15:27.951Z"
   },
   {
    "duration": 60,
    "start_time": "2021-08-07T20:15:45.866Z"
   },
   {
    "duration": 95,
    "start_time": "2021-08-07T20:15:49.366Z"
   },
   {
    "duration": 71,
    "start_time": "2021-08-07T20:16:11.766Z"
   },
   {
    "duration": 330,
    "start_time": "2021-08-07T20:18:57.462Z"
   },
   {
    "duration": 302,
    "start_time": "2021-08-07T20:19:04.826Z"
   },
   {
    "duration": 80,
    "start_time": "2021-08-07T20:20:21.543Z"
   },
   {
    "duration": 58,
    "start_time": "2021-08-07T20:20:29.104Z"
   },
   {
    "duration": 85,
    "start_time": "2021-08-07T20:20:31.931Z"
   },
   {
    "duration": 317,
    "start_time": "2021-08-07T20:26:25.435Z"
   },
   {
    "duration": 281,
    "start_time": "2021-08-07T20:26:51.340Z"
   },
   {
    "duration": 75,
    "start_time": "2021-08-07T20:27:13.207Z"
   },
   {
    "duration": 69,
    "start_time": "2021-08-07T20:31:37.660Z"
   },
   {
    "duration": 300,
    "start_time": "2021-08-07T20:44:16.806Z"
   },
   {
    "duration": 378,
    "start_time": "2021-08-07T20:44:41.453Z"
   },
   {
    "duration": 398,
    "start_time": "2021-08-07T20:44:53.172Z"
   },
   {
    "duration": 119,
    "start_time": "2021-08-07T20:47:18.156Z"
   },
   {
    "duration": 79,
    "start_time": "2021-08-07T20:47:47.261Z"
   },
   {
    "duration": 4481,
    "start_time": "2021-08-07T20:51:28.990Z"
   },
   {
    "duration": 47,
    "start_time": "2021-08-07T20:51:42.199Z"
   },
   {
    "duration": 45,
    "start_time": "2021-08-07T20:52:16.419Z"
   },
   {
    "duration": 48,
    "start_time": "2021-08-07T20:52:32.819Z"
   },
   {
    "duration": 47,
    "start_time": "2021-08-07T20:52:35.220Z"
   },
   {
    "duration": 48,
    "start_time": "2021-08-07T20:52:38.109Z"
   },
   {
    "duration": 47,
    "start_time": "2021-08-07T20:53:22.514Z"
   },
   {
    "duration": 7,
    "start_time": "2021-08-07T21:06:08.451Z"
   },
   {
    "duration": 4,
    "start_time": "2021-08-07T21:07:41.705Z"
   },
   {
    "duration": 180,
    "start_time": "2021-08-07T21:11:14.165Z"
   },
   {
    "duration": 428,
    "start_time": "2021-08-07T21:11:54.469Z"
   },
   {
    "duration": 1086,
    "start_time": "2021-08-07T21:12:10.255Z"
   },
   {
    "duration": 159,
    "start_time": "2021-08-07T21:12:11.342Z"
   },
   {
    "duration": 111,
    "start_time": "2021-08-07T21:12:11.503Z"
   },
   {
    "duration": 106,
    "start_time": "2021-08-07T21:12:11.616Z"
   },
   {
    "duration": 137,
    "start_time": "2021-08-07T21:12:11.724Z"
   },
   {
    "duration": 61,
    "start_time": "2021-08-07T21:12:11.863Z"
   },
   {
    "duration": 271,
    "start_time": "2021-08-07T21:12:11.926Z"
   },
   {
    "duration": 247,
    "start_time": "2021-08-07T21:13:26.754Z"
   },
   {
    "duration": 642,
    "start_time": "2021-08-07T21:17:23.486Z"
   },
   {
    "duration": 1179,
    "start_time": "2021-08-07T21:17:28.172Z"
   },
   {
    "duration": 162,
    "start_time": "2021-08-07T21:17:29.353Z"
   },
   {
    "duration": 114,
    "start_time": "2021-08-07T21:17:29.517Z"
   },
   {
    "duration": 105,
    "start_time": "2021-08-07T21:17:29.633Z"
   },
   {
    "duration": 143,
    "start_time": "2021-08-07T21:17:29.740Z"
   },
   {
    "duration": 50,
    "start_time": "2021-08-07T21:17:29.885Z"
   },
   {
    "duration": 276,
    "start_time": "2021-08-07T21:17:29.937Z"
   },
   {
    "duration": 204,
    "start_time": "2021-08-07T21:18:04.968Z"
   },
   {
    "duration": 650,
    "start_time": "2021-08-07T21:18:37.149Z"
   },
   {
    "duration": 380,
    "start_time": "2021-08-07T21:18:54.429Z"
   },
   {
    "duration": 391,
    "start_time": "2021-08-07T21:19:09.277Z"
   },
   {
    "duration": 397,
    "start_time": "2021-08-07T21:19:38.555Z"
   },
   {
    "duration": 322,
    "start_time": "2021-08-07T21:19:48.167Z"
   },
   {
    "duration": 180,
    "start_time": "2021-08-07T21:20:03.995Z"
   },
   {
    "duration": 2620,
    "start_time": "2021-08-07T21:20:06.816Z"
   },
   {
    "duration": 22014,
    "start_time": "2021-08-07T21:20:24.974Z"
   },
   {
    "duration": 1061,
    "start_time": "2021-08-07T21:22:23.906Z"
   },
   {
    "duration": 151,
    "start_time": "2021-08-07T21:22:24.968Z"
   },
   {
    "duration": 104,
    "start_time": "2021-08-07T21:22:25.121Z"
   },
   {
    "duration": 101,
    "start_time": "2021-08-07T21:22:25.227Z"
   },
   {
    "duration": 131,
    "start_time": "2021-08-07T21:22:25.329Z"
   },
   {
    "duration": 55,
    "start_time": "2021-08-07T21:22:25.462Z"
   },
   {
    "duration": 20114,
    "start_time": "2021-08-07T21:22:25.518Z"
   },
   {
    "duration": 1081,
    "start_time": "2021-08-07T21:25:25.260Z"
   },
   {
    "duration": 46,
    "start_time": "2021-08-07T21:27:26.229Z"
   },
   {
    "duration": 333,
    "start_time": "2021-08-07T21:28:41.696Z"
   },
   {
    "duration": 174,
    "start_time": "2021-08-07T21:28:50.945Z"
   },
   {
    "duration": 187,
    "start_time": "2021-08-07T21:29:53.401Z"
   },
   {
    "duration": 217,
    "start_time": "2021-08-07T21:30:00.006Z"
   },
   {
    "duration": 22182,
    "start_time": "2021-08-07T21:30:08.079Z"
   },
   {
    "duration": 585,
    "start_time": "2021-08-07T21:32:25.949Z"
   },
   {
    "duration": 590,
    "start_time": "2021-08-07T21:32:35.126Z"
   },
   {
    "duration": 237,
    "start_time": "2021-08-07T21:32:38.914Z"
   },
   {
    "duration": 216,
    "start_time": "2021-08-07T21:32:50.346Z"
   },
   {
    "duration": 636,
    "start_time": "2021-08-07T21:33:15.887Z"
   },
   {
    "duration": 631,
    "start_time": "2021-08-07T21:33:42.184Z"
   },
   {
    "duration": 65,
    "start_time": "2021-08-07T21:33:55.815Z"
   },
   {
    "duration": 1270,
    "start_time": "2021-08-07T21:33:59.569Z"
   },
   {
    "duration": 825,
    "start_time": "2021-08-07T21:34:15.173Z"
   },
   {
    "duration": 442,
    "start_time": "2021-08-07T21:34:24.433Z"
   },
   {
    "duration": 841,
    "start_time": "2021-08-07T21:34:33.201Z"
   },
   {
    "duration": 16693,
    "start_time": "2021-08-07T21:35:17.708Z"
   },
   {
    "duration": 16040,
    "start_time": "2021-08-07T21:35:35.060Z"
   },
   {
    "duration": 465,
    "start_time": "2021-08-07T21:37:52.148Z"
   },
   {
    "duration": 728,
    "start_time": "2021-08-07T21:38:06.120Z"
   },
   {
    "duration": 457,
    "start_time": "2021-08-07T21:38:12.837Z"
   },
   {
    "duration": 673,
    "start_time": "2021-08-07T21:38:24.883Z"
   },
   {
    "duration": 41116,
    "start_time": "2021-08-07T21:38:39.589Z"
   },
   {
    "duration": 647,
    "start_time": "2021-08-07T21:40:19.914Z"
   },
   {
    "duration": 1126,
    "start_time": "2021-08-07T21:40:50.199Z"
   },
   {
    "duration": 141,
    "start_time": "2021-08-07T21:40:51.327Z"
   },
   {
    "duration": 96,
    "start_time": "2021-08-07T21:40:51.470Z"
   },
   {
    "duration": 94,
    "start_time": "2021-08-07T21:40:51.568Z"
   },
   {
    "duration": 137,
    "start_time": "2021-08-07T21:40:51.664Z"
   },
   {
    "duration": 39,
    "start_time": "2021-08-07T21:40:51.803Z"
   },
   {
    "duration": 522,
    "start_time": "2021-08-07T21:40:51.844Z"
   },
   {
    "duration": 458,
    "start_time": "2021-08-07T21:42:35.547Z"
   },
   {
    "duration": 465,
    "start_time": "2021-08-07T21:42:39.880Z"
   },
   {
    "duration": 476,
    "start_time": "2021-08-07T21:42:59.980Z"
   },
   {
    "duration": 553,
    "start_time": "2021-08-07T21:45:12.963Z"
   },
   {
    "duration": 471,
    "start_time": "2021-08-07T21:45:46.501Z"
   },
   {
    "duration": 692,
    "start_time": "2021-08-07T21:50:14.212Z"
   },
   {
    "duration": 1094,
    "start_time": "2021-08-07T21:52:52.479Z"
   },
   {
    "duration": 142,
    "start_time": "2021-08-07T21:52:53.577Z"
   },
   {
    "duration": 91,
    "start_time": "2021-08-07T21:52:53.720Z"
   },
   {
    "duration": 99,
    "start_time": "2021-08-07T21:52:53.813Z"
   },
   {
    "duration": 124,
    "start_time": "2021-08-07T21:52:53.913Z"
   },
   {
    "duration": 46,
    "start_time": "2021-08-07T21:52:54.039Z"
   },
   {
    "duration": 507,
    "start_time": "2021-08-07T21:52:54.086Z"
   },
   {
    "duration": 761,
    "start_time": "2021-08-07T21:52:54.596Z"
   },
   {
    "duration": 684,
    "start_time": "2021-08-07T21:54:01.179Z"
   },
   {
    "duration": 708,
    "start_time": "2021-08-07T21:56:22.281Z"
   },
   {
    "duration": 231,
    "start_time": "2021-08-07T21:57:50.385Z"
   },
   {
    "duration": 723,
    "start_time": "2021-08-07T21:58:57.924Z"
   },
   {
    "duration": 180,
    "start_time": "2021-08-07T22:00:19.649Z"
   },
   {
    "duration": 174,
    "start_time": "2021-08-07T22:00:23.820Z"
   },
   {
    "duration": 190,
    "start_time": "2021-08-07T22:00:30.772Z"
   },
   {
    "duration": 64,
    "start_time": "2021-08-07T22:00:35.382Z"
   },
   {
    "duration": 690,
    "start_time": "2021-08-07T22:00:44.951Z"
   },
   {
    "duration": 434,
    "start_time": "2021-08-07T22:01:02.448Z"
   },
   {
    "duration": 594,
    "start_time": "2021-08-07T22:03:58.440Z"
   },
   {
    "duration": 447,
    "start_time": "2021-08-07T22:04:24.063Z"
   },
   {
    "duration": 603,
    "start_time": "2021-08-07T22:04:36.810Z"
   },
   {
    "duration": 412,
    "start_time": "2021-08-07T22:04:48.090Z"
   },
   {
    "duration": 419,
    "start_time": "2021-08-07T22:04:58.703Z"
   },
   {
    "duration": 413,
    "start_time": "2021-08-07T22:05:04.114Z"
   },
   {
    "duration": 438,
    "start_time": "2021-08-07T22:05:09.815Z"
   },
   {
    "duration": 422,
    "start_time": "2021-08-07T22:05:58.933Z"
   },
   {
    "duration": 7,
    "start_time": "2021-08-07T22:10:23.159Z"
   },
   {
    "duration": 266,
    "start_time": "2021-08-07T22:17:20.007Z"
   },
   {
    "duration": 205,
    "start_time": "2021-08-07T22:17:44.472Z"
   },
   {
    "duration": 187,
    "start_time": "2021-08-07T22:17:57.252Z"
   },
   {
    "duration": 184,
    "start_time": "2021-08-07T22:18:10.179Z"
   },
   {
    "duration": 192,
    "start_time": "2021-08-07T22:18:35.737Z"
   },
   {
    "duration": 175,
    "start_time": "2021-08-07T22:19:11.391Z"
   },
   {
    "duration": 186,
    "start_time": "2021-08-07T22:20:43.963Z"
   },
   {
    "duration": 347,
    "start_time": "2021-08-07T22:26:33.752Z"
   },
   {
    "duration": 368,
    "start_time": "2021-08-07T22:26:36.833Z"
   },
   {
    "duration": 365,
    "start_time": "2021-08-07T22:27:23.189Z"
   },
   {
    "duration": 190,
    "start_time": "2021-08-07T22:27:29.317Z"
   },
   {
    "duration": 388,
    "start_time": "2021-08-07T22:27:53.380Z"
   },
   {
    "duration": 200,
    "start_time": "2021-08-07T22:28:07.759Z"
   },
   {
    "duration": 279,
    "start_time": "2021-08-07T22:28:43.640Z"
   },
   {
    "duration": 205,
    "start_time": "2021-08-07T22:28:48.471Z"
   },
   {
    "duration": 278,
    "start_time": "2021-08-07T22:36:55.060Z"
   },
   {
    "duration": 3,
    "start_time": "2021-08-07T22:37:45.473Z"
   },
   {
    "duration": 5,
    "start_time": "2021-08-07T22:37:54.082Z"
   },
   {
    "duration": 245,
    "start_time": "2021-08-07T22:39:40.335Z"
   },
   {
    "duration": 199,
    "start_time": "2021-08-07T22:39:48.378Z"
   },
   {
    "duration": 1581,
    "start_time": "2021-08-07T22:40:07.105Z"
   },
   {
    "duration": 501,
    "start_time": "2021-08-07T22:42:15.465Z"
   },
   {
    "duration": 477,
    "start_time": "2021-08-07T22:42:26.063Z"
   },
   {
    "duration": 395,
    "start_time": "2021-08-07T22:42:38.694Z"
   },
   {
    "duration": 64,
    "start_time": "2021-08-07T22:42:50.895Z"
   },
   {
    "duration": 64,
    "start_time": "2021-08-07T22:43:02.210Z"
   },
   {
    "duration": 477,
    "start_time": "2021-08-07T22:43:09.118Z"
   },
   {
    "duration": 387,
    "start_time": "2021-08-07T22:43:21.148Z"
   },
   {
    "duration": 395,
    "start_time": "2021-08-07T22:43:37.219Z"
   },
   {
    "duration": 436,
    "start_time": "2021-08-07T22:43:47.041Z"
   },
   {
    "duration": 1686,
    "start_time": "2021-08-07T22:43:54.650Z"
   },
   {
    "duration": 74,
    "start_time": "2021-08-07T22:44:09.404Z"
   },
   {
    "duration": 359,
    "start_time": "2021-08-07T22:44:11.631Z"
   },
   {
    "duration": 372,
    "start_time": "2021-08-07T22:44:16.406Z"
   },
   {
    "duration": 401,
    "start_time": "2021-08-07T22:44:27.186Z"
   },
   {
    "duration": 1716,
    "start_time": "2021-08-07T22:46:08.461Z"
   },
   {
    "duration": 178,
    "start_time": "2021-08-07T22:51:07.838Z"
   },
   {
    "duration": 19,
    "start_time": "2021-08-07T22:51:19.734Z"
   },
   {
    "duration": 41,
    "start_time": "2021-08-07T22:51:40.764Z"
   },
   {
    "duration": 36,
    "start_time": "2021-08-07T22:52:49.600Z"
   },
   {
    "duration": 38,
    "start_time": "2021-08-07T22:53:05.230Z"
   },
   {
    "duration": 39,
    "start_time": "2021-08-07T22:53:42.532Z"
   },
   {
    "duration": 39,
    "start_time": "2021-08-07T22:54:15.021Z"
   },
   {
    "duration": 37,
    "start_time": "2021-08-07T22:54:49.068Z"
   },
   {
    "duration": 42,
    "start_time": "2021-08-07T22:55:04.700Z"
   },
   {
    "duration": 38,
    "start_time": "2021-08-07T22:55:23.041Z"
   },
   {
    "duration": 205,
    "start_time": "2021-08-07T22:56:55.796Z"
   },
   {
    "duration": 202,
    "start_time": "2021-08-07T22:57:31.995Z"
   },
   {
    "duration": 193,
    "start_time": "2021-08-07T23:07:46.914Z"
   },
   {
    "duration": 4635,
    "start_time": "2021-08-07T23:08:51.055Z"
   },
   {
    "duration": 4787,
    "start_time": "2021-08-07T23:09:01.549Z"
   },
   {
    "duration": 248,
    "start_time": "2021-08-07T23:09:15.195Z"
   },
   {
    "duration": 252,
    "start_time": "2021-08-07T23:10:07.088Z"
   },
   {
    "duration": 255,
    "start_time": "2021-08-07T23:10:42.085Z"
   },
   {
    "duration": 31,
    "start_time": "2021-08-07T23:39:19.314Z"
   },
   {
    "duration": 36,
    "start_time": "2021-08-07T23:40:00.199Z"
   },
   {
    "duration": 91,
    "start_time": "2021-08-07T23:40:24.474Z"
   },
   {
    "duration": 87,
    "start_time": "2021-08-07T23:40:48.065Z"
   },
   {
    "duration": 89,
    "start_time": "2021-08-07T23:46:58.154Z"
   },
   {
    "duration": 92,
    "start_time": "2021-08-07T23:47:11.021Z"
   },
   {
    "duration": 89,
    "start_time": "2021-08-07T23:49:41.736Z"
   },
   {
    "duration": 90,
    "start_time": "2021-08-07T23:49:49.654Z"
   },
   {
    "duration": 93,
    "start_time": "2021-08-07T23:49:52.669Z"
   },
   {
    "duration": 89,
    "start_time": "2021-08-07T23:50:34.373Z"
   },
   {
    "duration": 90,
    "start_time": "2021-08-07T23:52:36.875Z"
   },
   {
    "duration": 97,
    "start_time": "2021-08-07T23:56:21.117Z"
   },
   {
    "duration": 87,
    "start_time": "2021-08-07T23:56:56.185Z"
   },
   {
    "duration": 996,
    "start_time": "2021-08-07T23:57:51.033Z"
   },
   {
    "duration": 142,
    "start_time": "2021-08-07T23:57:52.031Z"
   },
   {
    "duration": 90,
    "start_time": "2021-08-07T23:57:52.175Z"
   },
   {
    "duration": 95,
    "start_time": "2021-08-07T23:57:52.268Z"
   },
   {
    "duration": 127,
    "start_time": "2021-08-07T23:57:52.366Z"
   },
   {
    "duration": 39,
    "start_time": "2021-08-07T23:57:52.495Z"
   },
   {
    "duration": 500,
    "start_time": "2021-08-07T23:57:52.536Z"
   },
   {
    "duration": 437,
    "start_time": "2021-08-07T23:57:53.039Z"
   },
   {
    "duration": 11,
    "start_time": "2021-08-07T23:57:53.478Z"
   },
   {
    "duration": 215,
    "start_time": "2021-08-07T23:57:53.490Z"
   },
   {
    "duration": 283,
    "start_time": "2021-08-07T23:57:53.706Z"
   },
   {
    "duration": 390,
    "start_time": "2021-08-07T23:57:53.990Z"
   },
   {
    "duration": 95,
    "start_time": "2021-08-07T23:58:23.481Z"
   },
   {
    "duration": 89,
    "start_time": "2021-08-07T23:58:45.665Z"
   },
   {
    "duration": 88,
    "start_time": "2021-08-07T23:58:59.873Z"
   },
   {
    "duration": 235,
    "start_time": "2021-08-08T00:00:34.249Z"
   },
   {
    "duration": 267,
    "start_time": "2021-08-08T00:00:48.011Z"
   },
   {
    "duration": 635,
    "start_time": "2021-08-08T00:00:53.142Z"
   },
   {
    "duration": 100,
    "start_time": "2021-08-08T00:01:07.897Z"
   },
   {
    "duration": 730,
    "start_time": "2021-08-08T00:05:29.320Z"
   },
   {
    "duration": 754,
    "start_time": "2021-08-08T00:06:18.660Z"
   },
   {
    "duration": 722,
    "start_time": "2021-08-08T00:06:47.850Z"
   },
   {
    "duration": 413,
    "start_time": "2021-08-08T00:07:11.847Z"
   },
   {
    "duration": 333,
    "start_time": "2021-08-08T00:07:20.616Z"
   },
   {
    "duration": 269,
    "start_time": "2021-08-08T00:07:46.715Z"
   },
   {
    "duration": 252,
    "start_time": "2021-08-08T00:10:30.621Z"
   },
   {
    "duration": 382,
    "start_time": "2021-08-08T00:17:36.473Z"
   },
   {
    "duration": 522,
    "start_time": "2021-08-08T00:18:37.620Z"
   },
   {
    "duration": 360,
    "start_time": "2021-08-08T00:18:50.849Z"
   },
   {
    "duration": 651,
    "start_time": "2021-08-08T00:19:01.896Z"
   },
   {
    "duration": 472,
    "start_time": "2021-08-08T00:23:12.492Z"
   },
   {
    "duration": 556,
    "start_time": "2021-08-08T00:23:38.038Z"
   },
   {
    "duration": 362,
    "start_time": "2021-08-08T00:23:55.994Z"
   },
   {
    "duration": 374,
    "start_time": "2021-08-08T00:24:08.229Z"
   },
   {
    "duration": 522,
    "start_time": "2021-08-08T00:24:16.339Z"
   },
   {
    "duration": 362,
    "start_time": "2021-08-08T00:24:32.292Z"
   },
   {
    "duration": 272,
    "start_time": "2021-08-08T00:27:57.616Z"
   },
   {
    "duration": 560,
    "start_time": "2021-08-08T00:28:08.803Z"
   },
   {
    "duration": 615,
    "start_time": "2021-08-08T00:32:00.159Z"
   },
   {
    "duration": 586,
    "start_time": "2021-08-08T00:32:13.165Z"
   },
   {
    "duration": 594,
    "start_time": "2021-08-08T00:32:55.979Z"
   },
   {
    "duration": 460,
    "start_time": "2021-08-08T00:33:11.130Z"
   },
   {
    "duration": 542,
    "start_time": "2021-08-08T00:33:16.991Z"
   },
   {
    "duration": 352,
    "start_time": "2021-08-08T00:36:17.633Z"
   },
   {
    "duration": 1303,
    "start_time": "2021-08-08T00:36:28.295Z"
   },
   {
    "duration": 145,
    "start_time": "2021-08-08T00:36:29.600Z"
   },
   {
    "duration": 93,
    "start_time": "2021-08-08T00:36:29.747Z"
   },
   {
    "duration": 92,
    "start_time": "2021-08-08T00:36:29.841Z"
   },
   {
    "duration": 135,
    "start_time": "2021-08-08T00:36:29.935Z"
   },
   {
    "duration": 43,
    "start_time": "2021-08-08T00:36:30.072Z"
   },
   {
    "duration": 510,
    "start_time": "2021-08-08T00:36:30.117Z"
   },
   {
    "duration": 410,
    "start_time": "2021-08-08T00:36:30.630Z"
   },
   {
    "duration": 6,
    "start_time": "2021-08-08T00:36:31.041Z"
   },
   {
    "duration": 237,
    "start_time": "2021-08-08T00:36:31.049Z"
   },
   {
    "duration": 300,
    "start_time": "2021-08-08T00:36:31.288Z"
   },
   {
    "duration": 1001,
    "start_time": "2021-08-08T00:36:31.590Z"
   },
   {
    "duration": 62,
    "start_time": "2021-08-08T00:39:12.919Z"
   },
   {
    "duration": 499,
    "start_time": "2021-08-08T00:39:20.852Z"
   },
   {
    "duration": 68,
    "start_time": "2021-08-08T00:40:32.801Z"
   },
   {
    "duration": 390,
    "start_time": "2021-08-08T00:40:53.110Z"
   },
   {
    "duration": 371,
    "start_time": "2021-08-08T00:42:03.664Z"
   },
   {
    "duration": 529,
    "start_time": "2021-08-08T00:42:14.452Z"
   },
   {
    "duration": 374,
    "start_time": "2021-08-08T00:42:22.714Z"
   },
   {
    "duration": 534,
    "start_time": "2021-08-08T00:43:25.744Z"
   },
   {
    "duration": 6,
    "start_time": "2021-08-08T01:13:07.001Z"
   },
   {
    "duration": 7,
    "start_time": "2021-08-08T01:13:26.623Z"
   },
   {
    "duration": 4617,
    "start_time": "2021-08-08T01:16:40.935Z"
   },
   {
    "duration": 28,
    "start_time": "2021-08-08T01:16:54.203Z"
   },
   {
    "duration": 31,
    "start_time": "2021-08-08T01:17:07.910Z"
   },
   {
    "duration": 31,
    "start_time": "2021-08-08T01:26:22.410Z"
   },
   {
    "duration": 56,
    "start_time": "2021-08-08T01:33:33.927Z"
   },
   {
    "duration": 31,
    "start_time": "2021-08-08T01:33:55.535Z"
   },
   {
    "duration": 4,
    "start_time": "2021-08-08T01:42:08.424Z"
   },
   {
    "duration": 32,
    "start_time": "2021-08-08T01:44:13.541Z"
   },
   {
    "duration": 379,
    "start_time": "2021-08-08T01:45:41.196Z"
   },
   {
    "duration": 380,
    "start_time": "2021-08-08T01:46:00.416Z"
   },
   {
    "duration": 58,
    "start_time": "2021-08-08T01:46:19.956Z"
   },
   {
    "duration": 57,
    "start_time": "2021-08-08T01:51:45.928Z"
   },
   {
    "duration": 21,
    "start_time": "2021-08-08T01:53:34.331Z"
   },
   {
    "duration": 45,
    "start_time": "2021-08-08T01:54:09.141Z"
   },
   {
    "duration": 55,
    "start_time": "2021-08-08T01:54:22.547Z"
   },
   {
    "duration": 54,
    "start_time": "2021-08-08T01:59:31.484Z"
   },
   {
    "duration": 29,
    "start_time": "2021-08-08T02:00:33.859Z"
   },
   {
    "duration": 55,
    "start_time": "2021-08-08T02:00:45.594Z"
   },
   {
    "duration": 50,
    "start_time": "2021-08-08T02:03:54.629Z"
   },
   {
    "duration": 53,
    "start_time": "2021-08-08T02:03:58.065Z"
   },
   {
    "duration": 28,
    "start_time": "2021-08-08T02:04:04.233Z"
   },
   {
    "duration": 5,
    "start_time": "2021-08-08T02:10:13.546Z"
   },
   {
    "duration": 3,
    "start_time": "2021-08-08T02:26:37.175Z"
   },
   {
    "duration": 186,
    "start_time": "2021-08-08T02:26:58.532Z"
   },
   {
    "duration": 3,
    "start_time": "2021-08-08T02:27:15.051Z"
   },
   {
    "duration": 197,
    "start_time": "2021-08-08T02:28:08.731Z"
   },
   {
    "duration": 3062,
    "start_time": "2021-08-08T02:28:21.982Z"
   },
   {
    "duration": 10,
    "start_time": "2021-08-08T02:29:32.799Z"
   },
   {
    "duration": 7,
    "start_time": "2021-08-08T02:29:38.125Z"
   },
   {
    "duration": 370,
    "start_time": "2021-08-08T02:29:49.683Z"
   },
   {
    "duration": 1283,
    "start_time": "2021-08-08T02:30:03.907Z"
   },
   {
    "duration": 145,
    "start_time": "2021-08-08T02:30:05.191Z"
   },
   {
    "duration": 90,
    "start_time": "2021-08-08T02:30:05.338Z"
   },
   {
    "duration": 94,
    "start_time": "2021-08-08T02:30:05.430Z"
   },
   {
    "duration": 124,
    "start_time": "2021-08-08T02:30:05.526Z"
   },
   {
    "duration": 47,
    "start_time": "2021-08-08T02:30:05.652Z"
   },
   {
    "duration": 503,
    "start_time": "2021-08-08T02:30:05.701Z"
   },
   {
    "duration": 407,
    "start_time": "2021-08-08T02:30:06.206Z"
   },
   {
    "duration": 5,
    "start_time": "2021-08-08T02:30:06.615Z"
   },
   {
    "duration": 211,
    "start_time": "2021-08-08T02:30:06.622Z"
   },
   {
    "duration": 281,
    "start_time": "2021-08-08T02:30:06.835Z"
   },
   {
    "duration": 997,
    "start_time": "2021-08-08T02:30:07.118Z"
   },
   {
    "duration": 30,
    "start_time": "2021-08-08T02:30:08.116Z"
   },
   {
    "duration": 66,
    "start_time": "2021-08-08T02:30:08.148Z"
   },
   {
    "duration": 422,
    "start_time": "2021-08-08T02:30:08.217Z"
   },
   {
    "duration": -1122,
    "start_time": "2021-08-08T02:30:09.763Z"
   },
   {
    "duration": -1192,
    "start_time": "2021-08-08T02:30:09.835Z"
   },
   {
    "duration": -1215,
    "start_time": "2021-08-08T02:30:09.859Z"
   },
   {
    "duration": -1229,
    "start_time": "2021-08-08T02:30:09.875Z"
   },
   {
    "duration": 59,
    "start_time": "2021-08-08T02:30:29.340Z"
   },
   {
    "duration": 1248,
    "start_time": "2021-08-08T02:31:33.142Z"
   },
   {
    "duration": 145,
    "start_time": "2021-08-08T02:31:34.392Z"
   },
   {
    "duration": 93,
    "start_time": "2021-08-08T02:31:34.539Z"
   },
   {
    "duration": 95,
    "start_time": "2021-08-08T02:31:34.634Z"
   },
   {
    "duration": 125,
    "start_time": "2021-08-08T02:31:34.731Z"
   },
   {
    "duration": 45,
    "start_time": "2021-08-08T02:31:34.857Z"
   },
   {
    "duration": 514,
    "start_time": "2021-08-08T02:31:34.904Z"
   },
   {
    "duration": 401,
    "start_time": "2021-08-08T02:31:35.420Z"
   },
   {
    "duration": 6,
    "start_time": "2021-08-08T02:31:35.823Z"
   },
   {
    "duration": 210,
    "start_time": "2021-08-08T02:31:35.831Z"
   },
   {
    "duration": 285,
    "start_time": "2021-08-08T02:31:36.043Z"
   },
   {
    "duration": 965,
    "start_time": "2021-08-08T02:31:36.330Z"
   },
   {
    "duration": 30,
    "start_time": "2021-08-08T02:31:37.296Z"
   },
   {
    "duration": 65,
    "start_time": "2021-08-08T02:31:37.327Z"
   },
   {
    "duration": 53,
    "start_time": "2021-08-08T02:31:37.393Z"
   },
   {
    "duration": 9,
    "start_time": "2021-08-08T02:31:37.447Z"
   },
   {
    "duration": 3,
    "start_time": "2021-08-08T02:31:37.458Z"
   },
   {
    "duration": 5,
    "start_time": "2021-08-08T02:31:37.485Z"
   },
   {
    "duration": 528,
    "start_time": "2021-08-08T02:31:37.492Z"
   },
   {
    "duration": 403,
    "start_time": "2021-08-08T02:32:36.657Z"
   },
   {
    "duration": 18,
    "start_time": "2021-08-08T02:33:06.749Z"
   },
   {
    "duration": 25,
    "start_time": "2021-08-08T02:33:29.541Z"
   },
   {
    "duration": 72,
    "start_time": "2021-08-08T02:33:48.658Z"
   },
   {
    "duration": 36,
    "start_time": "2021-08-08T02:33:54.535Z"
   },
   {
    "duration": 30,
    "start_time": "2021-08-08T02:33:59.931Z"
   },
   {
    "duration": 69,
    "start_time": "2021-08-08T02:38:01.580Z"
   },
   {
    "duration": 6,
    "start_time": "2021-08-08T02:43:36.677Z"
   },
   {
    "duration": 66,
    "start_time": "2021-08-08T02:43:38.358Z"
   },
   {
    "duration": 67,
    "start_time": "2021-08-08T02:43:59.192Z"
   },
   {
    "duration": 67,
    "start_time": "2021-08-08T02:44:18.035Z"
   },
   {
    "duration": 6,
    "start_time": "2021-08-08T02:44:24.146Z"
   },
   {
    "duration": 67,
    "start_time": "2021-08-08T02:44:26.232Z"
   },
   {
    "duration": 72,
    "start_time": "2021-08-08T02:55:15.405Z"
   },
   {
    "duration": 66,
    "start_time": "2021-08-08T02:57:36.034Z"
   },
   {
    "duration": 199,
    "start_time": "2021-08-08T03:07:14.326Z"
   },
   {
    "duration": 193,
    "start_time": "2021-08-08T03:07:32.703Z"
   },
   {
    "duration": 201,
    "start_time": "2021-08-08T03:07:39.643Z"
   },
   {
    "duration": 3001,
    "start_time": "2021-08-08T03:07:52.822Z"
   },
   {
    "duration": 146,
    "start_time": "2021-08-08T03:07:55.825Z"
   },
   {
    "duration": 91,
    "start_time": "2021-08-08T03:07:55.973Z"
   },
   {
    "duration": 92,
    "start_time": "2021-08-08T03:07:56.066Z"
   },
   {
    "duration": 127,
    "start_time": "2021-08-08T03:07:56.160Z"
   },
   {
    "duration": 38,
    "start_time": "2021-08-08T03:07:56.289Z"
   },
   {
    "duration": 495,
    "start_time": "2021-08-08T03:07:56.328Z"
   },
   {
    "duration": 399,
    "start_time": "2021-08-08T03:07:56.826Z"
   },
   {
    "duration": 6,
    "start_time": "2021-08-08T03:07:57.227Z"
   },
   {
    "duration": 211,
    "start_time": "2021-08-08T03:07:57.235Z"
   },
   {
    "duration": 282,
    "start_time": "2021-08-08T03:07:57.448Z"
   },
   {
    "duration": 948,
    "start_time": "2021-08-08T03:07:57.731Z"
   },
   {
    "duration": 32,
    "start_time": "2021-08-08T03:07:58.681Z"
   },
   {
    "duration": 49,
    "start_time": "2021-08-08T03:07:58.714Z"
   },
   {
    "duration": 55,
    "start_time": "2021-08-08T03:07:58.784Z"
   },
   {
    "duration": 53,
    "start_time": "2021-08-08T03:07:58.840Z"
   },
   {
    "duration": 4,
    "start_time": "2021-08-08T03:07:58.894Z"
   },
   {
    "duration": 7,
    "start_time": "2021-08-08T03:07:58.899Z"
   },
   {
    "duration": 93,
    "start_time": "2021-08-08T03:07:58.907Z"
   },
   {
    "duration": 84,
    "start_time": "2021-08-08T03:07:59.002Z"
   },
   {
    "duration": 67,
    "start_time": "2021-08-08T03:07:59.087Z"
   },
   {
    "duration": 350,
    "start_time": "2021-08-08T03:07:59.156Z"
   },
   {
    "duration": 89,
    "start_time": "2021-08-08T03:08:09.588Z"
   },
   {
    "duration": 73,
    "start_time": "2021-08-08T03:08:28.320Z"
   },
   {
    "duration": 2142,
    "start_time": "2021-08-08T03:08:37.831Z"
   },
   {
    "duration": 149,
    "start_time": "2021-08-08T03:08:39.975Z"
   },
   {
    "duration": 88,
    "start_time": "2021-08-08T03:08:40.126Z"
   },
   {
    "duration": 93,
    "start_time": "2021-08-08T03:08:40.216Z"
   },
   {
    "duration": 126,
    "start_time": "2021-08-08T03:08:40.311Z"
   },
   {
    "duration": 37,
    "start_time": "2021-08-08T03:08:40.439Z"
   },
   {
    "duration": 483,
    "start_time": "2021-08-08T03:08:40.485Z"
   },
   {
    "duration": 400,
    "start_time": "2021-08-08T03:08:40.970Z"
   },
   {
    "duration": 14,
    "start_time": "2021-08-08T03:08:41.372Z"
   },
   {
    "duration": 208,
    "start_time": "2021-08-08T03:08:41.387Z"
   },
   {
    "duration": 290,
    "start_time": "2021-08-08T03:08:41.596Z"
   },
   {
    "duration": 983,
    "start_time": "2021-08-08T03:08:41.887Z"
   },
   {
    "duration": 39,
    "start_time": "2021-08-08T03:08:42.871Z"
   },
   {
    "duration": 52,
    "start_time": "2021-08-08T03:08:42.911Z"
   },
   {
    "duration": 60,
    "start_time": "2021-08-08T03:08:42.984Z"
   },
   {
    "duration": 58,
    "start_time": "2021-08-08T03:08:43.045Z"
   },
   {
    "duration": 4,
    "start_time": "2021-08-08T03:08:43.105Z"
   },
   {
    "duration": 7,
    "start_time": "2021-08-08T03:08:43.110Z"
   },
   {
    "duration": 98,
    "start_time": "2021-08-08T03:08:43.119Z"
   },
   {
    "duration": 88,
    "start_time": "2021-08-08T03:08:43.219Z"
   },
   {
    "duration": 86,
    "start_time": "2021-08-08T03:08:43.309Z"
   },
   {
    "duration": 100,
    "start_time": "2021-08-08T03:08:43.396Z"
   },
   {
    "duration": 1315,
    "start_time": "2021-08-08T03:09:56.006Z"
   },
   {
    "duration": 142,
    "start_time": "2021-08-08T03:09:57.323Z"
   },
   {
    "duration": 93,
    "start_time": "2021-08-08T03:09:57.467Z"
   },
   {
    "duration": 88,
    "start_time": "2021-08-08T03:09:57.562Z"
   },
   {
    "duration": 123,
    "start_time": "2021-08-08T03:09:57.652Z"
   },
   {
    "duration": 38,
    "start_time": "2021-08-08T03:09:57.785Z"
   },
   {
    "duration": 489,
    "start_time": "2021-08-08T03:09:57.825Z"
   },
   {
    "duration": 394,
    "start_time": "2021-08-08T03:09:58.316Z"
   },
   {
    "duration": 6,
    "start_time": "2021-08-08T03:09:58.712Z"
   },
   {
    "duration": 218,
    "start_time": "2021-08-08T03:09:58.719Z"
   },
   {
    "duration": 286,
    "start_time": "2021-08-08T03:09:58.938Z"
   },
   {
    "duration": 959,
    "start_time": "2021-08-08T03:09:59.226Z"
   },
   {
    "duration": 33,
    "start_time": "2021-08-08T03:10:00.187Z"
   },
   {
    "duration": 79,
    "start_time": "2021-08-08T03:10:00.221Z"
   },
   {
    "duration": 56,
    "start_time": "2021-08-08T03:10:00.301Z"
   },
   {
    "duration": 50,
    "start_time": "2021-08-08T03:10:00.358Z"
   },
   {
    "duration": 3,
    "start_time": "2021-08-08T03:10:00.410Z"
   },
   {
    "duration": 7,
    "start_time": "2021-08-08T03:10:00.415Z"
   },
   {
    "duration": 93,
    "start_time": "2021-08-08T03:10:00.424Z"
   },
   {
    "duration": 89,
    "start_time": "2021-08-08T03:10:00.519Z"
   },
   {
    "duration": 80,
    "start_time": "2021-08-08T03:10:00.610Z"
   },
   {
    "duration": 103,
    "start_time": "2021-08-08T03:10:00.692Z"
   },
   {
    "duration": 97,
    "start_time": "2021-08-08T03:10:12.855Z"
   },
   {
    "duration": 166,
    "start_time": "2021-08-08T03:11:51.243Z"
   },
   {
    "duration": 494,
    "start_time": "2021-08-08T03:13:00.522Z"
   },
   {
    "duration": 59,
    "start_time": "2021-08-08T03:13:16.794Z"
   },
   {
    "duration": 334,
    "start_time": "2021-08-08T03:13:23.514Z"
   },
   {
    "duration": 1279,
    "start_time": "2021-08-08T03:13:54.706Z"
   },
   {
    "duration": 148,
    "start_time": "2021-08-08T03:13:55.987Z"
   },
   {
    "duration": 103,
    "start_time": "2021-08-08T03:13:56.138Z"
   },
   {
    "duration": 104,
    "start_time": "2021-08-08T03:13:56.244Z"
   },
   {
    "duration": 129,
    "start_time": "2021-08-08T03:13:56.349Z"
   },
   {
    "duration": 42,
    "start_time": "2021-08-08T03:13:56.480Z"
   },
   {
    "duration": 508,
    "start_time": "2021-08-08T03:13:56.524Z"
   },
   {
    "duration": 412,
    "start_time": "2021-08-08T03:13:57.034Z"
   },
   {
    "duration": 6,
    "start_time": "2021-08-08T03:13:57.448Z"
   },
   {
    "duration": 217,
    "start_time": "2021-08-08T03:13:57.456Z"
   },
   {
    "duration": 294,
    "start_time": "2021-08-08T03:13:57.674Z"
   },
   {
    "duration": 957,
    "start_time": "2021-08-08T03:13:57.970Z"
   },
   {
    "duration": 31,
    "start_time": "2021-08-08T03:13:58.928Z"
   },
   {
    "duration": 69,
    "start_time": "2021-08-08T03:13:58.960Z"
   },
   {
    "duration": 70,
    "start_time": "2021-08-08T03:13:59.031Z"
   },
   {
    "duration": 40,
    "start_time": "2021-08-08T03:13:59.102Z"
   },
   {
    "duration": 4,
    "start_time": "2021-08-08T03:13:59.143Z"
   },
   {
    "duration": 15,
    "start_time": "2021-08-08T03:13:59.148Z"
   },
   {
    "duration": 88,
    "start_time": "2021-08-08T03:13:59.164Z"
   },
   {
    "duration": 85,
    "start_time": "2021-08-08T03:13:59.254Z"
   },
   {
    "duration": 85,
    "start_time": "2021-08-08T03:13:59.341Z"
   },
   {
    "duration": 229,
    "start_time": "2021-08-08T03:13:59.428Z"
   },
   {
    "duration": 1238,
    "start_time": "2021-08-08T03:23:40.636Z"
   },
   {
    "duration": 142,
    "start_time": "2021-08-08T03:23:41.876Z"
   },
   {
    "duration": 92,
    "start_time": "2021-08-08T03:23:42.019Z"
   },
   {
    "duration": 92,
    "start_time": "2021-08-08T03:23:42.113Z"
   },
   {
    "duration": 125,
    "start_time": "2021-08-08T03:23:42.207Z"
   },
   {
    "duration": 37,
    "start_time": "2021-08-08T03:23:42.333Z"
   },
   {
    "duration": 474,
    "start_time": "2021-08-08T03:23:42.384Z"
   },
   {
    "duration": 394,
    "start_time": "2021-08-08T03:23:42.861Z"
   },
   {
    "duration": 6,
    "start_time": "2021-08-08T03:23:43.257Z"
   },
   {
    "duration": 209,
    "start_time": "2021-08-08T03:23:43.264Z"
   },
   {
    "duration": 280,
    "start_time": "2021-08-08T03:23:43.475Z"
   },
   {
    "duration": 987,
    "start_time": "2021-08-08T03:23:43.756Z"
   },
   {
    "duration": 43,
    "start_time": "2021-08-08T03:23:44.744Z"
   },
   {
    "duration": 52,
    "start_time": "2021-08-08T03:23:44.788Z"
   },
   {
    "duration": 72,
    "start_time": "2021-08-08T03:23:44.842Z"
   },
   {
    "duration": 39,
    "start_time": "2021-08-08T03:23:44.916Z"
   },
   {
    "duration": 3,
    "start_time": "2021-08-08T03:23:44.957Z"
   },
   {
    "duration": 27,
    "start_time": "2021-08-08T03:23:44.961Z"
   },
   {
    "duration": 82,
    "start_time": "2021-08-08T03:23:44.989Z"
   },
   {
    "duration": 79,
    "start_time": "2021-08-08T03:23:45.073Z"
   },
   {
    "duration": 87,
    "start_time": "2021-08-08T03:23:45.153Z"
   },
   {
    "duration": 229,
    "start_time": "2021-08-08T03:23:45.242Z"
   },
   {
    "duration": 1266,
    "start_time": "2021-08-08T03:42:38.614Z"
   },
   {
    "duration": 147,
    "start_time": "2021-08-08T03:42:39.882Z"
   },
   {
    "duration": 97,
    "start_time": "2021-08-08T03:42:40.031Z"
   },
   {
    "duration": 99,
    "start_time": "2021-08-08T03:42:40.131Z"
   },
   {
    "duration": 127,
    "start_time": "2021-08-08T03:42:40.232Z"
   },
   {
    "duration": 53,
    "start_time": "2021-08-08T03:42:40.361Z"
   },
   {
    "duration": 479,
    "start_time": "2021-08-08T03:42:40.416Z"
   },
   {
    "duration": 388,
    "start_time": "2021-08-08T03:42:40.898Z"
   },
   {
    "duration": 6,
    "start_time": "2021-08-08T03:42:41.288Z"
   },
   {
    "duration": 222,
    "start_time": "2021-08-08T03:42:41.295Z"
   },
   {
    "duration": 283,
    "start_time": "2021-08-08T03:42:41.518Z"
   },
   {
    "duration": 954,
    "start_time": "2021-08-08T03:42:41.803Z"
   },
   {
    "duration": 46,
    "start_time": "2021-08-08T03:42:42.759Z"
   },
   {
    "duration": 52,
    "start_time": "2021-08-08T03:42:42.807Z"
   },
   {
    "duration": 66,
    "start_time": "2021-08-08T03:42:42.861Z"
   },
   {
    "duration": 32,
    "start_time": "2021-08-08T03:42:42.928Z"
   },
   {
    "duration": 23,
    "start_time": "2021-08-08T03:42:42.962Z"
   },
   {
    "duration": 6,
    "start_time": "2021-08-08T03:42:42.986Z"
   },
   {
    "duration": 77,
    "start_time": "2021-08-08T03:42:42.993Z"
   },
   {
    "duration": 84,
    "start_time": "2021-08-08T03:42:43.071Z"
   },
   {
    "duration": 82,
    "start_time": "2021-08-08T03:42:43.157Z"
   },
   {
    "duration": 224,
    "start_time": "2021-08-08T03:42:43.241Z"
   },
   {
    "duration": 14774,
    "start_time": "2021-08-08T05:22:31.096Z"
   },
   {
    "duration": 324,
    "start_time": "2021-08-08T05:22:45.873Z"
   },
   {
    "duration": 143,
    "start_time": "2021-08-08T05:22:46.200Z"
   },
   {
    "duration": 135,
    "start_time": "2021-08-08T05:22:46.346Z"
   },
   {
    "duration": 205,
    "start_time": "2021-08-08T05:22:46.484Z"
   },
   {
    "duration": 58,
    "start_time": "2021-08-08T05:22:46.691Z"
   },
   {
    "duration": 832,
    "start_time": "2021-08-08T05:22:46.751Z"
   },
   {
    "duration": 667,
    "start_time": "2021-08-08T05:22:47.587Z"
   },
   {
    "duration": 18,
    "start_time": "2021-08-08T05:22:48.257Z"
   },
   {
    "duration": 350,
    "start_time": "2021-08-08T05:22:48.278Z"
   },
   {
    "duration": 444,
    "start_time": "2021-08-08T05:22:48.630Z"
   },
   {
    "duration": 1477,
    "start_time": "2021-08-08T05:22:49.076Z"
   },
   {
    "duration": 52,
    "start_time": "2021-08-08T05:22:50.556Z"
   },
   {
    "duration": 107,
    "start_time": "2021-08-08T05:22:50.612Z"
   },
   {
    "duration": 90,
    "start_time": "2021-08-08T05:22:50.722Z"
   },
   {
    "duration": 75,
    "start_time": "2021-08-08T05:22:50.815Z"
   },
   {
    "duration": 6,
    "start_time": "2021-08-08T05:22:50.892Z"
   },
   {
    "duration": 9,
    "start_time": "2021-08-08T05:22:50.900Z"
   },
   {
    "duration": 138,
    "start_time": "2021-08-08T05:22:50.912Z"
   },
   {
    "duration": 129,
    "start_time": "2021-08-08T05:22:51.052Z"
   },
   {
    "duration": 114,
    "start_time": "2021-08-08T05:22:51.183Z"
   },
   {
    "duration": 329,
    "start_time": "2021-08-08T05:22:51.299Z"
   },
   {
    "duration": 667,
    "start_time": "2021-08-08T05:29:37.036Z"
   },
   {
    "duration": 563,
    "start_time": "2021-08-08T05:29:48.581Z"
   },
   {
    "duration": 346,
    "start_time": "2021-08-08T05:29:56.245Z"
   },
   {
    "duration": 7,
    "start_time": "2021-08-08T05:30:28.991Z"
   },
   {
    "duration": 988,
    "start_time": "2021-08-08T05:31:28.261Z"
   },
   {
    "duration": 739,
    "start_time": "2021-08-08T05:31:52.991Z"
   },
   {
    "duration": 7,
    "start_time": "2021-08-08T05:32:02.071Z"
   },
   {
    "duration": 7,
    "start_time": "2021-08-08T05:32:07.996Z"
   },
   {
    "duration": 5,
    "start_time": "2021-08-08T05:32:15.346Z"
   },
   {
    "duration": 5,
    "start_time": "2021-08-08T05:32:21.411Z"
   },
   {
    "duration": 5,
    "start_time": "2021-08-08T05:34:08.291Z"
   },
   {
    "duration": 7,
    "start_time": "2021-08-08T05:34:21.411Z"
   },
   {
    "duration": 1606,
    "start_time": "2021-08-08T05:34:49.370Z"
   },
   {
    "duration": 1646,
    "start_time": "2021-08-08T05:34:57.171Z"
   },
   {
    "duration": 9,
    "start_time": "2021-08-08T05:46:26.416Z"
   },
   {
    "duration": 4,
    "start_time": "2021-08-08T08:55:16.123Z"
   },
   {
    "duration": 300,
    "start_time": "2021-08-08T09:07:28.064Z"
   },
   {
    "duration": 1411,
    "start_time": "2021-08-08T09:07:36.072Z"
   },
   {
    "duration": 139,
    "start_time": "2021-08-08T09:07:37.484Z"
   },
   {
    "duration": 84,
    "start_time": "2021-08-08T09:07:37.625Z"
   },
   {
    "duration": 87,
    "start_time": "2021-08-08T09:07:37.711Z"
   },
   {
    "duration": 116,
    "start_time": "2021-08-08T09:07:37.800Z"
   },
   {
    "duration": 45,
    "start_time": "2021-08-08T09:07:37.917Z"
   },
   {
    "duration": 724,
    "start_time": "2021-08-08T09:07:37.964Z"
   },
   {
    "duration": 334,
    "start_time": "2021-08-08T09:07:38.691Z"
   },
   {
    "duration": 4,
    "start_time": "2021-08-08T09:07:39.027Z"
   },
   {
    "duration": 386,
    "start_time": "2021-08-08T09:07:39.033Z"
   },
   {
    "duration": 6,
    "start_time": "2021-08-08T09:07:39.421Z"
   },
   {
    "duration": 269,
    "start_time": "2021-08-08T09:07:39.440Z"
   },
   {
    "duration": 267,
    "start_time": "2021-08-08T09:07:39.711Z"
   },
   {
    "duration": 864,
    "start_time": "2021-08-08T09:07:39.980Z"
   },
   {
    "duration": 30,
    "start_time": "2021-08-08T09:07:40.845Z"
   },
   {
    "duration": 46,
    "start_time": "2021-08-08T09:07:40.876Z"
   },
   {
    "duration": 6,
    "start_time": "2021-08-08T09:07:40.941Z"
   },
   {
    "duration": 54,
    "start_time": "2021-08-08T09:07:40.948Z"
   },
   {
    "duration": 40,
    "start_time": "2021-08-08T09:07:41.004Z"
   },
   {
    "duration": 3,
    "start_time": "2021-08-08T09:07:41.045Z"
   },
   {
    "duration": 7,
    "start_time": "2021-08-08T09:07:41.049Z"
   },
   {
    "duration": 89,
    "start_time": "2021-08-08T09:07:41.058Z"
   },
   {
    "duration": 69,
    "start_time": "2021-08-08T09:07:41.149Z"
   },
   {
    "duration": 80,
    "start_time": "2021-08-08T09:07:41.219Z"
   },
   {
    "duration": 215,
    "start_time": "2021-08-08T09:07:41.300Z"
   },
   {
    "duration": 533,
    "start_time": "2021-08-08T09:11:18.557Z"
   },
   {
    "duration": 4,
    "start_time": "2021-08-08T09:16:20.365Z"
   },
   {
    "duration": 142404,
    "start_time": "2021-08-08T09:16:30.315Z"
   },
   {
    "duration": 13412,
    "start_time": "2021-08-08T09:19:00.621Z"
   },
   {
    "duration": 6527,
    "start_time": "2021-08-08T09:20:25.755Z"
   },
   {
    "duration": 297,
    "start_time": "2021-08-08T09:20:33.998Z"
   },
   {
    "duration": 512,
    "start_time": "2021-08-08T09:20:54.182Z"
   },
   {
    "duration": 22309,
    "start_time": "2021-08-08T10:12:02.037Z"
   },
   {
    "duration": 199,
    "start_time": "2021-08-08T10:12:24.349Z"
   },
   {
    "duration": 143,
    "start_time": "2021-08-08T10:12:24.551Z"
   },
   {
    "duration": 145,
    "start_time": "2021-08-08T10:12:24.696Z"
   },
   {
    "duration": 196,
    "start_time": "2021-08-08T10:12:24.844Z"
   },
   {
    "duration": 71,
    "start_time": "2021-08-08T10:12:25.043Z"
   },
   {
    "duration": 1356,
    "start_time": "2021-08-08T10:12:25.116Z"
   },
   {
    "duration": 619,
    "start_time": "2021-08-08T10:12:26.475Z"
   },
   {
    "duration": 6,
    "start_time": "2021-08-08T10:12:27.099Z"
   },
   {
    "duration": 18,
    "start_time": "2021-08-08T10:12:27.108Z"
   },
   {
    "duration": 4946,
    "start_time": "2021-08-08T10:12:27.129Z"
   },
   {
    "duration": 1001,
    "start_time": "2021-08-08T10:12:32.078Z"
   },
   {
    "duration": 9,
    "start_time": "2021-08-08T10:12:33.086Z"
   },
   {
    "duration": 352,
    "start_time": "2021-08-08T10:12:33.098Z"
   },
   {
    "duration": 466,
    "start_time": "2021-08-08T10:12:33.452Z"
   },
   {
    "duration": 1649,
    "start_time": "2021-08-08T10:12:33.922Z"
   },
   {
    "duration": 53,
    "start_time": "2021-08-08T10:12:35.573Z"
   },
   {
    "duration": 525,
    "start_time": "2021-08-08T10:12:35.629Z"
   },
   {
    "duration": -11426,
    "start_time": "2021-08-08T10:12:47.583Z"
   },
   {
    "duration": -11429,
    "start_time": "2021-08-08T10:12:47.588Z"
   },
   {
    "duration": -11444,
    "start_time": "2021-08-08T10:12:47.605Z"
   },
   {
    "duration": -11448,
    "start_time": "2021-08-08T10:12:47.611Z"
   },
   {
    "duration": -11452,
    "start_time": "2021-08-08T10:12:47.618Z"
   },
   {
    "duration": -11455,
    "start_time": "2021-08-08T10:12:47.623Z"
   },
   {
    "duration": -11460,
    "start_time": "2021-08-08T10:12:47.630Z"
   },
   {
    "duration": -11464,
    "start_time": "2021-08-08T10:12:47.636Z"
   },
   {
    "duration": 2412,
    "start_time": "2021-08-08T10:54:51.661Z"
   },
   {
    "duration": 3389,
    "start_time": "2021-08-08T10:55:13.624Z"
   },
   {
    "duration": 95,
    "start_time": "2021-08-08T10:59:14.108Z"
   },
   {
    "duration": 52,
    "start_time": "2021-08-08T10:59:14.205Z"
   },
   {
    "duration": 6,
    "start_time": "2021-08-08T10:59:14.259Z"
   },
   {
    "duration": 15,
    "start_time": "2021-08-08T10:59:14.292Z"
   },
   {
    "duration": 134,
    "start_time": "2021-08-08T10:59:14.310Z"
   },
   {
    "duration": 110,
    "start_time": "2021-08-08T10:59:14.630Z"
   },
   {
    "duration": 121,
    "start_time": "2021-08-08T10:59:14.744Z"
   },
   {
    "duration": 384,
    "start_time": "2021-08-08T10:59:14.868Z"
   },
   {
    "duration": 284,
    "start_time": "2021-08-10T17:20:08.069Z"
   }
  ],
  "kernelspec": {
   "display_name": "Python 3",
   "language": "python",
   "name": "python3"
  },
  "language_info": {
   "codemirror_mode": {
    "name": "ipython",
    "version": 3
   },
   "file_extension": ".py",
   "mimetype": "text/x-python",
   "name": "python",
   "nbconvert_exporter": "python",
   "pygments_lexer": "ipython3",
   "version": "3.7.8"
  },
  "toc": {
   "base_numbering": 1,
   "nav_menu": {},
   "number_sections": true,
   "sideBar": true,
   "skip_h1_title": true,
   "title_cell": "Table of Contents",
   "title_sidebar": "Contents",
   "toc_cell": false,
   "toc_position": {
    "height": "calc(100% - 180px)",
    "left": "10px",
    "top": "150px",
    "width": "359.391px"
   },
   "toc_section_display": true,
   "toc_window_display": true
  }
 },
 "nbformat": 4,
 "nbformat_minor": 2
}
